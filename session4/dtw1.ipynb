{
 "cells": [
  {
   "cell_type": "code",
   "execution_count": null,
   "metadata": {},
   "outputs": [],
   "source": [
    "# A simple DTW Notebook"
   ]
  },
  {
   "cell_type": "code",
   "execution_count": 1,
   "metadata": {},
   "outputs": [],
   "source": [
    "# do all the imports\n",
    "%matplotlib inline\n",
    "\n",
    "import sys, os\n",
    "import numpy as np\n",
    "import pandas as pd\n",
    "from IPython.display import display, HTML\n",
    "import matplotlib.pyplot as plt\n",
    "import matplotlib as mpl\n",
    "import seaborn as sns"
   ]
  },
  {
   "cell_type": "code",
   "execution_count": 2,
   "metadata": {},
   "outputs": [],
   "source": [
    "# graphical and print preferences\n",
    "ldesign = 50\n",
    "cmap = sns.light_palette(\"caramel\",ldesign,input=\"xkcd\")\n",
    "cmap20 = cmap[0:20] \n",
    "pd.reset_option('display.float_format')\n",
    "pd.set_option('precision',3)"
   ]
  },
  {
   "cell_type": "code",
   "execution_count": 88,
   "metadata": {},
   "outputs": [],
   "source": [
    "observation = \"d o e s\"\n",
    "reference = \"d o s e s\"\n",
    "ins_cost = 1.5\n",
    "del_cost = 1.\n",
    "sub_cost = 1.5"
   ]
  },
  {
   "cell_type": "code",
   "execution_count": 149,
   "metadata": {},
   "outputs": [],
   "source": [
    "def dtw(obs=\"\",ref=\"\",iC=1.,dC=1.,sC=1.):\n",
    "    x = np.append('/',obs.split())\n",
    "    y = np.append('/',ref.split())\n",
    "    # add dummy symbol in front to accomodate initial insertions and deletions\n",
    "#    print(x,y) \n",
    "    trellis = np.zeros((len(y),len(x)))\n",
    "    bptr = np.zeros((len(y),len(x),2),dtype='int')\n",
    "\n",
    "    # initialize full row of deletions and insertions\n",
    "    for ix in range(1,len(x)): \n",
    "        trellis[0,ix] = trellis[0,ix-1] + iC\n",
    "        bptr[0,ix] = [0,ix-1]\n",
    "    for iy in range(1,len(y)): \n",
    "        trellis[iy,0] = trellis[iy-1,0] + dC\n",
    "        bptr[iy,0] = [iy-1,0]\n",
    "            \n",
    "    for ix in range(1,len(x)):\n",
    "        for iy in range(1,len(y)):\n",
    " \n",
    "            trellis[iy,ix] = trellis[iy-1,ix-1] + sC * int(x[ix] != y[iy])\n",
    "            bptr[iy,ix] = [iy-1,ix-1]\n",
    "        \n",
    "            dScore = trellis[iy-1,ix] + dC\n",
    "            if( dScore < trellis[iy,ix] ):\n",
    "                trellis[iy,ix] = dScore\n",
    "                bptr[iy,ix] = [iy-1,ix]\n",
    "        \n",
    "            iScore = trellis[iy,ix-1] + iC \n",
    "            if( iScore < trellis[iy,ix] ):\n",
    "                trellis[iy,ix] = iScore\n",
    "                bptr[iy,ix] = [iy,ix-1]\n",
    "                \n",
    "    print(pd.DataFrame(trellis))\n",
    "#    print(bptr)\n",
    "    ixback = len(x)-1\n",
    "    iyback = len(y)-1\n",
    "    btrace = [y[iyback],x[ixback]]\n",
    "    while((ixback > 0) & (iyback >0)):\n",
    "#        print(\"%s y%d   --  %s x%d \" % (y[iyback],iyback,x[ixback],ixback) )\n",
    "        (iyback,ixback) = bptr[iyback,ixback]\n",
    "        btrace = np.vstack([[y[iyback],x[ixback]],btrace])\n",
    "        \n",
    "    print(pd.DataFrame(btrace[1:6,:].T,index=['ref','obs']))"
   ]
  },
  {
   "cell_type": "code",
   "execution_count": 150,
   "metadata": {},
   "outputs": [
    {
     "name": "stdout",
     "output_type": "stream",
     "text": [
      "     0    1    2    3    4\n",
      "0  0.0  1.5  3.0  4.5  6.0\n",
      "1  1.5  0.0  1.5  3.0  4.5\n",
      "2  3.0  1.5  0.0  1.5  3.0\n",
      "3  4.5  3.0  1.5  1.0  1.5\n",
      "4  6.0  4.5  3.0  2.5  2.0\n",
      "5  7.5  6.0  4.5  4.0  2.5\n",
      "     0  1  2  3  4\n",
      "ref  d  o  s  i  s\n",
      "obs  d  o  o  e  s\n"
     ]
    }
   ],
   "source": [
    "observation = \"d o e s\"\n",
    "reference = \"d o s i s\"\n",
    "dtw(obs=observation, ref=reference, iC=1.5,dC=1.5)"
   ]
  },
  {
   "cell_type": "code",
   "execution_count": 103,
   "metadata": {},
   "outputs": [
    {
     "name": "stdout",
     "output_type": "stream",
     "text": [
      "[3. 7.]\n"
     ]
    }
   ],
   "source": [
    "ix=0\n",
    "iy = 3\n",
    "bb = np.zeros((3,3,2))\n",
    "bb[1,2] = [3,7]\n",
    "print(bb[1,2])"
   ]
  },
  {
   "cell_type": "code",
   "execution_count": 104,
   "metadata": {},
   "outputs": [],
   "source": [
    "(ix,iy)=bb[1,2]"
   ]
  },
  {
   "cell_type": "code",
   "execution_count": 120,
   "metadata": {},
   "outputs": [
    {
     "name": "stdout",
     "output_type": "stream",
     "text": [
      "[['2.46151511809e-312' '2.39785524434e-312']\n",
      " ['o' 'q']]\n"
     ]
    }
   ],
   "source": [
    "btr = np.empty((1,2))\n",
    "btr = np.vstack([btr,['o','q']])\n",
    "print(btr)"
   ]
  },
  {
   "cell_type": "code",
   "execution_count": 116,
   "metadata": {},
   "outputs": [
    {
     "name": "stdout",
     "output_type": "stream",
     "text": [
      "[[1 2 3]\n",
      " [4 5 6]]\n"
     ]
    }
   ],
   "source": [
    "x=np.vstack([[1,2,3],[4,5,6]])\n",
    "print(x)"
   ]
  },
  {
   "cell_type": "code",
   "execution_count": null,
   "metadata": {},
   "outputs": [],
   "source": []
  }
 ],
 "metadata": {
  "kernelspec": {
   "display_name": "Python 3",
   "language": "python",
   "name": "python3"
  },
  "language_info": {
   "codemirror_mode": {
    "name": "ipython",
    "version": 3
   },
   "file_extension": ".py",
   "mimetype": "text/x-python",
   "name": "python",
   "nbconvert_exporter": "python",
   "pygments_lexer": "ipython3",
   "version": "3.6.7"
  }
 },
 "nbformat": 4,
 "nbformat_minor": 2
}
