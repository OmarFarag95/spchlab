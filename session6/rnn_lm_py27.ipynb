{
  "nbformat": 4,
  "nbformat_minor": 0,
  "metadata": {
    "colab": {
      "name": "rnn_lms.ipynb",
      "version": "0.3.2",
      "provenance": [],
      "toc_visible": true,
      "include_colab_link": true
    },
    "kernelspec": {
      "name": "python2",
      "display_name": "Python 2"
    },
    "accelerator": "GPU"
  },
  "cells": [
    {
      "cell_type": "markdown",
      "metadata": {
        "id": "view-in-github",
        "colab_type": "text"
      },
      "source": [
        "<a href=\"https://colab.research.google.com/github/lverwimp/RNN_language_modeling/blob/master/rnn_lm.ipynb\" target=\"_parent\"><img src=\"https://colab.research.google.com/assets/colab-badge.svg\" alt=\"Open In Colab\"/></a>"
      ]
    },
    {
      "metadata": {
        "id": "FyAmshu3bFz6",
        "colab_type": "text"
      },
      "cell_type": "markdown",
      "source": [
        "# Language Modeling with Recurrent Neural Networks"
      ]
    },
    {
      "metadata": {
        "id": "0fc7h-VVbPBV",
        "colab_type": "text"
      },
      "cell_type": "markdown",
      "source": [
        "In this notebook, we will see how you can train a recurrent neural network language model.\n",
        "\n",
        "We will start by importing TensorFlow, which is Google's open-source library for machine learning. Next, we will explain how to do data processing for language modeling and explain the most important classes and function that we will use. We will give a short introduction to word embeddings, testing a network and the importance of hyperparameters during training."
      ]
    },
    {
      "metadata": {
        "id": "vzV_zLwTbr94",
        "colab_type": "text"
      },
      "cell_type": "markdown",
      "source": [
        "## Importing TensorFlow and other requirements"
      ]
    },
    {
      "metadata": {
        "id": "esuUK2ev_Nyt",
        "colab_type": "text"
      },
      "cell_type": "markdown",
      "source": [
        "We start by importing TensorFlow and checking if we are running on GPU. You will probably be asked two confirmations; click YES twice. "
      ]
    },
    {
      "metadata": {
        "id": "_yKJ-Plo_HTS",
        "colab_type": "code",
        "colab": {}
      },
      "cell_type": "code",
      "source": [
        "import tensorflow as tf\n",
        "\n",
        "device_name = tf.test.gpu_device_name()\n",
        "if device_name != '/device:GPU:0':\n",
        "  raise SystemError('GPU device not found')"
      ],
      "execution_count": 0,
      "outputs": []
    },
    {
      "metadata": {
        "id": "1FKKFmkwat9W",
        "colab_type": "text"
      },
      "cell_type": "markdown",
      "source": [
        "If the code above raised an error, you should make sure that you are using a GPU in the following way: select 'Runtime' in the top bar, then 'Change runtime type' and choose 'GPU' as hardware accelerator. Training neural networks is much faster on a GPU (graphics processing unit) than on a CPU."
      ]
    },
    {
      "metadata": {
        "id": "OZ6KKnfoahTc",
        "colab_type": "text"
      },
      "cell_type": "markdown",
      "source": [
        "Next, we import the other standard Python packages that we need. "
      ]
    },
    {
      "metadata": {
        "id": "BnEd3YIyDsDd",
        "colab_type": "code",
        "colab": {}
      },
      "cell_type": "code",
      "source": [
        "import numpy as np\n",
        "import urllib, collections, os\n",
        "from __future__ import print_function"
      ],
      "execution_count": 0,
      "outputs": []
    },
    {
      "metadata": {
        "id": "ILImWZp-_JCI",
        "colab_type": "text"
      },
      "cell_type": "markdown",
      "source": [
        "In the 3 cells below we are defining some classes and functions that we will use throughout the notebook. You have to run the cells to make sure you can use them, but you do not have to look at the details in the code. By default we have hidden this code, but you may click on SHOW CODE to visualize each of them (batchGenerator.py, rnn_lm.py and run_lm.py)."
      ]
    },
    {
      "metadata": {
        "id": "bAsnD-TM6qVZ",
        "colab_type": "code",
        "cellView": "form",
        "colab": {}
      },
      "cell_type": "code",
      "source": [
        "#@title\n",
        "class batchGenerator(object):\n",
        "  '''\n",
        "  This class generates batches for a dataset.\n",
        "  Input arguments:\n",
        "    data: list of indices (word ids)\n",
        "    batch_size: number of sequences in a mini-batch\n",
        "    num_steps: length of each sequence in the mini-batch\n",
        "    test: boolean, is True if we are testing; in that case batch_size and num_steps are 1\n",
        "  '''\n",
        "  \n",
        "  def __init__(self, data, batch_size=32, num_steps=50, test=False):\n",
        "    '''\n",
        "    Prepares a dataset.\n",
        "    '''\n",
        "    self.batch_size = batch_size\n",
        "    self.num_steps = num_steps\n",
        "    self.test = test \n",
        "\n",
        "    self.data_array = np.array(data)\n",
        "  \n",
        "    if not self.test:\n",
        "      len_batch_instance = len(data) / batch_size\n",
        "\n",
        "      data_array = self.data_array[:batch_size*len_batch_instance]\n",
        "\n",
        "      # divide data in batch_size parts\n",
        "      self.data_reshaped = np.reshape(data_array, (batch_size, len_batch_instance))\n",
        "\n",
        "      # number of mini-batches that can be generated\n",
        "      self.num_batches_in_data = len_batch_instance / num_steps - 1\n",
        "    \n",
        "    self.curr_idx = 0\n",
        "  \n",
        "  def generate(self):\n",
        "    '''\n",
        "    Generates\n",
        "      input_batch: numpy array (batch_size x num_steps) or None, if the end of the dataset is reached\n",
        "      target_batch: numpy array (batch_size x num_steps) or None, if the end of the dataset is reached\n",
        "      end_reached: boolean, True is end of dataset is reached\n",
        "    '''\n",
        "    \n",
        "    if self.test:\n",
        "      if self.curr_idx+1 >= len(self.data_array):\n",
        "        return None, None, True\n",
        "      \n",
        "      input_batch = [[self.data_array[self.curr_idx]]]\n",
        "      target_batch = [[self.data_array[self.curr_idx+1]]]\n",
        "      \n",
        "    else:\n",
        "      if self.curr_idx >= self.num_batches_in_data:\n",
        "        return None, None, True\n",
        "\n",
        "      # input: take slice of size \n",
        "      input_batch = self.data_reshaped[:,self.curr_idx*self.num_steps:self.curr_idx*self.num_steps+self.num_steps]\n",
        "\n",
        "      # target = input shifted 1 time step\n",
        "      target_batch = self.data_reshaped[:,self.curr_idx*self.num_steps+1:self.curr_idx*self.num_steps+self.num_steps+1]\n",
        "\n",
        "    self.curr_idx += 1\n",
        "    \n",
        "    return input_batch, target_batch, False\n"
      ],
      "execution_count": 0,
      "outputs": []
    },
    {
      "metadata": {
        "id": "aHDgLlvV6sfc",
        "colab_type": "code",
        "cellView": "form",
        "colab": {}
      },
      "cell_type": "code",
      "source": [
        "#@title\n",
        "class rnn_lm(object):\n",
        "  '''\n",
        "  This is a class to build and execute a recurrent neural network language model.\n",
        "  Arguments:\n",
        "    cell: type of RNN cell (only LSTM is currently implemented)\n",
        "    optimizer: 'SGD' or 'Adam'\n",
        "    lr: learning rate\n",
        "    vocab_size: size of the vocabulary\n",
        "    embedding_size: size of continuous embedding that will be input to the RNN\n",
        "    hidden_size: size of the hidden layer\n",
        "    dropout rate: value between 0 and 1, number of neurons that will be \n",
        "        kept (not dropped) during training, prevents overfitting\n",
        "    batch_size: number of sequences that will be input simultaneously\n",
        "    num_steps: length of each input sequence = number of steps in backpropagation through time\n",
        "    is_training: boolean, True is we want to update the parameters of the model\n",
        "  '''\n",
        "  \n",
        "  def __init__(self,\n",
        "              cell='LSTM',\n",
        "              optimizer='Adam',\n",
        "              lr=0.01,\n",
        "              vocab_size=10000,\n",
        "              embedding_size=64,\n",
        "              hidden_size=128,\n",
        "              dropout_rate=0.5,\n",
        "              batch_size=32,\n",
        "              num_steps = 50,\n",
        "              is_training=True):\n",
        "    # hyperparameters that can be changed\n",
        "    self.which_cell = cell\n",
        "    self.which_optimizer = optimizer\n",
        "    self.vocab_size = vocab_size\n",
        "    self.embedding_size = embedding_size\n",
        "    self.hidden_size = hidden_size\n",
        "    self.dropout_rate = dropout_rate\n",
        "    self.is_training = is_training\n",
        "    self.lr = lr\n",
        "    self.batch_size = batch_size\n",
        "    self.num_steps = num_steps\n",
        "    \n",
        "    # hard-coded hyperparameters\n",
        "    self.max_grad_norm = 5\n",
        "    \n",
        "    self.init_graph()\n",
        "    \n",
        "    self.output, self.state = self.feed_to_network()\n",
        "    \n",
        "    self.loss = self.calc_loss(self.output)\n",
        "    \n",
        "    if self.is_training:\n",
        "      self.update_params(self.loss)\n",
        "    \n",
        "    \n",
        "  def init_graph(self):\n",
        "    '''\n",
        "    This function initializes all elements of the network.\n",
        "    '''\n",
        "    \n",
        "    self.inputs = tf.placeholder(dtype=tf.int32, shape=[self.batch_size, self.num_steps])\n",
        "    self.targets = tf.placeholder(dtype=tf.int32, shape=[self.batch_size, self.num_steps])\n",
        "    \n",
        "    # input embedding weights\n",
        "    self.embedding = tf.get_variable(\"embedding\", \n",
        "                                     [self.vocab_size, self.embedding_size], \n",
        "                                     dtype=tf.float32)\n",
        "    \n",
        "    # hidden layer\n",
        "    if self.which_cell == 'LSTM':\n",
        "      self.basic_cell = tf.contrib.rnn.LSTMCell(self.hidden_size)\n",
        "    elif self.which_cell == 'RNN':\n",
        "      self.basic_cell = tf.contrib.rnn.BasicRNNCell(self.hidden_size)\n",
        "    else:\n",
        "      raise ValueError(\"Specify which type of RNN you want to use: RNN or LSTM.\")\n",
        "      \n",
        "    # apply dropout  \n",
        "    self.cell = tf.contrib.rnn.DropoutWrapper(self.basic_cell, \n",
        "                                              output_keep_prob=self.dropout_rate)\n",
        "    \n",
        "    # initial state contains all zeros\n",
        "    self.initial_state = self.cell.zero_state(self.batch_size, tf.float32)\n",
        "    \n",
        "    # output weight matrix and bias\n",
        "    self.softmax_w = tf.get_variable(\"softmax_w\",\n",
        "                                     [self.hidden_size, self.vocab_size], \n",
        "                                     dtype=tf.float32)\n",
        "    self.softmax_b = tf.get_variable(\"softmax_b\",\n",
        "                                     [self.vocab_size], \n",
        "                                     dtype=tf.float32)\n",
        "    \n",
        "    self.initial_state = self.cell.zero_state(self.batch_size, dtype=tf.float32)\n",
        "    \n",
        "    \n",
        "  def feed_to_network(self):\n",
        "    '''\n",
        "    This function feeds the input to the network and returns the output and the state.\n",
        "   \n",
        "    '''\n",
        "    \n",
        "    # map input indices to continuous input vectors\n",
        "    inputs = tf.nn.embedding_lookup(self.embedding, self.inputs)\n",
        "\n",
        "\t  # use dropout on the input embeddings\n",
        "    inputs = tf.nn.dropout(inputs, self.dropout_rate)\n",
        "    \n",
        "    state = self.initial_state\n",
        "    \n",
        "    # feed inputs to network: outputs = predictions, state = new hidden state\n",
        "    outputs, state = tf.nn.dynamic_rnn(self.cell, inputs, sequence_length=None, initial_state=state)\n",
        "    \n",
        "    output = tf.reshape(tf.concat(outputs, 1), [-1, self.hidden_size])\n",
        "    \n",
        "    return output, state\n",
        "    \n",
        "  \n",
        "  def calc_loss(self, output):\n",
        "    \n",
        "    # calculate logits\n",
        "    # shape of logits = [batch_size*num_steps, vocab_size]\n",
        "    logits = tf.matmul(output, self.softmax_w) + self.softmax_b\n",
        "    \n",
        "    self.softmax = tf.nn.softmax(logits)\n",
        "      \n",
        "    # calculate cross entropy loss\n",
        "    # reshape targets such that it has shape [batch_size*num_steps]\n",
        "    # loss: contains loss for every time step in every batch\n",
        "    loss = tf.nn.sparse_softmax_cross_entropy_with_logits(\n",
        "        labels=tf.reshape(self.targets, [-1]), logits=logits)\n",
        "      \n",
        "    # average loss per batch\n",
        "    avg_loss = tf.reduce_sum(loss) / self.batch_size\n",
        "    \n",
        "    return avg_loss\n",
        "  \n",
        "  def update_params(self, loss):\n",
        "    \n",
        "    # calculate gradients for all trainable variables \n",
        "    # + clip them if their global norm > 5 (prevents exploding gradients)\n",
        "    grads, _ = tf.clip_by_global_norm(\n",
        "        tf.gradients(loss, tf.trainable_variables()), self.max_grad_norm)\n",
        "    \n",
        "    if self.which_optimizer == 'SGD':\n",
        "      optimizer = tf.train.GradientDescentOptimizer(self.lr)\n",
        "    elif self.which_optimizer == 'Adam':\n",
        "      optimizer = tf.train.AdamOptimizer(self.lr)\n",
        "    else:\n",
        "      raise ValueError(\"Specify which type of optimizer you want to use: SGD or Adam.\")\n",
        "    \n",
        "    # update the weights\n",
        "    self.train_op = optimizer.apply_gradients(\n",
        "\t\t\t\tzip(grads, tf.trainable_variables()))"
      ],
      "execution_count": 0,
      "outputs": []
    },
    {
      "metadata": {
        "id": "ABVaoeuv6xdY",
        "colab_type": "code",
        "cellView": "form",
        "colab": {}
      },
      "cell_type": "code",
      "source": [
        "#@title\n",
        "def run_lm(name='LSTM', cell='LSTM', \n",
        "           optimizer='Adam', lr=0.01, \n",
        "           vocab_size = 10000, embedding_size=64, \n",
        "           hidden_size=128, dropout_rate=0.5, \n",
        "           num_steps=50, inspect_emb=False, \n",
        "           train_ids=None, valid_ids=None, \n",
        "           test_ids=None, test_log_prob=False):\n",
        "  '''\n",
        "  Creates training, validation and/or test models,\n",
        "  trains, validates and/or tests the model.\n",
        "  Arguments:\n",
        "    name: name that will be used to save the model\n",
        "    cell: type of RNN cell (only LSTM is currently implemented)\n",
        "    optimizer: 'SGD' or 'Adam'\n",
        "    lr: learning rate\n",
        "    vocab_size: size of the vocabulary\n",
        "    embedding_size: size of continuous embedding that will be input to the RNN\n",
        "    hidden_size: size of the hidden layer\n",
        "    dropout rate: value between 0 and 1, number of neurons that will be \n",
        "        kept (not dropped) during training, prevents overfitting\n",
        "    num_steps\n",
        "    inspect_emb: boolean, if True we want to return the embedding_matrix\n",
        "    train_ids: training data\n",
        "    valid_ids: validation data\n",
        "    test_ids: test data\n",
        "    test_log_prob: boolean, if True we only want to test the log probability for a test sentence\n",
        "  '''\n",
        "    \n",
        "  with tf.Graph().as_default() as graph:\n",
        "\n",
        "      # create the models\n",
        "      if not test_log_prob:\n",
        "      \n",
        "        with tf.variable_scope(\"Model\"):\n",
        "          rnn_train = rnn_lm(cell=cell,\n",
        "                             optimizer=optimizer, \n",
        "                             lr=lr,\n",
        "                             vocab_size=vocab_size,\n",
        "                             embedding_size=embedding_size,\n",
        "                             hidden_size=hidden_size,\n",
        "                             dropout_rate=dropout_rate)\n",
        "\n",
        "          saver = tf.train.Saver()\n",
        "\n",
        "        with tf.variable_scope(\"Model\", reuse=True):\n",
        "          rnn_valid = rnn_lm(cell=cell, \n",
        "                             optimizer=optimizer,\n",
        "                             lr=lr,\n",
        "                             vocab_size=vocab_size, \n",
        "                             embedding_size=embedding_size,\n",
        "                             hidden_size=hidden_size,\n",
        "                             dropout_rate=dropout_rate,\n",
        "                             is_training=False)\n",
        "          \n",
        "        reuse = True\n",
        "        \n",
        "      else:\n",
        "        reuse = False\n",
        "               \n",
        "      with tf.variable_scope(\"Model\", reuse=reuse):\n",
        "        rnn_test = rnn_lm(cell=cell, \n",
        "                           optimizer=optimizer, \n",
        "                           lr=lr,\n",
        "                           vocab_size=vocab_size,\n",
        "                           embedding_size=embedding_size,\n",
        "                           hidden_size=hidden_size,\n",
        "                           dropout_rate=dropout_rate,\n",
        "                           batch_size=1,\n",
        "                           num_steps=1,\n",
        "                           is_training=False)\n",
        "      \n",
        "\n",
        "      sv = tf.train.Supervisor(logdir=name)\n",
        "\n",
        "      with sv.managed_session(config=tf.ConfigProto()) as session:\n",
        "        \n",
        "        if not test_log_prob:\n",
        "        \n",
        "          for i in xrange(5):\n",
        "\n",
        "            print('Epoch {0}'.format(i+1))\n",
        "\n",
        "            train_ppl = run_epoch(session, rnn_train, train_ids, num_steps=num_steps)\n",
        "            print('Train perplexity: {0}'.format(train_ppl))\n",
        "\n",
        "            valid_ppl = run_epoch(session, rnn_valid, valid_ids, num_steps=num_steps, is_training=False)\n",
        "            print('Validation perplexity: {0}'.format(valid_ppl))\n",
        "\n",
        "          save_path = saver.save(session, \"{0}/rnn.ckpt\".format(name))\n",
        "          print('Saved the model to ',save_path)\n",
        "\n",
        "        test_ppl = run_epoch(session, rnn_test, test_ids, num_steps=num_steps,\n",
        "                             is_training=False, is_test=True, \n",
        "                             test_log_prob=test_log_prob)\n",
        "        if not test_log_prob:\n",
        "          print('Test perplexity: {0}'.format(test_ppl))\n",
        "        \n",
        "        if inspect_emb: \n",
        "          emb_matrix = tf.get_default_graph().get_tensor_by_name(\"Model/embedding:0\")\n",
        "          emb_matrix_np = emb_matrix.eval(session=session)\n",
        "\n",
        "          return emb_matrix_np\n",
        "\n",
        "        else:\n",
        "\n",
        "          return None\n",
        "\n",
        "def run_epoch(session, rnn, data, num_steps=50, is_training=True, is_test=False, test_log_prob=False):\n",
        "    '''\n",
        "    This function runs a single epoch (pass) over the data,\n",
        "    updating the model parameters if we are training,\n",
        "    and returns the perplexity.\n",
        "    Input arguments:\n",
        "      rnn: object of the rnn_lm class\n",
        "      data: list of word indices\n",
        "      num_steps\n",
        "      is_training: boolean, True is we are training the model\n",
        "      is_test: boolean, True is we are testing a trained model\n",
        "      test_log_prob: boolean, True if we want the log probability\n",
        "    Returns:\n",
        "      ppl: float, perplexity of the dataset\n",
        "    '''\n",
        "  \n",
        "    generator = batchGenerator(data, test=is_test)\n",
        "      \n",
        "    state = session.run(rnn.initial_state)\n",
        "    sum_loss = 0.0\n",
        "    iters = 0\n",
        "    \n",
        "    if test_log_prob: \n",
        "      sum_log_prob = 0.0\n",
        "      \n",
        "    while True:\n",
        "\n",
        "      input_batch, target_batch, end_reached = generator.generate()\n",
        "        \n",
        "      if end_reached:\n",
        "        break\n",
        "\n",
        "      feed_dict = {rnn.inputs: input_batch,\n",
        "                  rnn.targets: target_batch,\n",
        "                  rnn.initial_state : state}\n",
        "\n",
        "      fetches = {'loss': rnn.loss,\n",
        "                'state': rnn.state}\n",
        "      \n",
        "      if is_training:\n",
        "        fetches['train_op'] = rnn.train_op\n",
        "        \n",
        "      if test_log_prob:\n",
        "        fetches['softmax'] = rnn.softmax\n",
        "        \n",
        "      result = session.run(fetches, feed_dict)\n",
        "        \n",
        "      state = result['state']\n",
        "      loss = result['loss']\n",
        "      \n",
        "      if test_log_prob:\n",
        "        softmax = result['softmax']\n",
        "        prob_target = softmax[0][target_batch[0][0]]\n",
        "        sum_log_prob += np.log(prob_target)\n",
        "\n",
        "      sum_loss += loss\n",
        "      # the loss is an average over num_steps\n",
        "      if is_test:\n",
        "        iters += 1\n",
        "      else:\n",
        "        iters += num_steps\n",
        "        \n",
        "    # calculate perplexity    \n",
        "    ppl = np.exp(sum_loss / iters)\n",
        "    \n",
        "    if test_log_prob:\n",
        "      print('Log probability: {0}'.format(sum_log_prob))\n",
        "    \n",
        "    return ppl\n"
      ],
      "execution_count": 0,
      "outputs": []
    },
    {
      "metadata": {
        "id": "o3-bMavvngQx",
        "colab_type": "text"
      },
      "cell_type": "markdown",
      "source": [
        "If you have run all cells in this section, you can now start the following section on data processing."
      ]
    },
    {
      "metadata": {
        "id": "7hmCKPx4KEcG",
        "colab_type": "text"
      },
      "cell_type": "markdown",
      "source": [
        "## Data processing"
      ]
    },
    {
      "metadata": {
        "id": "-oKtBwJQAJED",
        "colab_type": "text"
      },
      "cell_type": "markdown",
      "source": [
        "We will train our language models on **Penn TreeBank**, which is a publicly available benchmark dataset. A benchmark dataset can be used to easily compare models, since everyone has access to the same data. Many published papers use Penn TreeBank as dataset.\n",
        "\n",
        "Penn TreeBank consists of among others newspaper articles, transcribed telephone conversations and manuals. The training set contains ca. 900.000 words, the validation set ca. 70.000 words and the test set ca. 80.000 words. This is a very small dataset (nowadays language models can be trained on billions of words), but it is large enough for our purposes.\n",
        "\n",
        "We now download the training, validation and test data:"
      ]
    },
    {
      "metadata": {
        "id": "t6AIeiR2BaMm",
        "colab_type": "code",
        "colab": {}
      },
      "cell_type": "code",
      "source": [
        "train_url = 'http://homes.esat.kuleuven.be/~spchlab/H02A6/lab/session6/data/train.txt'\n",
        "valid_url = 'http://homes.esat.kuleuven.be/~spchlab/H02A6/lab/session6/data/valid.txt'\n",
        "test_url = 'http://homes.esat.kuleuven.be/~spchlab/H02A6/lab/session6/data/test.txt'\n",
        "train_file = urllib.urlopen(train_url).read()\n",
        "valid_file = urllib.urlopen(valid_url).read()\n",
        "test_file = urllib.urlopen(test_url).read()"
      ],
      "execution_count": 0,
      "outputs": []
    },
    {
      "metadata": {
        "id": "8Ye3oJavH-8F",
        "colab_type": "text"
      },
      "cell_type": "markdown",
      "source": [
        "The data looks like this:"
      ]
    },
    {
      "metadata": {
        "id": "GXEcoaWKIAtE",
        "colab_type": "code",
        "outputId": "4f171de7-e8a8-4bef-9421-e1befa683845",
        "colab": {
          "base_uri": "https://localhost:8080/",
          "height": 104
        }
      },
      "cell_type": "code",
      "source": [
        "print('{0}...'.format(valid_file[:500]))"
      ],
      "execution_count": 0,
      "outputs": [
        {
          "output_type": "stream",
          "text": [
            " consumers may want to move their telephones a little closer to the tv set \n",
            " <unk> <unk> watching abc 's monday night football can now vote during <unk> for the greatest play in N years from among four or five <unk> <unk> \n",
            " two weeks ago viewers of several nbc <unk> consumer segments started calling a N number for advice on various <unk> issues \n",
            " and the new syndicated reality show hard copy records viewers ' opinions for possible airing on the next day 's show \n",
            " interactive telephone technology...\n"
          ],
          "name": "stdout"
        }
      ]
    },
    {
      "metadata": {
        "id": "1ZF1PoUJDRkH",
        "colab_type": "text"
      },
      "cell_type": "markdown",
      "source": [
        "The data has been **normalized**: all words not in the vocabulary are mapped to an unknown words class (<unk\\>), all numbers are mapped to the 'N' class, each line contains a single sentence, punctuation has been removed, and so on. \n",
        "\n",
        "The purpose of normalization is among others to get rid of all information that is not necessary (such as punctuation), to solve redundancies (for example the same word can occur with different spellings, e.g. 'normalisation' or 'normalization', and we want to get rid of such variants) and to make sure the language model will be able to generalize better. An example of the latter case is the mapping of all numbers to 'N':  in the example above, 'in N years', 'N' can correspond to any number. Assume that in our training data, we see 'in 20 years' and 'in 11 years', and in our test data, we see 'in 5 years'. If '20', '11' and '5' are not mapped to 'N', we have never seen 'in 5 years' before, and the probability estimate for 'in 5 years' will be worse.\n",
        "  \n",
        "We will now read the data, add end-of-sentence symbols <eos\\> ( since we want to be able to predict the end of a sentence too), and count the frequency of every word in the training data:"
      ]
    },
    {
      "metadata": {
        "id": "Y531EV5aDVd0",
        "colab_type": "code",
        "colab": {}
      },
      "cell_type": "code",
      "source": [
        "# convert the string to a list and replace newlines with the end-of-sentence symbol <eos>\n",
        "# ignore empty elements ''\n",
        "train_text = [w for w in train_file.replace('\\n',' <eos>').split(' ') if w != '']\n",
        "valid_text = [w for w in valid_file.replace('\\n',' <eos>').split(' ') if w != '']\n",
        "test_text = [w for w in test_file.replace('\\n',' <eos>').split(' ') if w != '']\n",
        "\n",
        "# count the frequencies of the words in the training data\n",
        "counter = collections.Counter(train_text)\n",
        "\n",
        "# sort according to decreasing frequency\n",
        "count_pairs = sorted(counter.items(), key=lambda x: (-x[1], x[0]))"
      ],
      "execution_count": 0,
      "outputs": []
    },
    {
      "metadata": {
        "id": "Ci3iri5qAu2n",
        "colab_type": "text"
      },
      "cell_type": "markdown",
      "source": [
        "We can take a look at the counts of the words in the training set, and compare them with the counts of the words in the validation set. Let' take a look at the top 20 most frequent words:"
      ]
    },
    {
      "metadata": {
        "id": "8AC1Y_TxAHYK",
        "colab_type": "code",
        "outputId": "3ac429ea-4946-48b5-ec0f-3078d3c16193",
        "colab": {
          "base_uri": "https://localhost:8080/",
          "height": 391
        }
      },
      "cell_type": "code",
      "source": [
        "# count the frequencies of the words in the validation data\n",
        "counter_valid = collections.Counter(valid_text)\n",
        "\n",
        "# sort according to decreasing frequency\n",
        "count_pairs_valid = sorted(counter_valid.items(), key=lambda x: (-x[1], x[0]))\n",
        "\n",
        "fltrain = float(len(train_text))\n",
        "flvalid = float(len(valid_text))\n",
        "\n",
        "print('Top 20 most frequent words:')\n",
        "print('Train (freq.)\\t\\tValid (freq.)')\n",
        "# we can take a look a the 20 most frequent words + their frequencies:\n",
        "for i in range(20):\n",
        "  freq_train = round((float(count_pairs[i][1]) / fltrain)*100,3)\n",
        "  freq_valid = round((float(count_pairs_valid[i][1]) / flvalid)*100,3)\n",
        "  \n",
        "  print('{0} ({1} - {2}%)\\t\\t{3} ({4} - {5}%)'.format(\n",
        "      count_pairs[i][0], count_pairs[i][1], freq_train,\n",
        "      count_pairs_valid[i][0], count_pairs_valid[i][1], freq_valid))"
      ],
      "execution_count": 9,
      "outputs": [
        {
          "output_type": "stream",
          "text": [
            "Top 20 most frequent words:\n",
            "Train (freq.)\t\tValid (freq.)\n",
            "the (50770 - 5.462%)\t\tthe (4122 - 5.588%)\n",
            "<unk> (45020 - 4.843%)\t\t<unk> (3485 - 4.725%)\n",
            "<eos> (42068 - 4.525%)\t\t<eos> (3370 - 4.569%)\n",
            "N (32481 - 3.494%)\t\tN (2603 - 3.529%)\n",
            "of (24400 - 2.625%)\t\tof (1832 - 2.484%)\n",
            "to (23638 - 2.543%)\t\tto (1750 - 2.373%)\n",
            "a (21196 - 2.28%)\t\ta (1738 - 2.356%)\n",
            "in (18000 - 1.936%)\t\tin (1392 - 1.887%)\n",
            "and (17474 - 1.88%)\t\tand (1391 - 1.886%)\n",
            "'s (9784 - 1.053%)\t\t's (868 - 1.177%)\n",
            "that (8931 - 0.961%)\t\tfor (726 - 0.984%)\n",
            "for (8927 - 0.96%)\t\t$ (659 - 0.893%)\n",
            "$ (7541 - 0.811%)\t\tthat (657 - 0.891%)\n",
            "is (7337 - 0.789%)\t\tit (537 - 0.728%)\n",
            "it (6112 - 0.657%)\t\tis (529 - 0.717%)\n",
            "said (6027 - 0.648%)\t\tsaid (513 - 0.695%)\n",
            "on (5650 - 0.608%)\t\ton (486 - 0.659%)\n",
            "by (4915 - 0.529%)\t\tat (453 - 0.614%)\n",
            "at (4894 - 0.526%)\t\twas (436 - 0.591%)\n",
            "as (4833 - 0.52%)\t\tas (402 - 0.545%)\n"
          ],
          "name": "stdout"
        }
      ]
    },
    {
      "metadata": {
        "id": "wCHz8MhRBvoQ",
        "colab_type": "text"
      },
      "cell_type": "markdown",
      "source": [
        "Between brackets, we print the raw counts followed by the relative frequencies. \n",
        "\n",
        "*   Which types of words are the most frequent?\n",
        "*   How do you explain the difference in raw counts between the training text and validation text?\n",
        "*   How do you explain the difference in relative frequencies between the training text and validation text?\n",
        "\n"
      ]
    },
    {
      "metadata": {
        "id": "mOjJpJHTcbDl",
        "colab_type": "text"
      },
      "cell_type": "markdown",
      "source": [
        "Let's now take a look at the mid- and low-frequency range. In the cell below, we look at the relative frequencies for a few words starting at begin_idx. You can change this value to inspect other words."
      ]
    },
    {
      "metadata": {
        "id": "X0lwxGw9Ap_i",
        "colab_type": "code",
        "outputId": "2fa14a6a-180c-484b-f937-6ddd97a5d71b",
        "colab": {
          "base_uri": "https://localhost:8080/",
          "height": 374
        }
      },
      "cell_type": "code",
      "source": [
        "begin_idx = 200 # you can change this value\n",
        "end_idx = begin_idx + 20\n",
        "\n",
        "print('Word\\t\\tTrain freq.\\tValid freq.')\n",
        "for i in range(begin_idx, end_idx):\n",
        "  entry = count_pairs[i][0]\n",
        "  \n",
        "  freq_train = round((float(counter[entry]) / fltrain)*100,3)\n",
        "  freq_valid = round((float(counter_valid[entry]) / flvalid)*100,3)\n",
        "  \n",
        "  print('{0}\\t\\t{1}%\\t\\t{2}%'.format(\n",
        "      entry, freq_train, freq_valid))"
      ],
      "execution_count": 11,
      "outputs": [
        {
          "output_type": "stream",
          "text": [
            "Word\t\tTrain freq.\tValid freq.\n",
            "well\t\t0.05%\t\t0.052%\n",
            "part\t\t0.05%\t\t0.038%\n",
            "fell\t\t0.049%\t\t0.058%\n",
            "japan\t\t0.049%\t\t0.019%\n",
            "another\t\t0.049%\t\t0.043%\n",
            "should\t\t0.049%\t\t0.061%\n",
            "higher\t\t0.049%\t\t0.053%\n",
            "debt\t\t0.049%\t\t0.06%\n",
            "offer\t\t0.048%\t\t0.087%\n",
            "take\t\t0.048%\t\t0.043%\n",
            "including\t\t0.048%\t\t0.053%\n",
            "among\t\t0.048%\t\t0.049%\n",
            "court\t\t0.048%\t\t0.026%\n",
            "being\t\t0.048%\t\t0.037%\n",
            "according\t\t0.048%\t\t0.034%\n",
            "each\t\t0.048%\t\t0.039%\n",
            "index\t\t0.047%\t\t0.095%\n",
            "tax\t\t0.047%\t\t0.011%\n",
            "trade\t\t0.046%\t\t0.057%\n",
            "world\t\t0.046%\t\t0.046%\n"
          ],
          "name": "stdout"
        }
      ]
    },
    {
      "metadata": {
        "id": "_jb9hELmchMW",
        "colab_type": "text"
      },
      "cell_type": "markdown",
      "source": [
        "\n",
        "\n",
        "*   Are the differences in relative frequencies larger for the mid-frequency range than for the high-frequency range?\n",
        "*   How do you explain this?\n",
        "\n"
      ]
    },
    {
      "metadata": {
        "id": "z5Fok7dfA6L9",
        "colab_type": "text"
      },
      "cell_type": "markdown",
      "source": [
        "We now create a mapping from words to indices. The real input for the neural network will be indices, because they take up less space and because it makes certain operations easier."
      ]
    },
    {
      "metadata": {
        "id": "PGMZqJFVAfoh",
        "colab_type": "code",
        "colab": {}
      },
      "cell_type": "code",
      "source": [
        "# words = list of all the words (in decreasing frequency)\n",
        "items, _ = list(zip(*count_pairs))\n",
        "\n",
        "# make a dictionary with a mapping from each word to an id; word with highest frequency gets lowest id etc.\n",
        "item_to_id = dict(zip(items, range(len(items))))\n",
        "id_to_item = dict(zip(range(len(items)), items))\n",
        "vocab_size = len(item_to_id)\n",
        "\n",
        "# convert the words to indices\n",
        "train_ids_large = [item_to_id[item] for item in train_text]\n",
        "valid_ids_large = [item_to_id[item] for item in valid_text]\n",
        "test_ids_large = [item_to_id[item] for item in test_text]"
      ],
      "execution_count": 0,
      "outputs": []
    },
    {
      "metadata": {
        "id": "-6KQShlZFcGx",
        "colab_type": "text"
      },
      "cell_type": "markdown",
      "source": [
        "Once the data is converted to ids, it looks like this:"
      ]
    },
    {
      "metadata": {
        "id": "Vlo5SpAHFhLq",
        "colab_type": "code",
        "outputId": "0fb02711-92ba-47f1-da31-472c0b0c858c",
        "colab": {
          "base_uri": "https://localhost:8080/",
          "height": 801
        }
      },
      "cell_type": "code",
      "source": [
        "print('Here is an example of words and their indices:')\n",
        "for i in range(40):\n",
        "  print('{0}\\t{1}'.format(valid_text[i], valid_ids_large[i]))\n",
        "print('\\nAnd this is what the input looks like, a list of indices:')\n",
        "print(valid_ids_large[:40])"
      ],
      "execution_count": 0,
      "outputs": [
        {
          "output_type": "stream",
          "text": [
            "Here is an example of words and their indices:\n",
            "consumers\t1132\n",
            "may\t93\n",
            "want\t358\n",
            "to\t5\n",
            "move\t329\n",
            "their\t51\n",
            "telephones\t9836\n",
            "a\t6\n",
            "little\t326\n",
            "closer\t2476\n",
            "to\t5\n",
            "the\t0\n",
            "tv\t662\n",
            "set\t388\n",
            "<eos>\t2\n",
            "<unk>\t1\n",
            "<unk>\t1\n",
            "watching\t2974\n",
            "abc\t2158\n",
            "'s\t9\n",
            "monday\t381\n",
            "night\t1068\n",
            "football\t2347\n",
            "can\t89\n",
            "now\t99\n",
            "vote\t847\n",
            "during\t198\n",
            "<unk>\t1\n",
            "for\t11\n",
            "the\t0\n",
            "greatest\t3383\n",
            "play\t1119\n",
            "in\t7\n",
            "N\t3\n",
            "years\t72\n",
            "from\t20\n",
            "among\t211\n",
            "four\t346\n",
            "or\t36\n",
            "five\t258\n",
            "\n",
            "And this is what the input looks like, a list of indices:\n",
            "[1132, 93, 358, 5, 329, 51, 9836, 6, 326, 2476, 5, 0, 662, 388, 2, 1, 1, 2974, 2158, 9, 381, 1068, 2347, 89, 99, 847, 198, 1, 11, 0, 3383, 1119, 7, 3, 72, 20, 211, 346, 36, 258]\n"
          ],
          "name": "stdout"
        }
      ]
    },
    {
      "metadata": {
        "id": "MR026sYjd3sO",
        "colab_type": "text"
      },
      "cell_type": "markdown",
      "source": [
        "To speed up some experiments, we take a subset of the data."
      ]
    },
    {
      "metadata": {
        "id": "kom3XmMHdxQt",
        "colab_type": "code",
        "outputId": "99ab56af-63ac-4103-c220-e11cb47afe4c",
        "colab": {
          "base_uri": "https://localhost:8080/",
          "height": 69
        }
      },
      "cell_type": "code",
      "source": [
        "# take a smaller subset to speed up training\n",
        "train_ids = train_ids_large[:50000]\n",
        "valid_ids = valid_ids_large[:10000]\n",
        "test_ids = test_ids_large[:10000]\n",
        "\n",
        "print('Number of words in small training set: {0}'.format(len(train_ids)))\n",
        "print('Number of words in small validation set: {0}'.format(len(valid_ids)))\n",
        "print('Number of words in small test set: {0}'.format(len(test_ids)))"
      ],
      "execution_count": 0,
      "outputs": [
        {
          "output_type": "stream",
          "text": [
            "Number of words in small training set: 50000\n",
            "Number of words in small validation set: 10000\n",
            "Number of words in small test set: 10000\n"
          ],
          "name": "stdout"
        }
      ]
    },
    {
      "metadata": {
        "id": "FIhqMJ2CKMxP",
        "colab_type": "text"
      },
      "cell_type": "markdown",
      "source": [
        "## The classes and functions that we will use"
      ]
    },
    {
      "metadata": {
        "id": "TuNJPpA-oZRs",
        "colab_type": "text"
      },
      "cell_type": "markdown",
      "source": [
        "We will now explore the classes and functions that we have defined earlier for training and testing our language models."
      ]
    },
    {
      "metadata": {
        "id": "jBnJVfPuNzmI",
        "colab_type": "text"
      },
      "cell_type": "markdown",
      "source": [
        "The class for an RNN language model is **rnn_lm()**. We will see later which options we can use."
      ]
    },
    {
      "metadata": {
        "id": "tIHeGqTCW8J-",
        "colab_type": "text"
      },
      "cell_type": "markdown",
      "source": [
        "**batchGenerator(<dataset\\>)** is class that will generate mini-batches from the data. <dataset\\> is a list of word ids."
      ]
    },
    {
      "metadata": {
        "id": "z_SB0UTRdnU5",
        "colab_type": "text"
      },
      "cell_type": "markdown",
      "source": [
        "batchGenerator is a class that will iterate over the data set and create **mini-batches** that will be the input for the neural network. A mini-batch contains several sentences/word sequences, and feeding mini-batches instead of a single sentence or a single word to the network speeds up the processing, and also causes better convergence of the model.\n",
        "\n",
        "The batches are matrices of the size **batch_size** x **num_steps**. Batch_size is the number of different sequences in a single batch, and num_steps the length of each  sequence.\n",
        "\n",
        "Here is an example of how batchGenerator can be used. You will notice that the target batch contains the same indices as the input batch, but shifted one (time) step to the right."
      ]
    },
    {
      "metadata": {
        "id": "qHiY_eJ0dpUa",
        "colab_type": "code",
        "outputId": "a21674bb-8afa-4b49-e8e7-fdb0041b75bf",
        "colab": {
          "base_uri": "https://localhost:8080/",
          "height": 312
        }
      },
      "cell_type": "code",
      "source": [
        "batch_size = 32\n",
        "num_steps = 50\n",
        "\n",
        "generator = batchGenerator(valid_ids, batch_size=batch_size, num_steps=num_steps)\n",
        "input_batch, target_batch, end_reached = generator.generate()\n",
        "print('Shape of the mini-batch: {0}'.format(input_batch.shape))\n",
        "print('This is what an input batch looks like:\\n{0}'.format(input_batch))\n",
        "print('And this is what a target batch looks like:\\n{0}'.format(target_batch))"
      ],
      "execution_count": 0,
      "outputs": [
        {
          "output_type": "stream",
          "text": [
            "Shape of the mini-batch: (32, 50)\n",
            "This is what an input batch looks like:\n",
            "[[1132   93  358 ...    4  249 1795]\n",
            " [   4    3 3770 ...    2    0  361]\n",
            " [ 967   33   25 ...  769 2737    2]\n",
            " ...\n",
            " [  12    3   48 ... 1470    2   54]\n",
            " [ 505    7    1 ...  660   43  299]\n",
            " [   1 2034    8 ...   11   99   29]]\n",
            "And this is what a target batch looks like:\n",
            "[[  93  358    5 ...  249 1795    1]\n",
            " [   3 3770 1619 ...    0  361    4]\n",
            " [  33   25 2047 ... 2737    2 2158]\n",
            " ...\n",
            " [   3   48    7 ...    2   54 1068]\n",
            " [   7    1   50 ...   43  299 9642]\n",
            " [2034    8  377 ...   99   29   28]]\n"
          ],
          "name": "stdout"
        }
      ]
    },
    {
      "metadata": {
        "id": "6ibvCjKOJI9h",
        "colab_type": "text"
      },
      "cell_type": "markdown",
      "source": [
        "Here is a function which pretty-prints what the mini-batches look like. You can give it a batch as first argument, and as second argument the index that you want to look at. In our case, there are 32 sequences in every mini-batch, so the indices range between 0 and 31 (in Python, indices always start at 0)."
      ]
    },
    {
      "metadata": {
        "id": "-hMxzS8dHC-j",
        "colab_type": "code",
        "colab": {}
      },
      "cell_type": "code",
      "source": [
        "def print_batch(batch, idx):\n",
        "  for i in range(num_steps):\n",
        "      word = id_to_item[batch[idx][i]]\n",
        "      if word == '<eos>':\n",
        "         print()\n",
        "      else:\n",
        "        print(word, end=' ')\n",
        "  print()\n",
        "  print()"
      ],
      "execution_count": 0,
      "outputs": []
    },
    {
      "metadata": {
        "id": "Q0RGWHE1Jnvv",
        "colab_type": "text"
      },
      "cell_type": "markdown",
      "source": [
        "And here are some examples of what the first and fourth sequence of the  input and target batch look like. Try it yourself with some new values."
      ]
    },
    {
      "metadata": {
        "id": "oG3sipRFJh7H",
        "colab_type": "code",
        "outputId": "d478e5ac-96e9-4766-e5d7-6db76558b7a1",
        "colab": {
          "base_uri": "https://localhost:8080/",
          "height": 295
        }
      },
      "cell_type": "code",
      "source": [
        "print_batch(input_batch, 0)\n",
        "print_batch(target_batch, 0)\n",
        "\n",
        "print_batch(input_batch, 3)\n",
        "print_batch(target_batch, 3)\n",
        "\n",
        "# try it yourself:\n",
        "# print_batch(..., ...)"
      ],
      "execution_count": 0,
      "outputs": [
        {
          "output_type": "stream",
          "text": [
            "consumers may want to move their telephones a little closer to the tv set \n",
            "<unk> <unk> watching abc 's monday night football can now vote during <unk> for the greatest play in N years from among four or five <unk> <unk> \n",
            "two weeks ago viewers of several nbc \n",
            "\n",
            "may want to move their telephones a little closer to the tv set \n",
            "<unk> <unk> watching abc 's monday night football can now vote during <unk> for the greatest play in N years from among four or five <unk> <unk> \n",
            "two weeks ago viewers of several nbc <unk> \n",
            "\n",
            "says nbc has been able to charge premium rates for this ad time \n",
            "she would n't say what the premium is but it 's believed to be about N N above regular <unk> rates \n",
            "we were able to get advertisers to use their promotion budget for this because \n",
            "\n",
            "nbc has been able to charge premium rates for this ad time \n",
            "she would n't say what the premium is but it 's believed to be about N N above regular <unk> rates \n",
            "we were able to get advertisers to use their promotion budget for this because they \n",
            "\n"
          ],
          "name": "stdout"
        }
      ]
    },
    {
      "metadata": {
        "id": "Cf7tQcgTc8RS",
        "colab_type": "text"
      },
      "cell_type": "markdown",
      "source": [
        "\n",
        "\n",
        "*   What is the difference between the input batch and the target batch?\n",
        "\n"
      ]
    },
    {
      "metadata": {
        "id": "CY4KxCsUenOy",
        "colab_type": "text"
      },
      "cell_type": "markdown",
      "source": [
        "**run_lm():** this function can be called to build, train and test models with different parameter settings. "
      ]
    },
    {
      "metadata": {
        "id": "vBbmu8MyeRjg",
        "colab_type": "text"
      },
      "cell_type": "markdown",
      "source": [
        "**run_epoch()**: this is a function that does one pass over the whole dataset. If we are training the model, it will update the parameters and return the perplexity. Otherwise, it will just return the perplexity."
      ]
    },
    {
      "metadata": {
        "id": "UozYDTgTPYBN",
        "colab_type": "text"
      },
      "cell_type": "markdown",
      "source": [
        "## Word embeddings"
      ]
    },
    {
      "metadata": {
        "id": "DIQhiqR2joDx",
        "colab_type": "text"
      },
      "cell_type": "markdown",
      "source": [
        "Start by running the cell below, which will load a large matrix. During loading, which will take a few minutes, you can continue to read the explanation below. "
      ]
    },
    {
      "metadata": {
        "id": "1PSMzMojSBb2",
        "colab_type": "code",
        "outputId": "3e501050-9024-427c-e6c4-62b427af8cd7",
        "colab": {
          "base_uri": "https://localhost:8080/",
          "height": 34
        }
      },
      "cell_type": "code",
      "source": [
        "url_emb_matrix = 'http://homes.esat.kuleuven.be/~spchlab/H02A6/lab/session6/models/emb_matrix_ptb_256h.txt'\n",
        "emb_matrix = np.loadtxt(urllib.urlopen(url_emb_matrix))\n",
        "\n",
        "print('Size of the embedding matrix: {0}'.format(emb_matrix.shape))"
      ],
      "execution_count": 0,
      "outputs": [
        {
          "output_type": "stream",
          "text": [
            "Size of the embedding matrix: (10001, 256)\n"
          ],
          "name": "stdout"
        }
      ]
    },
    {
      "metadata": {
        "id": "yUR-tGjo7x-d",
        "colab_type": "text"
      },
      "cell_type": "markdown",
      "source": [
        "Often the input words for a language model are represented as indices in a vocabulary, or **one-hot vectors** (where all values are 0 except the index of the word, which has value 1). This representation is a discrete representation, just like in n-gram language models. It has the disadvantage that relationships between words (e.g. the syntactic relationship between 'eat' and 'eating', or the semantic relationship between 'eat' and 'drink') cannot be inferred from the word representations. "
      ]
    },
    {
      "metadata": {
        "id": "QNYBzUniRG1z",
        "colab_type": "text"
      },
      "cell_type": "markdown",
      "source": [
        "Neural language models however, do not use this representation as is but first map it to a continuous, lower-dimensional vector, also called **word embedding**. They do this by looking up the index of the word in a weight matrix $\\mathbf{E}$, which is often called the embedding matrix. By training the embedding matrix jointly with the rest of the language model, the resulting word embeddings will have some interesting properties: several syntactic and semantic relationships are encoded as vector offsets in the embedding space. A famous example is the vector offset for male - female, which is shown in the example below:"
      ]
    },
    {
      "metadata": {
        "id": "M3DDEbxR7aka",
        "colab_type": "text"
      },
      "cell_type": "markdown",
      "source": [
        "![alt text](https://github.com/lverwimp/RNN_language_modeling/blob/master/kingqueen.png?raw=1)"
      ]
    },
    {
      "metadata": {
        "id": "PRSLTNH9kC4m",
        "colab_type": "text"
      },
      "cell_type": "markdown",
      "source": [
        "The embedding matrix that we loaded above contains the embeddings of a large language model trained on Penn TreeBank. We will not train such a large model because the training time is too long (ca. 1h, depending on the hardware). In the next chapter, we will train smaller models on a subset of Penn TreeBank, which can be trained in a couple of minutes."
      ]
    },
    {
      "metadata": {
        "id": "ZowKb-VyqZp2",
        "colab_type": "text"
      },
      "cell_type": "markdown",
      "source": [
        "We will now take a look at what the embeddings look like. Simply looking at their values does not tell us much:"
      ]
    },
    {
      "metadata": {
        "id": "DUt7sr47qk3H",
        "colab_type": "code",
        "outputId": "10f1c2ec-e245-42a4-b481-8d960e848446",
        "colab": {
          "base_uri": "https://localhost:8080/",
          "height": 1875
        }
      },
      "cell_type": "code",
      "source": [
        "print(\"This is what the embedding for 'man' looks like: {0}\".format(emb_matrix[item_to_id['man']]))\n",
        "print(\"This is what the embedding for 'woman' looks like: {0}\".format(emb_matrix[item_to_id['woman']]))"
      ],
      "execution_count": 0,
      "outputs": [
        {
          "output_type": "stream",
          "text": [
            "This is what the embedding for 'man' looks like: [-0.0462542  -0.01723368  0.27494287  0.12473866 -0.00623964 -0.04148652\n",
            " -0.06425022  0.0007388  -0.03463131  0.04714902  0.1289959   0.12155534\n",
            " -0.16271621 -0.18030235  0.14126229  0.33559772 -0.18734805  0.1868442\n",
            " -0.08921902  0.14981522 -0.45547742  0.0447434  -0.3791326   0.22101708\n",
            " -0.19484191  0.04937606 -0.05468898  0.47169119  0.16834715 -0.05260096\n",
            " -0.1653873  -0.65352601  0.0193601  -0.18432139  0.02140128  0.0613495\n",
            "  0.21893674 -0.36047608  0.12058424  0.07834648 -0.12779799 -0.18159601\n",
            " -0.24480988 -0.17476931  0.13488694  0.28467599  0.30670798 -0.26959535\n",
            "  0.10509063 -0.24597238  0.07564122  0.18273377  0.1080462  -0.14142266\n",
            " -0.24684222  0.25638396  0.07662848 -0.09308814 -0.29980779  0.00373058\n",
            "  0.20164973  0.20131919 -0.12309564  0.16571651  0.00563715 -0.19238445\n",
            " -0.26690105  0.22089733 -0.01850636  0.35735807  0.14513636 -0.14322449\n",
            "  0.23873837 -0.30845177  0.00508578  0.12213475 -0.2689186  -0.01550918\n",
            "  0.10588861  0.06882235  0.24489266 -0.01490495 -0.10290807  0.15469299\n",
            " -0.37457836 -0.15672271  0.17662644  0.13306499 -0.17230801 -0.1669587\n",
            "  0.05379846  0.11533865  0.02391218  0.04520259  0.03020532 -0.09893113\n",
            " -0.03297945  0.03378044  0.30189896 -0.04140221 -0.25562179  0.0539585\n",
            "  0.14134784 -0.04619936 -0.05420797 -0.30926523  0.08127385 -0.20981455\n",
            "  0.06198748 -0.05888949  0.11643734 -0.05962129 -0.00778074 -0.11632157\n",
            " -0.01392689 -0.33633831  0.01408657 -0.18937592 -0.10591926  0.1184397\n",
            " -0.29749769  0.62194067 -0.27709353  0.17763667  0.32760021 -0.20587179\n",
            " -0.22847351  0.04066661  0.20608205  0.41077876 -0.12780419 -0.31421393\n",
            " -0.02872927  0.26496634 -0.11511096 -0.01455572 -0.3477478   0.10555886\n",
            "  0.13305451 -0.1509842   0.05756724  0.56878972  0.05969474  0.47538802\n",
            " -0.02173849 -0.06127273 -0.26427779 -0.30801129 -0.14476956  0.34299579\n",
            "  0.05052519  0.24980702  0.36413383 -0.32707661  0.19173692  0.06568275\n",
            " -0.17688468 -0.20620841  0.34676474  0.37423167 -0.00320689 -0.00433604\n",
            " -0.40826762  0.3535541   0.1705104   0.02684805  0.00811079  0.00826603\n",
            "  0.15412818  0.20276165  0.19758414 -0.16784936 -0.06386673  0.22232066\n",
            "  0.22251824 -0.02600599 -0.29425544  0.03571009  0.11853363 -0.27067104\n",
            "  0.29491329  0.00720884  0.08737563  0.41773519 -0.28385878  0.07060628\n",
            "  0.13902856  0.1007159  -0.01048222  0.02560058  0.15378201 -0.30717343\n",
            " -0.18003999  0.1666408  -0.3457537   0.11645643  0.11536182 -0.59973198\n",
            " -0.11274317 -0.25261611  0.25350419  0.44830295  0.1341721  -0.18836783\n",
            "  0.20762049  0.40376508  0.11625839  0.18642212  0.36128169  0.45095381\n",
            " -0.07148321  0.2419498   0.01221366 -0.11344637 -0.12605971  0.01844564\n",
            "  0.15644158  0.10633958 -0.0429747  -0.10024822  0.21342321  0.01240196\n",
            "  0.30522802  0.2346963  -0.57728297  0.05314695  0.14313999 -0.15643755\n",
            " -0.46770826  0.15803947 -0.16778582  0.04723877 -0.02492298  0.08116217\n",
            "  0.13225523  0.15762003  0.04426923  0.0532925  -0.47397518  0.23546731\n",
            " -0.09129615  0.13218176  0.22685118  0.23282814 -0.18227927 -0.02259471\n",
            "  0.20561811 -0.16241886 -0.24141616 -0.02571583 -0.13905185 -0.4128564\n",
            "  0.0196833  -0.28056636  0.24872838 -0.00244513]\n",
            "This is what the embedding for 'woman' looks like: [-1.01387970e-01  8.63618627e-02  1.65892750e-01 -9.72860530e-02\n",
            " -1.08040370e-01 -8.53816122e-02  2.43082345e-01  1.82964057e-01\n",
            "  1.08137382e-02  1.71687707e-01  9.51871276e-02  1.78399429e-01\n",
            " -5.94971955e-01 -2.59667665e-01  2.64538769e-02  2.88996875e-01\n",
            " -1.53841069e-02 -3.99933644e-02  5.40353768e-02 -1.57039732e-01\n",
            " -4.21362594e-02 -1.36909792e-02 -2.51037300e-01  8.03598836e-02\n",
            " -1.31410420e-01 -1.19253956e-01  5.48105799e-02  2.27134511e-01\n",
            "  7.56438747e-02  1.13895260e-01 -2.83417162e-02 -2.43266925e-01\n",
            " -2.15251029e-01 -5.71181588e-02  1.55248001e-01  1.71702094e-02\n",
            " -2.50188231e-01 -6.14528432e-02 -7.13914335e-02 -2.73305863e-01\n",
            "  1.79873500e-02 -2.21126840e-01 -1.69698074e-01  1.74713179e-01\n",
            "  2.47350052e-01  4.42426145e-01  4.85136621e-02  1.64184555e-01\n",
            "  1.76400633e-03 -1.75068602e-01  8.30257386e-02  2.09609885e-02\n",
            "  2.54610963e-02 -2.23311558e-02 -6.38314635e-02 -2.49827979e-03\n",
            "  1.01697259e-01 -1.93053424e-01 -2.28839606e-01 -2.71152705e-01\n",
            " -9.82298926e-02  2.12114528e-01 -2.12870002e-01  1.31068453e-01\n",
            "  1.65834017e-02 -1.54198453e-01 -2.28229865e-01  3.50302570e-02\n",
            "  3.42921346e-01  3.11456293e-01  2.26588845e-02 -7.81552568e-02\n",
            "  2.03120381e-01 -6.31673262e-02  9.70910117e-02 -6.66490346e-02\n",
            " -1.77982122e-01  1.71754912e-01 -1.88328382e-02 -3.56978506e-01\n",
            " -7.18702152e-02 -7.99950063e-02 -8.23892429e-02  2.57068336e-01\n",
            " -2.51976430e-01 -1.30848229e-01 -5.52988723e-02  4.54078913e-02\n",
            "  1.54983506e-01  6.47758991e-02  1.19753465e-01 -1.29760159e-02\n",
            "  1.97898029e-04 -1.90359563e-01  8.00189748e-03  4.55149747e-02\n",
            "  3.26650441e-01  3.06135088e-01  1.37065843e-01  1.91796012e-02\n",
            " -4.90615591e-02  4.83213477e-02  1.47884160e-01 -1.62867587e-02\n",
            " -2.49455776e-02 -1.89075351e-01 -1.30393192e-01 -1.90661177e-01\n",
            "  2.36170366e-01  8.51159841e-02 -1.73109353e-01  1.53148383e-01\n",
            " -1.74198255e-01  1.18033931e-01 -2.69457787e-01  2.09261864e-01\n",
            " -7.86085799e-02 -2.02341542e-01  2.00776279e-01  1.26247734e-01\n",
            "  1.58433810e-01  6.32396281e-01 -1.75646573e-01 -1.75101429e-01\n",
            "  5.33918366e-02 -5.09173311e-02 -2.64987852e-02 -6.60331994e-02\n",
            "  1.06792271e-01 -1.02717347e-01  8.78607258e-02 -1.58156648e-01\n",
            " -1.16196916e-01  1.25920577e-02 -3.62341516e-02  3.15661617e-02\n",
            " -7.43815154e-02  2.79681355e-01 -2.22617313e-01 -1.46510452e-01\n",
            "  1.95044905e-01  1.00439318e-01  7.79920444e-02  1.41389459e-01\n",
            "  4.05341163e-02 -7.75310770e-02 -4.55431223e-01 -2.71138459e-01\n",
            " -7.13692531e-02  1.61159709e-01  2.67214000e-01 -1.47323981e-01\n",
            " -6.82851002e-02 -9.29913744e-02  3.91463116e-02  5.98858744e-02\n",
            " -7.15911388e-02 -4.21287715e-02  9.74780992e-02  6.65860176e-02\n",
            " -2.29704939e-02 -1.20352857e-01 -1.84479550e-01  1.05583549e-01\n",
            "  1.01193510e-01 -7.02056512e-02  1.72205552e-01 -5.32455593e-02\n",
            "  4.27014343e-02 -1.98502749e-01  2.56281625e-02 -1.16039038e-01\n",
            " -2.49401823e-01 -2.13663027e-01  1.64365947e-01 -1.01304404e-01\n",
            " -1.22983314e-01  1.32307097e-01  2.35180989e-01 -2.08419606e-01\n",
            "  1.36667207e-01 -3.57438296e-01  1.66480795e-01  3.18650007e-01\n",
            " -7.54180476e-02  1.65353306e-02  2.76772320e-01  2.49661785e-02\n",
            "  1.20364204e-01  5.95130734e-02 -1.58209801e-01  1.16223633e-01\n",
            "  5.52587695e-02  3.20662886e-01 -2.70373672e-02  2.83721119e-01\n",
            "  6.12492673e-02 -2.80916423e-01  3.53622139e-01  4.41915076e-03\n",
            " -7.97537714e-02  1.11519076e-01  6.07587658e-02 -1.78003982e-01\n",
            "  1.90833807e-01  4.41948503e-01  8.50467160e-02 -4.67894860e-02\n",
            "  1.09206952e-01  1.06000058e-01  7.51706809e-02  1.69801354e-01\n",
            "  1.28134102e-01  1.90094054e-01 -1.04406700e-01 -1.07881233e-01\n",
            " -1.64979994e-01  1.65396780e-01 -1.15632996e-01  1.55805752e-01\n",
            "  4.65153046e-02 -3.41312289e-02  5.92292808e-02 -9.59387794e-03\n",
            " -2.18598038e-01  8.86340812e-02  3.03084105e-02 -2.90746182e-01\n",
            " -2.50550538e-01  5.75815737e-02  9.82593894e-02 -4.75050062e-02\n",
            "  1.41665429e-01  5.35282865e-02 -9.52302516e-02  3.29334497e-01\n",
            "  2.68472880e-01  2.68647820e-02 -4.19684201e-02  1.27158076e-01\n",
            " -1.88365951e-01  7.30452016e-02  2.90815145e-01  2.50966012e-01\n",
            " -1.29648089e-01  5.91155700e-03  1.70345709e-01  1.09262332e-01\n",
            " -1.36258975e-01 -1.58882305e-01  1.72178119e-01 -4.31694210e-01\n",
            " -1.75600141e-01 -8.79256204e-02  6.30672947e-02  3.42816226e-02]\n"
          ],
          "name": "stdout"
        }
      ]
    },
    {
      "metadata": {
        "id": "e0iRSNUmdJKs",
        "colab_type": "text"
      },
      "cell_type": "markdown",
      "source": [
        "\n",
        "\n",
        "*   What do you observe in the embeddings above? \n",
        "*   What could you do to make the embedding more interpretable?\n",
        "\n"
      ]
    },
    {
      "metadata": {
        "id": "auWYJWXdrlLU",
        "colab_type": "text"
      },
      "cell_type": "markdown",
      "source": [
        "Try it yourself for another word:"
      ]
    },
    {
      "metadata": {
        "id": "osPB09mvrJcy",
        "colab_type": "code",
        "colab": {}
      },
      "cell_type": "code",
      "source": [
        "# if you want you can look at the embedding values of another word you're interesting in\n",
        "# simply change 'woman' in the print statement below\n",
        "# !!! note: there will be a KeyError if you try a word that is not in the vocabulary\n",
        "# print(\"This is what the embedding for 'woman' looks like: {0}\".format(emb_matrix[item_to_id['woman']]))"
      ],
      "execution_count": 0,
      "outputs": []
    },
    {
      "metadata": {
        "id": "zueoWNr0rpbN",
        "colab_type": "text"
      },
      "cell_type": "markdown",
      "source": [
        "A common technique to inspect embeddings is **dimensionality reduction**, which reduces the high-dimensional vector (in our case 256) to a 2- or 3-dimensional vector which still captures the most important relationships. The simplest dimensionality reduction technique is principal component analysis (PCA). How PCA exactly works, is not important here, but we will use it to map our embeddings to a 2-dimensional space in the code below. We define a function that plots a subset of words in this 2-dimensional space."
      ]
    },
    {
      "metadata": {
        "id": "D0g6ZWggDmqa",
        "colab_type": "code",
        "colab": {}
      },
      "cell_type": "code",
      "source": [
        "# import the libraries that we need\n",
        "from sklearn.decomposition import PCA\n",
        "import matplotlib.pyplot as plt\n",
        "    \n",
        "# perform principal component analysis\n",
        "pca = PCA(n_components=2)\n",
        "principalComponents = pca.fit_transform(emb_matrix)\n",
        "\n",
        "def plot_pca(list_words):\n",
        "  '''\n",
        "  Plot all words in 'list_words' on the 2-dimensional PCA space.\n",
        "  '''\n",
        "  if len(list_words) > 10:\n",
        "    raise IOError(\"Maximum 10 words can be plotted.\")\n",
        "    \n",
        "  for w in list_words:\n",
        "    if w not in item_to_id:\n",
        "      list_words.remove(w)\n",
        "      print('Ignoring {0} because it is not in the vocabulary'.format(w))\n",
        "\n",
        "  colors = ['navy','turquoise','darkorange','red','black','blue','yellow','green','purple','pink']\n",
        "\n",
        "  for color, target_name in zip(colors[:len(list_words)], list_words):\n",
        "      plt.scatter(principalComponents[item_to_id[target_name], 0], \n",
        "                  principalComponents[item_to_id[target_name], 1], \n",
        "                  color=color, \n",
        "                  label=target_name)\n",
        "  plt.legend()"
      ],
      "execution_count": 0,
      "outputs": []
    },
    {
      "metadata": {
        "id": "gef82K2asdbc",
        "colab_type": "text"
      },
      "cell_type": "markdown",
      "source": [
        "You can use the plot_pca function with a maximum of 10 words, for example:"
      ]
    },
    {
      "metadata": {
        "id": "CzdPrkgpoID4",
        "colab_type": "code",
        "outputId": "b9617fa2-cd52-46fe-e701-f69a084506a7",
        "colab": {
          "base_uri": "https://localhost:8080/",
          "height": 347
        }
      },
      "cell_type": "code",
      "source": [
        "plot_pca(['man', 'woman', 'king', 'queen','men','women','child','children','boy','girl'])"
      ],
      "execution_count": 0,
      "outputs": [
        {
          "output_type": "display_data",
          "data": {
            "image/png": "[encoded data removed]",
            "text/plain": [
              "<matplotlib.figure.Figure at 0x7f71565a19d0>"
            ]
          },
          "metadata": {
            "tags": []
          }
        }
      ]
    },
    {
      "metadata": {
        "id": "vFUhVLlDtEVN",
        "colab_type": "text"
      },
      "cell_type": "markdown",
      "source": [
        "*   Which relationships do you observe in the plot above?\n",
        "\n"
      ]
    },
    {
      "metadata": {
        "id": "JSXmvN17slez",
        "colab_type": "text"
      },
      "cell_type": "markdown",
      "source": [
        "Now try it yourself. Notice that only words that are in the vocabulary will be plotted."
      ]
    },
    {
      "metadata": {
        "id": "IuHhX4wwsogJ",
        "colab_type": "code",
        "colab": {}
      },
      "cell_type": "code",
      "source": [
        "# plot_pca([])"
      ],
      "execution_count": 0,
      "outputs": []
    },
    {
      "metadata": {
        "id": "abAxccd_dixv",
        "colab_type": "text"
      },
      "cell_type": "markdown",
      "source": [
        "\n",
        "\n",
        "*   What relationships did you expect? \n",
        "*   Are these relationships actually present in the plot? If not, why do you think they are not visible?\n",
        "\n"
      ]
    },
    {
      "metadata": {
        "id": "Z3TUd6BPWQJc",
        "colab_type": "text"
      },
      "cell_type": "markdown",
      "source": [
        "Another way to inspect word embeddings is to look at words that are closest to a specific target word. Closeness in a vector space can be calculated by using for example cosine similarity. In the function below, we calculate for a given word the top 10 closest words."
      ]
    },
    {
      "metadata": {
        "id": "tKepamr6R-vX",
        "colab_type": "code",
        "colab": {}
      },
      "cell_type": "code",
      "source": [
        "def find_closest_words(word):\n",
        "  if word not in item_to_id:\n",
        "    raise IOError('This item is not in the vocabulary')\n",
        "    \n",
        "  else:\n",
        "    id_w = item_to_id[word]\n",
        "    emb_w = emb_matrix[id_w]\n",
        "    # normalize the embedding vector unit length\n",
        "    norm_emb_w = emb_w / np.linalg.norm(emb_w)\n",
        "    \n",
        "    top_10 = {}\n",
        "    \n",
        "    # iterate over all words\n",
        "    for idx in range(emb_matrix.shape[0]):\n",
        "      # ignore the word itself\n",
        "      if idx != id_w:\n",
        "        \n",
        "        # normalize to unit length\n",
        "        norm_curr_w = emb_matrix[idx] / np.linalg.norm(emb_matrix[idx])\n",
        "        \n",
        "        # cosine similarity = dot product of normalized vectors\n",
        "        cos_sim = np.dot(norm_emb_w, norm_curr_w)\n",
        "        \n",
        "        # keep list of top 10 largest cos similarities\n",
        "        if len(top_10) >= 10:\n",
        "          for sim in top_10.iterkeys():\n",
        "            if cos_sim > sim:\n",
        "              \n",
        "              del top_10[sim]\n",
        "              top_10[cos_sim] = id_to_item[idx]\n",
        "              break\n",
        "        \n",
        "        else:\n",
        "          top_10[cos_sim] = id_to_item[idx]\n",
        "          \n",
        "        \n",
        "    print('Words with largest cosine similarity w.r.t. {0}'.format(word))\n",
        "    # sort the top 10 \n",
        "    for sim in sorted(top_10, key=float, reverse=True):\n",
        "      print('{0} ({1})'.format(top_10[sim], sim))\n",
        "    print()    "
      ],
      "execution_count": 0,
      "outputs": []
    },
    {
      "metadata": {
        "id": "YnvF6mD2XG3d",
        "colab_type": "text"
      },
      "cell_type": "markdown",
      "source": [
        "The function above can be called as follows:"
      ]
    },
    {
      "metadata": {
        "id": "nqy54srADglI",
        "colab_type": "code",
        "outputId": "0ad7d380-cee7-43d3-8802-2ebc0ddf68ef",
        "colab": {
          "base_uri": "https://localhost:8080/",
          "height": 434
        }
      },
      "cell_type": "code",
      "source": [
        "find_closest_words('man')\n",
        "find_closest_words('help')"
      ],
      "execution_count": 0,
      "outputs": [
        {
          "output_type": "stream",
          "text": [
            "Words with largest cosine similarity w.r.t. man\n",
            "driver (0.472417935726)\n",
            "woman (0.466761853397)\n",
            "guy (0.44758959671)\n",
            "artist (0.446655463004)\n",
            "boss (0.422550257997)\n",
            "adjuster (0.413584975713)\n",
            "women (0.408018946288)\n",
            "physician (0.402827617187)\n",
            "girl (0.40041753306)\n",
            "plaintiff (0.390891330297)\n",
            "\n",
            "Words with largest cosine similarity w.r.t. help\n",
            "helped (0.463482094767)\n",
            "to (0.409599993778)\n",
            "helps (0.393151368025)\n",
            "electronically (0.350164460943)\n",
            "laws (0.345904442477)\n",
            "corner (0.335736001691)\n",
            "trees (0.334595210396)\n",
            "jets (0.321880153751)\n",
            "helping (0.320950786276)\n",
            "shield (0.320640293606)\n",
            "\n"
          ],
          "name": "stdout"
        }
      ]
    },
    {
      "metadata": {
        "id": "a2IsL_fxXJ0f",
        "colab_type": "text"
      },
      "cell_type": "markdown",
      "source": [
        "Notice that we did not optimize our embedding space to contain any relationships - this is merely a by-product of training a neural language model. \n",
        "\n",
        "*   Which relationships do you see between the target word and its closest words?\n",
        "*   What kind of relationships do you see: syntactic and/or semantic?\n",
        "*   Do all closest words have clear relationships with the target word?\n",
        "\n"
      ]
    },
    {
      "metadata": {
        "id": "Rw6ZRVy8Xk08",
        "colab_type": "text"
      },
      "cell_type": "markdown",
      "source": [
        "Now try it for yourself. It is best to choose frequent words, because these will have better estimates. An error will be thrown if the word is not in the vocabulary. "
      ]
    },
    {
      "metadata": {
        "id": "dj5hLrA4XuTN",
        "colab_type": "code",
        "colab": {}
      },
      "cell_type": "code",
      "source": [
        "# find_closest_words('')"
      ],
      "execution_count": 0,
      "outputs": []
    },
    {
      "metadata": {
        "id": "PpoaAoNOX6qR",
        "colab_type": "text"
      },
      "cell_type": "markdown",
      "source": [
        "Notice that not all words will have sensible nearest neighbours, because the model is trained on a relatively small dataset, not all words will have large enough frequency and the model is not optimized to encode these relationships."
      ]
    },
    {
      "metadata": {
        "id": "9sYewPcLl3WG",
        "colab_type": "text"
      },
      "cell_type": "markdown",
      "source": [
        "## Testing networks"
      ]
    },
    {
      "metadata": {
        "id": "Nr8m1gNedwnp",
        "colab_type": "text"
      },
      "cell_type": "markdown",
      "source": [
        "Before going into the details of training a neural language model, we will first show how you can use a trained model. The output of the neural network is given to a **softmax** function, which converts the output values (also called logits) to values between 0 and 1. The sum of those values is 1, and thus the output of the softmax function can be treated as a probability distribution. "
      ]
    },
    {
      "metadata": {
        "id": "DeTdStZphMnH",
        "colab_type": "text"
      },
      "cell_type": "markdown",
      "source": [
        "We can then find the probability of a specific word  following the current input word by looking up its probability in the output vector of the softmax function. To find the most probable word, we look for the maximum probability. In practice, we usually work with **log probabilities**, because if we are computing the probability of a sequence of words, the multiplication of all probabilities easily becomes very small. Converting the probabilities to the log domain and summing them instead of multiplying alleviates this problem. The log probability of a sentence is then sum of the log probabilities of every word in the sentence, given their context."
      ]
    },
    {
      "metadata": {
        "id": "HQ0wAhRNmATx",
        "colab_type": "text"
      },
      "cell_type": "markdown",
      "source": [
        "Let's first train a network:"
      ]
    },
    {
      "metadata": {
        "id": "dQYIjUpZipvD",
        "colab_type": "code",
        "outputId": "379a5db5-2dec-4c4a-9f21-a56016d32b64",
        "colab": {
          "base_uri": "https://localhost:8080/",
          "height": 471
        }
      },
      "cell_type": "code",
      "source": [
        "# first make sure that we start training the model from scratch, by removing the models/ directory\n",
        "!rm -rf baseline\n",
        "\n",
        "# train the model\n",
        "run_lm(name='baseline', train_ids=train_ids, valid_ids=valid_ids, test_ids=test_ids)"
      ],
      "execution_count": 0,
      "outputs": [
        {
          "output_type": "stream",
          "text": [
            "WARNING:tensorflow:From <ipython-input-29-e0b317f28b56>:73: __init__ (from tensorflow.python.training.supervisor) is deprecated and will be removed in a future version.\n",
            "Instructions for updating:\n",
            "Please switch to tf.train.MonitoredTrainingSession\n",
            "INFO:tensorflow:Running local_init_op.\n",
            "INFO:tensorflow:Done running local_init_op.\n",
            "INFO:tensorflow:Starting standard services.\n",
            "INFO:tensorflow:Saving checkpoint to path baseline/model.ckpt\n",
            "INFO:tensorflow:Starting queue runners.\n",
            "Epoch 1\n",
            "Train perplexity: 1455.47111889\n",
            "Validation perplexity: 1027.12676012\n",
            "Epoch 2\n",
            "Train perplexity: 704.075517877\n",
            "Validation perplexity: 1290.00200014\n",
            "Epoch 3\n",
            "Train perplexity: 560.170174684\n",
            "Validation perplexity: 851.475167907\n",
            "Epoch 4\n",
            "Train perplexity: 465.316175759\n",
            "Validation perplexity: 847.824748726\n",
            "Epoch 5\n",
            "Train perplexity: 404.391975331\n",
            "Validation perplexity: 856.821292587\n",
            "Saved the model to  baseline/rnn.ckpt\n",
            "Test perplexity: 740.061534316\n"
          ],
          "name": "stdout"
        }
      ]
    },
    {
      "metadata": {
        "id": "WhOFC3M2kMnC",
        "colab_type": "text"
      },
      "cell_type": "markdown",
      "source": [
        "During training, not the log probabilities are printed but the **perplexity** of the model. Perplexity is commonly used to measure the quality of a language model, and corresponds to $$e^{\\frac{1}{N}~ln~P(x_1~\\ldots~x_N)}$$ You see that it is closely related to the log probability. The lower the perplexity, the better. Notice that in the example above the perplexities are quite high because we are training a small model on a small dataset."
      ]
    },
    {
      "metadata": {
        "id": "E1HZscovkEMg",
        "colab_type": "text"
      },
      "cell_type": "markdown",
      "source": [
        "To test the model we define a function that prints the log probability of a sentence. The sentence is converted to indices and then given to the model:"
      ]
    },
    {
      "metadata": {
        "id": "TaZ-Wle_C4Pk",
        "colab_type": "code",
        "colab": {}
      },
      "cell_type": "code",
      "source": [
        "def get_log_prob(test_sent):\n",
        "  \n",
        "  # convert words to indices\n",
        "  test_idx = []\n",
        "  for w in test_sent.split(' '):\n",
        "    if w not in item_to_id:\n",
        "      raise IOError(\"{0} is not part of the vocabulary\".format(w))\n",
        "    else:\n",
        "      test_idx.append(item_to_id[w])\n",
        "\n",
        "  # feed sentence to the model\n",
        "  run_lm(name='baseline',\n",
        "                test_ids=test_idx,\n",
        "                test_log_prob=True)"
      ],
      "execution_count": 0,
      "outputs": []
    },
    {
      "metadata": {
        "id": "4sp8fOR8mPZ2",
        "colab_type": "text"
      },
      "cell_type": "markdown",
      "source": [
        "To get the log probability of a specific sentence, use the following commands:"
      ]
    },
    {
      "metadata": {
        "id": "XMoIfVfSZm1D",
        "colab_type": "code",
        "outputId": "ec4a8c02-c3cd-4b75-8387-02a8a1ccf5c5",
        "colab": {
          "base_uri": "https://localhost:8080/",
          "height": 260
        }
      },
      "cell_type": "code",
      "source": [
        "get_log_prob(test_sent='this is a test <eos>')\n",
        "get_log_prob(test_sent='test a a a <eos>')"
      ],
      "execution_count": 0,
      "outputs": [
        {
          "output_type": "stream",
          "text": [
            "INFO:tensorflow:Restoring parameters from baseline/rnn.ckpt\n",
            "INFO:tensorflow:Running local_init_op.\n",
            "INFO:tensorflow:Done running local_init_op.\n",
            "INFO:tensorflow:Starting standard services.\n",
            "INFO:tensorflow:Starting queue runners.\n",
            "INFO:tensorflow:Saving checkpoint to path baseline/model.ckpt\n",
            "Log probability: -19.7628390789\n",
            "INFO:tensorflow:Restoring parameters from baseline/model.ckpt\n",
            "INFO:tensorflow:Running local_init_op.\n",
            "INFO:tensorflow:Done running local_init_op.\n",
            "INFO:tensorflow:Starting standard services.\n",
            "INFO:tensorflow:Starting queue runners.\n",
            "INFO:tensorflow:Saving checkpoint to path baseline/model.ckpt\n",
            "Log probability: -24.8727293015\n"
          ],
          "name": "stdout"
        }
      ]
    },
    {
      "metadata": {
        "id": "Cvta5ZrkeYlH",
        "colab_type": "text"
      },
      "cell_type": "markdown",
      "source": [
        "\n",
        "\n",
        "*   Which sentence has the largest probability? Is this what you expected?\n",
        "*   What would happen if you compare the probability of two sentences with an unequal number of words? Remember that the probability of a sentence = product of the probabilities of each word = sum of the log probabilities of each word.\n",
        "\n"
      ]
    },
    {
      "metadata": {
        "id": "dvXDxzgFmcQv",
        "colab_type": "text"
      },
      "cell_type": "markdown",
      "source": [
        "You can test your own sentences here:"
      ]
    },
    {
      "metadata": {
        "id": "pdmBlzRwmi94",
        "colab_type": "code",
        "colab": {}
      },
      "cell_type": "code",
      "source": [
        "# get_log_prob('your own test sentence')"
      ],
      "execution_count": 0,
      "outputs": []
    },
    {
      "metadata": {
        "id": "IbEp9tdFKXA4",
        "colab_type": "text"
      },
      "cell_type": "markdown",
      "source": [
        "## Training networks"
      ]
    },
    {
      "metadata": {
        "id": "a61RdtDCKhmp",
        "colab_type": "text"
      },
      "cell_type": "markdown",
      "source": [
        "Training neural networks requires a lot of hyperparameter tuning. The hyperparameters of a neural network are for example the type of cell, its size, the method that is used for updating its parameters (also called 'optimizer' ), the type and strength of regularization, ... . All these hyperparameters have to be chosen before the network can built, trained and tested, and they all have to some extent an influence on the  performance of the model."
      ]
    },
    {
      "metadata": {
        "id": "BVTDtTYYw77W",
        "colab_type": "text"
      },
      "cell_type": "markdown",
      "source": [
        "The default arguments for our network are the following:\n",
        "\n",
        "\n",
        "* cell: 'LSTM'\n",
        "* optimizer: 'Adam'\n",
        "* lr: 0.01\n",
        "* embedding_size: 64\n",
        "* hidden_size: 128\n",
        "* dropout_rate: 0.5\n",
        "\n",
        "We will explain each of these arguments in the following sections.\n",
        "\n"
      ]
    },
    {
      "metadata": {
        "id": "6ZaHDz1Bsqnt",
        "colab_type": "text"
      },
      "cell_type": "markdown",
      "source": [
        "### Type of cell"
      ]
    },
    {
      "metadata": {
        "id": "j3bN2Mvmo_8M",
        "colab_type": "text"
      },
      "cell_type": "markdown",
      "source": [
        "Recurrent neural networks are neural networks that take as input a combination of the standard input and the hidden state of the previous time step. The simplest form of recurrent neural network, often called **vanilla recurrent neural network**, looks like this (picture taken from the Chris Olah's [blog post](http://colah.github.io/posts/2015-08-Understanding-LSTMs/)):"
      ]
    },
    {
      "metadata": {
        "id": "swms9ZXrq1X0",
        "colab_type": "text"
      },
      "cell_type": "markdown",
      "source": [
        "![alt text](http://colah.github.io/posts/2015-08-Understanding-LSTMs/img/LSTM3-SimpleRNN.png)"
      ]
    },
    {
      "metadata": {
        "id": "DIPmg4vwq3l5",
        "colab_type": "text"
      },
      "cell_type": "markdown",
      "source": [
        "The green blocks in the picture represent the neural network. You see that the inputs to the neural network are the current input word $\\mathbf{x}_t$ (this is the word embedding as discussed before) and the state of the previous time step $\\mathbf{h}_{t-1}$. The network multiplies both inputs with weights and applies a non-linearity, in this case $\\tanh$. "
      ]
    },
    {
      "metadata": {
        "id": "nd57sRKcsEKY",
        "colab_type": "text"
      },
      "cell_type": "markdown",
      "source": [
        "The network that we trained in the previous section is not a vanilla recurrent neural network, but a **long short-term memory (LSTM)** network, which is a more powerful variant. If you're interested in knowing how the LSTM works, the blog post mentioned above is a great introduction."
      ]
    },
    {
      "metadata": {
        "id": "42u843fb9qq2",
        "colab_type": "text"
      },
      "cell_type": "markdown",
      "source": [
        "For comparison, let's now train a simple RNN instead of an LSTM:"
      ]
    },
    {
      "metadata": {
        "id": "KRUa0rDYc7SC",
        "colab_type": "code",
        "outputId": "0ffdddc0-09f5-4be4-81fb-0c0c670fa9b5",
        "colab": {
          "base_uri": "https://localhost:8080/",
          "height": 471
        }
      },
      "cell_type": "code",
      "source": [
        "run_lm(name='RNN', cell='RNN', train_ids=train_ids, valid_ids=valid_ids, test_ids=test_ids)"
      ],
      "execution_count": 0,
      "outputs": [
        {
          "output_type": "stream",
          "text": [
            "WARNING:tensorflow:From <ipython-input-4-cc3eaaaef924>:71: __init__ (from tensorflow.python.ops.rnn_cell_impl) is deprecated and will be removed in a future version.\n",
            "Instructions for updating:\n",
            "This class is equivalent as tf.keras.layers.SimpleRNNCell, and will be replaced by that in Tensorflow 2.0.\n",
            "INFO:tensorflow:Running local_init_op.\n",
            "INFO:tensorflow:Done running local_init_op.\n",
            "INFO:tensorflow:Starting standard services.\n",
            "INFO:tensorflow:Saving checkpoint to path RNN/model.ckpt\n",
            "INFO:tensorflow:Starting queue runners.\n",
            "Epoch 1\n",
            "Train perplexity: 2364.69203851\n",
            "Validation perplexity: 1222.99611609\n",
            "Epoch 2\n",
            "Train perplexity: 849.249732307\n",
            "Validation perplexity: 1336.61490683\n",
            "Epoch 3\n",
            "Train perplexity: 744.066620528\n",
            "Validation perplexity: 1389.19858154\n",
            "Epoch 4\n",
            "Train perplexity: 657.9398041\n",
            "Validation perplexity: 1337.80487991\n",
            "Epoch 5\n",
            "Train perplexity: 609.659394358\n",
            "Validation perplexity: 1470.17517718\n",
            "Saved the model to  RNN/rnn.ckpt\n",
            "Test perplexity: 1185.73019903\n"
          ],
          "name": "stdout"
        }
      ]
    },
    {
      "metadata": {
        "id": "Wr4JKWqNs7c_",
        "colab_type": "text"
      },
      "cell_type": "markdown",
      "source": [
        "Notice that the simple RNN performs much worse than the LSTM (the perplexities are much higher).\n",
        "\n",
        "*   How does the simple RNN compare with the LSTM that you trained in the previous section? Are the perplexities lower?\n",
        "*   Look at the evolution of the train perplexities and compare it with the evolution of the validation perplexities. Does a lower train perplexity automatically correspond to a lower validation perplexity? If this is not the case, why do you think this happens?\n",
        "\n"
      ]
    },
    {
      "metadata": {
        "id": "zI30kaseLmVT",
        "colab_type": "text"
      },
      "cell_type": "markdown",
      "source": [
        "### Optimizer"
      ]
    },
    {
      "metadata": {
        "id": "osTYguHZprBE",
        "colab_type": "text"
      },
      "cell_type": "markdown",
      "source": [
        "Another important hyperparameter for neural networks is the type of optimizer. Training a neural network implies that you give an input to the network, calculate the output and the difference with the expected output, which is equal to the **error** or **loss**. To update the parameters based on the error, the **gradient** of the loss with respect to the parameters is calculated. The gradient tells you in which direction you need to move to maximize the loss. In our case, we want to minimize the loss so we will move in the opposite direction (negative gradient). The optimizer then decides how this gradient is used to change the parameters. "
      ]
    },
    {
      "metadata": {
        "id": "gpv1uOXhufG1",
        "colab_type": "text"
      },
      "cell_type": "markdown",
      "source": [
        "The simplest option is to subtract (a scaled version of) the gradient from the parameters. This optimizer is called **stochastic gradient descent**. In the experiments in the previous section, we used another, more complicated, optimizer called **Adam**."
      ]
    },
    {
      "metadata": {
        "id": "FWJaqfh7vz8R",
        "colab_type": "text"
      },
      "cell_type": "markdown",
      "source": [
        "Let's now train a network with stochastic gradient descent instead of Adam:"
      ]
    },
    {
      "metadata": {
        "id": "dWILisHi1xHp",
        "colab_type": "code",
        "outputId": "812a8453-5c60-40c5-b48b-e0a339bdee42",
        "colab": {
          "base_uri": "https://localhost:8080/",
          "height": 399
        }
      },
      "cell_type": "code",
      "source": [
        "run_lm(name='SGD', optimizer='SGD', train_ids=train_ids, valid_ids=valid_ids, test_ids=test_ids)"
      ],
      "execution_count": 0,
      "outputs": [
        {
          "output_type": "stream",
          "text": [
            "INFO:tensorflow:Running local_init_op.\n",
            "INFO:tensorflow:Done running local_init_op.\n",
            "INFO:tensorflow:Starting standard services.\n",
            "INFO:tensorflow:Starting queue runners.\n",
            "INFO:tensorflow:Saving checkpoint to path SGD/model.ckpt\n",
            "Epoch 1\n",
            "Train perplexity: 9180.55422437\n",
            "Validation perplexity: 8166.46473993\n",
            "Epoch 2\n",
            "Train perplexity: 6228.1793825\n",
            "Validation perplexity: 4225.31975983\n",
            "Epoch 3\n",
            "Train perplexity: 2887.18339618\n",
            "Validation perplexity: 2088.03051321\n",
            "Epoch 4\n",
            "Train perplexity: 1750.78211763\n",
            "Validation perplexity: 1547.72971098\n",
            "Epoch 5\n",
            "Train perplexity: 1383.64458163\n",
            "Validation perplexity: 1296.45455176\n",
            "Saved the model to  SGD/rnn.ckpt\n",
            "Test perplexity: 1317.23809367\n"
          ],
          "name": "stdout"
        }
      ]
    },
    {
      "metadata": {
        "id": "z_jljDenfM7r",
        "colab_type": "text"
      },
      "cell_type": "markdown",
      "source": [
        "\n",
        "\n",
        "*   Are the perplexities better than the baseline model?"
      ]
    },
    {
      "metadata": {
        "id": "8wKt7L9aPLfs",
        "colab_type": "text"
      },
      "cell_type": "markdown",
      "source": [
        "### Learning rate"
      ]
    },
    {
      "metadata": {
        "id": "EXDniSW54NfB",
        "colab_type": "text"
      },
      "cell_type": "markdown",
      "source": [
        "Judging from the perplexities above, it seems like the Adam optimizer is the best choice for training our network. However, the interplay between the different hyperparameters of a neural network is complicated, and it is very well possible that a specific optimizer needs a different learning rate. \n",
        "Let's try SGD with a learning rate of 1 instead of the default 0.01:"
      ]
    },
    {
      "metadata": {
        "id": "pPl3KiSs5kQk",
        "colab_type": "code",
        "outputId": "33b0b6a3-77d6-4fe5-b70b-b236e9daacc5",
        "colab": {
          "base_uri": "https://localhost:8080/",
          "height": 399
        }
      },
      "cell_type": "code",
      "source": [
        "run_lm(name='SGD_1', optimizer='SGD', lr=1.0, train_ids=train_ids, valid_ids=valid_ids, test_ids=test_ids)"
      ],
      "execution_count": 0,
      "outputs": [
        {
          "output_type": "stream",
          "text": [
            "INFO:tensorflow:Running local_init_op.\n",
            "INFO:tensorflow:Done running local_init_op.\n",
            "INFO:tensorflow:Starting standard services.\n",
            "INFO:tensorflow:Starting queue runners.\n",
            "Epoch 1\n",
            "INFO:tensorflow:Saving checkpoint to path SGD_1/model.ckpt\n",
            "Train perplexity: 2567.86778209\n",
            "Validation perplexity: 1298.50340242\n",
            "Epoch 2\n",
            "Train perplexity: 1135.15623648\n",
            "Validation perplexity: 1000.63395997\n",
            "Epoch 3\n",
            "Train perplexity: 924.120475531\n",
            "Validation perplexity: 833.298030109\n",
            "Epoch 4\n",
            "Train perplexity: 776.529975947\n",
            "Validation perplexity: 734.218210846\n",
            "Epoch 5\n",
            "Train perplexity: 653.31973554\n",
            "Validation perplexity: 750.161268444\n",
            "Saved the model to  SGD_1/rnn.ckpt\n",
            "Test perplexity: 712.883834901\n"
          ],
          "name": "stdout"
        }
      ]
    },
    {
      "metadata": {
        "id": "WcHT9i43fdxe",
        "colab_type": "text"
      },
      "cell_type": "markdown",
      "source": [
        "\n",
        "\n",
        "*   Does using a larger learning rate improve results for SGD?\n",
        "*   Is this result better than for the model optimized with Adam?\n",
        "\n"
      ]
    },
    {
      "metadata": {
        "id": "gcNjIbzgDUuk",
        "colab_type": "text"
      },
      "cell_type": "markdown",
      "source": [
        "Maybe using a larger learning rate helps in general? Let's try the same learning rate in combination with Adam:"
      ]
    },
    {
      "metadata": {
        "id": "lSH6WKIdxlAE",
        "colab_type": "code",
        "outputId": "4c8a4e40-0745-4d84-da58-7b7ec2809edb",
        "colab": {
          "base_uri": "https://localhost:8080/",
          "height": 399
        }
      },
      "cell_type": "code",
      "source": [
        "run_lm(name='Adam_1', lr=1.0, train_ids=train_ids, valid_ids=valid_ids, test_ids=test_ids)"
      ],
      "execution_count": 0,
      "outputs": [
        {
          "output_type": "stream",
          "text": [
            "INFO:tensorflow:Running local_init_op.\n",
            "INFO:tensorflow:Done running local_init_op.\n",
            "INFO:tensorflow:Starting standard services.\n",
            "INFO:tensorflow:Saving checkpoint to path Adam_1/model.ckpt\n",
            "INFO:tensorflow:Starting queue runners.\n",
            "Epoch 1\n",
            "Train perplexity: 1.84682483802e+32\n",
            "Validation perplexity: 3.7944516351e+38\n",
            "Epoch 2\n",
            "Train perplexity: 9.74797980989e+32\n",
            "Validation perplexity: 1.51390132532e+33\n",
            "Epoch 3\n",
            "Train perplexity: 4.67215085192e+34\n",
            "Validation perplexity: 4.03068627174e+36\n",
            "Epoch 4\n",
            "Train perplexity: 1.96186139553e+37\n",
            "Validation perplexity: 8.81369390325e+37\n",
            "Epoch 5\n",
            "Train perplexity: 1.05058210657e+37\n",
            "Validation perplexity: 1.57416001856e+36\n",
            "Saved the model to  Adam_1/rnn.ckpt\n",
            "Test perplexity: 1.38115466103e+36\n"
          ],
          "name": "stdout"
        }
      ]
    },
    {
      "metadata": {
        "id": "B4rCiwgNftoq",
        "colab_type": "text"
      },
      "cell_type": "markdown",
      "source": [
        "\n",
        "\n",
        "*   Does using a larger learning rate for Adam work better?\n",
        "*   What can you conclude about the interplay between optimizer and learning rate, based on these experiments?\n",
        "\n"
      ]
    },
    {
      "metadata": {
        "id": "-XqENWWbyCdW",
        "colab_type": "text"
      },
      "cell_type": "markdown",
      "source": [
        "Let's now reduce the learning rate for Adam, from 0.01 to 0.001:"
      ]
    },
    {
      "metadata": {
        "id": "UyUTwGvF7Iyy",
        "colab_type": "code",
        "outputId": "99f04499-e6a5-4c2e-f478-b544f3bf683d",
        "colab": {
          "base_uri": "https://localhost:8080/",
          "height": 391
        }
      },
      "cell_type": "code",
      "source": [
        "run_lm(name='Adam_0.001', lr=0.001, train_ids=train_ids, valid_ids=valid_ids, test_ids=test_ids)"
      ],
      "execution_count": 0,
      "outputs": [
        {
          "output_type": "stream",
          "text": [
            "INFO:tensorflow:Running local_init_op.\n",
            "INFO:tensorflow:Done running local_init_op.\n",
            "INFO:tensorflow:Starting standard services.\n",
            "INFO:tensorflow:Saving checkpoint to path Adam_0.001/model.ckpt\n",
            "INFO:tensorflow:Starting queue runners.\n",
            "Epoch 1\n",
            "Train perplexity: 3569.66542718\n",
            "Validation perplexity: 978.966751897\n",
            "Epoch 2\n",
            "Train perplexity: 697.015506413\n",
            "Validation perplexity: 947.301051956\n",
            "Epoch 3\n",
            "Train perplexity: 661.234727646\n",
            "Validation perplexity: 956.275353676\n",
            "Epoch 4\n",
            "Train perplexity: 645.161367668\n",
            "Validation perplexity: 956.699421319\n",
            "Epoch 5\n",
            "Train perplexity: 673.492560025\n",
            "Validation perplexity: 953.859007018\n",
            "('Saved the model to ', 'Adam_0.001/rnn.ckpt')\n",
            "Test perplexity: 837.943287268\n"
          ],
          "name": "stdout"
        }
      ]
    },
    {
      "metadata": {
        "id": "nNkyWjQNCjja",
        "colab_type": "text"
      },
      "cell_type": "markdown",
      "source": [
        "\n",
        "\n",
        "*   Is Adam with a learning rate of 0.001 better than with a learning rate of 0.01? \n",
        "\n",
        "\n"
      ]
    },
    {
      "metadata": {
        "id": "MGAY_hhfNLj5",
        "colab_type": "text"
      },
      "cell_type": "markdown",
      "source": [
        "### Size of the embedding"
      ]
    },
    {
      "metadata": {
        "id": "jZ87PmaPJlib",
        "colab_type": "text"
      },
      "cell_type": "markdown",
      "source": [
        "Let's now take a look at the influence of the size of the LSTM on its performance. By default, we train a model with embeddings of size 64 and a hidden layer of size 128. Let's see what happens if we reduce the size of the embedding:"
      ]
    },
    {
      "metadata": {
        "id": "q2d_Kx8zJGk-",
        "colab_type": "code",
        "outputId": "431ad12a-8644-4c83-b3bc-8c28ecc629df",
        "colab": {
          "base_uri": "https://localhost:8080/",
          "height": 391
        }
      },
      "cell_type": "code",
      "source": [
        "run_lm(name='emb16', embedding_size=16, train_ids=train_ids, valid_ids=valid_ids, test_ids=test_ids)"
      ],
      "execution_count": 0,
      "outputs": [
        {
          "output_type": "stream",
          "text": [
            "INFO:tensorflow:Running local_init_op.\n",
            "INFO:tensorflow:Done running local_init_op.\n",
            "INFO:tensorflow:Starting standard services.\n",
            "INFO:tensorflow:Saving checkpoint to path emb16/model.ckpt\n",
            "INFO:tensorflow:Starting queue runners.\n",
            "Epoch 1\n",
            "Train perplexity: 1452.31607755\n",
            "Validation perplexity: 980.647685402\n",
            "Epoch 2\n",
            "Train perplexity: 706.728881564\n",
            "Validation perplexity: 1290.7853409\n",
            "Epoch 3\n",
            "Train perplexity: 606.009862433\n",
            "Validation perplexity: 1130.55933214\n",
            "Epoch 4\n",
            "Train perplexity: 552.040121515\n",
            "Validation perplexity: 870.350705537\n",
            "Epoch 5\n",
            "Train perplexity: 482.286987845\n",
            "Validation perplexity: 902.309769022\n",
            "('Saved the model to ', 'emb16/rnn.ckpt')\n",
            "Test perplexity: 777.968927924\n"
          ],
          "name": "stdout"
        }
      ]
    },
    {
      "metadata": {
        "id": "jJ98c5mGgLJR",
        "colab_type": "text"
      },
      "cell_type": "markdown",
      "source": [
        "\n",
        "\n",
        "*   Is using a smaller embedding better or worse? Is there a large difference?\n",
        "\n"
      ]
    },
    {
      "metadata": {
        "id": "eHf3oNWgzEyG",
        "colab_type": "text"
      },
      "cell_type": "markdown",
      "source": [
        "What about a larger embedding size?"
      ]
    },
    {
      "metadata": {
        "id": "3D6D-G01zIN5",
        "colab_type": "code",
        "outputId": "82806f2d-473a-49cc-e98f-360aacb8f66e",
        "colab": {
          "base_uri": "https://localhost:8080/",
          "height": 391
        }
      },
      "cell_type": "code",
      "source": [
        "run_lm(name='emb128', embedding_size=128, train_ids=train_ids, valid_ids=valid_ids, test_ids=test_ids)"
      ],
      "execution_count": 0,
      "outputs": [
        {
          "output_type": "stream",
          "text": [
            "INFO:tensorflow:Running local_init_op.\n",
            "INFO:tensorflow:Done running local_init_op.\n",
            "INFO:tensorflow:Starting standard services.\n",
            "INFO:tensorflow:Saving checkpoint to path emb128/model.ckpt\n",
            "INFO:tensorflow:Starting queue runners.\n",
            "Epoch 1\n",
            "Train perplexity: 1504.28973842\n",
            "Validation perplexity: 1031.59011262\n",
            "Epoch 2\n",
            "Train perplexity: 692.559943784\n",
            "Validation perplexity: 867.1853053\n",
            "Epoch 3\n",
            "Train perplexity: 537.566607546\n",
            "Validation perplexity: 848.980220534\n",
            "Epoch 4\n",
            "Train perplexity: 442.985098957\n",
            "Validation perplexity: 832.782362787\n",
            "Epoch 5\n",
            "Train perplexity: 379.935115053\n",
            "Validation perplexity: 878.801423174\n",
            "('Saved the model to ', 'emb128/rnn.ckpt')\n",
            "Test perplexity: 736.466715072\n"
          ],
          "name": "stdout"
        }
      ]
    },
    {
      "metadata": {
        "id": "WSpgrmJa7-8L",
        "colab_type": "text"
      },
      "cell_type": "markdown",
      "source": [
        "*   Is using a larger embedding better or worse? Is there a large difference?\n",
        "*   The size of the vocabulary of our language model is 10.000, which is quite small. If we trained a language model with a larger vocabulary size (e.g. 100.000), what do you expect with respect to the relative differences between embedding sizes?"
      ]
    },
    {
      "metadata": {
        "id": "8ranM0ERNIta",
        "colab_type": "text"
      },
      "cell_type": "markdown",
      "source": [
        "### Size of the hidden layer"
      ]
    },
    {
      "metadata": {
        "id": "n9huic9_8Het",
        "colab_type": "text"
      },
      "cell_type": "markdown",
      "source": [
        "We can also change the size of the hidden layer/the number of neurons in the network. In principle you also choose to increase the number of layers, but this is mainly useful for large datasets."
      ]
    },
    {
      "metadata": {
        "id": "PF81eBTK8b5B",
        "colab_type": "text"
      },
      "cell_type": "markdown",
      "source": [
        "Let's first test a smaller hidden layer:"
      ]
    },
    {
      "metadata": {
        "id": "vbkbvBaWLVaj",
        "colab_type": "code",
        "outputId": "d3d271e8-f0ca-4491-c613-95ffa373fcb1",
        "colab": {
          "base_uri": "https://localhost:8080/",
          "height": 391
        }
      },
      "cell_type": "code",
      "source": [
        "run_lm(name='hidden64', hidden_size=64, train_ids=train_ids, valid_ids=valid_ids, test_ids=test_ids)"
      ],
      "execution_count": 0,
      "outputs": [
        {
          "output_type": "stream",
          "text": [
            "INFO:tensorflow:Running local_init_op.\n",
            "INFO:tensorflow:Done running local_init_op.\n",
            "INFO:tensorflow:Starting standard services.\n",
            "INFO:tensorflow:Saving checkpoint to path hidden64/model.ckpt\n",
            "INFO:tensorflow:Starting queue runners.\n",
            "Epoch 1\n",
            "Train perplexity: 1677.70257795\n",
            "Validation perplexity: 1099.17567984\n",
            "Epoch 2\n",
            "Train perplexity: 740.42272477\n",
            "Validation perplexity: 928.991178583\n",
            "Epoch 3\n",
            "Train perplexity: 613.996031245\n",
            "Validation perplexity: 909.624262789\n",
            "Epoch 4\n",
            "Train perplexity: 514.14685331\n",
            "Validation perplexity: 870.480120328\n",
            "Epoch 5\n",
            "Train perplexity: 445.795121091\n",
            "Validation perplexity: 881.397887168\n",
            "('Saved the model to ', 'hidden64/rnn.ckpt')\n",
            "Test perplexity: 749.518940256\n"
          ],
          "name": "stdout"
        }
      ]
    },
    {
      "metadata": {
        "id": "YjSUxuNm8jVA",
        "colab_type": "text"
      },
      "cell_type": "markdown",
      "source": [
        "*   Is using a smaller hidden layer better or worse? Is there a large difference?\n",
        "\n"
      ]
    },
    {
      "metadata": {
        "id": "FOhM057eh8iH",
        "colab_type": "text"
      },
      "cell_type": "markdown",
      "source": [
        "Let's now train a model with a larger hidden layer:"
      ]
    },
    {
      "metadata": {
        "id": "1XrNmCN88ewu",
        "colab_type": "code",
        "outputId": "e6ef1c9c-256c-40ba-d891-0cf66fd7bc78",
        "colab": {
          "base_uri": "https://localhost:8080/",
          "height": 391
        }
      },
      "cell_type": "code",
      "source": [
        "run_lm(name='hidden256', hidden_size=256, train_ids=train_ids, valid_ids=valid_ids, test_ids=test_ids)"
      ],
      "execution_count": 0,
      "outputs": [
        {
          "output_type": "stream",
          "text": [
            "INFO:tensorflow:Running local_init_op.\n",
            "INFO:tensorflow:Done running local_init_op.\n",
            "INFO:tensorflow:Starting standard services.\n",
            "INFO:tensorflow:Starting queue runners.\n",
            "Epoch 1\n",
            "INFO:tensorflow:Saving checkpoint to path hidden256/model.ckpt\n",
            "Train perplexity: 1365.41560209\n",
            "Validation perplexity: 1013.17449997\n",
            "Epoch 2\n",
            "Train perplexity: 631.971166415\n",
            "Validation perplexity: 2357.3619663\n",
            "Epoch 3\n",
            "Train perplexity: 532.601764739\n",
            "Validation perplexity: 902.201833147\n",
            "Epoch 4\n",
            "Train perplexity: 459.805993293\n",
            "Validation perplexity: 862.397190502\n",
            "Epoch 5\n",
            "Train perplexity: 395.757067641\n",
            "Validation perplexity: 1043.19493401\n",
            "('Saved the model to ', 'hidden256/rnn.ckpt')\n",
            "Test perplexity: 736.215451823\n"
          ],
          "name": "stdout"
        }
      ]
    },
    {
      "metadata": {
        "id": "CxoqYlUv9FUE",
        "colab_type": "text"
      },
      "cell_type": "markdown",
      "source": [
        "*   Is using a smaller hidden layer better or worse? Is there a large difference?\n"
      ]
    },
    {
      "metadata": {
        "id": "YoxB_IURiCE_",
        "colab_type": "text"
      },
      "cell_type": "markdown",
      "source": [
        "Let's now train a baseline language model (with a hidden size of 128) on the full Penn TreeBank data set by using {train/valid/test}_ids_large:\n"
      ]
    },
    {
      "metadata": {
        "id": "RrmToOiiLlj0",
        "colab_type": "code",
        "outputId": "de7ba5d5-4016-4149-dc69-d941242af69c",
        "colab": {
          "base_uri": "https://localhost:8080/",
          "height": 391
        }
      },
      "cell_type": "code",
      "source": [
        "run_lm(name='large', train_ids=train_ids_large, valid_ids=valid_ids_large, test_ids=test_ids_large)"
      ],
      "execution_count": 0,
      "outputs": [
        {
          "output_type": "stream",
          "text": [
            "INFO:tensorflow:Running local_init_op.\n",
            "INFO:tensorflow:Done running local_init_op.\n",
            "INFO:tensorflow:Starting standard services.\n",
            "INFO:tensorflow:Saving checkpoint to path large/model.ckpt\n",
            "INFO:tensorflow:Starting queue runners.\n",
            "Epoch 1\n",
            "Train perplexity: 448.133119457\n",
            "Validation perplexity: 309.512903591\n",
            "Epoch 2\n",
            "Train perplexity: 264.139868696\n",
            "Validation perplexity: 260.352211332\n",
            "Epoch 3\n",
            "Train perplexity: 221.642533035\n",
            "Validation perplexity: 242.831497651\n",
            "Epoch 4\n",
            "Train perplexity: 202.418798594\n",
            "Validation perplexity: 230.736476619\n",
            "Epoch 5\n",
            "Train perplexity: 190.955553896\n",
            "Validation perplexity: 224.564248629\n",
            "('Saved the model to ', 'large/rnn.ckpt')\n",
            "Test perplexity: 209.699917701\n"
          ],
          "name": "stdout"
        }
      ]
    },
    {
      "metadata": {
        "id": "dqMsm4Uyils8",
        "colab_type": "text"
      },
      "cell_type": "markdown",
      "source": [
        "\n",
        "\n",
        "*   Can you directly compare the perplexity of this model with the perplexity of the model trained on the small dataset? Remember how perplexity is calculated. Are the validation and test sets the same for the small and large dataset?\n",
        "\n"
      ]
    },
    {
      "metadata": {
        "id": "kZdunTOcMEAL",
        "colab_type": "text"
      },
      "cell_type": "markdown",
      "source": [
        "Let's now train a model with a larger hidden size:"
      ]
    },
    {
      "metadata": {
        "id": "UqZOMze8AMIJ",
        "colab_type": "code",
        "outputId": "a476198d-b475-45d1-b087-265e924fb823",
        "colab": {
          "base_uri": "https://localhost:8080/",
          "height": 391
        }
      },
      "cell_type": "code",
      "source": [
        "run_lm(name='large_hidden256', hidden_size=256, \n",
        "              train_ids=train_ids_large, valid_ids=valid_ids_large, test_ids=test_ids_large)"
      ],
      "execution_count": 0,
      "outputs": [
        {
          "output_type": "stream",
          "text": [
            "INFO:tensorflow:Running local_init_op.\n",
            "INFO:tensorflow:Done running local_init_op.\n",
            "INFO:tensorflow:Starting standard services.\n",
            "INFO:tensorflow:Starting queue runners.\n",
            "Epoch 1INFO:tensorflow:Saving checkpoint to path large_hidden256/model.ckpt\n",
            "\n",
            "Train perplexity: 397.047016231\n",
            "Validation perplexity: 273.377945013\n",
            "Epoch 2\n",
            "Train perplexity: 247.25939606\n",
            "Validation perplexity: 228.659513446\n",
            "Epoch 3\n",
            "Train perplexity: 190.373732934\n",
            "Validation perplexity: 210.419504074\n",
            "Epoch 4\n",
            "Train perplexity: 171.263610246\n",
            "Validation perplexity: 203.691183703\n",
            "Epoch 5\n",
            "Train perplexity: 159.386447743\n",
            "Validation perplexity: 199.9164812\n",
            "('Saved the model to ', 'large_hidden256/rnn.ckpt')\n",
            "Test perplexity: 188.050517488\n"
          ],
          "name": "stdout"
        }
      ]
    },
    {
      "metadata": {
        "id": "1uyXYwyiNgfO",
        "colab_type": "text"
      },
      "cell_type": "markdown",
      "source": [
        "\n",
        "\n",
        "*   Do you see improvement by using a larger hidden size?\n",
        "*   Is this improvement relatively larger or smaller than the improvement you observed for the small data set?\n",
        "\n"
      ]
    },
    {
      "metadata": {
        "id": "v1Ya3bs084Rb",
        "colab_type": "text"
      },
      "cell_type": "markdown",
      "source": [
        "### Try it yourself"
      ]
    },
    {
      "metadata": {
        "id": "KnlnlYWSMOA0",
        "colab_type": "text"
      },
      "cell_type": "markdown",
      "source": [
        "Now try some different values for the hyperparameters that we discussed (cell, optimizer, lr, embedding_size, hidden_size):"
      ]
    },
    {
      "metadata": {
        "id": "K_uSCdPgMNXb",
        "colab_type": "code",
        "colab": {}
      },
      "cell_type": "code",
      "source": [
        "# run_lm(name='my_own_model', cell='LSTM', optimizer='Adam', lr='0.01', embedding_size='64', hidden_size='128', \n",
        "#        train_ids=train_ids, valid_ids=valid_ids, test_ids=test_ids)"
      ],
      "execution_count": 0,
      "outputs": []
    },
    {
      "metadata": {
        "id": "hJ4EmqovMa7x",
        "colab_type": "text"
      },
      "cell_type": "markdown",
      "source": [
        "The hyperparameters that we discussed here are only a small subset, there exist many more that can have an influence on the performance of the neural network. Another important class of hyperparameters is related to **regularization**. Since neural networks contain many parameters, they can easily start **overfitting**, which means that the network starts memorizing the training set and cannot generalize well to new data sets anymore. Two important methods are dropout (setting a proportion of the neurons to 0 during training) and early stopping (stop training if the performance on the validation set decreases), but there exist many more."
      ]
    },
    {
      "metadata": {
        "id": "UuMMhuCukTDy",
        "colab_type": "text"
      },
      "cell_type": "markdown",
      "source": [
        "\n",
        "\n",
        "*   Have you seen examples of overfitting in the networks that we trained in this section? \n",
        "\n",
        "\n"
      ]
    }
  ]
}