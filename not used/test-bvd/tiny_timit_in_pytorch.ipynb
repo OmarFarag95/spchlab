<<<<<<< HEAD
{"nbformat":4,"nbformat_minor":2,"metadata":{"kernelspec":{"display_name":"Python 3","language":"python","name":"python3"},"language_info":{"codemirror_mode":{"name":"ipython","version":3},"file_extension":".py","mimetype":"text/x-python","name":"python","nbconvert_exporter":"python","pygments_lexer":"ipython3","version":"3.6.7"},"colab":{"name":"tiny_timit_in_pytorch.ipynb","provenance":[{"file_id":"https://github.com/compi1234/spchlab/blob/master/session3/timit-1.ipynb","timestamp":1601551199644}],"collapsed_sections":[]}},"cells":[{"cell_type":"markdown","source":["<a href=\"https://colab.research.google.com/github/compi1234/spchlab/blob/master/session3/timit-1.ipynb\" target=\"_parent\"><img src=\"https://colab.research.google.com/assets/colab-badge.svg\" alt=\"Open In Colab\"/></a>"],"metadata":{"id":"neD2twCK41mW"}},{"cell_type":"markdown","source":["## Classification of Speech Frames\n","\n","### PART IV:  RECOGNIZE A PHONEME FROM FILTERBANK FEATURES WITH A DNN"],"metadata":{"id":"xiSK1LBqqxbL"}},{"cell_type":"markdown","source":["### 1. Setting up your Python Environment\n"," \n","1. Import Python's Machine Learning Stack\n","\n","2. Import needed local utilities that are needed for this exercise"],"metadata":{"id":"nEBOGxM441mY"}},{"cell_type":"code","execution_count":14,"source":["# Importing Python's baseline machine learning stack \r\n","#\r\n","%matplotlib inline\r\n","import sys,os,io\r\n","import numpy as np\r\n","import matplotlib.pyplot as plt\r\n","import pandas as pd\r\n","import seaborn as sns\r\n","import scipy.io as sio\r\n","import urllib.request\r\n","\r\n","# imports from the scikit-learn \r\n","from sklearn.model_selection import train_test_split, cross_val_score\r\n","from sklearn.linear_model import Perceptron\r\n","from sklearn import metrics as skmetrics\r\n","from sklearn.mixture import GaussianMixture\r\n","from scipy.fftpack import dct\r\n","\r\n","# import pytorch\r\n","import torch\r\n","import torch.nn as nn\r\n","from torch.utils.data import Dataset, DataLoader\r\n","\r\n","try:\r\n","  import google.colab\r\n","  IN_COLAB = True\r\n","  ! pip install git+https://github.com/compi1234/pyspch.git\r\n","except:\r\n","  IN_COLAB = False\r\n","\r\n","from pyspch.io.hillenbrand import fetch_hillenbrand, select_hillenbrand\r\n"],"outputs":[{"output_type":"stream","name":"stdout","text":["Collecting git+https://github.com/compi1234/pyspch.git\n","  Cloning https://github.com/compi1234/pyspch.git to /tmp/pip-req-build-uwq82052\n","  Running command git clone -q https://github.com/compi1234/pyspch.git /tmp/pip-req-build-uwq82052\n","Requirement already satisfied: numpy>=1.15.0 in /usr/local/lib/python3.7/dist-packages (from pyspch==0.4.1) (1.19.5)\n","Requirement already satisfied: scipy>=1.0.0 in /usr/local/lib/python3.7/dist-packages (from pyspch==0.4.1) (1.4.1)\n","Requirement already satisfied: pandas>=1.0 in /usr/local/lib/python3.7/dist-packages (from pyspch==0.4.1) (1.1.5)\n","Requirement already satisfied: librosa>=0.8.0 in /usr/local/lib/python3.7/dist-packages (from pyspch==0.4.1) (0.8.1)\n","Requirement already satisfied: numba in /usr/local/lib/python3.7/dist-packages (from pyspch==0.4.1) (0.51.2)\n","Requirement already satisfied: soundfile>=0.9.0 in /usr/local/lib/python3.7/dist-packages (from pyspch==0.4.1) (0.10.3.post1)\n","Requirement already satisfied: matplotlib>=3.1 in /usr/local/lib/python3.7/dist-packages (from pyspch==0.4.1) (3.2.2)\n","Requirement already satisfied: ipywidgets>=7.5.1 in /usr/local/lib/python3.7/dist-packages (from pyspch==0.4.1) (7.6.5)\n","Requirement already satisfied: pydub in /usr/local/lib/python3.7/dist-packages (from pyspch==0.4.1) (0.25.1)\n","Requirement already satisfied: ipykernel>=4.5.1 in /usr/local/lib/python3.7/dist-packages (from ipywidgets>=7.5.1->pyspch==0.4.1) (4.10.1)\n","Requirement already satisfied: jupyterlab-widgets>=1.0.0 in /usr/local/lib/python3.7/dist-packages (from ipywidgets>=7.5.1->pyspch==0.4.1) (1.0.2)\n","Requirement already satisfied: widgetsnbextension~=3.5.0 in /usr/local/lib/python3.7/dist-packages (from ipywidgets>=7.5.1->pyspch==0.4.1) (3.5.1)\n","Requirement already satisfied: ipython>=4.0.0 in /usr/local/lib/python3.7/dist-packages (from ipywidgets>=7.5.1->pyspch==0.4.1) (5.5.0)\n","Requirement already satisfied: nbformat>=4.2.0 in /usr/local/lib/python3.7/dist-packages (from ipywidgets>=7.5.1->pyspch==0.4.1) (5.1.3)\n","Requirement already satisfied: ipython-genutils~=0.2.0 in /usr/local/lib/python3.7/dist-packages (from ipywidgets>=7.5.1->pyspch==0.4.1) (0.2.0)\n","Requirement already satisfied: traitlets>=4.3.1 in /usr/local/lib/python3.7/dist-packages (from ipywidgets>=7.5.1->pyspch==0.4.1) (5.1.0)\n","Requirement already satisfied: tornado>=4.0 in /usr/local/lib/python3.7/dist-packages (from ipykernel>=4.5.1->ipywidgets>=7.5.1->pyspch==0.4.1) (5.1.1)\n","Requirement already satisfied: jupyter-client in /usr/local/lib/python3.7/dist-packages (from ipykernel>=4.5.1->ipywidgets>=7.5.1->pyspch==0.4.1) (5.3.5)\n","Requirement already satisfied: decorator in /usr/local/lib/python3.7/dist-packages (from ipython>=4.0.0->ipywidgets>=7.5.1->pyspch==0.4.1) (4.4.2)\n","Requirement already satisfied: setuptools>=18.5 in /usr/local/lib/python3.7/dist-packages (from ipython>=4.0.0->ipywidgets>=7.5.1->pyspch==0.4.1) (57.4.0)\n","Requirement already satisfied: prompt-toolkit<2.0.0,>=1.0.4 in /usr/local/lib/python3.7/dist-packages (from ipython>=4.0.0->ipywidgets>=7.5.1->pyspch==0.4.1) (1.0.18)\n","Requirement already satisfied: pygments in /usr/local/lib/python3.7/dist-packages (from ipython>=4.0.0->ipywidgets>=7.5.1->pyspch==0.4.1) (2.6.1)\n","Requirement already satisfied: simplegeneric>0.8 in /usr/local/lib/python3.7/dist-packages (from ipython>=4.0.0->ipywidgets>=7.5.1->pyspch==0.4.1) (0.8.1)\n","Requirement already satisfied: pexpect in /usr/local/lib/python3.7/dist-packages (from ipython>=4.0.0->ipywidgets>=7.5.1->pyspch==0.4.1) (4.8.0)\n","Requirement already satisfied: pickleshare in /usr/local/lib/python3.7/dist-packages (from ipython>=4.0.0->ipywidgets>=7.5.1->pyspch==0.4.1) (0.7.5)\n","Requirement already satisfied: joblib>=0.14 in /usr/local/lib/python3.7/dist-packages (from librosa>=0.8.0->pyspch==0.4.1) (1.0.1)\n","Requirement already satisfied: packaging>=20.0 in /usr/local/lib/python3.7/dist-packages (from librosa>=0.8.0->pyspch==0.4.1) (21.0)\n","Requirement already satisfied: resampy>=0.2.2 in /usr/local/lib/python3.7/dist-packages (from librosa>=0.8.0->pyspch==0.4.1) (0.2.2)\n","Requirement already satisfied: pooch>=1.0 in /usr/local/lib/python3.7/dist-packages (from librosa>=0.8.0->pyspch==0.4.1) (1.5.1)\n","Requirement already satisfied: audioread>=2.0.0 in /usr/local/lib/python3.7/dist-packages (from librosa>=0.8.0->pyspch==0.4.1) (2.1.9)\n","Requirement already satisfied: scikit-learn!=0.19.0,>=0.14.0 in /usr/local/lib/python3.7/dist-packages (from librosa>=0.8.0->pyspch==0.4.1) (0.22.2.post1)\n","Requirement already satisfied: cycler>=0.10 in /usr/local/lib/python3.7/dist-packages (from matplotlib>=3.1->pyspch==0.4.1) (0.10.0)\n","Requirement already satisfied: kiwisolver>=1.0.1 in /usr/local/lib/python3.7/dist-packages (from matplotlib>=3.1->pyspch==0.4.1) (1.3.2)\n","Requirement already satisfied: pyparsing!=2.0.4,!=2.1.2,!=2.1.6,>=2.0.1 in /usr/local/lib/python3.7/dist-packages (from matplotlib>=3.1->pyspch==0.4.1) (2.4.7)\n","Requirement already satisfied: python-dateutil>=2.1 in /usr/local/lib/python3.7/dist-packages (from matplotlib>=3.1->pyspch==0.4.1) (2.8.2)\n","Requirement already satisfied: six in /usr/local/lib/python3.7/dist-packages (from cycler>=0.10->matplotlib>=3.1->pyspch==0.4.1) (1.15.0)\n","Requirement already satisfied: jsonschema!=2.5.0,>=2.4 in /usr/local/lib/python3.7/dist-packages (from nbformat>=4.2.0->ipywidgets>=7.5.1->pyspch==0.4.1) (2.6.0)\n","Requirement already satisfied: jupyter-core in /usr/local/lib/python3.7/dist-packages (from nbformat>=4.2.0->ipywidgets>=7.5.1->pyspch==0.4.1) (4.8.1)\n","Requirement already satisfied: llvmlite<0.35,>=0.34.0.dev0 in /usr/local/lib/python3.7/dist-packages (from numba->pyspch==0.4.1) (0.34.0)\n","Requirement already satisfied: pytz>=2017.2 in /usr/local/lib/python3.7/dist-packages (from pandas>=1.0->pyspch==0.4.1) (2018.9)\n","Requirement already satisfied: requests in /usr/local/lib/python3.7/dist-packages (from pooch>=1.0->librosa>=0.8.0->pyspch==0.4.1) (2.23.0)\n","Requirement already satisfied: appdirs in /usr/local/lib/python3.7/dist-packages (from pooch>=1.0->librosa>=0.8.0->pyspch==0.4.1) (1.4.4)\n","Requirement already satisfied: wcwidth in /usr/local/lib/python3.7/dist-packages (from prompt-toolkit<2.0.0,>=1.0.4->ipython>=4.0.0->ipywidgets>=7.5.1->pyspch==0.4.1) (0.2.5)\n","Requirement already satisfied: cffi>=1.0 in /usr/local/lib/python3.7/dist-packages (from soundfile>=0.9.0->pyspch==0.4.1) (1.14.6)\n","Requirement already satisfied: pycparser in /usr/local/lib/python3.7/dist-packages (from cffi>=1.0->soundfile>=0.9.0->pyspch==0.4.1) (2.20)\n","Requirement already satisfied: notebook>=4.4.1 in /usr/local/lib/python3.7/dist-packages (from widgetsnbextension~=3.5.0->ipywidgets>=7.5.1->pyspch==0.4.1) (5.3.1)\n","Requirement already satisfied: Send2Trash in /usr/local/lib/python3.7/dist-packages (from notebook>=4.4.1->widgetsnbextension~=3.5.0->ipywidgets>=7.5.1->pyspch==0.4.1) (1.8.0)\n","Requirement already satisfied: terminado>=0.8.1 in /usr/local/lib/python3.7/dist-packages (from notebook>=4.4.1->widgetsnbextension~=3.5.0->ipywidgets>=7.5.1->pyspch==0.4.1) (0.12.1)\n","Requirement already satisfied: nbconvert in /usr/local/lib/python3.7/dist-packages (from notebook>=4.4.1->widgetsnbextension~=3.5.0->ipywidgets>=7.5.1->pyspch==0.4.1) (5.6.1)\n","Requirement already satisfied: jinja2 in /usr/local/lib/python3.7/dist-packages (from notebook>=4.4.1->widgetsnbextension~=3.5.0->ipywidgets>=7.5.1->pyspch==0.4.1) (2.11.3)\n","Requirement already satisfied: pyzmq>=13 in /usr/local/lib/python3.7/dist-packages (from jupyter-client->ipykernel>=4.5.1->ipywidgets>=7.5.1->pyspch==0.4.1) (22.3.0)\n","Requirement already satisfied: ptyprocess in /usr/local/lib/python3.7/dist-packages (from terminado>=0.8.1->notebook>=4.4.1->widgetsnbextension~=3.5.0->ipywidgets>=7.5.1->pyspch==0.4.1) (0.7.0)\n","Requirement already satisfied: MarkupSafe>=0.23 in /usr/local/lib/python3.7/dist-packages (from jinja2->notebook>=4.4.1->widgetsnbextension~=3.5.0->ipywidgets>=7.5.1->pyspch==0.4.1) (2.0.1)\n","Requirement already satisfied: pandocfilters>=1.4.1 in /usr/local/lib/python3.7/dist-packages (from nbconvert->notebook>=4.4.1->widgetsnbextension~=3.5.0->ipywidgets>=7.5.1->pyspch==0.4.1) (1.5.0)\n","Requirement already satisfied: defusedxml in /usr/local/lib/python3.7/dist-packages (from nbconvert->notebook>=4.4.1->widgetsnbextension~=3.5.0->ipywidgets>=7.5.1->pyspch==0.4.1) (0.7.1)\n","Requirement already satisfied: bleach in /usr/local/lib/python3.7/dist-packages (from nbconvert->notebook>=4.4.1->widgetsnbextension~=3.5.0->ipywidgets>=7.5.1->pyspch==0.4.1) (4.1.0)\n","Requirement already satisfied: mistune<2,>=0.8.1 in /usr/local/lib/python3.7/dist-packages (from nbconvert->notebook>=4.4.1->widgetsnbextension~=3.5.0->ipywidgets>=7.5.1->pyspch==0.4.1) (0.8.4)\n","Requirement already satisfied: entrypoints>=0.2.2 in /usr/local/lib/python3.7/dist-packages (from nbconvert->notebook>=4.4.1->widgetsnbextension~=3.5.0->ipywidgets>=7.5.1->pyspch==0.4.1) (0.3)\n","Requirement already satisfied: testpath in /usr/local/lib/python3.7/dist-packages (from nbconvert->notebook>=4.4.1->widgetsnbextension~=3.5.0->ipywidgets>=7.5.1->pyspch==0.4.1) (0.5.0)\n","Requirement already satisfied: webencodings in /usr/local/lib/python3.7/dist-packages (from bleach->nbconvert->notebook>=4.4.1->widgetsnbextension~=3.5.0->ipywidgets>=7.5.1->pyspch==0.4.1) (0.5.1)\n","Requirement already satisfied: chardet<4,>=3.0.2 in /usr/local/lib/python3.7/dist-packages (from requests->pooch>=1.0->librosa>=0.8.0->pyspch==0.4.1) (3.0.4)\n","Requirement already satisfied: idna<3,>=2.5 in /usr/local/lib/python3.7/dist-packages (from requests->pooch>=1.0->librosa>=0.8.0->pyspch==0.4.1) (2.10)\n","Requirement already satisfied: urllib3!=1.25.0,!=1.25.1,<1.26,>=1.21.1 in /usr/local/lib/python3.7/dist-packages (from requests->pooch>=1.0->librosa>=0.8.0->pyspch==0.4.1) (1.24.3)\n","Requirement already satisfied: certifi>=2017.4.17 in /usr/local/lib/python3.7/dist-packages (from requests->pooch>=1.0->librosa>=0.8.0->pyspch==0.4.1) (2021.5.30)\n"]}],"metadata":{"id":"r-5Fz07p41mZ","colab":{"base_uri":"https://localhost:8080/"},"executionInfo":{"status":"ok","timestamp":1634903354628,"user_tz":-120,"elapsed":16446,"user":{"displayName":"Bob Van Dyck","photoUrl":"https://lh3.googleusercontent.com/a/default-user=s64","userId":"09704130763050227218"}},"outputId":"ca7c860f-cce5-4a34-d308-a639dccce3ec"}},{"cell_type":"code","execution_count":15,"source":["# choose the colors you like :)\r\n","palette = sns.color_palette(\"bright\")\r\n","# palette=['red','green','blue','orange','brown','black','dodgerblue','mediumturquoise','cyan','violet','gold','salmon'] \r\n","# sns.palplot(palette)\r\n","sns.set_palette(palette)"],"outputs":[],"metadata":{"id":"KabZnIBG41md","executionInfo":{"status":"ok","timestamp":1634903354629,"user_tz":-120,"elapsed":12,"user":{"displayName":"Bob Van Dyck","photoUrl":"https://lh3.googleusercontent.com/a/default-user=s64","userId":"09704130763050227218"}}}},{"cell_type":"markdown","source":["### 2. The Database \n","The experiments in this notebook use a subset of the TIMIT database.\n","Instead of using raw speech, we extract features from the speech signal.\n","In what follows we will asses how \n","There is FILTERBANK data from 3 vowels (i,a,uw) , 400 samples for training and 200 samples for testing.\n","The data is 24-dimensional (24 channels in the filterbank).\n","http://homes.esat.kuleuven.be/~spchlab/datasets/tinytimit/README.txt\n","\n","In the cell below the data is loaded into\n","- data matrices   FBANK_train(2400,3), FBANK_test(600,3)\n","- labels          y_train(2400,), y_test(600,)"],"metadata":{"id":"LIjZCTLg41mf"}},{"cell_type":"code","execution_count":16,"source":["# loads all data in a matlab file at given url to the contents structure\r\n","# this is working for MATLAB 7.0 files and older ; not hdf5 MATLAB 7.3 or more recent\r\n","def load_matlab_from_url(url):\r\n","    url_response = urllib.request.urlopen(url)\r\n","    matio = io.BytesIO(url_response.read())\r\n","    contents = sio.loadmat(matio,squeeze_me=True)\r\n","    return(contents)\r\n","\r\n","# we will import 400 train samples and 200 test samples for 3 vowels\r\n","tinytimit = 'http://homes.esat.kuleuven.be/~spchlab/datasets/tinytimit/'\r\n","url_mf = tinytimit + 'male-female.mat' \r\n","data_mf = load_matlab_from_url(url_mf)\r\n","url_vow3= tinytimit + 'a-i-uw-800.mat' \r\n","data_vow3 = load_matlab_from_url(url_vow3)\r\n","\r\n","# labels\r\n","y_train =np.full((2400,),'a',dtype='<U2')\r\n","y_train[800:1600] =np.full((800,),'i',dtype='<U2')\r\n","y_train[1600:2400] =np.full((800,),'uw',dtype='<U2')\r\n","y_test =np.full((600,),'a',dtype='<U2')\r\n","y_test[200:400] =np.full((200,),'i',dtype='<U2')\r\n","y_test[400:600] =np.full((200,),'uw',dtype='<U2')\r\n","classes = np.unique(y_train)"],"outputs":[],"metadata":{"id":"hOHNVsK741mg","executionInfo":{"status":"ok","timestamp":1634903358200,"user_tz":-120,"elapsed":3580,"user":{"displayName":"Bob Van Dyck","photoUrl":"https://lh3.googleusercontent.com/a/default-user=s64","userId":"09704130763050227218"}}}},{"cell_type":"markdown","source":["#### Different features of speech\n","\n","For our NN-based phoneme-classifire, we use three types of input features.First, we use the filterbank energies (FBANK) directly. Second, we use the PCA features derrived from the FBANK features. PCA transforms the FBANK feature such that more discr  simply changes the coordinate system will disentangle the most important dimensions in the FBANK fetaures "],"metadata":{"id":"w5hyWXNXqS6x"}},{"cell_type":"code","execution_count":13,"source":["# Different speech features\r\n","\r\n","# A. Filterbank Energies (spectral features)\r\n","FB_train=data_vow3['ALLtrain'].T\r\n","FB_test=data_vow3['ALLtest'].T\r\n","\r\n","# B. PCA features (Principle Component Analysis)\r\n","from sklearn.decomposition import PCA\r\n","pca = PCA()\r\n","T = pca.fit(FB_train)\r\n","PCA_train = T.transform(FB_train)\r\n","PCA_test = T.transform(FB_test)\r\n","\r\n","# C. Mel-Frequency Cepstral Coefficients\r\n","MFCC_train = dct(FB_train, type=2, axis=1, norm='ortho')\r\n","MFCC_test = dct(FB_test, type=2, axis=1, norm='ortho')"],"outputs":[],"metadata":{"id":"jZPRL9cY41mj","executionInfo":{"status":"ok","timestamp":1634897167269,"user_tz":-120,"elapsed":275,"user":{"displayName":"Bob Van Dyck","photoUrl":"https://lh3.googleusercontent.com/a/default-user=s64","userId":"09704130763050227218"}}}},{"cell_type":"markdown","source":["#### Feature visualization"],"metadata":{"id":"RdVlR9TSqNXq"}},{"cell_type":"code","execution_count":17,"source":["# Visualize features \r\n","\r\n","# - assemble dataframes for easy plotting\r\n","\r\n","# A. Filterbank Energies (spectral features)\r\n","dfX = pd.DataFrame(FB_train[:,0:4])\r\n","dfy = pd.Series(y_train, name='vowel')\r\n","FB_df = pd.concat([dfy, dfX], axis=1)\r\n","\r\n","# B. PCA features (Principle Component Analysis)\r\n","dfX = pd.DataFrame(PCA_train[:,0:4])\r\n","dfy = pd.Series(y_train, name='vowel')\r\n","PCA_df = pd.concat([dfy, dfX], axis=1)\r\n","\r\n","# C. Mel-Frequency Cepstral Coefficients\r\n","dfX = pd.DataFrame(MFCC_train[:,0:4])\r\n","dfy = pd.Series(y_train, name='vowel')\r\n","MFCC_df = pd.concat([dfy, dfX], axis=1)"],"outputs":[],"metadata":{"id":"U7roBFLw7T8D","executionInfo":{"status":"ok","timestamp":1634904310326,"user_tz":-120,"elapsed":275,"user":{"displayName":"Bob Van Dyck","photoUrl":"https://lh3.googleusercontent.com/a/default-user=s64","userId":"09704130763050227218"}}}},{"cell_type":"code","execution_count":18,"source":["# choose feature to plot\r\n","df = MFCC_df\r\n","df.columns = [\"vowel\",\"0\",\"1\",\"2\",\"3\"]\r\n","\r\n","doPlot = False\r\n","if doPlot:\r\n","  # plot 2 first dimensions of feature \r\n","  f=plt.figure(figsize=(10, 10))\r\n","  sns.scatterplot(data=df, x=\"0\", y=\"1\", hue='vowel')\r\n","\r\n","  # plot all dimensions pairwise\r\n","  g = sns.PairGrid(df, hue=\"vowel\")\r\n","  g.map_diag(plt.hist, histtype=\"step\", linewidth=1)\r\n","  g.map_offdiag(plt.scatter, s=1)\r\n","  g.add_legend()"],"outputs":[],"metadata":{"id":"iBeYPHlx8UYu","executionInfo":{"status":"ok","timestamp":1634904312020,"user_tz":-120,"elapsed":245,"user":{"displayName":"Bob Van Dyck","photoUrl":"https://lh3.googleusercontent.com/a/default-user=s64","userId":"09704130763050227218"}}}},{"cell_type":"markdown","source":["### Neural Network in Pytorch"],"metadata":{"id":"XkQsiCUpDfzW"}},{"cell_type":"code","execution_count":4,"source":["#@title Neural network architecture {display-mode: \"form\"}\r\n","\r\n","# =============================================================================\r\n","# Neural network architecure\r\n","# =============================================================================\r\n","\r\n","# simple feedforward neural network \r\n","class simple_ffnn(nn.Module):\r\n","    \r\n","    def __init__(self, in_dim, out_dim, hidden_layer_sizes):\r\n","        super(simple_ffnn, self).__init__()\r\n","\r\n","        # attributes\r\n","        self.in_dim = in_dim\r\n","        self.out_dim = out_dim\r\n","        self.hidden_layer_sizes = hidden_layer_sizes\r\n","\r\n","        # parameters\r\n","        layer_sizes = (in_dim, *hidden_layer_sizes, out_dim)\r\n","        layer_sizes_pairwise = [(layer_sizes[i], layer_sizes[i+1]) for \r\n","                                 i in range(len(layer_sizes)-1)]\r\n","\r\n","        # define architecture\r\n","        modulelist = nn.ModuleList([])\r\n","        for layer_in_size, layer_out_size in layer_sizes_pairwise:\r\n","            modulelist.append(nn.Linear(layer_in_size, layer_out_size))\r\n","            modulelist.append(nn.Sigmoid())\r\n","\r\n","        # define network as nn.Sequential\r\n","        self.net = nn.Sequential(*modulelist)\r\n","\r\n","    def forward(self, x):\r\n","        x = self.net(x)\r\n","        return x\r\n","        \r\n","    def init_weights(self):\r\n","        self.net.apply(init_normal) \r\n","\r\n","def init_normal(m):\r\n","    if type(m) == nn.Linear:\r\n","        nn.init.kaiming_uniform_(m.weight)   "],"outputs":[],"metadata":{"id":"GqEWBZMzs_NO","executionInfo":{"status":"ok","timestamp":1634897134228,"user_tz":-120,"elapsed":252,"user":{"displayName":"Bob Van Dyck","photoUrl":"https://lh3.googleusercontent.com/a/default-user=s64","userId":"09704130763050227218"}}}},{"cell_type":"code","execution_count":5,"source":["#@title Dataset  {display-mode: \"form\"}\r\n","\r\n","# =============================================================================\r\n","# Dataset \r\n","# =============================================================================\r\n","\r\n","class SimpleDataset(Dataset):\r\n","    \"\"\"Simple dataset for easy sampling.\"\"\"\r\n","\r\n","    def __init__(self, data_X, data_y, labels, labeldict, device):\r\n","\r\n","        # dimensionality\r\n","        self.n_samples, self.n_features = data_X.shape\r\n","        self.n_classes = len(labels)\r\n","\r\n","        # input data\r\n","        self.frames = data_X # (n_samples, n_features)\r\n","        self.frames = torch.as_tensor(self.frames, dtype=torch.float32).to(device)\r\n","\r\n","        # labels\r\n","        if data_y.dtype != \"int64\":\r\n","            data_y = np.vectorize(labeldict.get)(data_y)\r\n","        self.labels = torch.as_tensor(data_y, dtype=torch.long).to(device)\r\n","\r\n","    def __len__(self):\r\n","        \r\n","        return self.n_samples\r\n","\r\n","    def __getitem__(self, idx):\r\n","        frame = self.frames[idx] \r\n","        label = self.labels[idx]\r\n","        \r\n","        return frame, label\r\n"],"outputs":[],"metadata":{"id":"m2hFiMMK8hYZ","executionInfo":{"status":"ok","timestamp":1634897135603,"user_tz":-120,"elapsed":259,"user":{"displayName":"Bob Van Dyck","photoUrl":"https://lh3.googleusercontent.com/a/default-user=s64","userId":"09704130763050227218"}}}},{"cell_type":"code","execution_count":6,"source":["#@title Neural network training {display-mode: \"form\"}\r\n","\r\n","# =============================================================================\r\n","# Neural network training\r\n","# =============================================================================\r\n","\r\n","# simple batch gradient descent \r\n","def train_batch(network, train_X, train_y, criterion, optimizer,\r\n","                device, n_epochs=500, every=50):\r\n","\r\n","    # data-format is torch tensor + send to device (ex. GPU)\r\n","    train_X = torch.tensor(train_X, dtype=torch.float32).to(device)\r\n","    train_y = torch.tensor(train_y, dtype=torch.long).to(device)\r\n","\r\n","    # send network to device (ex. GPU)\r\n","    network.to(device)\r\n","\r\n","    # set network to training mode (vs. evaluation mode)\r\n","    network.train() \r\n","\r\n","    # save training loss\r\n","    train_loss = []\r\n","\r\n","    # train for some epochs - full batch\r\n","    for epoch in range(n_epochs):\r\n","        optimizer.zero_grad()\r\n","        output = network(train_X)\r\n","        loss = criterion(output, train_y)\r\n","        loss.backward()\r\n","        optimizer.step()\r\n","        if epoch%every == 0:\r\n","          print('Epoch {}, loss {}'.format(epoch, loss.item()))\r\n","        \r\n","        train_loss.append(loss.item())\r\n","      \r\n","    return train_loss\r\n","\r\n","# mini-batch gradient descent\r\n","def train_minibatch(network, train_dl, criterion, optimizer, device,\r\n","                    n_epochs=500, every=50):\r\n","    \"\"\"\r\n","    Makes use of torch dataloader (see later on) to split data into mini-batches\r\n","    \"\"\" \r\n","\r\n","    #  per epoch: update network parameters \r\n","    for epoch in range(n_epochs):\r\n","\r\n","        # network to training mode\r\n","        network.train()\r\n","        \r\n","        # save training loss\r\n","        train_loss = []\r\n","\r\n","        # per mini-batch: compute gradient (backpropagation) + take step \r\n","        running_loss = 0\r\n","        steps = 0 \r\n","        for i, data in enumerate(train_dl, 0):\r\n","\r\n","            # mini-batch inputs and labels\r\n","            frames, labels = data  \r\n","            \r\n","            # zero the parameter gradients\r\n","            optimizer.zero_grad()\r\n","            \r\n","            # forward + backward + optimize \r\n","            outputs = network.net(frames)\r\n","            loss = criterion(outputs, labels)\r\n","            loss.backward()\r\n","            optimizer.step()  \r\n","\r\n","            # running loss\r\n","            running_loss += loss.item()\r\n","\r\n","        mean_minibatch_loss = running_loss/len(train_dl)\r\n","        train_loss.append(mean_minibatch_loss)\r\n","\r\n","        if epoch%every == 0:   \r\n","          print(\"Epoch %d -- av. loss per mini-batch %.2f\" % (epoch, mean_minibatch_loss))\r\n","\r\n","    return train_loss\r\n","            \r\n","# mini-batch gradient descent with early stopping\r\n","def train_minibatch_earlystopping(network, train_dl, criterion, optimizer, device,\r\n","                                  n_epochs=500, valid_X=None, valid_y=None, patience=5,\r\n","                                  every=50):\r\n","    \"\"\"\r\n","    Makes use of torch dataloader (see later on) to split data into mini-batches\r\n","    \"\"\" \r\n","\r\n","    # set early stopping counter\r\n","    cnt_valid_loss_increase = 0\r\n","\r\n","    # data-format is torch tensor + send to device (ex. GPU)\r\n","    valid_X = torch.tensor(valid_X, dtype=torch.float32).to(device)\r\n","    valid_y = torch.tensor(valid_y, dtype=torch.long).to(device)\r\n","\r\n","    # save training and validation loss\r\n","    train_loss_list = []\r\n","    valid_loss_list = []\r\n","\r\n","    #  per epoch: update network parameters \r\n","    for epoch in range(n_epochs):\r\n","\r\n","        # network to training mode\r\n","        network.train()\r\n","        \r\n","        # early stopping \r\n","        earlystoppping = cnt_valid_loss_increase > patience\r\n","        if earlystoppping:\r\n","            print(\"stopped early after %d epochs\" % (epoch))\r\n","            return train_loss_list, valid_loss_list\r\n","\r\n","        # per mini-batch: compute gradient (backpropagation) + take step \r\n","        running_loss = 0\r\n","        steps = 0 \r\n","        for i, data in enumerate(train_dl, 0):\r\n","\r\n","            # mini-batch inputs and labels\r\n","            frames, labels = data  \r\n","            \r\n","            # zero the parameter gradients\r\n","            optimizer.zero_grad()\r\n","            \r\n","            # forward + backward + optimize \r\n","            outputs = network.net(frames)\r\n","            loss = criterion(outputs, labels)\r\n","            loss.backward()\r\n","            optimizer.step()  \r\n","\r\n","            # running loss\r\n","            running_loss += loss.item()\r\n","\r\n","        # training loss\r\n","        mean_minibatch_loss = running_loss/len(train_dl)\r\n","        train_loss_list.append(mean_minibatch_loss)\r\n","        if epoch%every == 0:   \r\n","            print(\"Epoch %d -- av. loss per mini-batch %.2f\" % (epoch, mean_minibatch_loss))\r\n","\r\n","        # validation loss\r\n","        if valid_X is not None and valid_y is not None:          \r\n","            valid_outputs = network.net(valid_X)\r\n","            valid_loss = criterion(valid_outputs, valid_y)\r\n","            valid_loss_list.append(valid_loss.item())\r\n","            \r\n","            # early stoppping\r\n","            loss_increase = valid_loss_list[-1] > min(valid_loss_list[-patience:])\r\n","            if loss_increase:\r\n","                # no improvement compared to last 'patience' steps\r\n","                cnt_valid_loss_increase += 1\r\n","            else:\r\n","                cnt_valid_loss_increase = 0\r\n","\r\n","    return train_loss_list, valid_loss_list"],"outputs":[],"metadata":{"id":"QtEjU9PgsIlq","executionInfo":{"status":"ok","timestamp":1634897136311,"user_tz":-120,"elapsed":3,"user":{"displayName":"Bob Van Dyck","photoUrl":"https://lh3.googleusercontent.com/a/default-user=s64","userId":"09704130763050227218"}}}},{"cell_type":"code","execution_count":7,"source":["#@title Neural network evaluation {display-mode: \"form\"}\r\n","\r\n","# =============================================================================\r\n","# Neural network evaluation\r\n","# =============================================================================\r\n","\r\n","# evaluate criterion\r\n","def evaluate_criterion(network, test_X, test_y, criterion, device):\r\n","    \r\n","    # data-format is torch tensor + send to device (ex. GPU)\r\n","    test_X = torch.tensor(test_X, dtype=torch.float32).to(device)\r\n","    test_y = torch.tensor(test_y, dtype=torch.long).to(device)\r\n","\r\n","    # send network to device (ex. GPU)\r\n","    network.to(device)\r\n","\r\n","    # set network to evaluation mode (vs. training mode)\r\n","    network.eval() \r\n","\r\n","    # compute loss based on criterion\r\n","    pred_y = network.net(test_X)\r\n","    loss = criterion(pred_y, test_y)\r\n","\r\n","    return loss.item()\r\n","\r\n","# evaluate confusion matrix\r\n","def confusionmatrix(network, test_X, test_y, device):\r\n","    \r\n","    # data-format is torch tensor + send to device (ex. GPU)\r\n","    test_X = torch.tensor(test_X, dtype=torch.float32).to(device)\r\n","    test_y = torch.tensor(test_y, dtype=torch.long).to(device)\r\n","\r\n","    # send network to device (ex. GPU)\r\n","    network.to(device)\r\n","\r\n","    # set network to evaluation mode (vs. training mode)\r\n","    network.eval() \r\n","\r\n","    # compute confusion matrix\r\n","    cm = np.zeros((network.out_dim,network.out_dim))\r\n","    for input, label in zip(test_X, test_y):\r\n","        prob = network.net(input) # output = posterior class probabilities\r\n","        pred = torch.argmax(prob) # prediction = label (or neuron) with highest probability (One-Hot Encoding)\r\n","        cm[label][pred] += 1\r\n","    \r\n","    return cm.astype(int)\r\n","\r\n","# evaluate phone error rate\r\n","def evaluate_PER(confusionmatrix):\r\n","\r\n","    n_classes = confusionmatrix.shape[0]    \r\n","    \r\n","    # compute ER \r\n","    trace = np.trace(confusionmatrix)\r\n","    ER = 1- trace.sum() / confusionmatrix.sum()\r\n","        \r\n","    # compute ER per class (disregarding non label or not)\r\n","    no_examples_pc = confusionmatrix.sum(axis=1)\r\n","    ER_pc = [None] * n_classes\r\n","    for i in range(n_classes):\r\n","        if no_examples_pc[i] != 0:\r\n","            ER_pc[i] = 1-confusionmatrix[i,i] / (no_examples_pc[i])\r\n","        \r\n","    return ER, ER_pc\r\n","\r\n","# =============================================================================\r\n","# Confusion matrix plot\r\n","# =============================================================================\r\n","\r\n","# pretty printing\r\n","def plot_confusion_matrix(cm,labels=[],cmap=[]):\r\n","    import seaborn as sns\r\n","\r\n","    if len(labels) == 0:\r\n","        df_cm = pd.DataFrame(cm)\r\n","    else:\r\n","        df_cm = pd.DataFrame(cm, labels, labels)\r\n","        \r\n","    f,ax = plt.subplots(figsize=(6,6))\r\n","    sns.set(font_scale=1.4)#for label size\r\n","    sns.heatmap(df_cm, annot=True,fmt=\"d\",annot_kws={\"fontsize\": 14,\"color\":'k'},\r\n","                square=True,linecolor='k',linewidth=1.5,cmap=cmap,cbar=False)\r\n","    ax.tick_params(axis='y',labelrotation=0.0,left=True)\r\n","    # font size\r\n","    plt.title('Confusion matrix')\r\n","    plt.xlabel('Predicted')\r\n","    plt.ylabel('True')\r\n","    plt.show()\r\n"],"outputs":[],"metadata":{"id":"cNKJUp8Sr0Nt","executionInfo":{"status":"ok","timestamp":1634897137387,"user_tz":-120,"elapsed":4,"user":{"displayName":"Bob Van Dyck","photoUrl":"https://lh3.googleusercontent.com/a/default-user=s64","userId":"09704130763050227218"}}}},{"cell_type":"markdown","source":["### Experimental setup"],"metadata":{"id":"WLp0Vrj5sWdN"}},{"cell_type":"code","execution_count":19,"source":["# Features (X) and labels (y) used for experiment\r\n","\r\n","# input data\r\n","train_X = MFCC_train\r\n","test_X = MFCC_test\r\n","\r\n","# define One-Hot Encoding for labels\r\n","labels = [\"a\", \"i\", \"uw\"]\r\n","labeldict = {\"a\" : 0, \"i\" : 1, \"uw\" : 2} \r\n","inv_labeldict = {v : k for k, v in labeldict.items()}\r\n","\r\n","# more flexible label dictionairy (based on labels)\r\n","# labels = [\"a\",\"i\",\"uw\",\"extra_label\"]\r\n","# labeldict = {k : v for k, v in zip(labels, np.arange(len(labels)))}\r\n","# inv_labeldict = {v : k for k, v in labeldict.items()}\r\n","\r\n","# encode labels\r\n","train_y = np.vectorize(labeldict.get)(y_train).astype(np.int64)\r\n","test_y = np.vectorize(labeldict.get)(y_test).astype(np.int64)"],"outputs":[],"metadata":{"id":"rFQ6KEvMaDTR","executionInfo":{"status":"ok","timestamp":1634904313703,"user_tz":-120,"elapsed":343,"user":{"displayName":"Bob Van Dyck","photoUrl":"https://lh3.googleusercontent.com/a/default-user=s64","userId":"09704130763050227218"}}}},{"cell_type":"code","execution_count":20,"source":["# network dimensions\r\n","in_dim = train_X.shape[1]\r\n","out_dim = len(classes)\r\n","hidden_layer_sizes = [512,512]\r\n","\r\n","# set device\r\n","device = torch.device(\"cuda:0\" if torch.cuda.is_available() else \"cpu\")"],"outputs":[],"metadata":{"id":"I0Tupeh0w2Xi","executionInfo":{"status":"ok","timestamp":1634904317296,"user_tz":-120,"elapsed":213,"user":{"displayName":"Bob Van Dyck","photoUrl":"https://lh3.googleusercontent.com/a/default-user=s64","userId":"09704130763050227218"}}}},{"cell_type":"markdown","source":["#### Batch gradient descent"],"metadata":{"id":"7Q0emNBmtsd1"}},{"cell_type":"code","execution_count":21,"source":["# batch gradient descent\r\n","batch_model = simple_ffnn(in_dim=in_dim, out_dim=out_dim, hidden_layer_sizes=hidden_layer_sizes).to(device)\r\n","\r\n","# training setup\r\n","n_epochs = 500\r\n","batch_lrn_rate = 0.001\r\n","batch_criterion = nn.CrossEntropyLoss()  # applies softmax()\r\n","batch_optimizer = torch.optim.Adam(batch_model.parameters(), lr=batch_lrn_rate) # ties model-parameters to optimizer (back-propagation)\r\n","\r\n","# train network\r\n","batch_train_loss= train_batch(batch_model, train_X, train_y, batch_criterion, batch_optimizer, device, n_epochs)\r\n","\r\n","# plot training loss\r\n","plt.figure()\r\n","plt.plot(batch_train_loss)\r\n","plt.title(\"Training loss - batch gradient descent\")"],"outputs":[{"output_type":"stream","name":"stdout","text":["Epoch 0, loss 1.0987859964370728\n","Epoch 50, loss 0.6995275020599365\n","Epoch 100, loss 0.6411206126213074\n","Epoch 150, loss 0.6070461273193359\n","Epoch 200, loss 0.5837015509605408\n","Epoch 250, loss 0.5755569934844971\n","Epoch 300, loss 0.5694332122802734\n","Epoch 350, loss 0.5667599439620972\n","Epoch 400, loss 0.5651642084121704\n","Epoch 450, loss 0.5625589489936829\n"]},{"output_type":"execute_result","data":{"text/plain":["Text(0.5, 1.0, 'Training loss - batch gradient descent')"]},"metadata":{},"execution_count":21},{"output_type":"display_data","data":{"image/png":"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","text/plain":["<Figure size 432x288 with 1 Axes>"]},"metadata":{"needs_background":"light"}}],"metadata":{"id":"tKOzd3sxcDO5","colab":{"base_uri":"https://localhost:8080/","height":468},"executionInfo":{"status":"ok","timestamp":1634904355560,"user_tz":-120,"elapsed":36742,"user":{"displayName":"Bob Van Dyck","photoUrl":"https://lh3.googleusercontent.com/a/default-user=s64","userId":"09704130763050227218"}},"outputId":"368314e3-7cae-4c56-c3d7-fd769ccb9109"}},{"cell_type":"code","execution_count":22,"source":["# Confusion matrix\r\n","cm = confusionmatrix(batch_model, test_X, test_y, device)\r\n","plot_confusion_matrix(cm, classes)\r\n","\r\n","# Phone Error Rate (PER) + PER per phone class\r\n","per, per_pc = evaluate_PER(cm)\r\n","print(\"PER %.2f and PER per phone class %s\" % (per, np.round(per_pc, 4)))\r\n","\r\n","# Cross-entropy loss\r\n","print(\"CEL %.2f\" % evaluate_criterion(batch_model, test_X, test_y, batch_criterion, device))"],"outputs":[{"output_type":"display_data","data":{"image/png":"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","text/plain":["<Figure size 432x432 with 1 Axes>"]},"metadata":{"needs_background":"light"}},{"output_type":"stream","name":"stdout","text":["PER 0.17 and PER per phone class [0.015 0.15  0.34 ]\n","CEL 0.71\n"]}],"metadata":{"id":"b4YYkT_urIXk","colab":{"base_uri":"https://localhost:8080/","height":442},"executionInfo":{"status":"ok","timestamp":1634904477040,"user_tz":-120,"elapsed":652,"user":{"displayName":"Bob Van Dyck","photoUrl":"https://lh3.googleusercontent.com/a/default-user=s64","userId":"09704130763050227218"}},"outputId":"7855636d-31e3-455f-9097-341f2ee4229a"}},{"cell_type":"markdown","source":["#### Mini-batch gradient descent"],"metadata":{"id":"mksQj9lmxFBV"}},{"cell_type":"code","execution_count":23,"source":["# Dataset and Dataloader for easy sampling mini-batches\r\n","\r\n","# construct dataset\r\n","train_ds = SimpleDataset(train_X, train_y, labels, labeldict, device)\r\n","\r\n","# construct dataloader\r\n","batch_size = 32\r\n","shuffle = True\r\n","train_dl = DataLoader(train_ds, batch_size=batch_size, shuffle=shuffle, num_workers=0)"],"outputs":[],"metadata":{"id":"Ovbiy5MGyC77","executionInfo":{"status":"ok","timestamp":1634904480192,"user_tz":-120,"elapsed":290,"user":{"displayName":"Bob Van Dyck","photoUrl":"https://lh3.googleusercontent.com/a/default-user=s64","userId":"09704130763050227218"}}}},{"cell_type":"code","execution_count":24,"source":["# mini-batch gradient descent\r\n","minibatch_model = simple_ffnn(in_dim=in_dim, out_dim=out_dim, hidden_layer_sizes=hidden_layer_sizes).to(device)\r\n","\r\n","# training setup\r\n","n_epochs = 200\r\n","mb_lrn_rate = 0.001\r\n","mb_criterion = nn.CrossEntropyLoss()  # applies softmax()\r\n","mb_optimizer = torch.optim.Adam(minibatch_model.parameters(), lr=mb_lrn_rate) # ties model-parameters to optimizer (back-propagation)\r\n","\r\n","# train network\r\n","mb_train_loss = train_minibatch(minibatch_model, train_dl, mb_criterion, mb_optimizer, device, n_epochs)\r\n","\r\n","# plot training loss\r\n","plt.figure()\r\n","plt.plot(mb_train_loss)\r\n","plt.title(\"Training loss - batch gradient descent\")\r\n"],"outputs":[{"output_type":"stream","name":"stdout","text":["Epoch 0 -- av. loss per mini-batch 0.89\n","Epoch 50 -- av. loss per mini-batch 0.58\n","Epoch 100 -- av. loss per mini-batch 0.57\n","Epoch 150 -- av. loss per mini-batch 0.56\n"]},{"output_type":"execute_result","data":{"text/plain":["Text(0.5, 1.0, 'Training loss - batch gradient descent')"]},"metadata":{},"execution_count":24},{"output_type":"display_data","data":{"image/png":"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","text/plain":["<Figure size 432x288 with 1 Axes>"]},"metadata":{}}],"metadata":{"id":"yNIhufu1w4Vj","colab":{"base_uri":"https://localhost:8080/","height":378},"executionInfo":{"status":"ok","timestamp":1634904552932,"user_tz":-120,"elapsed":70780,"user":{"displayName":"Bob Van Dyck","photoUrl":"https://lh3.googleusercontent.com/a/default-user=s64","userId":"09704130763050227218"}},"outputId":"1101c59f-c008-428c-e2a6-7d6d1db0f5ca"}},{"cell_type":"code","execution_count":null,"source":["# Confusion matrix\r\n","cm = confusionmatrix(minibatch_model, test_X, test_y, device)\r\n","plot_confusion_matrix(cm, classes)\r\n","\r\n","# Phone Error Rate (PER) + PER per phone class\r\n","per, per_pc = evaluate_PER(cm)\r\n","print(\"PER %.2f and PER per phone class %s\" % (per, np.round(per_pc, 4)))\r\n","\r\n","# Cross-entropy loss\r\n","print(\"CEL %.2f\" % evaluate_criterion(minibatch_model, test_X, test_y, batch_criterion, device))"],"outputs":[{"output_type":"display_data","data":{"image/png":"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","text/plain":["<Figure size 432x432 with 1 Axes>"]},"metadata":{"tags":[]}},{"output_type":"stream","name":"stdout","text":["PER 0.17 and PER per phone class [0.02  0.105 0.385]\n","CEL 0.72\n"]}],"metadata":{"colab":{"base_uri":"https://localhost:8080/","height":458},"id":"0b56P9BGxbGL","executionInfo":{"status":"ok","timestamp":1607958619483,"user_tz":-60,"elapsed":137912,"user":{"displayName":"Bob Van Dyck","photoUrl":"","userId":"09704130763050227218"}},"outputId":"046994ca-0a14-4d2d-cffa-7bed9a1f7df2"}},{"cell_type":"markdown","source":["#### Mini-batch gradient descent with early stopping"],"metadata":{"id":"51MbqnIWrCbU"}},{"cell_type":"code","execution_count":null,"source":["# test training method: mini-batch gradient descent\r\n","minibatch_es_model = simple_ffnn(in_dim=in_dim, out_dim=out_dim, hidden_layer_sizes=hidden_layer_sizes).to(device)\r\n","\r\n","# training setup\r\n","n_epochs = 200\r\n","patience = 30\r\n","mb_es_lrn_rate = 0.0001\r\n","mb_es_criterion = nn.CrossEntropyLoss()  # applies softmax()\r\n","mb_es_optimizer = torch.optim.Adam(minibatch_es_model.parameters(), lr=mb_es_lrn_rate) # ties model-parameters to optimizer (back-propagation)\r\n","\r\n","# train network\r\n","mb_es_train_loss, mb_es_valid_loss = train_minibatch_earlystopping(minibatch_es_model, train_dl, mb_es_criterion, mb_es_optimizer, device, n_epochs, test_X, test_y, patience)\r\n","\r\n","# plot training loss\r\n","plt.figure()\r\n","plt.plot(mb_es_train_loss)\r\n","plt.plot(mb_es_valid_loss)\r\n","plt.title(\"Training loss - batch gradient descent\")"],"outputs":[{"output_type":"stream","name":"stdout","text":["Epoch 0 -- av. loss per mini-batch 1.08\n","Epoch 10 -- av. loss per mini-batch 0.70\n","Epoch 20 -- av. loss per mini-batch 0.67\n","Epoch 30 -- av. loss per mini-batch 0.65\n","Epoch 40 -- av. loss per mini-batch 0.64\n","Epoch 50 -- av. loss per mini-batch 0.63\n","Epoch 60 -- av. loss per mini-batch 0.62\n","Epoch 70 -- av. loss per mini-batch 0.62\n","Epoch 80 -- av. loss per mini-batch 0.61\n","Epoch 90 -- av. loss per mini-batch 0.60\n","Epoch 100 -- av. loss per mini-batch 0.60\n","Epoch 110 -- av. loss per mini-batch 0.59\n","Epoch 120 -- av. loss per mini-batch 0.59\n","Epoch 130 -- av. loss per mini-batch 0.59\n","Epoch 140 -- av. loss per mini-batch 0.58\n","Epoch 150 -- av. loss per mini-batch 0.58\n","stopped early after 152 epochs\n"]},{"output_type":"execute_result","data":{"text/plain":["Text(0.5, 1.0, 'Training loss - batch gradient descent')"]},"metadata":{"tags":[]},"execution_count":80},{"output_type":"display_data","data":{"image/png":"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","text/plain":["<Figure size 432x288 with 1 Axes>"]},"metadata":{"tags":[]}}],"metadata":{"id":"an5DeiJUmePh","colab":{"base_uri":"https://localhost:8080/","height":595},"executionInfo":{"status":"ok","timestamp":1607958675705,"user_tz":-60,"elapsed":194128,"user":{"displayName":"Bob Van Dyck","photoUrl":"","userId":"09704130763050227218"}},"outputId":"bcff36a9-d5b0-46ed-bc12-4f811dc767b5"}},{"cell_type":"code","execution_count":null,"source":["# Confusion matrix\n","cm = confusionmatrix(minibatch_es_model, test_X, test_y, device)\n","plot_confusion_matrix(cm, classes)\n","\n","# Phone Error Rate (PER) + PER per phone class\n","per, per_pc = evaluate_PER(cm)\n","print(\"PER %.2f and PER per phone class %s\" % (per, np.round(per_pc, 4)))\n","\n","# Cross-entropy loss\n","print(\"CEL %.2f\" % evaluate_criterion(minibatch_es_model, test_X, test_y, batch_criterion, device))"],"outputs":[{"output_type":"display_data","data":{"image/png":"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","text/plain":["<Figure size 432x432 with 1 Axes>"]},"metadata":{"tags":[]}},{"output_type":"stream","name":"stdout","text":["PER 0.15 and PER per phone class [0.01 0.11 0.33]\n","CEL 0.70\n"]}],"metadata":{"id":"2QQnaL7poyAA","colab":{"base_uri":"https://localhost:8080/","height":458},"executionInfo":{"status":"ok","timestamp":1607958675944,"user_tz":-60,"elapsed":194362,"user":{"displayName":"Bob Van Dyck","photoUrl":"","userId":"09704130763050227218"}},"outputId":"71665480-1c39-4cfa-de54-75fcedb3c9c8"}}]}
=======
{
 "cells": [
  {
   "cell_type": "markdown",
   "metadata": {
    "id": "neD2twCK41mW"
   },
   "source": [
    "<a href=\"https://colab.research.google.com/github/compi1234/spchlab/blob/master/session3/timit-1.ipynb\" target=\"_parent\"><img src=\"https://colab.research.google.com/assets/colab-badge.svg\" alt=\"Open In Colab\"/></a>"
   ]
  },
  {
   "cell_type": "markdown",
   "metadata": {
    "id": "xiSK1LBqqxbL"
   },
   "source": [
    "## Classification of Speech Frames\n",
    "\n",
    "### PART IV:  RECOGNIZE A PHONEME FROM FILTERBANK FEATURES WITH A DNN"
   ]
  },
  {
   "cell_type": "markdown",
   "metadata": {
    "id": "nEBOGxM441mY"
   },
   "source": [
    "### 1. Setting up your Python Environment\n",
    " \n",
    "1. Import Python's Machine Learning Stack\n",
    "\n",
    "2. Import needed local utilities that are needed for this exercise"
   ]
  },
  {
   "cell_type": "code",
   "execution_count": null,
   "metadata": {
    "colab": {
     "base_uri": "https://localhost:8080/"
    },
    "executionInfo": {
     "elapsed": 16446,
     "status": "ok",
     "timestamp": 1634903354628,
     "user": {
      "displayName": "Bob Van Dyck",
      "photoUrl": "https://lh3.googleusercontent.com/a/default-user=s64",
      "userId": "09704130763050227218"
     },
     "user_tz": -120
    },
    "id": "r-5Fz07p41mZ",
    "outputId": "ca7c860f-cce5-4a34-d308-a639dccce3ec"
   },
   "outputs": [],
   "source": [
    "# Importing Python's baseline machine learning stack \n",
    "#\n",
    "%matplotlib inline\n",
    "import sys,os,io\n",
    "import numpy as np\n",
    "import matplotlib.pyplot as plt\n",
    "import pandas as pd\n",
    "import seaborn as sns\n",
    "import scipy.io as sio\n",
    "import urllib.request\n",
    "\n",
    "# imports from the scikit-learn \n",
    "from sklearn.model_selection import train_test_split, cross_val_score\n",
    "from sklearn.linear_model import Perceptron\n",
    "from sklearn import metrics as skmetrics\n",
    "from sklearn.mixture import GaussianMixture\n",
    "from scipy.fftpack import dct\n",
    "\n",
    "# import pytorch\n",
    "import torch\n",
    "import torch.nn as nn\n",
    "from torch.utils.data import Dataset, DataLoader\n",
    "\n",
    "try:\n",
    "  import google.colab\n",
    "  IN_COLAB = True\n",
    "  ! pip install git+https://github.com/compi1234/pyspch.git\n",
    "except:\n",
    "  IN_COLAB = False\n",
    "\n",
    "from pyspch.io.hillenbrand import fetch_hillenbrand, select_hillenbrand\n"
   ]
  },
  {
   "cell_type": "code",
   "execution_count": null,
   "metadata": {
    "executionInfo": {
     "elapsed": 12,
     "status": "ok",
     "timestamp": 1634903354629,
     "user": {
      "displayName": "Bob Van Dyck",
      "photoUrl": "https://lh3.googleusercontent.com/a/default-user=s64",
      "userId": "09704130763050227218"
     },
     "user_tz": -120
    },
    "id": "KabZnIBG41md"
   },
   "outputs": [],
   "source": [
    "# choose the colors you like :)\n",
    "palette = sns.color_palette(\"bright\")\n",
    "# palette=['red','green','blue','orange','brown','black','dodgerblue','mediumturquoise','cyan','violet','gold','salmon'] \n",
    "# sns.palplot(palette)\n",
    "sns.set_palette(palette)"
   ]
  },
  {
   "cell_type": "markdown",
   "metadata": {
    "id": "LIjZCTLg41mf"
   },
   "source": [
    "### 2. The Database \n",
    "The experiments in this notebook use a subset of the TIMIT database.\n",
    "Instead of using raw speech, we extract features from the speech signal.\n",
    "In what follows we will asses how \n",
    "There is FILTERBANK data from 3 vowels (i,a,uw) , 400 samples for training and 200 samples for testing.\n",
    "The data is 24-dimensional (24 channels in the filterbank).\n",
    "http://homes.esat.kuleuven.be/~spchlab/datasets/tinytimit/README.txt\n",
    "\n",
    "In the cell below the data is loaded into\n",
    "- data matrices   FBANK_train(2400,3), FBANK_test(600,3)\n",
    "- labels          y_train(2400,), y_test(600,)"
   ]
  },
  {
   "cell_type": "code",
   "execution_count": null,
   "metadata": {
    "executionInfo": {
     "elapsed": 3580,
     "status": "ok",
     "timestamp": 1634903358200,
     "user": {
      "displayName": "Bob Van Dyck",
      "photoUrl": "https://lh3.googleusercontent.com/a/default-user=s64",
      "userId": "09704130763050227218"
     },
     "user_tz": -120
    },
    "id": "hOHNVsK741mg"
   },
   "outputs": [],
   "source": [
    "# loads all data in a matlab file at given url to the contents structure\n",
    "# this is working for MATLAB 7.0 files and older ; not hdf5 MATLAB 7.3 or more recent\n",
    "def load_matlab_from_url(url):\n",
    "    url_response = urllib.request.urlopen(url)\n",
    "    matio = io.BytesIO(url_response.read())\n",
    "    contents = sio.loadmat(matio,squeeze_me=True)\n",
    "    return(contents)\n",
    "\n",
    "# we will import 400 train samples and 200 test samples for 3 vowels\n",
    "tinytimit = 'http://homes.esat.kuleuven.be/~spchlab/datasets/tinytimit/'\n",
    "url_mf = tinytimit + 'male-female.mat' \n",
    "data_mf = load_matlab_from_url(url_mf)\n",
    "url_vow3= tinytimit + 'a-i-uw-800.mat' \n",
    "data_vow3 = load_matlab_from_url(url_vow3)\n",
    "\n",
    "# labels\n",
    "y_train =np.full((2400,),'a',dtype='<U2')\n",
    "y_train[800:1600] =np.full((800,),'i',dtype='<U2')\n",
    "y_train[1600:2400] =np.full((800,),'uw',dtype='<U2')\n",
    "y_test =np.full((600,),'a',dtype='<U2')\n",
    "y_test[200:400] =np.full((200,),'i',dtype='<U2')\n",
    "y_test[400:600] =np.full((200,),'uw',dtype='<U2')\n",
    "classes = np.unique(y_train)"
   ]
  },
  {
   "cell_type": "markdown",
   "metadata": {
    "id": "w5hyWXNXqS6x"
   },
   "source": [
    "#### Different features of speech\n",
    "\n",
    "For our NN-based phoneme-classifire, we use three types of input features.First, we use the filterbank energies (FBANK) directly. Second, we use the PCA features derrived from the FBANK features. PCA transforms the FBANK feature such that more discr  simply changes the coordinate system will disentangle the most important dimensions in the FBANK fetaures "
   ]
  },
  {
   "cell_type": "code",
   "execution_count": null,
   "metadata": {
    "executionInfo": {
     "elapsed": 275,
     "status": "ok",
     "timestamp": 1634897167269,
     "user": {
      "displayName": "Bob Van Dyck",
      "photoUrl": "https://lh3.googleusercontent.com/a/default-user=s64",
      "userId": "09704130763050227218"
     },
     "user_tz": -120
    },
    "id": "jZPRL9cY41mj"
   },
   "outputs": [],
   "source": [
    "# Different speech features\n",
    "\n",
    "# A. Filterbank Energies (spectral features)\n",
    "FB_train=data_vow3['ALLtrain'].T\n",
    "FB_test=data_vow3['ALLtest'].T\n",
    "\n",
    "# B. PCA features (Principle Component Analysis)\n",
    "from sklearn.decomposition import PCA\n",
    "pca = PCA()\n",
    "T = pca.fit(FB_train)\n",
    "PCA_train = T.transform(FB_train)\n",
    "PCA_test = T.transform(FB_test)\n",
    "\n",
    "# C. Mel-Frequency Cepstral Coefficients\n",
    "MFCC_train = dct(FB_train, type=2, axis=1, norm='ortho')\n",
    "MFCC_test = dct(FB_test, type=2, axis=1, norm='ortho')"
   ]
  },
  {
   "cell_type": "markdown",
   "metadata": {
    "id": "RdVlR9TSqNXq"
   },
   "source": [
    "#### Feature visualization"
   ]
  },
  {
   "cell_type": "code",
   "execution_count": null,
   "metadata": {
    "executionInfo": {
     "elapsed": 275,
     "status": "ok",
     "timestamp": 1634904310326,
     "user": {
      "displayName": "Bob Van Dyck",
      "photoUrl": "https://lh3.googleusercontent.com/a/default-user=s64",
      "userId": "09704130763050227218"
     },
     "user_tz": -120
    },
    "id": "U7roBFLw7T8D"
   },
   "outputs": [],
   "source": [
    "# Visualize features \n",
    "\n",
    "# - assemble dataframes for easy plotting\n",
    "\n",
    "# A. Filterbank Energies (spectral features)\n",
    "dfX = pd.DataFrame(FB_train[:,0:4])\n",
    "dfy = pd.Series(y_train, name='vowel')\n",
    "FB_df = pd.concat([dfy, dfX], axis=1)\n",
    "\n",
    "# B. PCA features (Principle Component Analysis)\n",
    "dfX = pd.DataFrame(PCA_train[:,0:4])\n",
    "dfy = pd.Series(y_train, name='vowel')\n",
    "PCA_df = pd.concat([dfy, dfX], axis=1)\n",
    "\n",
    "# C. Mel-Frequency Cepstral Coefficients\n",
    "dfX = pd.DataFrame(MFCC_train[:,0:4])\n",
    "dfy = pd.Series(y_train, name='vowel')\n",
    "MFCC_df = pd.concat([dfy, dfX], axis=1)"
   ]
  },
  {
   "cell_type": "code",
   "execution_count": null,
   "metadata": {
    "executionInfo": {
     "elapsed": 245,
     "status": "ok",
     "timestamp": 1634904312020,
     "user": {
      "displayName": "Bob Van Dyck",
      "photoUrl": "https://lh3.googleusercontent.com/a/default-user=s64",
      "userId": "09704130763050227218"
     },
     "user_tz": -120
    },
    "id": "iBeYPHlx8UYu"
   },
   "outputs": [],
   "source": [
    "# choose feature to plot\n",
    "df = MFCC_df\n",
    "df.columns = [\"vowel\",\"0\",\"1\",\"2\",\"3\"]\n",
    "\n",
    "doPlot = False\n",
    "if doPlot:\n",
    "  # plot 2 first dimensions of feature \n",
    "  f=plt.figure(figsize=(10, 10))\n",
    "  sns.scatterplot(data=df, x=\"0\", y=\"1\", hue='vowel')\n",
    "\n",
    "  # plot all dimensions pairwise\n",
    "  g = sns.PairGrid(df, hue=\"vowel\")\n",
    "  g.map_diag(plt.hist, histtype=\"step\", linewidth=1)\n",
    "  g.map_offdiag(plt.scatter, s=1)\n",
    "  g.add_legend()"
   ]
  },
  {
   "cell_type": "markdown",
   "metadata": {
    "id": "XkQsiCUpDfzW"
   },
   "source": [
    "### Neural Network in Pytorch"
   ]
  },
  {
   "cell_type": "code",
   "execution_count": null,
   "metadata": {
    "executionInfo": {
     "elapsed": 252,
     "status": "ok",
     "timestamp": 1634897134228,
     "user": {
      "displayName": "Bob Van Dyck",
      "photoUrl": "https://lh3.googleusercontent.com/a/default-user=s64",
      "userId": "09704130763050227218"
     },
     "user_tz": -120
    },
    "id": "GqEWBZMzs_NO"
   },
   "outputs": [],
   "source": [
    "#@title Neural network architecture {display-mode: \"form\"}\n",
    "\n",
    "# =============================================================================\n",
    "# Neural network architecure\n",
    "# =============================================================================\n",
    "\n",
    "# simple feedforward neural network \n",
    "class simple_ffnn(nn.Module):\n",
    "    \n",
    "    def __init__(self, in_dim, out_dim, hidden_layer_sizes):\n",
    "        super(simple_ffnn, self).__init__()\n",
    "\n",
    "        # attributes\n",
    "        self.in_dim = in_dim\n",
    "        self.out_dim = out_dim\n",
    "        self.hidden_layer_sizes = hidden_layer_sizes\n",
    "\n",
    "        # parameters\n",
    "        layer_sizes = (in_dim, *hidden_layer_sizes, out_dim)\n",
    "        layer_sizes_pairwise = [(layer_sizes[i], layer_sizes[i+1]) for \n",
    "                                 i in range(len(layer_sizes)-1)]\n",
    "\n",
    "        # define architecture\n",
    "        modulelist = nn.ModuleList([])\n",
    "        for layer_in_size, layer_out_size in layer_sizes_pairwise:\n",
    "            modulelist.append(nn.Linear(layer_in_size, layer_out_size))\n",
    "            modulelist.append(nn.Sigmoid())\n",
    "\n",
    "        # define network as nn.Sequential\n",
    "        self.net = nn.Sequential(*modulelist)\n",
    "\n",
    "    def forward(self, x):\n",
    "        x = self.net(x)\n",
    "        return x\n",
    "        \n",
    "    def init_weights(self):\n",
    "        self.net.apply(init_normal) \n",
    "\n",
    "def init_normal(m):\n",
    "    if type(m) == nn.Linear:\n",
    "        nn.init.kaiming_uniform_(m.weight)   "
   ]
  },
  {
   "cell_type": "code",
   "execution_count": null,
   "metadata": {
    "executionInfo": {
     "elapsed": 259,
     "status": "ok",
     "timestamp": 1634897135603,
     "user": {
      "displayName": "Bob Van Dyck",
      "photoUrl": "https://lh3.googleusercontent.com/a/default-user=s64",
      "userId": "09704130763050227218"
     },
     "user_tz": -120
    },
    "id": "m2hFiMMK8hYZ"
   },
   "outputs": [],
   "source": [
    "#@title Dataset  {display-mode: \"form\"}\n",
    "\n",
    "# =============================================================================\n",
    "# Dataset \n",
    "# =============================================================================\n",
    "\n",
    "class SimpleDataset(Dataset):\n",
    "    \"\"\"Simple dataset for easy sampling.\"\"\"\n",
    "\n",
    "    def __init__(self, data_X, data_y, labels, labeldict, device):\n",
    "\n",
    "        # dimensionality\n",
    "        self.n_samples, self.n_features = data_X.shape\n",
    "        self.n_classes = len(labels)\n",
    "\n",
    "        # input data\n",
    "        self.frames = data_X # (n_samples, n_features)\n",
    "        self.frames = torch.as_tensor(self.frames, dtype=torch.float32).to(device)\n",
    "\n",
    "        # labels\n",
    "        if data_y.dtype != \"int64\":\n",
    "            data_y = np.vectorize(labeldict.get)(data_y)\n",
    "        self.labels = torch.as_tensor(data_y, dtype=torch.long).to(device)\n",
    "\n",
    "    def __len__(self):\n",
    "        \n",
    "        return self.n_samples\n",
    "\n",
    "    def __getitem__(self, idx):\n",
    "        frame = self.frames[idx] \n",
    "        label = self.labels[idx]\n",
    "        \n",
    "        return frame, label\n"
   ]
  },
  {
   "cell_type": "code",
   "execution_count": null,
   "metadata": {
    "executionInfo": {
     "elapsed": 3,
     "status": "ok",
     "timestamp": 1634897136311,
     "user": {
      "displayName": "Bob Van Dyck",
      "photoUrl": "https://lh3.googleusercontent.com/a/default-user=s64",
      "userId": "09704130763050227218"
     },
     "user_tz": -120
    },
    "id": "QtEjU9PgsIlq"
   },
   "outputs": [],
   "source": [
    "#@title Neural network training {display-mode: \"form\"}\n",
    "\n",
    "# =============================================================================\n",
    "# Neural network training\n",
    "# =============================================================================\n",
    "\n",
    "# simple batch gradient descent \n",
    "def train_batch(network, train_X, train_y, criterion, optimizer,\n",
    "                device, n_epochs=500, every=50):\n",
    "\n",
    "    # data-format is torch tensor + send to device (ex. GPU)\n",
    "    train_X = torch.tensor(train_X, dtype=torch.float32).to(device)\n",
    "    train_y = torch.tensor(train_y, dtype=torch.long).to(device)\n",
    "\n",
    "    # send network to device (ex. GPU)\n",
    "    network.to(device)\n",
    "\n",
    "    # set network to training mode (vs. evaluation mode)\n",
    "    network.train() \n",
    "\n",
    "    # save training loss\n",
    "    train_loss = []\n",
    "\n",
    "    # train for some epochs - full batch\n",
    "    for epoch in range(n_epochs):\n",
    "        optimizer.zero_grad()\n",
    "        output = network(train_X)\n",
    "        loss = criterion(output, train_y)\n",
    "        loss.backward()\n",
    "        optimizer.step()\n",
    "        if epoch%every == 0:\n",
    "          print('Epoch {}, loss {}'.format(epoch, loss.item()))\n",
    "        \n",
    "        train_loss.append(loss.item())\n",
    "      \n",
    "    return train_loss\n",
    "\n",
    "# mini-batch gradient descent\n",
    "def train_minibatch(network, train_dl, criterion, optimizer, device,\n",
    "                    n_epochs=500, every=50):\n",
    "    \"\"\"\n",
    "    Makes use of torch dataloader (see later on) to split data into mini-batches\n",
    "    \"\"\" \n",
    "\n",
    "    #  per epoch: update network parameters \n",
    "    for epoch in range(n_epochs):\n",
    "\n",
    "        # network to training mode\n",
    "        network.train()\n",
    "        \n",
    "        # save training loss\n",
    "        train_loss = []\n",
    "\n",
    "        # per mini-batch: compute gradient (backpropagation) + take step \n",
    "        running_loss = 0\n",
    "        steps = 0 \n",
    "        for i, data in enumerate(train_dl, 0):\n",
    "\n",
    "            # mini-batch inputs and labels\n",
    "            frames, labels = data  \n",
    "            \n",
    "            # zero the parameter gradients\n",
    "            optimizer.zero_grad()\n",
    "            \n",
    "            # forward + backward + optimize \n",
    "            outputs = network.net(frames)\n",
    "            loss = criterion(outputs, labels)\n",
    "            loss.backward()\n",
    "            optimizer.step()  \n",
    "\n",
    "            # running loss\n",
    "            running_loss += loss.item()\n",
    "\n",
    "        mean_minibatch_loss = running_loss/len(train_dl)\n",
    "        train_loss.append(mean_minibatch_loss)\n",
    "\n",
    "        if epoch%every == 0:   \n",
    "          print(\"Epoch %d -- av. loss per mini-batch %.2f\" % (epoch, mean_minibatch_loss))\n",
    "\n",
    "    return train_loss\n",
    "            \n",
    "# mini-batch gradient descent with early stopping\n",
    "def train_minibatch_earlystopping(network, train_dl, criterion, optimizer, device,\n",
    "                                  n_epochs=500, valid_X=None, valid_y=None, patience=5,\n",
    "                                  every=50):\n",
    "    \"\"\"\n",
    "    Makes use of torch dataloader (see later on) to split data into mini-batches\n",
    "    \"\"\" \n",
    "\n",
    "    # set early stopping counter\n",
    "    cnt_valid_loss_increase = 0\n",
    "\n",
    "    # data-format is torch tensor + send to device (ex. GPU)\n",
    "    valid_X = torch.tensor(valid_X, dtype=torch.float32).to(device)\n",
    "    valid_y = torch.tensor(valid_y, dtype=torch.long).to(device)\n",
    "\n",
    "    # save training and validation loss\n",
    "    train_loss_list = []\n",
    "    valid_loss_list = []\n",
    "\n",
    "    #  per epoch: update network parameters \n",
    "    for epoch in range(n_epochs):\n",
    "\n",
    "        # network to training mode\n",
    "        network.train()\n",
    "        \n",
    "        # early stopping \n",
    "        earlystoppping = cnt_valid_loss_increase > patience\n",
    "        if earlystoppping:\n",
    "            print(\"stopped early after %d epochs\" % (epoch))\n",
    "            return train_loss_list, valid_loss_list\n",
    "\n",
    "        # per mini-batch: compute gradient (backpropagation) + take step \n",
    "        running_loss = 0\n",
    "        steps = 0 \n",
    "        for i, data in enumerate(train_dl, 0):\n",
    "\n",
    "            # mini-batch inputs and labels\n",
    "            frames, labels = data  \n",
    "            \n",
    "            # zero the parameter gradients\n",
    "            optimizer.zero_grad()\n",
    "            \n",
    "            # forward + backward + optimize \n",
    "            outputs = network.net(frames)\n",
    "            loss = criterion(outputs, labels)\n",
    "            loss.backward()\n",
    "            optimizer.step()  \n",
    "\n",
    "            # running loss\n",
    "            running_loss += loss.item()\n",
    "\n",
    "        # training loss\n",
    "        mean_minibatch_loss = running_loss/len(train_dl)\n",
    "        train_loss_list.append(mean_minibatch_loss)\n",
    "        if epoch%every == 0:   \n",
    "            print(\"Epoch %d -- av. loss per mini-batch %.2f\" % (epoch, mean_minibatch_loss))\n",
    "\n",
    "        # validation loss\n",
    "        if valid_X is not None and valid_y is not None:          \n",
    "            valid_outputs = network.net(valid_X)\n",
    "            valid_loss = criterion(valid_outputs, valid_y)\n",
    "            valid_loss_list.append(valid_loss.item())\n",
    "            \n",
    "            # early stoppping\n",
    "            loss_increase = valid_loss_list[-1] > min(valid_loss_list[-patience:])\n",
    "            if loss_increase:\n",
    "                # no improvement compared to last 'patience' steps\n",
    "                cnt_valid_loss_increase += 1\n",
    "            else:\n",
    "                cnt_valid_loss_increase = 0\n",
    "\n",
    "    return train_loss_list, valid_loss_list"
   ]
  },
  {
   "cell_type": "code",
   "execution_count": null,
   "metadata": {
    "executionInfo": {
     "elapsed": 4,
     "status": "ok",
     "timestamp": 1634897137387,
     "user": {
      "displayName": "Bob Van Dyck",
      "photoUrl": "https://lh3.googleusercontent.com/a/default-user=s64",
      "userId": "09704130763050227218"
     },
     "user_tz": -120
    },
    "id": "cNKJUp8Sr0Nt"
   },
   "outputs": [],
   "source": [
    "#@title Neural network evaluation {display-mode: \"form\"}\n",
    "\n",
    "# =============================================================================\n",
    "# Neural network evaluation\n",
    "# =============================================================================\n",
    "\n",
    "# evaluate criterion\n",
    "def evaluate_criterion(network, test_X, test_y, criterion, device):\n",
    "    \n",
    "    # data-format is torch tensor + send to device (ex. GPU)\n",
    "    test_X = torch.tensor(test_X, dtype=torch.float32).to(device)\n",
    "    test_y = torch.tensor(test_y, dtype=torch.long).to(device)\n",
    "\n",
    "    # send network to device (ex. GPU)\n",
    "    network.to(device)\n",
    "\n",
    "    # set network to evaluation mode (vs. training mode)\n",
    "    network.eval() \n",
    "\n",
    "    # compute loss based on criterion\n",
    "    pred_y = network.net(test_X)\n",
    "    loss = criterion(pred_y, test_y)\n",
    "\n",
    "    return loss.item()\n",
    "\n",
    "# evaluate confusion matrix\n",
    "def confusionmatrix(network, test_X, test_y, device):\n",
    "    \n",
    "    # data-format is torch tensor + send to device (ex. GPU)\n",
    "    test_X = torch.tensor(test_X, dtype=torch.float32).to(device)\n",
    "    test_y = torch.tensor(test_y, dtype=torch.long).to(device)\n",
    "\n",
    "    # send network to device (ex. GPU)\n",
    "    network.to(device)\n",
    "\n",
    "    # set network to evaluation mode (vs. training mode)\n",
    "    network.eval() \n",
    "\n",
    "    # compute confusion matrix\n",
    "    cm = np.zeros((network.out_dim,network.out_dim))\n",
    "    for input, label in zip(test_X, test_y):\n",
    "        prob = network.net(input) # output = posterior class probabilities\n",
    "        pred = torch.argmax(prob) # prediction = label (or neuron) with highest probability (One-Hot Encoding)\n",
    "        cm[label][pred] += 1\n",
    "    \n",
    "    return cm.astype(int)\n",
    "\n",
    "# evaluate phone error rate\n",
    "def evaluate_PER(confusionmatrix):\n",
    "\n",
    "    n_classes = confusionmatrix.shape[0]    \n",
    "    \n",
    "    # compute ER \n",
    "    trace = np.trace(confusionmatrix)\n",
    "    ER = 1- trace.sum() / confusionmatrix.sum()\n",
    "        \n",
    "    # compute ER per class (disregarding non label or not)\n",
    "    no_examples_pc = confusionmatrix.sum(axis=1)\n",
    "    ER_pc = [None] * n_classes\n",
    "    for i in range(n_classes):\n",
    "        if no_examples_pc[i] != 0:\n",
    "            ER_pc[i] = 1-confusionmatrix[i,i] / (no_examples_pc[i])\n",
    "        \n",
    "    return ER, ER_pc\n",
    "\n",
    "# =============================================================================\n",
    "# Confusion matrix plot\n",
    "# =============================================================================\n",
    "\n",
    "# pretty printing\n",
    "def plot_confusion_matrix(cm,labels=[],cmap=[]):\n",
    "    import seaborn as sns\n",
    "\n",
    "    if len(labels) == 0:\n",
    "        df_cm = pd.DataFrame(cm)\n",
    "    else:\n",
    "        df_cm = pd.DataFrame(cm, labels, labels)\n",
    "        \n",
    "    f,ax = plt.subplots(figsize=(6,6))\n",
    "    sns.set(font_scale=1.4)#for label size\n",
    "    sns.heatmap(df_cm, annot=True,fmt=\"d\",annot_kws={\"fontsize\": 14,\"color\":'k'},\n",
    "                square=True,linecolor='k',linewidth=1.5,cmap=cmap,cbar=False)\n",
    "    ax.tick_params(axis='y',labelrotation=0.0,left=True)\n",
    "    # font size\n",
    "    plt.title('Confusion matrix')\n",
    "    plt.xlabel('Predicted')\n",
    "    plt.ylabel('True')\n",
    "    plt.show()\n"
   ]
  },
  {
   "cell_type": "markdown",
   "metadata": {
    "id": "WLp0Vrj5sWdN"
   },
   "source": [
    "#### Experimental setup"
   ]
  },
  {
   "cell_type": "code",
   "execution_count": null,
   "metadata": {
    "executionInfo": {
     "elapsed": 343,
     "status": "ok",
     "timestamp": 1634904313703,
     "user": {
      "displayName": "Bob Van Dyck",
      "photoUrl": "https://lh3.googleusercontent.com/a/default-user=s64",
      "userId": "09704130763050227218"
     },
     "user_tz": -120
    },
    "id": "rFQ6KEvMaDTR"
   },
   "outputs": [],
   "source": [
    "# Features (X) and labels (y) used for experiment\n",
    "\n",
    "# input data\n",
    "train_X = MFCC_train\n",
    "test_X = MFCC_test\n",
    "\n",
    "# define One-Hot Encoding for labels\n",
    "labels = [\"a\", \"i\", \"uw\"]\n",
    "labeldict = {\"a\" : 0, \"i\" : 1, \"uw\" : 2} \n",
    "inv_labeldict = {v : k for k, v in labeldict.items()}\n",
    "\n",
    "# more flexible label dictionairy (based on labels)\n",
    "# labels = [\"a\",\"i\",\"uw\",\"extra_label\"]\n",
    "# labeldict = {k : v for k, v in zip(labels, np.arange(len(labels)))}\n",
    "# inv_labeldict = {v : k for k, v in labeldict.items()}\n",
    "\n",
    "# encode labels\n",
    "train_y = np.vectorize(labeldict.get)(y_train)\n",
    "test_y = np.vectorize(labeldict.get)(y_test)"
   ]
  },
  {
   "cell_type": "code",
   "execution_count": null,
   "metadata": {
    "executionInfo": {
     "elapsed": 213,
     "status": "ok",
     "timestamp": 1634904317296,
     "user": {
      "displayName": "Bob Van Dyck",
      "photoUrl": "https://lh3.googleusercontent.com/a/default-user=s64",
      "userId": "09704130763050227218"
     },
     "user_tz": -120
    },
    "id": "I0Tupeh0w2Xi"
   },
   "outputs": [],
   "source": [
    "# network dimensions\n",
    "in_dim = train_X.shape[1]\n",
    "out_dim = len(classes)\n",
    "hidden_layer_sizes = [512,512]\n",
    "\n",
    "# set device\n",
    "device = torch.device(\"cuda:0\" if torch.cuda.is_available() else \"cpu\")"
   ]
  },
  {
   "cell_type": "markdown",
   "metadata": {
    "id": "7Q0emNBmtsd1"
   },
   "source": [
    "##### Batch gradient descent"
   ]
  },
  {
   "cell_type": "code",
   "execution_count": null,
   "metadata": {
    "colab": {
     "base_uri": "https://localhost:8080/",
     "height": 468
    },
    "executionInfo": {
     "elapsed": 36742,
     "status": "ok",
     "timestamp": 1634904355560,
     "user": {
      "displayName": "Bob Van Dyck",
      "photoUrl": "https://lh3.googleusercontent.com/a/default-user=s64",
      "userId": "09704130763050227218"
     },
     "user_tz": -120
    },
    "id": "tKOzd3sxcDO5",
    "outputId": "368314e3-7cae-4c56-c3d7-fd769ccb9109"
   },
   "outputs": [],
   "source": [
    "# batch gradient descent\n",
    "batch_model = simple_ffnn(in_dim=in_dim, out_dim=out_dim, hidden_layer_sizes=hidden_layer_sizes)\n",
    "\n",
    "# training setup\n",
    "n_epochs = 500\n",
    "batch_lrn_rate = 0.001\n",
    "batch_criterion = nn.CrossEntropyLoss()  # applies softmax()\n",
    "batch_optimizer = torch.optim.Adam(batch_model.parameters(), lr=batch_lrn_rate) # ties model-parameters to optimizer (back-propagation)\n",
    "\n",
    "# train network\n",
    "batch_train_loss= train_batch(batch_model, train_X, train_y, batch_criterion, batch_optimizer, device, n_epochs)\n",
    "\n",
    "# plot training loss\n",
    "plt.figure()\n",
    "plt.plot(batch_train_loss)\n",
    "plt.title(\"Training loss - batch gradient descent\")"
   ]
  },
  {
   "cell_type": "code",
   "execution_count": null,
   "metadata": {
    "colab": {
     "base_uri": "https://localhost:8080/",
     "height": 442
    },
    "executionInfo": {
     "elapsed": 652,
     "status": "ok",
     "timestamp": 1634904477040,
     "user": {
      "displayName": "Bob Van Dyck",
      "photoUrl": "https://lh3.googleusercontent.com/a/default-user=s64",
      "userId": "09704130763050227218"
     },
     "user_tz": -120
    },
    "id": "b4YYkT_urIXk",
    "outputId": "7855636d-31e3-455f-9097-341f2ee4229a"
   },
   "outputs": [],
   "source": [
    "# Confusion matrix\n",
    "cm = confusionmatrix(batch_model, test_X, test_y, device)\n",
    "plot_confusion_matrix(cm, classes)\n",
    "\n",
    "# Phone Error Rate (PER) + PER per phone class\n",
    "per, per_pc = evaluate_PER(cm)\n",
    "print(\"PER %.2f and PER per phone class %s\" % (per, np.round(per_pc, 4)))\n",
    "\n",
    "# Cross-entropy loss\n",
    "print(\"CEL %.2f\" % evaluate_criterion(batch_model, test_X, test_y, batch_criterion, device))"
   ]
  },
  {
   "cell_type": "markdown",
   "metadata": {
    "id": "mksQj9lmxFBV"
   },
   "source": [
    "##### Mini-batch gradient descent"
   ]
  },
  {
   "cell_type": "code",
   "execution_count": null,
   "metadata": {
    "executionInfo": {
     "elapsed": 290,
     "status": "ok",
     "timestamp": 1634904480192,
     "user": {
      "displayName": "Bob Van Dyck",
      "photoUrl": "https://lh3.googleusercontent.com/a/default-user=s64",
      "userId": "09704130763050227218"
     },
     "user_tz": -120
    },
    "id": "Ovbiy5MGyC77"
   },
   "outputs": [],
   "source": [
    "# Dataset and Dataloader for easy sampling mini-batches\n",
    "\n",
    "# construct dataset\n",
    "train_ds = SimpleDataset(train_X, train_y, labels, labeldict, device)\n",
    "\n",
    "# construct dataloader\n",
    "batch_size = 32\n",
    "shuffle = True\n",
    "train_dl = DataLoader(train_ds, batch_size=batch_size, shuffle=shuffle, num_workers=0)"
   ]
  },
  {
   "cell_type": "code",
   "execution_count": null,
   "metadata": {
    "colab": {
     "base_uri": "https://localhost:8080/",
     "height": 378
    },
    "executionInfo": {
     "elapsed": 70780,
     "status": "ok",
     "timestamp": 1634904552932,
     "user": {
      "displayName": "Bob Van Dyck",
      "photoUrl": "https://lh3.googleusercontent.com/a/default-user=s64",
      "userId": "09704130763050227218"
     },
     "user_tz": -120
    },
    "id": "yNIhufu1w4Vj",
    "outputId": "1101c59f-c008-428c-e2a6-7d6d1db0f5ca"
   },
   "outputs": [],
   "source": [
    "# mini-batch gradient descent\n",
    "minibatch_model = simple_ffnn(in_dim=in_dim, out_dim=out_dim, hidden_layer_sizes=hidden_layer_sizes)\n",
    "\n",
    "# training setup\n",
    "n_epochs = 200\n",
    "mb_lrn_rate = 0.001\n",
    "mb_criterion = nn.CrossEntropyLoss()  # applies softmax()\n",
    "mb_optimizer = torch.optim.Adam(minibatch_model.parameters(), lr=mb_lrn_rate) # ties model-parameters to optimizer (back-propagation)\n",
    "\n",
    "# train network\n",
    "mb_train_loss = train_minibatch(minibatch_model, train_dl, mb_criterion, mb_optimizer, device, n_epochs)\n",
    "\n",
    "# plot training loss\n",
    "plt.figure()\n",
    "plt.plot(mb_train_loss)\n",
    "plt.title(\"Training loss - batch gradient descent\")\n"
   ]
  },
  {
   "cell_type": "code",
   "execution_count": null,
   "metadata": {
    "colab": {
     "base_uri": "https://localhost:8080/",
     "height": 458
    },
    "executionInfo": {
     "elapsed": 137912,
     "status": "ok",
     "timestamp": 1607958619483,
     "user": {
      "displayName": "Bob Van Dyck",
      "photoUrl": "",
      "userId": "09704130763050227218"
     },
     "user_tz": -60
    },
    "id": "0b56P9BGxbGL",
    "outputId": "046994ca-0a14-4d2d-cffa-7bed9a1f7df2"
   },
   "outputs": [],
   "source": [
    "# Confusion matrix\n",
    "cm = confusionmatrix(minibatch_model, test_X, test_y, device)\n",
    "plot_confusion_matrix(cm, classes)\n",
    "\n",
    "# Phone Error Rate (PER) + PER per phone class\n",
    "per, per_pc = evaluate_PER(cm)\n",
    "print(\"PER %.2f and PER per phone class %s\" % (per, np.round(per_pc, 4)))\n",
    "\n",
    "# Cross-entropy loss\n",
    "print(\"CEL %.2f\" % evaluate_criterion(minibatch_model, test_X, test_y, batch_criterion, device))"
   ]
  },
  {
   "cell_type": "markdown",
   "metadata": {
    "id": "51MbqnIWrCbU"
   },
   "source": [
    "#### Mini-batch gradient descent with early stopping"
   ]
  },
  {
   "cell_type": "code",
   "execution_count": null,
   "metadata": {
    "colab": {
     "base_uri": "https://localhost:8080/",
     "height": 595
    },
    "executionInfo": {
     "elapsed": 194128,
     "status": "ok",
     "timestamp": 1607958675705,
     "user": {
      "displayName": "Bob Van Dyck",
      "photoUrl": "",
      "userId": "09704130763050227218"
     },
     "user_tz": -60
    },
    "id": "an5DeiJUmePh",
    "outputId": "bcff36a9-d5b0-46ed-bc12-4f811dc767b5"
   },
   "outputs": [],
   "source": [
    "# test training method: mini-batch gradient descent\n",
    "minibatch_es_model = simple_ffnn(in_dim=in_dim, out_dim=out_dim, hidden_layer_sizes=hidden_layer_sizes)\n",
    "\n",
    "# training setup\n",
    "n_epochs = 200\n",
    "patience = 30\n",
    "mb_es_lrn_rate = 0.0001\n",
    "mb_es_criterion = nn.CrossEntropyLoss()  # applies softmax()\n",
    "mb_es_optimizer = torch.optim.Adam(minibatch_es_model.parameters(), lr=mb_es_lrn_rate) # ties model-parameters to optimizer (back-propagation)\n",
    "\n",
    "# train network\n",
    "mb_es_train_loss, mb_es_valid_loss = train_minbatch_earlystopping(minibatch_es_model, train_dl, mb_es_criterion, mb_es_optimizer, device, n_epochs, test_X, test_y, patience)\n",
    "\n",
    "# plot training loss\n",
    "plt.figure()\n",
    "plt.plot(mb_es_train_loss)\n",
    "plt.plot(mb_es_valid_loss)\n",
    "plt.title(\"Training loss - batch gradient descent\")"
   ]
  },
  {
   "cell_type": "code",
   "execution_count": null,
   "metadata": {
    "colab": {
     "base_uri": "https://localhost:8080/",
     "height": 458
    },
    "executionInfo": {
     "elapsed": 194362,
     "status": "ok",
     "timestamp": 1607958675944,
     "user": {
      "displayName": "Bob Van Dyck",
      "photoUrl": "",
      "userId": "09704130763050227218"
     },
     "user_tz": -60
    },
    "id": "2QQnaL7poyAA",
    "outputId": "71665480-1c39-4cfa-de54-75fcedb3c9c8"
   },
   "outputs": [],
   "source": [
    "# Confusion matrix\n",
    "cm = confusionmatrix(minibatch_es_model, test_X, test_y, device)\n",
    "plot_confusion_matrix(cm, classes)\n",
    "\n",
    "# Phone Error Rate (PER) + PER per phone class\n",
    "per, per_pc = evaluate_PER(cm)\n",
    "print(\"PER %.2f and PER per phone class %s\" % (per, np.round(per_pc, 4)))\n",
    "\n",
    "# Cross-entropy loss\n",
    "print(\"CEL %.2f\" % evaluate_criterion(minibatch_es_model, test_X, test_y, batch_criterion, device))"
   ]
  }
 ],
 "metadata": {
  "colab": {
   "collapsed_sections": [],
   "name": "tiny_timit_in_pytorch.ipynb",
   "provenance": [
    {
     "file_id": "https://github.com/compi1234/spchlab/blob/master/session3/timit-1.ipynb",
     "timestamp": 1601551199644
    }
   ]
  },
  "kernelspec": {
   "display_name": "Python 3",
   "language": "python",
   "name": "python3"
  },
  "language_info": {
   "codemirror_mode": {
    "name": "ipython",
    "version": 3
   },
   "file_extension": ".py",
   "mimetype": "text/x-python",
   "name": "python",
   "nbconvert_exporter": "python",
   "pygments_lexer": "ipython3",
   "version": "3.7.8"
  },
  "widgets": {
   "application/vnd.jupyter.widget-state+json": {
    "state": {},
    "version_major": 2,
    "version_minor": 0
   }
  }
 },
 "nbformat": 4,
 "nbformat_minor": 4
}
>>>>>>> 9cedf3d3fbb2b93a9199297405e6ead566879748
