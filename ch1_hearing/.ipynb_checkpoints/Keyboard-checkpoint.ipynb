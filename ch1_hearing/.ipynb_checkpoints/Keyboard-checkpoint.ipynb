{
 "cells": [
  {
   "cell_type": "markdown",
   "metadata": {
    "slideshow": {
     "slide_type": "slide"
    }
   },
   "source": [
    "# Tones, Frequency and Pitch on a Synthesizer Keyboard\n",
    "\n",
    "In this notebook the concepts of **pitch** and **frequency** of a **note** are illustrated on a synthesizer keyboard.  \n",
    "For simplicity reasons this notebook synthesizes **pure tones**(sinewaves).    \n",
    "We also show the mapping to common **midi** notation.\n",
    "\n",
    "Natural sounds from musical instruments or the human voice are much more complex and often (quasi)-periodic signals.  For these sounds the pitch percept corresponds typically to the main periodicity or equivalently to the fundamental frequency.\n",
    "For more detailed elaboration look for demos on the subject of *Pitch & Timbre*.\n",
    "  \n",
    "By default we use simple 5msec ramping up and down of tones, to avoid some click like artificats at onset or offsets.\n",
    "In the last demo we use triangular waves to make the sound a bit more keyboard like\n",
    "You can vary You can play with a few other characteristic onsets of various instruments\n",
    "\n",
    "##### CREDITS\n",
    "This is an elaborated and corrected version from [ch11_image/07_synth.ipynb](https://github.com/ipython-books/cookbook-2nd-code/blob/master/chapter11_image/07_synth.ipynb)\n",
    "in the *IPython Cookbook, 2nd Edition, Copyright (c) 2017 Cyrille Rossant*\n"
   ]
  },
  {
   "cell_type": "code",
   "execution_count": 1,
   "metadata": {
    "slideshow": {
     "slide_type": "skip"
    }
   },
   "outputs": [],
   "source": [
    "import numpy as np\n",
    "import matplotlib.pyplot as plt\n",
    "from IPython.display import  Audio, display, clear_output\n",
    "from ipywidgets import widgets\n",
    "from functools import partial\n",
    "from scipy import signal\n",
    "import pandas as pd\n",
    "\n",
    "%matplotlib inline\n",
    "\n",
    "pd.set_option(\"precision\", 1)"
   ]
  },
  {
   "cell_type": "code",
   "execution_count": 2,
   "metadata": {
    "slideshow": {
     "slide_type": "slide"
    }
   },
   "outputs": [],
   "source": [
    "# sampling rate and duration defaults for simple tones\n",
    "rate = 8000.\n",
    "duration = .25\n",
    "\n",
    "# utilities for generating a pure tone (and playing it) \n",
    "def synth(f, dur=.25,sample_rate = 8000,sigtype='sin',envelope='smooth'):\n",
    "    #x = np.sin(f * 2. * np.pi * t)\n",
    "    #return(x)\n",
    "    t = np.linspace(0.0, dur, int(dur*sample_rate), endpoint=False)\n",
    "    tt = 2.*np.pi*t*f\n",
    "    if sigtype == 'sin':\n",
    "        y = np.sin(tt)\n",
    "    elif sigtype == 'square':\n",
    "        y = signal.square(tt)\n",
    "    elif sigtype == 'triangle':\n",
    "        y = signal.sawtooth(tt,width=.5)\n",
    "    if envelope is None: return(y)\n",
    "    else: return( adsr_envelope(y,instr=envelope,sample_rate=sample_rate))\n",
    "\n",
    "# apply ADSR style envelope (attack, decay, systain, release)\n",
    "def adsr_envelope(y,instr=None,sample_rate=8000,s=1., A=0.005, D=0., R=0.005):\n",
    "    adsr={\n",
    "        'smooth':{'s':1.,'A':.005,'D':0.,'R':.005},\n",
    "        'keyboard':{'s':1.,'A':.005,'D':0.,'R':.025},\n",
    "        'guitar':{'s':1.,'A':.015,'D':0.,'R':.015},\n",
    "        'trumpet':{'s':.32,'A':.030,'D':0.110,'R':.100},\n",
    "        'cello':{'s':.47,'A':.040,'D':0.290,'R':.200}\n",
    "    }\n",
    "    if instr is not None:\n",
    "        s=adsr[instr]['s']\n",
    "        A=adsr[instr]['A']\n",
    "        D=adsr[instr]['D']\n",
    "        R=adsr[instr]['R']\n",
    "    \n",
    "    y1= np.zeros(y.shape)\n",
    "    n4 = len(y)\n",
    "    t4 = n4/sample_rate\n",
    "    t1 = A\n",
    "    t2 = A+D\n",
    "    t3 = t4 - R\n",
    "    n1 = int(t1*sample_rate)\n",
    "    n2 = int(t2*sample_rate)\n",
    "    n3 = int(t3*sample_rate)\n",
    "    y1[0:n1] = y[0:n1]*(.5+.5*signal.sawtooth(2*np.pi*np.linspace(0,1,n1,endpoint=False)))\n",
    "    y1[n1:n2] = y[n1:n2]*(.5+.5*s-.5*(1-s)*signal.sawtooth(2*np.pi*np.linspace(0,1,n2-n1,endpoint=False)))\n",
    "    y1[n2:n3] = y[n2:n3]*s\n",
    "    y1[n3:n4] = y[n3:n4]*s* np.exp(-np.log(100)*np.linspace(0,1,n4-n3,endpoint=False))\n",
    "    return(y1)\n",
    "\n",
    "def play(x,AutoPlay=True,rate=rate):\n",
    "    display(Audio(x, rate=rate, autoplay=AutoPlay))"
   ]
  },
  {
   "cell_type": "markdown",
   "metadata": {},
   "source": [
    "### Musical Scales\n",
    "\n",
    "We are all familiar to some extent with the concept of musical notes making up melodies.   But where do these notes come from ?"
   ]
  },
  {
   "cell_type": "markdown",
   "metadata": {
    "slideshow": {
     "slide_type": "slide"
    }
   },
   "source": [
    "#### Synthesize a short sinewave of 440Hz\n",
    "This corresponds to A4 in music notation and in MIDI it has a value of 69."
   ]
  },
  {
   "cell_type": "code",
   "execution_count": 3,
   "metadata": {
    "podoc": {
     "output_text": "Sound widget"
    },
    "slideshow": {
     "slide_type": "subslide"
    }
   },
   "outputs": [
    {
     "data": {
      "text/html": [
       "\n",
       "                <audio  controls=\"controls\" >\n",
       "                    <source src=\"data:audio/wav;base64,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\" type=\"audio/wav\" />\n",
       "                    Your browser does not support the audio element.\n",
       "                </audio>\n",
       "              "
      ],
      "text/plain": [
       "<IPython.lib.display.Audio object>"
      ]
     },
     "metadata": {},
     "output_type": "display_data"
    }
   ],
   "source": [
    "#play(synth(440),AutoPlay=AutoPlay)\n",
    "display(Audio(synth(440),autoplay=False,rate=rate));"
   ]
  },
  {
   "cell_type": "markdown",
   "metadata": {
    "slideshow": {
     "slide_type": "slide"
    }
   },
   "source": [
    "#### Tones, pitch and musical scales\n",
    "Pitch is the more technical (and psychoacoustic) term for what you may know as how high a tone sounds like.   \n",
    "Expresssing the pitch may be done in a number of different ways.\n",
    "- Frequency (in Hz) ... the engineering way\n",
    "- Musical Notes  (C, A#, B*b*, ... ) ... the musicians way\n",
    "    + these letter notations denote the relative position within a single octave\n",
    "    + for 'absolute' tonal information we need to add a key, register or octave: A4 ~ 440Hz , A3 ~ 220Hz\n",
    "- MIDI numbers ... the synthesizer's way (a semitone scale)   \n",
    "\n",
    "Both the musical and MIDI notations used here are based on the Western music scale with 12 semitones in an octave\n",
    "\n",
    "A standard piano keyboard with 88 keys looks like this:\n",
    "\n",
    "<img src=\"88_key_piano.png\">\n",
    "\n",
    "The note marked in red is \"C4\", i.e. the C key in the 4th octave.   \n",
    "\n",
    "A mapping is given between note (in musical notation), frequency (in Hz) and midi number is shown for octave starting at C4. \n",
    "\n",
    "##### Questions\n",
    "1. What is the frequency and the MIDI number for note F5 ?"
   ]
  },
  {
   "cell_type": "code",
   "execution_count": 5,
   "metadata": {
    "slideshow": {
     "slide_type": "subslide"
    }
   },
   "outputs": [
    {
     "data": {
      "text/html": [
       "<div>\n",
       "<style scoped>\n",
       "    .dataframe tbody tr th:only-of-type {\n",
       "        vertical-align: middle;\n",
       "    }\n",
       "\n",
       "    .dataframe tbody tr th {\n",
       "        vertical-align: top;\n",
       "    }\n",
       "\n",
       "    .dataframe thead th {\n",
       "        text-align: right;\n",
       "    }\n",
       "</style>\n",
       "<table border=\"1\" class=\"dataframe\">\n",
       "  <thead>\n",
       "    <tr style=\"text-align: right;\">\n",
       "      <th></th>\n",
       "      <th>Note</th>\n",
       "      <th>Freq(Hz)</th>\n",
       "      <th>MIDI</th>\n",
       "    </tr>\n",
       "  </thead>\n",
       "  <tbody>\n",
       "    <tr>\n",
       "      <th>0</th>\n",
       "      <td>C4</td>\n",
       "      <td>261.6</td>\n",
       "      <td>60</td>\n",
       "    </tr>\n",
       "    <tr>\n",
       "      <th>1</th>\n",
       "      <td>C#4</td>\n",
       "      <td>277.2</td>\n",
       "      <td>61</td>\n",
       "    </tr>\n",
       "    <tr>\n",
       "      <th>2</th>\n",
       "      <td>D4</td>\n",
       "      <td>293.7</td>\n",
       "      <td>62</td>\n",
       "    </tr>\n",
       "    <tr>\n",
       "      <th>3</th>\n",
       "      <td>D#4</td>\n",
       "      <td>311.1</td>\n",
       "      <td>63</td>\n",
       "    </tr>\n",
       "    <tr>\n",
       "      <th>4</th>\n",
       "      <td>E4</td>\n",
       "      <td>329.6</td>\n",
       "      <td>64</td>\n",
       "    </tr>\n",
       "    <tr>\n",
       "      <th>5</th>\n",
       "      <td>F4</td>\n",
       "      <td>349.2</td>\n",
       "      <td>65</td>\n",
       "    </tr>\n",
       "    <tr>\n",
       "      <th>6</th>\n",
       "      <td>F#4</td>\n",
       "      <td>370.0</td>\n",
       "      <td>66</td>\n",
       "    </tr>\n",
       "    <tr>\n",
       "      <th>7</th>\n",
       "      <td>G4</td>\n",
       "      <td>392.0</td>\n",
       "      <td>67</td>\n",
       "    </tr>\n",
       "    <tr>\n",
       "      <th>8</th>\n",
       "      <td>G#4</td>\n",
       "      <td>415.3</td>\n",
       "      <td>68</td>\n",
       "    </tr>\n",
       "    <tr>\n",
       "      <th>9</th>\n",
       "      <td>A4</td>\n",
       "      <td>440.0</td>\n",
       "      <td>69</td>\n",
       "    </tr>\n",
       "    <tr>\n",
       "      <th>10</th>\n",
       "      <td>A#4</td>\n",
       "      <td>466.2</td>\n",
       "      <td>70</td>\n",
       "    </tr>\n",
       "    <tr>\n",
       "      <th>11</th>\n",
       "      <td>B4</td>\n",
       "      <td>493.9</td>\n",
       "      <td>71</td>\n",
       "    </tr>\n",
       "    <tr>\n",
       "      <th>12</th>\n",
       "      <td>C5</td>\n",
       "      <td>523.3</td>\n",
       "      <td>72</td>\n",
       "    </tr>\n",
       "  </tbody>\n",
       "</table>\n",
       "</div>"
      ],
      "text/plain": [
       "   Note  Freq(Hz)  MIDI\n",
       "0    C4     261.6    60\n",
       "1   C#4     277.2    61\n",
       "2    D4     293.7    62\n",
       "3   D#4     311.1    63\n",
       "4    E4     329.6    64\n",
       "5    F4     349.2    65\n",
       "6   F#4     370.0    66\n",
       "7    G4     392.0    67\n",
       "8   G#4     415.3    68\n",
       "9    A4     440.0    69\n",
       "10  A#4     466.2    70\n",
       "11   B4     493.9    71\n",
       "12   C5     523.3    72"
      ]
     },
     "execution_count": 5,
     "metadata": {},
     "output_type": "execute_result"
    }
   ],
   "source": [
    "def m2f(m):\n",
    "    f = 2.**((m-69.)/12.0) * 440.\n",
    "    return(f)\n",
    "def f2m(f):\n",
    "    m=12.*log2(f/440.0)+69.\n",
    "    return(m)\n",
    "def note2f(note):\n",
    "    return(m2f(note2m(note)))\n",
    "def note2m(note):\n",
    "    semitones={'C':0,'D':2,'E':4,'F':5,'G':7,'A':9,'B':11}\n",
    "    register=note[-1]\n",
    "    m = 12 + int(register)*12 + semitones[note[0]]\n",
    "    if(len(note)>2): \n",
    "        if(note[1] =='#'): m+=1\n",
    "        elif(note[1] =='b'): m-=1\n",
    "    return(m)\n",
    "\n",
    "# Create a mapping table between different notations for notes in the middle segment\n",
    "notes = 'C4,C#4,D4,D#4,E4,F4,F#4,G4,G#4,A4,A#4,B4,C5'.split(',')\n",
    "midis = [note2m(key) for key in notes]\n",
    "freqs = [note2f(key) for key in notes]\n",
    "keyboard = list(zip(notes,freqs,midis))\n",
    "pd.DataFrame(keyboard,columns=['Note','Freq(Hz)','MIDI'])"
   ]
  },
  {
   "cell_type": "markdown",
   "metadata": {
    "slideshow": {
     "slide_type": "slide"
    }
   },
   "source": [
    "### Play a note on the synthesizer keyboard to hear its pitch\n",
    "\n",
    "The same set of notes is now layed out on a keyboard that you can play. \n",
    "When hitting a key, the corresponding note is played and the corresponding waveform is diplayed.\n",
    "\n",
    "##### Things to investigate\n",
    "\n",
    "1. Just hit one or a few keys on the synthesizer and listen to them, especially in terms of \"pitch\" ranking\n",
    "\n",
    "2. Compare the waveforms of the low and high C notes (C4 vs. C5).  What is similar, what is different ?"
   ]
  },
  {
   "cell_type": "code",
   "execution_count": 13,
   "metadata": {
    "slideshow": {
     "slide_type": "fragment"
    }
   },
   "outputs": [
    {
     "name": "stdout",
     "output_type": "stream",
     "text": [
      "The top line shows the MIDI numbers\n",
      "The second line shows the frequencies of the tones in Hz\n",
      "The bottom section is a synthesizer keyboard with the notes on it\n",
      "Hit a note on the keyboard to hear it\n"
     ]
    },
    {
     "data": {
      "application/vnd.jupyter.widget-view+json": {
       "model_id": "f2b64fb47dcf48d0928aa6bf1a149b70",
       "version_major": 2,
       "version_minor": 0
      },
      "text/plain": [
       "VBox(children=(HBox(children=(Button(description='60', layout=Layout(border='0px solid blue', height='30px', w…"
      ]
     },
     "metadata": {},
     "output_type": "display_data"
    }
   ],
   "source": [
    "%precision 0\n",
    "layout = widgets.Layout(\n",
    "    width='42px', height='80px',\n",
    "    border='2px solid black')\n",
    "layout1 = widgets.Layout(\n",
    "    width='42px', height='30px',\n",
    "    border='0px solid blue')\n",
    "buttons = []\n",
    "midi_buttons = []\n",
    "freq_buttons = []\n",
    "output = widgets.Output()\n",
    "#output.layout.width='500px'\n",
    "for note,f,m  in keyboard:\n",
    "    button = widgets.Button(description=note[0:-1], layout=layout)\n",
    "    if(note[1]=='#'): button.style.button_color='#BBBBBB'\n",
    "    else: button.style.button_color='white'\n",
    "    button.style.font_weight='bold'\n",
    "    \n",
    "    midi_button = widgets.Button(description=str(m),layout=layout1)\n",
    "    freq_button = widgets.Button(description=\"%.0f\"%(f),layout=layout1)\n",
    "\n",
    "    def on_button_clicked(f, b):\n",
    "        # When a button is clicked, we play the sound\n",
    "        # in the Output widget.\n",
    "        with output:\n",
    "            #print(\"hallo\",f)\n",
    "            clear_output()\n",
    "            y=synth(f,sample_rate=8000)\n",
    "            fig,ax = plt.subplots(figsize=(8,2))\n",
    "            ax.plot(np.arange(0.,.01,1/8000.),y[80:160])\n",
    "            ax.set_title(\"Waveform (10msec segment)\")\n",
    "            plt.close()\n",
    "\n",
    "            display(fig)\n",
    "            display(Audio(y,autoplay=True,rate=rate))\n",
    "            \n",
    "    button.on_click(partial(on_button_clicked,f))\n",
    "    buttons.append(button)\n",
    "    midi_buttons.append(midi_button)\n",
    "    freq_buttons.append(freq_button)\n",
    "\n",
    "    \n",
    "midi_buttons.append( widgets.Button( description='MIDI',\n",
    "                          layout=widgets.Layout(width='100px'),\n",
    "                          style=widgets.ButtonStyle(button_color='#EEFFDD')) )\n",
    "freq_buttons.append( widgets.Button( description='Frequency',\n",
    "                          layout=widgets.Layout(width='100px'),\n",
    "                          style=widgets.ButtonStyle(button_color='#EEFFDD')) )\n",
    "buttons.append( widgets.Button( description='Note',\n",
    "                          layout=widgets.Layout(width='100px',height='80px'),\n",
    "                          style=widgets.ButtonStyle(button_color='#EEFFDD')) )\n",
    "\n",
    "\n",
    "# We place all buttons horizontally.\n",
    "print(\"The top line shows the MIDI numbers\")\n",
    "print(\"The second line shows the frequencies of the tones in Hz\")\n",
    "print(\"The bottom section is a synthesizer keyboard with the notes on it\")\n",
    "print(\"Hit a note on the keyboard to hear it\")\n",
    "piano = widgets.VBox([widgets.HBox(midi_buttons),widgets.HBox(freq_buttons),widgets.HBox(buttons),output])\n",
    "piano"
   ]
  },
  {
   "cell_type": "markdown",
   "metadata": {
    "slideshow": {
     "slide_type": "slide"
    }
   },
   "source": [
    "### Finally play a simple melody\n",
    "Here we select triangular waves to make it sound a bit more pleasant.\n",
    "You can choose between 'sin', 'triangle' or 'square'\n",
    "\n",
    "##### Things to investigate:\n",
    "1. Does the melody change if you change the signal shape ?\n",
    "\n",
    "2. Describe intuitively the differences that you hear between the different signal shapes.  (For more detail, cfr. exercises on the influence of spectral envelope on timbre)\n",
    "\n"
   ]
  },
  {
   "cell_type": "code",
   "execution_count": null,
   "metadata": {
    "slideshow": {
     "slide_type": "fragment"
    }
   },
   "outputs": [],
   "source": [
    "sigtype='triangle'\n",
    "melody = ['C4','D4','E4','C4','E4','F4','G4','A0','C4','D4','E4','C4','E4','F4','G4']\n",
    "y=[]\n",
    "for note in melody:\n",
    "      x = synth(note2f(note),sigtype=sigtype)\n",
    "      y = np.append(y,x,axis=0)\n",
    "display(Audio(y,rate=rate,autoplay=False))\n",
    "plt.plot(y[0:800])\n",
    "plt.title(\"First 800 samples of the melody\");"
   ]
  }
 ],
 "metadata": {
  "kernelspec": {
   "display_name": "Python 3",
   "language": "python",
   "name": "python3"
  },
  "language_info": {
   "codemirror_mode": {
    "name": "ipython",
    "version": 3
   },
   "file_extension": ".py",
   "mimetype": "text/x-python",
   "name": "python",
   "nbconvert_exporter": "python",
   "pygments_lexer": "ipython3",
   "version": "3.7.8"
  },
  "widgets": {
   "application/vnd.jupyter.widget-state+json": {
    "state": {
     "0088d92ec81c46648fe2bff7fcaef6a8": {
      "model_module": "@jupyter-widgets/controls",
      "model_module_version": "1.5.0",
      "model_name": "ButtonModel",
      "state": {
       "description": "Note",
       "layout": "IPY_MODEL_7498ac7dd52e4738951566002d24637e",
       "style": "IPY_MODEL_8b7f9f1bab664040a2d9b19ece3688ef"
      }
     },
     "00af32b3a908434a9d1734d8900858f4": {
      "model_module": "@jupyter-widgets/controls",
      "model_module_version": "1.5.0",
      "model_name": "ButtonModel",
      "state": {
       "description": "F",
       "layout": "IPY_MODEL_0ce70a23b86147e598ab80566c43fba2",
       "style": "IPY_MODEL_ccfa7624ca3547cc8a28d02dd7961d5c"
      }
     },
     "0225e6815e5c4f03bfd8a583f7e0f1df": {
      "model_module": "@jupyter-widgets/controls",
      "model_module_version": "1.5.0",
      "model_name": "ButtonModel",
      "state": {
       "description": "294",
       "layout": "IPY_MODEL_9d557a9525884cd9a0c6a0fd5123b9f8",
       "style": "IPY_MODEL_14a4a795f21346308d8e0efc6920795e"
      }
     },
     "038586672e2d425a9c6f21252738c8e8": {
      "model_module": "@jupyter-widgets/base",
      "model_module_version": "1.2.0",
      "model_name": "LayoutModel",
      "state": {
       "width": "100px"
      }
     },
     "0386903d4fa34bb580dd941d8ab7def4": {
      "model_module": "@jupyter-widgets/controls",
      "model_module_version": "1.5.0",
      "model_name": "ButtonModel",
      "state": {
       "description": "330",
       "layout": "IPY_MODEL_18482c16c6f847d3a4fd0b44e6d652c5",
       "style": "IPY_MODEL_11a3095ae5a6470ba0671830afa8955e"
      }
     },
     "03f2023b244448e0963d7f28bc8b141a": {
      "model_module": "@jupyter-widgets/controls",
      "model_module_version": "1.5.0",
      "model_name": "ButtonModel",
      "state": {
       "description": "C",
       "layout": "IPY_MODEL_9c3d99e658354a67968ab6adb6e1e835",
       "style": "IPY_MODEL_225ea35f4ed0426d9988d86af0ead246"
      }
     },
     "046520760c8d40c9a765e861058ad5f0": {
      "model_module": "@jupyter-widgets/controls",
      "model_module_version": "1.5.0",
      "model_name": "ButtonModel",
      "state": {
       "description": "65",
       "layout": "IPY_MODEL_f76697facfad4a86a4e1a527bc08d5ec",
       "style": "IPY_MODEL_d1bbc4ea78c94287bf8d6ce12169adbc"
      }
     },
     "0469c6f84b13454f81868aa26fb7426b": {
      "model_module": "@jupyter-widgets/controls",
      "model_module_version": "1.5.0",
      "model_name": "ButtonModel",
      "state": {
       "description": "294",
       "layout": "IPY_MODEL_d3b4a8b1eb4c4c88819d93fb337337c6",
       "style": "IPY_MODEL_191af1a33f9a4af8b4631c574497625b"
      }
     },
     "047d609094d34eebbb75eee313a1b0b9": {
      "model_module": "@jupyter-widgets/controls",
      "model_module_version": "1.5.0",
      "model_name": "ButtonStyleModel",
      "state": {
       "button_color": "white",
       "font_weight": "bold"
      }
     },
     "04a7ca6d4102453bb6c0cab7c9e756bd": {
      "model_module": "@jupyter-widgets/controls",
      "model_module_version": "1.5.0",
      "model_name": "ButtonModel",
      "state": {
       "description": "Frequency",
       "layout": "IPY_MODEL_49444d56a69442979ded1f7caf2f7bdf",
       "style": "IPY_MODEL_7b42cd05f5eb4b46ae86f7c698829f84"
      }
     },
     "04cc0c7144384fa38dcc3d12b957d34c": {
      "model_module": "@jupyter-widgets/controls",
      "model_module_version": "1.5.0",
      "model_name": "ButtonStyleModel",
      "state": {
       "button_color": "white",
       "font_weight": "bold"
      }
     },
     "04e5a0b722f743cfa7058db73ff2ead5": {
      "model_module": "@jupyter-widgets/controls",
      "model_module_version": "1.5.0",
      "model_name": "ButtonModel",
      "state": {
       "description": "60",
       "layout": "IPY_MODEL_9d557a9525884cd9a0c6a0fd5123b9f8",
       "style": "IPY_MODEL_c3f233a7dbe04bda9d475f1803b9538f"
      }
     },
     "050a47013610461c90ee8b27b8be7e7b": {
      "model_module": "@jupyter-widgets/controls",
      "model_module_version": "1.5.0",
      "model_name": "ButtonStyleModel",
      "state": {}
     },
     "05834008d65b4f3194c16ad238134eb8": {
      "model_module": "@jupyter-widgets/controls",
      "model_module_version": "1.5.0",
      "model_name": "ButtonModel",
      "state": {
       "description": "67",
       "layout": "IPY_MODEL_959046a4dcef42b58bbf3f9082dd5811",
       "style": "IPY_MODEL_3aa33b88e15f48a8ae990f08300af470"
      }
     },
     "05c3fe6a7baa4f0d91910a38f818c4c9": {
      "model_module": "@jupyter-widgets/controls",
      "model_module_version": "1.5.0",
      "model_name": "ButtonModel",
      "state": {
       "description": "311",
       "layout": "IPY_MODEL_35caf533714b49bfbbd81b1717789ca5",
       "style": "IPY_MODEL_519b0483a6b144eb805a86e5c376b9fd"
      }
     },
     "0612e23cd346490e81cdd3f313ac47a1": {
      "model_module": "@jupyter-widgets/controls",
      "model_module_version": "1.5.0",
      "model_name": "ButtonModel",
      "state": {
       "description": "68",
       "layout": "IPY_MODEL_39d952eaf546482a8abcb6a21092c223",
       "style": "IPY_MODEL_cbd4d8d363ea450da966289f5e234a86"
      }
     },
     "062c3ac48470459586c6759f82fddbd7": {
      "model_module": "@jupyter-widgets/controls",
      "model_module_version": "1.5.0",
      "model_name": "VBoxModel",
      "state": {
       "children": [
        "IPY_MODEL_7304e10f8d334b9f99d2363a5f396e07",
        "IPY_MODEL_59f1aa1e3b634359bf61cc4a3dbcaced",
        "IPY_MODEL_9c8e804eeddf44928152162e27934744",
        "IPY_MODEL_c17d0024b3864eb080836b1aa43efe79"
       ],
       "layout": "IPY_MODEL_ed2e9b41e8e443a789f8238cd4b57a35"
      }
     },
     "06f2156e4c4c4a6bb9c3aa19b9e8b301": {
      "model_module": "@jupyter-widgets/base",
      "model_module_version": "1.2.0",
      "model_name": "LayoutModel",
      "state": {}
     },
     "0722c85b49434d27968d8f15fd114e8b": {
      "model_module": "@jupyter-widgets/controls",
      "model_module_version": "1.5.0",
      "model_name": "ButtonModel",
      "state": {
       "description": "G",
       "layout": "IPY_MODEL_d37f618c4d194ae5b7e8455e28e44b63",
       "style": "IPY_MODEL_5ac6fdcc40164833a1ed860b5974ee7c"
      }
     },
     "072cac5e450f4389a8f3cd73329ca4eb": {
      "model_module": "@jupyter-widgets/controls",
      "model_module_version": "1.5.0",
      "model_name": "ButtonModel",
      "state": {
       "description": "F",
       "layout": "IPY_MODEL_4e742685616442d9a8c74b95c8291289",
       "style": "IPY_MODEL_f1bcb67e22bb467ab2ad4df804f797cc"
      }
     },
     "073c08f483864b8e9950638988a4a406": {
      "model_module": "@jupyter-widgets/controls",
      "model_module_version": "1.5.0",
      "model_name": "ButtonStyleModel",
      "state": {}
     },
     "0769ddfdb39e4027b54d3831489b7a19": {
      "model_module": "@jupyter-widgets/controls",
      "model_module_version": "1.5.0",
      "model_name": "ButtonStyleModel",
      "state": {}
     },
     "078b21e4ff9e4796ae8447a49d6079fb": {
      "model_module": "@jupyter-widgets/controls",
      "model_module_version": "1.5.0",
      "model_name": "ButtonModel",
      "state": {
       "description": "60",
       "layout": "IPY_MODEL_35caf533714b49bfbbd81b1717789ca5",
       "style": "IPY_MODEL_2b4abddc7b0e45d7b1a5f73a4f038ca3"
      }
     },
     "07d5ec70ba5b4ed395ad78ec150ae4ce": {
      "model_module": "@jupyter-widgets/controls",
      "model_module_version": "1.5.0",
      "model_name": "ButtonModel",
      "state": {
       "description": "D#",
       "layout": "IPY_MODEL_da2b95c2564e4a9cacc48f3f32033574",
       "style": "IPY_MODEL_e95f82d844f5409c9333f5b6348955b2"
      }
     },
     "0871ff073e874ce58b4f869cf686e2ff": {
      "model_module": "@jupyter-widgets/controls",
      "model_module_version": "1.5.0",
      "model_name": "ButtonStyleModel",
      "state": {}
     },
     "08cc3ace81bd4f4d84e5528f80ff60ba": {
      "model_module": "@jupyter-widgets/controls",
      "model_module_version": "1.5.0",
      "model_name": "ButtonModel",
      "state": {
       "description": "63",
       "layout": "IPY_MODEL_18482c16c6f847d3a4fd0b44e6d652c5",
       "style": "IPY_MODEL_3b0124117c6b464ea6487eefd6eca3a7"
      }
     },
     "08f6600d96494e9582580c74c5e787d8": {
      "model_module": "@jupyter-widgets/controls",
      "model_module_version": "1.5.0",
      "model_name": "ButtonStyleModel",
      "state": {}
     },
     "099c0e5b7b1a4617b38d729bc6805166": {
      "model_module": "@jupyter-widgets/controls",
      "model_module_version": "1.5.0",
      "model_name": "ButtonStyleModel",
      "state": {
       "button_color": "#BBBBBB",
       "font_weight": "bold"
      }
     },
     "0a0ee723a2494b809879566a191ef7ff": {
      "model_module": "@jupyter-widgets/controls",
      "model_module_version": "1.5.0",
      "model_name": "ButtonModel",
      "state": {
       "description": "262",
       "layout": "IPY_MODEL_39d952eaf546482a8abcb6a21092c223",
       "style": "IPY_MODEL_287ab0eb7cee40e9ae01c41f9890da2a"
      }
     },
     "0a6029e5f70c482a9258b9049403289c": {
      "model_module": "@jupyter-widgets/controls",
      "model_module_version": "1.5.0",
      "model_name": "ButtonStyleModel",
      "state": {
       "button_color": "white",
       "font_weight": "bold"
      }
     },
     "0a794e151296481588ee096fda5ef9a9": {
      "model_module": "@jupyter-widgets/controls",
      "model_module_version": "1.5.0",
      "model_name": "ButtonModel",
      "state": {
       "description": "B",
       "layout": "IPY_MODEL_1f73d6ed87f14cdba71fd37d0a99871a",
       "style": "IPY_MODEL_8b01b83faa0449ce92e60e276c3303a0"
      }
     },
     "0ae1afdb24904dcbba507b06918a7458": {
      "model_module": "@jupyter-widgets/controls",
      "model_module_version": "1.5.0",
      "model_name": "ButtonStyleModel",
      "state": {}
     },
     "0afcf52d031a4b34b752da9f500bbf43": {
      "model_module": "@jupyter-widgets/controls",
      "model_module_version": "1.5.0",
      "model_name": "ButtonModel",
      "state": {
       "description": "C#",
       "layout": "IPY_MODEL_0ce70a23b86147e598ab80566c43fba2",
       "style": "IPY_MODEL_a55fa83d09de4a4095ecd9d8369f11c2"
      }
     },
     "0b1aee0ca7004d398a3bf9b1fa8c1565": {
      "model_module": "@jupyter-widgets/controls",
      "model_module_version": "1.5.0",
      "model_name": "ButtonModel",
      "state": {
       "description": "G",
       "layout": "IPY_MODEL_0ce70a23b86147e598ab80566c43fba2",
       "style": "IPY_MODEL_83b205a0c5354873bf01e46cd8351db6"
      }
     },
     "0b72107f84e3467b8ea3d0ba246272b9": {
      "model_module": "@jupyter-widgets/controls",
      "model_module_version": "1.5.0",
      "model_name": "ButtonModel",
      "state": {
       "description": "294",
       "layout": "IPY_MODEL_39d952eaf546482a8abcb6a21092c223",
       "style": "IPY_MODEL_392c3f0c8cb14a71ab1fc01af7583e98"
      }
     },
     "0bbfb47cf17840c2b6e779795a7fea71": {
      "model_module": "@jupyter-widgets/controls",
      "model_module_version": "1.5.0",
      "model_name": "ButtonModel",
      "state": {
       "description": "62",
       "layout": "IPY_MODEL_35caf533714b49bfbbd81b1717789ca5",
       "style": "IPY_MODEL_723b3b2e8ede4ba5a4b22baa8964e9b2"
      }
     },
     "0c11fab8d9014ac49f5791b9fe47ef8d": {
      "model_module": "@jupyter-widgets/controls",
      "model_module_version": "1.5.0",
      "model_name": "ButtonModel",
      "state": {
       "description": "415",
       "layout": "IPY_MODEL_d3b4a8b1eb4c4c88819d93fb337337c6",
       "style": "IPY_MODEL_6c338a8a884b4433bbe6768fbcd841f6"
      }
     },
     "0c753b8173ea478081502a36d78211b2": {
      "model_module": "@jupyter-widgets/controls",
      "model_module_version": "1.5.0",
      "model_name": "ButtonModel",
      "state": {
       "description": "D",
       "layout": "IPY_MODEL_1ebcdd31d8b44db283e6a7b24e45c33d",
       "style": "IPY_MODEL_b3959292e5b64c9a9811073c62348ec1"
      }
     },
     "0ca7e915500648afa13cb93176368591": {
      "model_module": "@jupyter-widgets/controls",
      "model_module_version": "1.5.0",
      "model_name": "ButtonModel",
      "state": {
       "description": "A",
       "layout": "IPY_MODEL_d37f618c4d194ae5b7e8455e28e44b63",
       "style": "IPY_MODEL_8e54c9f93aec47168a5af35dec12e8d2"
      }
     },
     "0ce70a23b86147e598ab80566c43fba2": {
      "model_module": "@jupyter-widgets/base",
      "model_module_version": "1.2.0",
      "model_name": "LayoutModel",
      "state": {
       "border": "2px solid black",
       "height": "80px",
       "width": "42px"
      }
     },
     "0cea6943488947709cc72730c5ebbacb": {
      "model_module": "@jupyter-widgets/base",
      "model_module_version": "1.2.0",
      "model_name": "LayoutModel",
      "state": {}
     },
     "0d00dcb9536947409e6477119fd8b283": {
      "model_module": "@jupyter-widgets/controls",
      "model_module_version": "1.5.0",
      "model_name": "HBoxModel",
      "state": {
       "children": [
        "IPY_MODEL_04e5a0b722f743cfa7058db73ff2ead5",
        "IPY_MODEL_3aad5859bc0a4b689fe08d042d24978d",
        "IPY_MODEL_d7bbebf838974a6882118797040cd0f2",
        "IPY_MODEL_bef04f299ce14d4fa2d2cfa5afce6ed9",
        "IPY_MODEL_917e95163ebc461b820481cb413799a1",
        "IPY_MODEL_67f5418cd39f4b62aa4d34481575deeb",
        "IPY_MODEL_3926f3d9485040129d20278bcf636180",
        "IPY_MODEL_8d5c2f994aab40eeb31e5d8dfd3921ed",
        "IPY_MODEL_e0bc532b72024d2db75c5d4c0e57fb08",
        "IPY_MODEL_acf085d840b54685b3ab09d921c5beba",
        "IPY_MODEL_78746f20b3114ad28ad32dc8966f3cec",
        "IPY_MODEL_3c7ccfac03a245aa8e05b531b37f9b71",
        "IPY_MODEL_0d99f96ff1ab4f77a64c07724d3ed4cc",
        "IPY_MODEL_192f2e76ba9842e2a061dfbd6eeccfb9"
       ],
       "layout": "IPY_MODEL_afb897b5e17f4cbca36775b966781157"
      }
     },
     "0d61c7bc9a1a4f3cbe8d32d46ed83278": {
      "model_module": "@jupyter-widgets/controls",
      "model_module_version": "1.5.0",
      "model_name": "ButtonStyleModel",
      "state": {}
     },
     "0d99f96ff1ab4f77a64c07724d3ed4cc": {
      "model_module": "@jupyter-widgets/controls",
      "model_module_version": "1.5.0",
      "model_name": "ButtonModel",
      "state": {
       "description": "72",
       "layout": "IPY_MODEL_9d557a9525884cd9a0c6a0fd5123b9f8",
       "style": "IPY_MODEL_ca40a3d5e05e4cae99beedde96b3720d"
      }
     },
     "0db8744a21ab409a89ba28c9769e5885": {
      "model_module": "@jupyter-widgets/controls",
      "model_module_version": "1.5.0",
      "model_name": "ButtonModel",
      "state": {
       "description": "A",
       "layout": "IPY_MODEL_1f73d6ed87f14cdba71fd37d0a99871a",
       "style": "IPY_MODEL_47565130d36d4dac9ef85a5b3fd01c53"
      }
     },
     "0dc221a4aee846cbae5bc66b30201ab0": {
      "model_module": "@jupyter-widgets/controls",
      "model_module_version": "1.5.0",
      "model_name": "ButtonModel",
      "state": {
       "description": "C",
       "layout": "IPY_MODEL_1ebcdd31d8b44db283e6a7b24e45c33d",
       "style": "IPY_MODEL_32bfd7390a614cf2a7adf7bc91e88364"
      }
     },
     "0e2c4467ab3d4982b0dd8eb7df884a44": {
      "model_module": "@jupyter-widgets/controls",
      "model_module_version": "1.5.0",
      "model_name": "ButtonModel",
      "state": {
       "description": "63",
       "layout": "IPY_MODEL_35caf533714b49bfbbd81b1717789ca5",
       "style": "IPY_MODEL_1c537ba355234789bd264d38ccc66022"
      }
     },
     "0e601f9359f0483eaa516de1b0ce68fb": {
      "model_module": "@jupyter-widgets/controls",
      "model_module_version": "1.5.0",
      "model_name": "ButtonModel",
      "state": {
       "description": "D#",
       "layout": "IPY_MODEL_972469c993c048cdaa792f8d01c25ca5",
       "style": "IPY_MODEL_872c3754ab9f4c4883f4846cd66835b3"
      }
     },
     "0e8641ae133043388f0c5961b6caeed5": {
      "model_module": "@jupyter-widgets/controls",
      "model_module_version": "1.5.0",
      "model_name": "ButtonModel",
      "state": {
       "description": "330",
       "layout": "IPY_MODEL_d3b4a8b1eb4c4c88819d93fb337337c6",
       "style": "IPY_MODEL_d8ad2ec597984183b1296b26ddae0dc3"
      }
     },
     "0ea97c4158064839957de1bf3faa16b9": {
      "model_module": "@jupyter-widgets/controls",
      "model_module_version": "1.5.0",
      "model_name": "ButtonStyleModel",
      "state": {}
     },
     "0f2c8cd33e694a7f9a9f79ef57d33a62": {
      "model_module": "@jupyter-widgets/controls",
      "model_module_version": "1.5.0",
      "model_name": "ButtonModel",
      "state": {
       "description": "C",
       "layout": "IPY_MODEL_da2b95c2564e4a9cacc48f3f32033574",
       "style": "IPY_MODEL_a4f2858e101b4f30a989d78b2dffda8b"
      }
     },
     "0f75b8c655ec4d2f94e0c081eb370c04": {
      "model_module": "@jupyter-widgets/controls",
      "model_module_version": "1.5.0",
      "model_name": "ButtonModel",
      "state": {
       "description": "440",
       "layout": "IPY_MODEL_f76697facfad4a86a4e1a527bc08d5ec",
       "style": "IPY_MODEL_c0273bb05e5f4691b9f43e2dd0d215f5"
      }
     },
     "0f9e98a864b9449e9f52646242f4566d": {
      "model_module": "@jupyter-widgets/controls",
      "model_module_version": "1.5.0",
      "model_name": "ButtonModel",
      "state": {
       "description": "D#",
       "layout": "IPY_MODEL_1ebcdd31d8b44db283e6a7b24e45c33d",
       "style": "IPY_MODEL_73cb8bc8d7624e819b268171f4ca0255"
      }
     },
     "0fd06416f17f4f3294c26e50b79af0a2": {
      "model_module": "@jupyter-widgets/controls",
      "model_module_version": "1.5.0",
      "model_name": "ButtonStyleModel",
      "state": {}
     },
     "10de25e5f15247229303421fdfaa35da": {
      "model_module": "@jupyter-widgets/controls",
      "model_module_version": "1.5.0",
      "model_name": "ButtonStyleModel",
      "state": {}
     },
     "1111bd9b3d504611badd04950b908fc0": {
      "model_module": "@jupyter-widgets/controls",
      "model_module_version": "1.5.0",
      "model_name": "ButtonStyleModel",
      "state": {
       "button_color": "#BBBBBB",
       "font_weight": "bold"
      }
     },
     "11a3095ae5a6470ba0671830afa8955e": {
      "model_module": "@jupyter-widgets/controls",
      "model_module_version": "1.5.0",
      "model_name": "ButtonStyleModel",
      "state": {}
     },
     "11e26d097be54d369bdeaeb5190958eb": {
      "model_module": "@jupyter-widgets/controls",
      "model_module_version": "1.5.0",
      "model_name": "ButtonModel",
      "state": {
       "description": "67",
       "layout": "IPY_MODEL_39d952eaf546482a8abcb6a21092c223",
       "style": "IPY_MODEL_aa3314d7a3da4f92b0038007b684c3d3"
      }
     },
     "1274ae56eaa2424da060669875f4ea82": {
      "model_module": "@jupyter-widgets/controls",
      "model_module_version": "1.5.0",
      "model_name": "ButtonModel",
      "state": {
       "description": "262",
       "layout": "IPY_MODEL_9d557a9525884cd9a0c6a0fd5123b9f8",
       "style": "IPY_MODEL_4a71f3afb91d47d582c2e3917288b1ef"
      }
     },
     "127ec73c7bba477b8cb11ee595dcf582": {
      "model_module": "@jupyter-widgets/controls",
      "model_module_version": "1.5.0",
      "model_name": "ButtonStyleModel",
      "state": {}
     },
     "12e933e24d964a47b035f1882cdf1c59": {
      "model_module": "@jupyter-widgets/controls",
      "model_module_version": "1.5.0",
      "model_name": "ButtonModel",
      "state": {
       "description": "392",
       "layout": "IPY_MODEL_f76697facfad4a86a4e1a527bc08d5ec",
       "style": "IPY_MODEL_d53b81db811542aa84f3ca8c98bc6f3c"
      }
     },
     "1315a742d02544bcba03c86b8d1fc447": {
      "model_module": "@jupyter-widgets/controls",
      "model_module_version": "1.5.0",
      "model_name": "ButtonModel",
      "state": {
       "description": "62",
       "layout": "IPY_MODEL_d3b4a8b1eb4c4c88819d93fb337337c6",
       "style": "IPY_MODEL_e9574d50b1814332ae760040f1145256"
      }
     },
     "141bcc386b3f49168794cc73458ea80a": {
      "model_module": "@jupyter-widgets/controls",
      "model_module_version": "1.5.0",
      "model_name": "ButtonStyleModel",
      "state": {}
     },
     "14231058fc6444008d435e31290cc32f": {
      "model_module": "@jupyter-widgets/controls",
      "model_module_version": "1.5.0",
      "model_name": "ButtonModel",
      "state": {
       "description": "494",
       "layout": "IPY_MODEL_d3b4a8b1eb4c4c88819d93fb337337c6",
       "style": "IPY_MODEL_0d61c7bc9a1a4f3cbe8d32d46ed83278"
      }
     },
     "149f9ba0066c40f1a450ba2ad1c54c81": {
      "model_module": "@jupyter-widgets/controls",
      "model_module_version": "1.5.0",
      "model_name": "ButtonStyleModel",
      "state": {
       "button_color": "#BBBBBB",
       "font_weight": "bold"
      }
     },
     "14a4a795f21346308d8e0efc6920795e": {
      "model_module": "@jupyter-widgets/controls",
      "model_module_version": "1.5.0",
      "model_name": "ButtonStyleModel",
      "state": {}
     },
     "14b9cf74094f417691d4f8baa56ca0d7": {
      "model_module": "@jupyter-widgets/controls",
      "model_module_version": "1.5.0",
      "model_name": "ButtonModel",
      "state": {
       "description": "G",
       "layout": "IPY_MODEL_972469c993c048cdaa792f8d01c25ca5",
       "style": "IPY_MODEL_5ac7b1127956442c85c98c493ee310e0"
      }
     },
     "14e622cfbe4342baaf29b855893e8442": {
      "model_module": "@jupyter-widgets/base",
      "model_module_version": "1.2.0",
      "model_name": "LayoutModel",
      "state": {
       "width": "100px"
      }
     },
     "14fda8d809c04e1480cc06486e9f754c": {
      "model_module": "@jupyter-widgets/controls",
      "model_module_version": "1.5.0",
      "model_name": "ButtonModel",
      "state": {
       "description": "370",
       "layout": "IPY_MODEL_18482c16c6f847d3a4fd0b44e6d652c5",
       "style": "IPY_MODEL_ddfb573dfa4f4663afbed20577e7f56a"
      }
     },
     "156a441a0b48471bacfd1e0a14599a55": {
      "model_module": "@jupyter-widgets/controls",
      "model_module_version": "1.5.0",
      "model_name": "ButtonStyleModel",
      "state": {
       "button_color": "white",
       "font_weight": "bold"
      }
     },
     "160517f7f33c4c99bceac0862856fe94": {
      "model_module": "@jupyter-widgets/controls",
      "model_module_version": "1.5.0",
      "model_name": "ButtonModel",
      "state": {
       "description": "F",
       "layout": "IPY_MODEL_d37f618c4d194ae5b7e8455e28e44b63",
       "style": "IPY_MODEL_c125b52c373c445897dae5a063b340dd"
      }
     },
     "169464b1de5645cfa9842e7a7ef1485c": {
      "model_module": "@jupyter-widgets/controls",
      "model_module_version": "1.5.0",
      "model_name": "ButtonModel",
      "state": {
       "description": "330",
       "layout": "IPY_MODEL_959046a4dcef42b58bbf3f9082dd5811",
       "style": "IPY_MODEL_4992a4906fb04db8bb2a061864808476"
      }
     },
     "16fc540c099f4877afd0c42bb6456d3d": {
      "model_module": "@jupyter-widgets/base",
      "model_module_version": "1.2.0",
      "model_name": "LayoutModel",
      "state": {
       "border": "0px solid blue",
       "height": "30px",
       "width": "42px"
      }
     },
     "17e08e8e459547fab58cc4e0481d33ca": {
      "model_module": "@jupyter-widgets/controls",
      "model_module_version": "1.5.0",
      "model_name": "ButtonStyleModel",
      "state": {
       "button_color": "#BBBBBB",
       "font_weight": "bold"
      }
     },
     "182d89465c654a4c997a16d5e41a5df2": {
      "model_module": "@jupyter-widgets/controls",
      "model_module_version": "1.5.0",
      "model_name": "ButtonStyleModel",
      "state": {
       "button_color": "white",
       "font_weight": "bold"
      }
     },
     "18482c16c6f847d3a4fd0b44e6d652c5": {
      "model_module": "@jupyter-widgets/base",
      "model_module_version": "1.2.0",
      "model_name": "LayoutModel",
      "state": {
       "border": "0px solid blue",
       "height": "30px",
       "width": "42px"
      }
     },
     "18cbe2639c2a4147a4ad488c196332d5": {
      "model_module": "@jupyter-widgets/controls",
      "model_module_version": "1.5.0",
      "model_name": "ButtonStyleModel",
      "state": {
       "button_color": "#BBBBBB",
       "font_weight": "bold"
      }
     },
     "191af1a33f9a4af8b4631c574497625b": {
      "model_module": "@jupyter-widgets/controls",
      "model_module_version": "1.5.0",
      "model_name": "ButtonStyleModel",
      "state": {}
     },
     "192f2e76ba9842e2a061dfbd6eeccfb9": {
      "model_module": "@jupyter-widgets/controls",
      "model_module_version": "1.5.0",
      "model_name": "ButtonModel",
      "state": {
       "description": "MIDI",
       "layout": "IPY_MODEL_acba2c47002b4133bf135233698b2d7a",
       "style": "IPY_MODEL_da44cca6dcf947e380f1c253f1018655"
      }
     },
     "1953ea67675a417ba95acfb944dd5fde": {
      "model_module": "@jupyter-widgets/controls",
      "model_module_version": "1.5.0",
      "model_name": "ButtonModel",
      "state": {
       "description": "A#",
       "layout": "IPY_MODEL_1ebcdd31d8b44db283e6a7b24e45c33d",
       "style": "IPY_MODEL_f5f5911113564072bc827d9c16d7be8c"
      }
     },
     "196f6798f748452faf4cf3f66f157c9b": {
      "model_module": "@jupyter-widgets/controls",
      "model_module_version": "1.5.0",
      "model_name": "ButtonStyleModel",
      "state": {}
     },
     "199063cc53f543ff90023185b0f33a24": {
      "model_module": "@jupyter-widgets/controls",
      "model_module_version": "1.5.0",
      "model_name": "ButtonStyleModel",
      "state": {
       "button_color": "#BBBBBB",
       "font_weight": "bold"
      }
     },
     "1a0020ae190f40b0a9624e17e7d91f75": {
      "model_module": "@jupyter-widgets/controls",
      "model_module_version": "1.5.0",
      "model_name": "ButtonModel",
      "state": {
       "description": "E",
       "layout": "IPY_MODEL_972469c993c048cdaa792f8d01c25ca5",
       "style": "IPY_MODEL_182d89465c654a4c997a16d5e41a5df2"
      }
     },
     "1a3863200f7e4a218946d39ba6bafb79": {
      "model_module": "@jupyter-widgets/controls",
      "model_module_version": "1.5.0",
      "model_name": "ButtonStyleModel",
      "state": {}
     },
     "1a8a12b6b92049ef8d777ba4284b4c3e": {
      "model_module": "@jupyter-widgets/controls",
      "model_module_version": "1.5.0",
      "model_name": "ButtonStyleModel",
      "state": {
       "button_color": "white",
       "font_weight": "bold"
      }
     },
     "1b11c68dcff3402d8088ad2badb24960": {
      "model_module": "@jupyter-widgets/controls",
      "model_module_version": "1.5.0",
      "model_name": "ButtonStyleModel",
      "state": {
       "button_color": "#BBBBBB",
       "font_weight": "bold"
      }
     },
     "1b39a4a6ca7a4a69acdd4efe3cee74c7": {
      "model_module": "@jupyter-widgets/controls",
      "model_module_version": "1.5.0",
      "model_name": "ButtonStyleModel",
      "state": {}
     },
     "1b6e829f338149b0949e770f08b0ba97": {
      "model_module": "@jupyter-widgets/controls",
      "model_module_version": "1.5.0",
      "model_name": "ButtonStyleModel",
      "state": {}
     },
     "1bd3fdaab91346669f45bc8f4d011830": {
      "model_module": "@jupyter-widgets/controls",
      "model_module_version": "1.5.0",
      "model_name": "HBoxModel",
      "state": {
       "children": [
        "IPY_MODEL_078b21e4ff9e4796ae8447a49d6079fb",
        "IPY_MODEL_3031d1a39f854adeb126ad8122ef7432",
        "IPY_MODEL_0bbfb47cf17840c2b6e779795a7fea71",
        "IPY_MODEL_0e2c4467ab3d4982b0dd8eb7df884a44",
        "IPY_MODEL_dc30febfe8c743b6a78dd29e44e6a89a",
        "IPY_MODEL_d00d27c2394c44d990069fa90801e202",
        "IPY_MODEL_99ae38f6472243e9abd6cc3914c0e918",
        "IPY_MODEL_1e34570d250e45628c375f92a2527b7f",
        "IPY_MODEL_43a7e6b4828a4c98842d59e94e1e6ec9",
        "IPY_MODEL_cbd1fdbdaf814334a8bb18301f35380f",
        "IPY_MODEL_81082faa845a482d87d36452f9ac2fdb",
        "IPY_MODEL_fdd2ae16bf2d4d45aa4a4b87e2324446",
        "IPY_MODEL_9d9f45e1377a402e8616a89a9739b3e8",
        "IPY_MODEL_26aa94c8988f41c5882f6867ea140f72"
       ],
       "layout": "IPY_MODEL_fb7379008ad643dd9fe67ddaddbe5124"
      }
     },
     "1bf4e32152624914a887ae402fe22948": {
      "model_module": "@jupyter-widgets/controls",
      "model_module_version": "1.5.0",
      "model_name": "ButtonModel",
      "state": {
       "description": "D",
       "layout": "IPY_MODEL_972469c993c048cdaa792f8d01c25ca5",
       "style": "IPY_MODEL_1dba1a0f9b2f4ef29a0944c2ef2dee4d"
      }
     },
     "1c537ba355234789bd264d38ccc66022": {
      "model_module": "@jupyter-widgets/controls",
      "model_module_version": "1.5.0",
      "model_name": "ButtonStyleModel",
      "state": {}
     },
     "1c881f3549a042c9b17c6cf0c8402e40": {
      "model_module": "@jupyter-widgets/base",
      "model_module_version": "1.2.0",
      "model_name": "LayoutModel",
      "state": {
       "height": "80px",
       "width": "100px"
      }
     },
     "1cb1fbd86679456299c6066b2bf31d18": {
      "model_module": "@jupyter-widgets/controls",
      "model_module_version": "1.5.0",
      "model_name": "ButtonModel",
      "state": {
       "description": "Frequency",
       "layout": "IPY_MODEL_14e622cfbe4342baaf29b855893e8442",
       "style": "IPY_MODEL_d0ca8d09e833422ab77fe99aafbdfdac"
      }
     },
     "1ced46d5f8054cfa8b56b2588cc3088c": {
      "model_module": "@jupyter-widgets/controls",
      "model_module_version": "1.5.0",
      "model_name": "ButtonStyleModel",
      "state": {}
     },
     "1d3c876ca84542c797febe9135b082e0": {
      "model_module": "@jupyter-widgets/controls",
      "model_module_version": "1.5.0",
      "model_name": "VBoxModel",
      "state": {
       "children": [
        "IPY_MODEL_a4eaee080e134045be70428f4594d6b3",
        "IPY_MODEL_2f4d8d32d0a74aa7affae6e28a10e437",
        "IPY_MODEL_23cd46c0d4814053b681c1ee35a1ba0f",
        "IPY_MODEL_37877efad7ba4f8dbb403c7285aaa817"
       ],
       "layout": "IPY_MODEL_226f4a03784c4ac991de9e4a048f7708"
      }
     },
     "1d55c4e5b1e445c699921329f4cefacb": {
      "model_module": "@jupyter-widgets/controls",
      "model_module_version": "1.5.0",
      "model_name": "ButtonModel",
      "state": {
       "description": "C",
       "layout": "IPY_MODEL_4e742685616442d9a8c74b95c8291289",
       "style": "IPY_MODEL_20d0b211753046de9359a2cd193431be"
      }
     },
     "1d785e28e5e2435eb21590a770f6131d": {
      "model_module": "@jupyter-widgets/controls",
      "model_module_version": "1.5.0",
      "model_name": "ButtonModel",
      "state": {
       "description": "69",
       "layout": "IPY_MODEL_16fc540c099f4877afd0c42bb6456d3d",
       "style": "IPY_MODEL_bfa848bec10a47efae739d0d3748fd78"
      }
     },
     "1dba1a0f9b2f4ef29a0944c2ef2dee4d": {
      "model_module": "@jupyter-widgets/controls",
      "model_module_version": "1.5.0",
      "model_name": "ButtonStyleModel",
      "state": {
       "button_color": "white",
       "font_weight": "bold"
      }
     },
     "1dd3543bc8144e0c8a4e7904d6477cbb": {
      "model_module": "@jupyter-widgets/output",
      "model_module_version": "1.0.0",
      "model_name": "OutputModel",
      "state": {
       "layout": "IPY_MODEL_24d0cce16d0d4766a0f90728b4631e29",
       "outputs": [
        {
         "data": {
          "image/png": "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\n",
          "text/plain": "<Figure size 576x144 with 1 Axes>"
         },
         "metadata": {},
         "output_type": "display_data"
        },
        {
         "data": {
          "text/html": "\n                <audio  controls=\"controls\" autoplay=\"autoplay\">\n                    <source src=\"data:audio/wav;base64,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\" type=\"audio/wav\" />\n                    Your browser does not support the audio element.\n                </audio>\n              ",
          "text/plain": "<IPython.lib.display.Audio object>"
         },
         "metadata": {},
         "output_type": "display_data"
        }
       ]
      }
     },
     "1e34570d250e45628c375f92a2527b7f": {
      "model_module": "@jupyter-widgets/controls",
      "model_module_version": "1.5.0",
      "model_name": "ButtonModel",
      "state": {
       "description": "67",
       "layout": "IPY_MODEL_35caf533714b49bfbbd81b1717789ca5",
       "style": "IPY_MODEL_1b6e829f338149b0949e770f08b0ba97"
      }
     },
     "1e58a328edf74a829eb6fd213cb9c59f": {
      "model_module": "@jupyter-widgets/controls",
      "model_module_version": "1.5.0",
      "model_name": "ButtonModel",
      "state": {
       "description": "415",
       "layout": "IPY_MODEL_f76697facfad4a86a4e1a527bc08d5ec",
       "style": "IPY_MODEL_e2bfdc5c23244c42bf27a150817befa6"
      }
     },
     "1e62fc8c0fe34f0eb662313eadab005a": {
      "model_module": "@jupyter-widgets/controls",
      "model_module_version": "1.5.0",
      "model_name": "ButtonStyleModel",
      "state": {}
     },
     "1eb3013064484319b94ad39c25ad4c08": {
      "model_module": "@jupyter-widgets/controls",
      "model_module_version": "1.5.0",
      "model_name": "ButtonModel",
      "state": {
       "description": "440",
       "layout": "IPY_MODEL_39d952eaf546482a8abcb6a21092c223",
       "style": "IPY_MODEL_6dd80533b3e4485f8038df925d471283"
      }
     },
     "1ebcdd31d8b44db283e6a7b24e45c33d": {
      "model_module": "@jupyter-widgets/base",
      "model_module_version": "1.2.0",
      "model_name": "LayoutModel",
      "state": {
       "border": "2px solid black",
       "height": "80px",
       "width": "42px"
      }
     },
     "1f73d6ed87f14cdba71fd37d0a99871a": {
      "model_module": "@jupyter-widgets/base",
      "model_module_version": "1.2.0",
      "model_name": "LayoutModel",
      "state": {
       "border": "2px solid black",
       "height": "80px",
       "width": "42px"
      }
     },
     "1f823446b3d442ed8b41ea8f585543f0": {
      "model_module": "@jupyter-widgets/controls",
      "model_module_version": "1.5.0",
      "model_name": "ButtonModel",
      "state": {
       "description": "A",
       "layout": "IPY_MODEL_9c3d99e658354a67968ab6adb6e1e835",
       "style": "IPY_MODEL_f06e87926a5042a0abf79e2b79941780"
      }
     },
     "1f99fdd37e5e43fe950173e31d13dfd4": {
      "model_module": "@jupyter-widgets/controls",
      "model_module_version": "1.5.0",
      "model_name": "ButtonStyleModel",
      "state": {
       "button_color": "white",
       "font_weight": "bold"
      }
     },
     "1fc55ca068b84747b420b98e932cdf35": {
      "model_module": "@jupyter-widgets/controls",
      "model_module_version": "1.5.0",
      "model_name": "ButtonModel",
      "state": {
       "description": "466",
       "layout": "IPY_MODEL_18482c16c6f847d3a4fd0b44e6d652c5",
       "style": "IPY_MODEL_67ca815fc43e472c972d5c59073dd7b5"
      }
     },
     "2007f13403a041bdb97396d9e341e46d": {
      "model_module": "@jupyter-widgets/controls",
      "model_module_version": "1.5.0",
      "model_name": "ButtonStyleModel",
      "state": {}
     },
     "201ef081549f470384bb19602f485935": {
      "model_module": "@jupyter-widgets/controls",
      "model_module_version": "1.5.0",
      "model_name": "ButtonModel",
      "state": {
       "description": "C#",
       "layout": "IPY_MODEL_972469c993c048cdaa792f8d01c25ca5",
       "style": "IPY_MODEL_7003fd7f69c64f5b9b2c2d11ad92cfb2"
      }
     },
     "2027e3f805d54d6ca722a4f861e42dc5": {
      "model_module": "@jupyter-widgets/controls",
      "model_module_version": "1.5.0",
      "model_name": "ButtonStyleModel",
      "state": {
       "button_color": "#EEFFDD"
      }
     },
     "203bb5d24dce49d5b54d56d77104f41d": {
      "model_module": "@jupyter-widgets/controls",
      "model_module_version": "1.5.0",
      "model_name": "ButtonModel",
      "state": {
       "description": "F#",
       "layout": "IPY_MODEL_9c3d99e658354a67968ab6adb6e1e835",
       "style": "IPY_MODEL_4de68264d21844d5ab75763c496c9072"
      }
     },
     "20a8b3580ae4447c8a679486b2646960": {
      "model_module": "@jupyter-widgets/controls",
      "model_module_version": "1.5.0",
      "model_name": "ButtonStyleModel",
      "state": {}
     },
     "20d0b211753046de9359a2cd193431be": {
      "model_module": "@jupyter-widgets/controls",
      "model_module_version": "1.5.0",
      "model_name": "ButtonStyleModel",
      "state": {
       "button_color": "white",
       "font_weight": "bold"
      }
     },
     "2198ce6396884b238e768e8ea3d6c96c": {
      "model_module": "@jupyter-widgets/controls",
      "model_module_version": "1.5.0",
      "model_name": "HBoxModel",
      "state": {
       "children": [
        "IPY_MODEL_be0bfe6ef90f4d5994999b2c85b4c659",
        "IPY_MODEL_fcb814013bae478eac5dd058ff977a25",
        "IPY_MODEL_1315a742d02544bcba03c86b8d1fc447",
        "IPY_MODEL_7f1df713e5004ebcb0812d66695a7241",
        "IPY_MODEL_6bb3fea192ec44b5977c8856af486819",
        "IPY_MODEL_939ad9b962df40bfa5e8762752866c98",
        "IPY_MODEL_25db865a77bd4e59aaabdd4aa7636e9e",
        "IPY_MODEL_cb9ac1e8c2984db7a51361c1a9543544",
        "IPY_MODEL_2a11f2b24763418aa2021fe017f3fee4",
        "IPY_MODEL_c3446e0c7eed47e48efff51391c6017a",
        "IPY_MODEL_f7af261d90d942aeb30f543ae4aecf25",
        "IPY_MODEL_c253b7abe90e4e898d3342b31f99e628",
        "IPY_MODEL_d3970a9298dd4b13be45820b4923d889",
        "IPY_MODEL_fc3d8b453e9149da8031d62476f8cf39"
       ],
       "layout": "IPY_MODEL_8c3bcc3444fa4e2293e1607e0ecaa11a"
      }
     },
     "21ed4f616aba4938bbfecfe8c42c46da": {
      "model_module": "@jupyter-widgets/controls",
      "model_module_version": "1.5.0",
      "model_name": "ButtonModel",
      "state": {
       "description": "71",
       "layout": "IPY_MODEL_18482c16c6f847d3a4fd0b44e6d652c5",
       "style": "IPY_MODEL_773408b5efb64b33a3afd2505d1eb4ba"
      }
     },
     "22514fe516d3418cad5f5d1c2fd4720d": {
      "model_module": "@jupyter-widgets/controls",
      "model_module_version": "1.5.0",
      "model_name": "ButtonModel",
      "state": {
       "description": "70",
       "layout": "IPY_MODEL_959046a4dcef42b58bbf3f9082dd5811",
       "style": "IPY_MODEL_478b5766897241c393c1a8336a44e72b"
      }
     },
     "225ea35f4ed0426d9988d86af0ead246": {
      "model_module": "@jupyter-widgets/controls",
      "model_module_version": "1.5.0",
      "model_name": "ButtonStyleModel",
      "state": {
       "button_color": "white",
       "font_weight": "bold"
      }
     },
     "226f4a03784c4ac991de9e4a048f7708": {
      "model_module": "@jupyter-widgets/base",
      "model_module_version": "1.2.0",
      "model_name": "LayoutModel",
      "state": {}
     },
     "22bf3a4aa8734a5d996d75e866880691": {
      "model_module": "@jupyter-widgets/controls",
      "model_module_version": "1.5.0",
      "model_name": "ButtonModel",
      "state": {
       "description": "C",
       "layout": "IPY_MODEL_da2b95c2564e4a9cacc48f3f32033574",
       "style": "IPY_MODEL_0a6029e5f70c482a9258b9049403289c"
      }
     },
     "22c26559e9864d139ff24602cf7a2aeb": {
      "model_module": "@jupyter-widgets/controls",
      "model_module_version": "1.5.0",
      "model_name": "ButtonStyleModel",
      "state": {
       "button_color": "#BBBBBB",
       "font_weight": "bold"
      }
     },
     "232d40f023004254a9e86cdf38db32d9": {
      "model_module": "@jupyter-widgets/output",
      "model_module_version": "1.0.0",
      "model_name": "OutputModel",
      "state": {
       "layout": "IPY_MODEL_f3bc8bc159e6424ca9b662d23284f4b8",
       "outputs": [
        {
         "data": {
          "image/png": "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\n",
          "text/plain": "<Figure size 576x144 with 1 Axes>"
         },
         "metadata": {},
         "output_type": "display_data"
        },
        {
         "data": {
          "text/html": "\n                <audio  controls=\"controls\" autoplay=\"autoplay\">\n                    <source src=\"data:audio/wav;base64,UklGRsQPAABXQVZFZm10IBAAAAABAAEAQB8AAIA+AAACABAAZGF0YaAPAAAAAKcAjgKMBWAJsQ0dEjQWhxmwG1IcKBsFGNoSugvZAo34Re2N4QHWSMsKwuW6abYKtRy3yLwNxrrScOKg9JYIfh1oMllGU1hkZ65yeHk1e413tmtWWx5H6C+vFoL8eeKvyS6z6J+tkCGGtoCmgPKFYJCBn7GyIsnh4eb7FRZXL5xG6Fpha1V3RH7jfyB8JXNRZTpToz1zJbALcfHN19q/mqrymKCLM4MHgD2Cvok4lian0bta08Ts/QbrIHY5l09eYgJx5Hqbf/R+9XjfbSpefkqxM7YanAB85m7NgLarosKSc4c1gU6AxoRtjtucdq90xejdzPcHEoErJkP4VxdpyXWHff1/EH3hdMZnTVYzQVspxQ+H9bjbcMO0rW+bZY0thCuAioE7iPaTPaRguIfPuOjiAu8cxDVVTLFfBm+veTl/aX89euxv5WDLTWs3th62BIXqOtHmuYal9JTkiNaBF4C6g5eMUJpQrNXB+Nm08/QNnyefP/FUsWYfdKp89n/gfX52H2pKWbNEOC3WE5/5rN8Vx+SwBp5Ij0iFcYD5gNiG0ZFtoQO1wcuy5Mj+6xgDMgBJ6lzsbFl4tX68f2R723GHYwNRFzuuItAIlO4S1V+9eahDl3SKl4ICgM+C4Irfl0CpRr4R1qDv3gmyIwc81FEwZFVyq3vMf41++3ddbC9cIUgJMeIXuv2p48rKKLS3oEiRgobZgImAlYXJj7WeubEIyLLgrvrhFDUul0ULWrZq43YQfu5/a3yscw9mJlSzPp0m5wyn8vbY6cCEq6yZI4x6gw6ABYJIiYqVRqbJujbSkOvFBb0fXzihTpVhbnCMeoJ/Gn9aeX5u/F57S8005xvUAa7njc6Bt4GjZpPdh2KBOoBzhN6NF5yErl/EvNyU9tIQWyocQhVXY2hOdUl9/39RfV91e2gzVz9Cgir7EL725NyDxKSuMZzxjX6EPIBcgc+HUJNlo1+3Z86F56oBvhuoNFpL4F5pbkx5FX+Ff5h6gnCwYcJOhDjlH+4Fuetd0uy6ZKahlVeJDIINgHGDEoyTmWSrxcDO2H7yvgx2Jo8+B1T2ZZpzYXztfxd+8nbNailaukVcLgoV1/rb4C7I2rHQnt2PooWMgNSAdYY0kZygB7SlyoHjkP25F+Mw/kcTXEds7XeHfs9/tntockpk9FErPNojBwrJ7znWar5eqfeX8YrXggKAj4JkiiuXW6g7vevUau6mCIYi8jrjUG1jyHFZe7p/u35neAJtB10iSSkyFBny/trk58sltYmh5pHmhv6AboA8hTSP653DsPDGhN92+a0TES2QRCxZCGpudth993+zfDB0ymYQVcM/xicdDt7zH9r5wW+saZqpjMSDGIDPgdSI3pRppcS5E9Fc6o0Ejh5GN6pNymDYbzB6ZX89f7t5Gm/MX3dM6TUXHQwD4eitz4O4WqQNlEqIkYEpgCOEUo1Vm5StS8OQ2131nA80KRBBL1auZ9B0CH39f4992nUvaRZYSkOoKzAS9fcQ3pjFlq/2nICO0YRRgDCBZYetko6iXrZIzVPmcgCNGoszXUoOXspt53jvfp9/8HoVcXlit0+bORMhJgft7IHT9LtEp1CWzolFggaAKoOPi9mYe6q2v6XXR/GHC0slfj0bUzhlE3MWfOF/S35kd3drBVu/Rn4vPhYP/AriR8nSspyfdZD/hauAsoAVhpmQzJ8Ns4nJUeJY/IYWwi/8Rjlbn2t+d1d+3n8EfPNyC2XjUj49BSU+C//wYNd3v0WqrphwixqDBYBTguqJeZZ5pzK8xdM27W8HWSHcOfBPp2I4cQR7pH/lfs94pG3cXSFKSDNGGikAC+YEzSO2XKKHkkyHJoFWgOWEoo4knc+v2sVX3j74eBLtK4hDS1hYafZ1nn38f/h8snSDZ/lV0UDvKFQPFPVK2wvDXK0omzKNEIQmgJyBZIg0lI2kwLjxzynpVQNeHSw2sUz9Xz5v0nlFf15/Gnq0b5pgcE0EN0ceRAQU6s/Qh7k1pbaUuojDgRuA1YPJjJaapqw5wmXaJvRmDgwoAkBHVfVmT3TDfPh/y31Sdt9p+FhSRM0sZRMt+T3fr8aKsLydEo8nhWiAB4H+hgySuqFgtSrMIuU7/1wZbDJeSTldKG1/eMV+tX9Fe6ZxP2OqULE6QCJeCCLuptT9vCaoAZdHioGCAoDngg6LIpiUqam+ftYS8FAKICRsPCxSeGSJcsh70398ftN3IGzgW8JHnzBxF0f9OuNiysyza6APkV6GzICTgLeFAJAAnxSycMgi4SD7UhWgLvdFXVr1ag13I37rf1B8e3PJZdBTTz4wJnUMNfKJ2IXALqtomfOLYIMLgBmCc4nJlZimKruh0gHsNwYsIMU4/E7fYaVwrXqLfwx/NXlEbq9eH0tlNHcbYQE95yPOIrcyoyqTtodRgUGAkYQSjl+c3a7ExCrdB/dDEccqfkJoV6ZofHVgff5/On0xdTlo31bdQRYqiRBM9nXcHsRMrumbvY1ghDaAbIH2h42TtKO9t9DO9ucdAi4cEDW2Sy1fo25xeSN/e393ektwZmFoTh04dh98BUjr8tGMuhKmYZUsifiBEICLg0KM2Jm7qyjBO9nw8jAN4ybzPl1UO2bLc3x88X8Dfsh2jWrXWVlF8S2ZFGX6bODHx3+xhp6mj4CFgoDhgJmGbZHooGO0Dcvx4wP+KRhNMV1IYlyEbBV4mH7If5h7NHIDZJxRxjtsI5UJV+/M1Qi+Cqm1l8OKwIICgKaCkYptl6+onb1X1dzuGQn1Ilg7PFG1Y/xxd3vBf6p+QHjGbLhcxEi/MaQYf/5q5H7LyLQ7oayRwYbwgHeAXIVqjzWeHbFXx/Pf6PkeFH0t8UR+WUhqmXbtffR/mXwAdIVmu1RfP1knrA1r87LZlcEYrCOaeIyogxSA4oH+iB2VuqUkun7Rzer/BP0erTcFThVhD3BSenB/MX+YeeFugF8bTIE1qByZAnDoQ88kuAqkz5MiiH+BL4BAhIWNnJvsrbDD/tvQ9Q4QoClyQYNW8Wf+dCB9/n95fa117WjDV+hCPCu/EYP3ot0zxT2vrZxLjrKESYA/gYuH6ZLdory2sc3D5uUA/RrzM7pKW14Fbg15/X6Wf9B633AvYl1PNTmkILMGfOwV05O78aYPlqKJMIIIgESDvosdmdGqGcAS2Lnx+Qu5JeM9clN+ZUVzMnzmfzh+O3c5a7VaX0YUL80Vnfua4eDId7JRnz2Q3IWfgL6AOIbRkBigaLPxycDiy/z3FiwwW0eJW91rp3dpftl/6HvAcsRki1LZPJgkzAqN8PPWFL/wqWuYQYsBgwSAaYIWirqWy6eTvDHUp+3hB8ghQzpKUPBibXEke6x/1n6peGltjl3ESd8y1hm3/5vlm8zFtQ6iTJImhxeBXoAEhdeObZ0osEDGxd6x+OoSWCzpQ55YmWkidrN9+n/ffIJ0P2ekVW5AgijiDqL03NqmwgWt4pr/jPSDIICugY2IcpTepB+5W9CZ6ccDzh2TNg1NSGB3b/V5UX9Sf/h5fG9PYBVNnDbXHdEDo+ll0Ce55KR3lJCIsIEggPGD+4zcmv6snsLT2pj02A55KGVAnFU5Z3503Xz6f7V9JnafaaVY8UNhLPMSuvjP3knGMLBzndyOB4VfgBaBI4dHkgiivbWSzJLlrv/MGdYyvEmHXWRtpnjVfq1/JntxcfZiUVBLOtEh6wex7TrUm7zTp7+WGopqggSA/4I9i2WY6akMv+rWg/DCCo4k0TyEUr5kvHLle9h/an6rd+JrkFtjRzUwABfV/Mri+slwsx+g1pA7hr+AnoDZhTiQS59vstfIkeGT+8MVCi9XRq5aNGs3dzZ+5n81fElzhGV5U+s9wiUDDMPxHNgiwNiqI5nDi0aDCYAugp6JCpbqpou7DNNy7KoGmiAsOVZPKWLbcM16lX/+fhB5Cm5iXsJK/DMHG+4Azea6zcS246Luko+HQYFIgK+ER46nnDWvKsWY3Xn3tREzK+BCvFfnaKl1d33+fyJ9AnX2Z4tWe0GqKRgQ2fUH3LnD9K2im4qNQoQwgH6BHojKkwSkHLg6z2bojwKeHHg1E0x6X9xulXkwf3F/VXoUcBthDU62NwcfCQXX6ofRLLrBpSKVAonkgRSApoN0jB6aEayMwanZYvOiDVAnVz+zVIBm/HOXfPR/7n2ddk5qhVn5RIYtKBTy+f3fYMclsTyeb49fhXiA74C+hqeRNaHAtHXLYeR1/poYtjG8SLFcwGw8eKl+wn96ewFyu2NDUWE7/iIjCebuYNWmvbaocpeViqiCAoC+gr+Kr5cDqf+9w9VO74sJYyO9O5RR/WMwcpV7yH+afhh4iWxpXGVIVjEzGA3++uMWy2u076BykZyG4oCBgH2FoY9/nnixvsdi4Fv6jxToLVFF0FmIasR2AX7xf398z3NBZmVU/D7sJjoN+fJF2THBwqvemUeMjYMRgPaBKYlclQumhLrp0T7rcgVsHxQ4YE5fYUZwdHp6fyR/dHmobjRfvksZNTgcJwL/59nOxbe7o5KT+odugTWAXYS5jeObRK4VxGzcQvaAEA0q1UHYVjNoLXU4ff5/Yn2AdatocFeGQtAqTRER9zPdzcTkrmWcF46ThEKAUIGyhyWTLKMatxrONOdXAW0bXDQXS6leP24yeQt/jH+veqlw5mEDT844NSBBBgvsqtIyu5+mz5V2iRuCC4Beg++LYpkmq33Af9gr8msMJyZHPshTw2V2c0586n8lfhF3+mpkWv9FqS5cFSr7K+F4yByyBp8FkLqFlIDLgFuGCpFkoMSzWcow4z39ZxeWMLpH2VsbbNB3e37Tf8t7jXJ+ZDRSdDwqJFoKG/CH1rG+m6komBKL6YIDgH+CQ4r7lh+o9byd1BjuVAg2Iqk6o1A5Y6JxQ3u0f8Z+g3gtbUBdZkl1MmUZRf8r5TLMaLXBoRGSAYcIgWeAJIUNj7adgrCmxjTfI/lbE8QsSkTxWNppTnbJffh/xnxTdPtmTlULQBUocA4w9G/aQsKurJyazYzYgxyAwYG2iLCULqV+ucbQCuo6BD0e+zZoTZRgr28Xel1/Rn/VeUNvA2C5TDQ2aB1fAzLp+s/IuJSkOZRniJ6BJYAOhC6NIptVrQLDQdsL9UoP5SjIQPFVfWeudPZ8/H+fffp1XmlTWJBD9iuCEkj4YN7ixdevKp2mjuiEV4AlgUmHgpJWohu2+8wC5h8APBo/MxlKoVMTV4RVEFDHR6k9lDJIJ18cTxJoCeABzvsv9/Pz+vEZ8SPx5/E089/0vvaw+Jf6X/z3/VT/cgBPAe8BVQKJApICeQJGAgACsAFaAQYB\" type=\"audio/wav\" />\n                    Your browser does not support the audio element.\n                </audio>\n              ",
          "text/plain": "<IPython.lib.display.Audio object>"
         },
         "metadata": {},
         "output_type": "display_data"
        }
       ]
      }
     },
     "23cd46c0d4814053b681c1ee35a1ba0f": {
      "model_module": "@jupyter-widgets/controls",
      "model_module_version": "1.5.0",
      "model_name": "HBoxModel",
      "state": {
       "children": [
        "IPY_MODEL_e65f89562ec64defbea14aedb6129648",
        "IPY_MODEL_c60a2543daa3481892faa9188a9206fd",
        "IPY_MODEL_4a70d95317ad4955821b342e70425f94",
        "IPY_MODEL_e3e30d7c92d84b78876b4a26c029a0a3",
        "IPY_MODEL_737192e128104c6c9e6dc13566bc892d",
        "IPY_MODEL_072cac5e450f4389a8f3cd73329ca4eb",
        "IPY_MODEL_b58270cf36f54108a19b216f0b242c30",
        "IPY_MODEL_7eb72097feec4aa5ae3382b24f22c882",
        "IPY_MODEL_46be00db921f4fc59be0554e844c3cdb",
        "IPY_MODEL_f75c151af1dd438bb38ff1911c26df92",
        "IPY_MODEL_ead4433c9f0547a7a22f70bf23eb765b",
        "IPY_MODEL_58632f243fae481c98f15e8ab6a9b765",
        "IPY_MODEL_1d55c4e5b1e445c699921329f4cefacb",
        "IPY_MODEL_308d25b6def849dc8db314b8c0d896f2"
       ],
       "layout": "IPY_MODEL_b104dab45ab14b1e94d95df239727979"
      }
     },
     "24bf2ca197d44ed098d4bc3c543c75b0": {
      "model_module": "@jupyter-widgets/controls",
      "model_module_version": "1.5.0",
      "model_name": "ButtonStyleModel",
      "state": {}
     },
     "24d0cce16d0d4766a0f90728b4631e29": {
      "model_module": "@jupyter-widgets/base",
      "model_module_version": "1.2.0",
      "model_name": "LayoutModel",
      "state": {}
     },
     "256559c1d0cb4335a376ec0b10b3b853": {
      "model_module": "@jupyter-widgets/controls",
      "model_module_version": "1.5.0",
      "model_name": "ButtonStyleModel",
      "state": {}
     },
     "25db865a77bd4e59aaabdd4aa7636e9e": {
      "model_module": "@jupyter-widgets/controls",
      "model_module_version": "1.5.0",
      "model_name": "ButtonModel",
      "state": {
       "description": "66",
       "layout": "IPY_MODEL_d3b4a8b1eb4c4c88819d93fb337337c6",
       "style": "IPY_MODEL_58745cd717514a5d8eaf3c92654a089b"
      }
     },
     "265108ba384c4900be1c982530f43cb0": {
      "model_module": "@jupyter-widgets/controls",
      "model_module_version": "1.5.0",
      "model_name": "ButtonStyleModel",
      "state": {}
     },
     "2690d9eef5a74a789694c8cfd69c94bc": {
      "model_module": "@jupyter-widgets/controls",
      "model_module_version": "1.5.0",
      "model_name": "ButtonModel",
      "state": {
       "description": "370",
       "layout": "IPY_MODEL_f76697facfad4a86a4e1a527bc08d5ec",
       "style": "IPY_MODEL_ef51709b4ea74a38b3f0bec6bc1bad90"
      }
     },
     "26aa94c8988f41c5882f6867ea140f72": {
      "model_module": "@jupyter-widgets/controls",
      "model_module_version": "1.5.0",
      "model_name": "ButtonModel",
      "state": {
       "description": "MIDI",
       "layout": "IPY_MODEL_ce856992c7ff48fabf0205329896218b",
       "style": "IPY_MODEL_b53bb94c24ed4995a2431317cc4414bd"
      }
     },
     "275af81253884c55b8923f779499a931": {
      "model_module": "@jupyter-widgets/controls",
      "model_module_version": "1.5.0",
      "model_name": "ButtonStyleModel",
      "state": {
       "button_color": "#EEFFDD"
      }
     },
     "27cb3ccfe2864179bf852f1f8379aad7": {
      "model_module": "@jupyter-widgets/controls",
      "model_module_version": "1.5.0",
      "model_name": "ButtonStyleModel",
      "state": {
       "button_color": "#EEFFDD"
      }
     },
     "27e55d9c56044b95aef2dab57b9209b0": {
      "model_module": "@jupyter-widgets/controls",
      "model_module_version": "1.5.0",
      "model_name": "ButtonModel",
      "state": {
       "description": "C#",
       "layout": "IPY_MODEL_d37f618c4d194ae5b7e8455e28e44b63",
       "style": "IPY_MODEL_60ad759718d64141b37fe6019e444a7f"
      }
     },
     "27fc16710d474d6da5e9488bbdcc83c0": {
      "model_module": "@jupyter-widgets/controls",
      "model_module_version": "1.5.0",
      "model_name": "ButtonModel",
      "state": {
       "description": "72",
       "layout": "IPY_MODEL_16fc540c099f4877afd0c42bb6456d3d",
       "style": "IPY_MODEL_543ff011b0da43e78412f33ef4bda2d0"
      }
     },
     "287ab0eb7cee40e9ae01c41f9890da2a": {
      "model_module": "@jupyter-widgets/controls",
      "model_module_version": "1.5.0",
      "model_name": "ButtonStyleModel",
      "state": {}
     },
     "290b7ce8428244828ec6875cbd3c8235": {
      "model_module": "@jupyter-widgets/controls",
      "model_module_version": "1.5.0",
      "model_name": "ButtonStyleModel",
      "state": {}
     },
     "2990a635ebfb4ce2882971dd1ffd1d10": {
      "model_module": "@jupyter-widgets/controls",
      "model_module_version": "1.5.0",
      "model_name": "ButtonStyleModel",
      "state": {
       "button_color": "#EEFFDD"
      }
     },
     "2a11f2b24763418aa2021fe017f3fee4": {
      "model_module": "@jupyter-widgets/controls",
      "model_module_version": "1.5.0",
      "model_name": "ButtonModel",
      "state": {
       "description": "68",
       "layout": "IPY_MODEL_d3b4a8b1eb4c4c88819d93fb337337c6",
       "style": "IPY_MODEL_2ff05b3a6d6a469fa63b530f053d330d"
      }
     },
     "2acf8c867fa440e1b194444773a8e927": {
      "model_module": "@jupyter-widgets/controls",
      "model_module_version": "1.5.0",
      "model_name": "ButtonModel",
      "state": {
       "description": "311",
       "layout": "IPY_MODEL_959046a4dcef42b58bbf3f9082dd5811",
       "style": "IPY_MODEL_799e72b23e4c40308f7a0411903f0a35"
      }
     },
     "2b4abddc7b0e45d7b1a5f73a4f038ca3": {
      "model_module": "@jupyter-widgets/controls",
      "model_module_version": "1.5.0",
      "model_name": "ButtonStyleModel",
      "state": {}
     },
     "2b7d385403dc4722887572919392ffac": {
      "model_module": "@jupyter-widgets/controls",
      "model_module_version": "1.5.0",
      "model_name": "HBoxModel",
      "state": {
       "children": [
        "IPY_MODEL_4622b4d2325f48a7bc3bfe2e9f6a03c2",
        "IPY_MODEL_4197724d6fd346ae97a185e3244657bf",
        "IPY_MODEL_5164c1c0e78c4bd5a94c85984b6326ab",
        "IPY_MODEL_05c3fe6a7baa4f0d91910a38f818c4c9",
        "IPY_MODEL_90c47cefbfeb4b509e9affb2c04dcb3b",
        "IPY_MODEL_951051c9399341ff890a2cc436efc5d7",
        "IPY_MODEL_88e7eccc80374a55b37dcba2489be3da",
        "IPY_MODEL_894798edaa8d432fae181d4863be9638",
        "IPY_MODEL_bb9574432e544c6e84af96b922b8a84b",
        "IPY_MODEL_7b4cfa8fbec64d2a9d9d782b9b027918",
        "IPY_MODEL_85127f33ee734408bc9e0cbf6db3ef6f",
        "IPY_MODEL_ee0c0f9ac26a49c78fca44e23e935195",
        "IPY_MODEL_381913b0f7cf4b7e9e05670907990e92",
        "IPY_MODEL_618c27a87b764a5392bdb5a92bad0c6f"
       ],
       "layout": "IPY_MODEL_909b97d478b045a8b8e46716048b53ac"
      }
     },
     "2ba2af3da31f4730b68de8a880140ae9": {
      "model_module": "@jupyter-widgets/controls",
      "model_module_version": "1.5.0",
      "model_name": "ButtonStyleModel",
      "state": {}
     },
     "2bb288a5939944bf83fbf55233a9f323": {
      "model_module": "@jupyter-widgets/controls",
      "model_module_version": "1.5.0",
      "model_name": "ButtonStyleModel",
      "state": {
       "button_color": "white",
       "font_weight": "bold"
      }
     },
     "2c4977abddbe4f6381eed25d7f90f99d": {
      "model_module": "@jupyter-widgets/controls",
      "model_module_version": "1.5.0",
      "model_name": "ButtonStyleModel",
      "state": {}
     },
     "2c94d33d57704b9898caa7465e990d29": {
      "model_module": "@jupyter-widgets/controls",
      "model_module_version": "1.5.0",
      "model_name": "ButtonModel",
      "state": {
       "description": "E",
       "layout": "IPY_MODEL_9c3d99e658354a67968ab6adb6e1e835",
       "style": "IPY_MODEL_f9c05e642f97413dae63376825a5db74"
      }
     },
     "2dad99c81dca41d4ab0d8264729dcf4e": {
      "model_module": "@jupyter-widgets/controls",
      "model_module_version": "1.5.0",
      "model_name": "ButtonStyleModel",
      "state": {}
     },
     "2e9865dc68b8473ca25f696f7d0bacf5": {
      "model_module": "@jupyter-widgets/controls",
      "model_module_version": "1.5.0",
      "model_name": "ButtonStyleModel",
      "state": {
       "button_color": "#EEFFDD"
      }
     },
     "2ed4eccdc5fe4f9da8e61b96a5a0951f": {
      "model_module": "@jupyter-widgets/controls",
      "model_module_version": "1.5.0",
      "model_name": "HBoxModel",
      "state": {
       "children": [
        "IPY_MODEL_cbc22639c537432091c9bc47966e4f0a",
        "IPY_MODEL_7ceec3991c314fd1bb5d602171df6001",
        "IPY_MODEL_dcd6e3a59b5f4feebcc4c01b7a0f514d",
        "IPY_MODEL_876752baa57d4d2d9a91498ce90b9d41",
        "IPY_MODEL_e5d0a4efb19c4ffc95b03ae363c51bc0",
        "IPY_MODEL_046520760c8d40c9a765e861058ad5f0",
        "IPY_MODEL_963e1272fe3a46609823de764ac2309b",
        "IPY_MODEL_e2fff367ab264b888314f128e15fcc73",
        "IPY_MODEL_4193c572fef04ce58026a913b799de04",
        "IPY_MODEL_f70bac3462f348f99f2636840b601764",
        "IPY_MODEL_32680b5c779743b2b0db88cc547fa79f",
        "IPY_MODEL_9370f43f36eb4bdd879441c097b2468e",
        "IPY_MODEL_a848bb8a3473460e8de076dceec76c4b",
        "IPY_MODEL_f25c99a619b4483a907fc1ec5f771b87"
       ],
       "layout": "IPY_MODEL_ec92aa182d454710acdd19858188fe08"
      }
     },
     "2ee275f9df36479783bf1e3740e98332": {
      "model_module": "@jupyter-widgets/controls",
      "model_module_version": "1.5.0",
      "model_name": "ButtonStyleModel",
      "state": {}
     },
     "2ef65d1c778d4d4391dcc1f3483d5894": {
      "model_module": "@jupyter-widgets/controls",
      "model_module_version": "1.5.0",
      "model_name": "ButtonStyleModel",
      "state": {}
     },
     "2f2373909970436382328b880f24b7c0": {
      "model_module": "@jupyter-widgets/controls",
      "model_module_version": "1.5.0",
      "model_name": "ButtonModel",
      "state": {
       "description": "294",
       "layout": "IPY_MODEL_959046a4dcef42b58bbf3f9082dd5811",
       "style": "IPY_MODEL_1b39a4a6ca7a4a69acdd4efe3cee74c7"
      }
     },
     "2f4d8d32d0a74aa7affae6e28a10e437": {
      "model_module": "@jupyter-widgets/controls",
      "model_module_version": "1.5.0",
      "model_name": "HBoxModel",
      "state": {
       "children": [
        "IPY_MODEL_0a0ee723a2494b809879566a191ef7ff",
        "IPY_MODEL_bf4ea96385eb49438de5c5e29af3769e",
        "IPY_MODEL_0b72107f84e3467b8ea3d0ba246272b9",
        "IPY_MODEL_379975e2977b4502ad7a875d989f5bc2",
        "IPY_MODEL_d7092567d8264156a4ea82b1bc38932f",
        "IPY_MODEL_ebc89730092944d09accba72578379bb",
        "IPY_MODEL_5809d3d0eaca406d931c9ed44891b185",
        "IPY_MODEL_ea25904332ae40c0b027894427c95c48",
        "IPY_MODEL_c7fb0bec4f9846148442d2d8ad989725",
        "IPY_MODEL_1eb3013064484319b94ad39c25ad4c08",
        "IPY_MODEL_97f5276501aa492493bc58cbffedafe9",
        "IPY_MODEL_f66b829fc322459693a5a5f6b8aaa06c",
        "IPY_MODEL_39e813202ffd4b11bb81b5aa5202bacd",
        "IPY_MODEL_658a84a9f6b9419298731c00a9dc50d5"
       ],
       "layout": "IPY_MODEL_8b2b6d3d2ee049fab9341764917fe3e3"
      }
     },
     "2f73f9bd52c34d3db5f3c972003dbed4": {
      "model_module": "@jupyter-widgets/controls",
      "model_module_version": "1.5.0",
      "model_name": "ButtonStyleModel",
      "state": {}
     },
     "2f8bce72f1994f5d9261b8f10aff17f3": {
      "model_module": "@jupyter-widgets/controls",
      "model_module_version": "1.5.0",
      "model_name": "ButtonModel",
      "state": {
       "description": "415",
       "layout": "IPY_MODEL_959046a4dcef42b58bbf3f9082dd5811",
       "style": "IPY_MODEL_66b7344453ed4493a47ad3beecf3f863"
      }
     },
     "2fe9069bcc034883a35420897844de25": {
      "model_module": "@jupyter-widgets/controls",
      "model_module_version": "1.5.0",
      "model_name": "ButtonStyleModel",
      "state": {}
     },
     "2fecf011b5534b19ab5f88cac26fbfaa": {
      "model_module": "@jupyter-widgets/controls",
      "model_module_version": "1.5.0",
      "model_name": "ButtonModel",
      "state": {
       "description": "F#",
       "layout": "IPY_MODEL_da2b95c2564e4a9cacc48f3f32033574",
       "style": "IPY_MODEL_31bcfb4dad58423e9599cbd34f7eebb0"
      }
     },
     "2ff05b3a6d6a469fa63b530f053d330d": {
      "model_module": "@jupyter-widgets/controls",
      "model_module_version": "1.5.0",
      "model_name": "ButtonStyleModel",
      "state": {}
     },
     "30055bcee621405bae95f4563b42b769": {
      "model_module": "@jupyter-widgets/controls",
      "model_module_version": "1.5.0",
      "model_name": "ButtonModel",
      "state": {
       "description": "A#",
       "layout": "IPY_MODEL_0ce70a23b86147e598ab80566c43fba2",
       "style": "IPY_MODEL_149f9ba0066c40f1a450ba2ad1c54c81"
      }
     },
     "3031d1a39f854adeb126ad8122ef7432": {
      "model_module": "@jupyter-widgets/controls",
      "model_module_version": "1.5.0",
      "model_name": "ButtonModel",
      "state": {
       "description": "61",
       "layout": "IPY_MODEL_35caf533714b49bfbbd81b1717789ca5",
       "style": "IPY_MODEL_265108ba384c4900be1c982530f43cb0"
      }
     },
     "308d25b6def849dc8db314b8c0d896f2": {
      "model_module": "@jupyter-widgets/controls",
      "model_module_version": "1.5.0",
      "model_name": "ButtonModel",
      "state": {
       "description": "Note",
       "layout": "IPY_MODEL_afb7d5db71a0459eb9d8585f2d4d758a",
       "style": "IPY_MODEL_8718c0c30e2c401fa2687b052712a0a5"
      }
     },
     "30b907aff5a2452b93c607bbf92c28ce": {
      "model_module": "@jupyter-widgets/controls",
      "model_module_version": "1.5.0",
      "model_name": "ButtonStyleModel",
      "state": {
       "button_color": "white",
       "font_weight": "bold"
      }
     },
     "310611530e8647f88679f03e85f77a54": {
      "model_module": "@jupyter-widgets/controls",
      "model_module_version": "1.5.0",
      "model_name": "ButtonStyleModel",
      "state": {
       "button_color": "#BBBBBB",
       "font_weight": "bold"
      }
     },
     "3176ad72c20843f7a56ee2426ae1db1f": {
      "model_module": "@jupyter-widgets/controls",
      "model_module_version": "1.5.0",
      "model_name": "ButtonStyleModel",
      "state": {}
     },
     "31bcfb4dad58423e9599cbd34f7eebb0": {
      "model_module": "@jupyter-widgets/controls",
      "model_module_version": "1.5.0",
      "model_name": "ButtonStyleModel",
      "state": {
       "button_color": "#BBBBBB",
       "font_weight": "bold"
      }
     },
     "322f9c3ea95948cab4a37836b820ccd7": {
      "model_module": "@jupyter-widgets/base",
      "model_module_version": "1.2.0",
      "model_name": "LayoutModel",
      "state": {}
     },
     "32680b5c779743b2b0db88cc547fa79f": {
      "model_module": "@jupyter-widgets/controls",
      "model_module_version": "1.5.0",
      "model_name": "ButtonModel",
      "state": {
       "description": "70",
       "layout": "IPY_MODEL_f76697facfad4a86a4e1a527bc08d5ec",
       "style": "IPY_MODEL_2f73f9bd52c34d3db5f3c972003dbed4"
      }
     },
     "327f2ba861e742fbae0a5ee55e3a175e": {
      "model_module": "@jupyter-widgets/controls",
      "model_module_version": "1.5.0",
      "model_name": "ButtonStyleModel",
      "state": {}
     },
     "32bfd7390a614cf2a7adf7bc91e88364": {
      "model_module": "@jupyter-widgets/controls",
      "model_module_version": "1.5.0",
      "model_name": "ButtonStyleModel",
      "state": {
       "button_color": "white",
       "font_weight": "bold"
      }
     },
     "32c86c23f1bd4d229eaaa7480376a45e": {
      "model_module": "@jupyter-widgets/controls",
      "model_module_version": "1.5.0",
      "model_name": "ButtonModel",
      "state": {
       "description": "70",
       "layout": "IPY_MODEL_16fc540c099f4877afd0c42bb6456d3d",
       "style": "IPY_MODEL_72e1a43f5a694d6fa1ea75d8e5ff32ed"
      }
     },
     "32f2cab0e30049c5a4b648f20dbdf6dd": {
      "model_module": "@jupyter-widgets/controls",
      "model_module_version": "1.5.0",
      "model_name": "ButtonStyleModel",
      "state": {}
     },
     "32f9ecfce2134dc28c6b43ec9e499289": {
      "model_module": "@jupyter-widgets/controls",
      "model_module_version": "1.5.0",
      "model_name": "ButtonStyleModel",
      "state": {}
     },
     "33872434a7844bd982bfa6306de7b2ef": {
      "model_module": "@jupyter-widgets/controls",
      "model_module_version": "1.5.0",
      "model_name": "ButtonStyleModel",
      "state": {
       "button_color": "white",
       "font_weight": "bold"
      }
     },
     "338b0aa030fc46f3a55b893498701ecc": {
      "model_module": "@jupyter-widgets/controls",
      "model_module_version": "1.5.0",
      "model_name": "ButtonStyleModel",
      "state": {}
     },
     "34163b3d2e6c44dfba06f0fc7ad6f23b": {
      "model_module": "@jupyter-widgets/base",
      "model_module_version": "1.2.0",
      "model_name": "LayoutModel",
      "state": {}
     },
     "3528f1501dea4b8a91feb04c2cd328a0": {
      "model_module": "@jupyter-widgets/controls",
      "model_module_version": "1.5.0",
      "model_name": "ButtonModel",
      "state": {
       "description": "G",
       "layout": "IPY_MODEL_da2b95c2564e4a9cacc48f3f32033574",
       "style": "IPY_MODEL_7f2ae058ec694731974329f3adebd681"
      }
     },
     "35caf533714b49bfbbd81b1717789ca5": {
      "model_module": "@jupyter-widgets/base",
      "model_module_version": "1.2.0",
      "model_name": "LayoutModel",
      "state": {
       "border": "0px solid blue",
       "height": "30px",
       "width": "42px"
      }
     },
     "35ed4645ca54455b92e2cda7f94d8f31": {
      "model_module": "@jupyter-widgets/controls",
      "model_module_version": "1.5.0",
      "model_name": "ButtonStyleModel",
      "state": {
       "button_color": "#BBBBBB",
       "font_weight": "bold"
      }
     },
     "364090abae944c1682115d92d8e864ac": {
      "model_module": "@jupyter-widgets/controls",
      "model_module_version": "1.5.0",
      "model_name": "ButtonModel",
      "state": {
       "description": "311",
       "layout": "IPY_MODEL_18482c16c6f847d3a4fd0b44e6d652c5",
       "style": "IPY_MODEL_9daa07f01b0a4d619ae3a21f2df96ae1"
      }
     },
     "365d2f9df6e44ae3a0a33d0d35c757d9": {
      "model_module": "@jupyter-widgets/controls",
      "model_module_version": "1.5.0",
      "model_name": "ButtonModel",
      "state": {
       "description": "F#",
       "layout": "IPY_MODEL_1f73d6ed87f14cdba71fd37d0a99871a",
       "style": "IPY_MODEL_ec048ec7ada94d0a88b51a05f172b383"
      }
     },
     "37877efad7ba4f8dbb403c7285aaa817": {
      "model_module": "@jupyter-widgets/output",
      "model_module_version": "1.0.0",
      "model_name": "OutputModel",
      "state": {
       "layout": "IPY_MODEL_7d3833247ac24ed5b5f1030ac571640e",
       "outputs": [
        {
         "ename": "ValueError",
         "evalue": "x and y must have same first dimension, but have shapes (8,) and (80,)",
         "output_type": "error",
         "traceback": [
          "\u001b[1;31m---------------------------------------------------------------------------\u001b[0m",
          "\u001b[1;31mValueError\u001b[0m                                Traceback (most recent call last)",
          "\u001b[1;32m<ipython-input-11-4ede67440293>\u001b[0m in \u001b[0;36mon_button_clicked\u001b[1;34m(f, b)\u001b[0m\n\u001b[0;32m     28\u001b[0m             \u001b[0my\u001b[0m\u001b[1;33m=\u001b[0m\u001b[0msynth\u001b[0m\u001b[1;33m(\u001b[0m\u001b[0mf\u001b[0m\u001b[1;33m,\u001b[0m\u001b[0msample_rate\u001b[0m\u001b[1;33m=\u001b[0m\u001b[1;36m8000\u001b[0m\u001b[1;33m)\u001b[0m\u001b[1;33m\u001b[0m\u001b[1;33m\u001b[0m\u001b[0m\n\u001b[0;32m     29\u001b[0m             \u001b[0mfig\u001b[0m\u001b[1;33m,\u001b[0m\u001b[0max\u001b[0m \u001b[1;33m=\u001b[0m \u001b[0mplt\u001b[0m\u001b[1;33m.\u001b[0m\u001b[0msubplots\u001b[0m\u001b[1;33m(\u001b[0m\u001b[0mfigsize\u001b[0m\u001b[1;33m=\u001b[0m\u001b[1;33m(\u001b[0m\u001b[1;36m8\u001b[0m\u001b[1;33m,\u001b[0m\u001b[1;36m2\u001b[0m\u001b[1;33m)\u001b[0m\u001b[1;33m)\u001b[0m\u001b[1;33m\u001b[0m\u001b[1;33m\u001b[0m\u001b[0m\n\u001b[1;32m---> 30\u001b[1;33m             \u001b[0max\u001b[0m\u001b[1;33m.\u001b[0m\u001b[0mplot\u001b[0m\u001b[1;33m(\u001b[0m\u001b[0mnp\u001b[0m\u001b[1;33m.\u001b[0m\u001b[0marange\u001b[0m\u001b[1;33m(\u001b[0m\u001b[1;36m0.\u001b[0m\u001b[1;33m,\u001b[0m\u001b[1;36m.001\u001b[0m\u001b[1;33m,\u001b[0m\u001b[1;36m1\u001b[0m\u001b[1;33m/\u001b[0m\u001b[1;36m8000.\u001b[0m\u001b[1;33m)\u001b[0m\u001b[1;33m,\u001b[0m\u001b[0my\u001b[0m\u001b[1;33m[\u001b[0m\u001b[1;36m0\u001b[0m\u001b[1;33m:\u001b[0m\u001b[1;36m80\u001b[0m\u001b[1;33m]\u001b[0m\u001b[1;33m)\u001b[0m\u001b[1;33m\u001b[0m\u001b[1;33m\u001b[0m\u001b[0m\n\u001b[0m\u001b[0;32m     31\u001b[0m             \u001b[0max\u001b[0m\u001b[1;33m.\u001b[0m\u001b[0mset_title\u001b[0m\u001b[1;33m(\u001b[0m\u001b[1;34m\"Waveform (initial 2msec)\"\u001b[0m\u001b[1;33m)\u001b[0m\u001b[1;33m\u001b[0m\u001b[1;33m\u001b[0m\u001b[0m\n\u001b[0;32m     32\u001b[0m             \u001b[0mplt\u001b[0m\u001b[1;33m.\u001b[0m\u001b[0mclose\u001b[0m\u001b[1;33m(\u001b[0m\u001b[1;33m)\u001b[0m\u001b[1;33m\u001b[0m\u001b[1;33m\u001b[0m\u001b[0m\n",
          "\u001b[1;32m~\\Anaconda3\\envs\\py37\\lib\\site-packages\\matplotlib\\axes\\_axes.py\u001b[0m in \u001b[0;36mplot\u001b[1;34m(self, scalex, scaley, data, *args, **kwargs)\u001b[0m\n\u001b[0;32m   1741\u001b[0m         \"\"\"\n\u001b[0;32m   1742\u001b[0m         \u001b[0mkwargs\u001b[0m \u001b[1;33m=\u001b[0m \u001b[0mcbook\u001b[0m\u001b[1;33m.\u001b[0m\u001b[0mnormalize_kwargs\u001b[0m\u001b[1;33m(\u001b[0m\u001b[0mkwargs\u001b[0m\u001b[1;33m,\u001b[0m \u001b[0mmlines\u001b[0m\u001b[1;33m.\u001b[0m\u001b[0mLine2D\u001b[0m\u001b[1;33m)\u001b[0m\u001b[1;33m\u001b[0m\u001b[1;33m\u001b[0m\u001b[0m\n\u001b[1;32m-> 1743\u001b[1;33m         \u001b[0mlines\u001b[0m \u001b[1;33m=\u001b[0m \u001b[1;33m[\u001b[0m\u001b[1;33m*\u001b[0m\u001b[0mself\u001b[0m\u001b[1;33m.\u001b[0m\u001b[0m_get_lines\u001b[0m\u001b[1;33m(\u001b[0m\u001b[1;33m*\u001b[0m\u001b[0margs\u001b[0m\u001b[1;33m,\u001b[0m \u001b[0mdata\u001b[0m\u001b[1;33m=\u001b[0m\u001b[0mdata\u001b[0m\u001b[1;33m,\u001b[0m \u001b[1;33m**\u001b[0m\u001b[0mkwargs\u001b[0m\u001b[1;33m)\u001b[0m\u001b[1;33m]\u001b[0m\u001b[1;33m\u001b[0m\u001b[1;33m\u001b[0m\u001b[0m\n\u001b[0m\u001b[0;32m   1744\u001b[0m         \u001b[1;32mfor\u001b[0m \u001b[0mline\u001b[0m \u001b[1;32min\u001b[0m \u001b[0mlines\u001b[0m\u001b[1;33m:\u001b[0m\u001b[1;33m\u001b[0m\u001b[1;33m\u001b[0m\u001b[0m\n\u001b[0;32m   1745\u001b[0m             \u001b[0mself\u001b[0m\u001b[1;33m.\u001b[0m\u001b[0madd_line\u001b[0m\u001b[1;33m(\u001b[0m\u001b[0mline\u001b[0m\u001b[1;33m)\u001b[0m\u001b[1;33m\u001b[0m\u001b[1;33m\u001b[0m\u001b[0m\n",
          "\u001b[1;32m~\\Anaconda3\\envs\\py37\\lib\\site-packages\\matplotlib\\axes\\_base.py\u001b[0m in \u001b[0;36m__call__\u001b[1;34m(self, data, *args, **kwargs)\u001b[0m\n\u001b[0;32m    271\u001b[0m                 \u001b[0mthis\u001b[0m \u001b[1;33m+=\u001b[0m \u001b[0margs\u001b[0m\u001b[1;33m[\u001b[0m\u001b[1;36m0\u001b[0m\u001b[1;33m]\u001b[0m\u001b[1;33m,\u001b[0m\u001b[1;33m\u001b[0m\u001b[1;33m\u001b[0m\u001b[0m\n\u001b[0;32m    272\u001b[0m                 \u001b[0margs\u001b[0m \u001b[1;33m=\u001b[0m \u001b[0margs\u001b[0m\u001b[1;33m[\u001b[0m\u001b[1;36m1\u001b[0m\u001b[1;33m:\u001b[0m\u001b[1;33m]\u001b[0m\u001b[1;33m\u001b[0m\u001b[1;33m\u001b[0m\u001b[0m\n\u001b[1;32m--> 273\u001b[1;33m             \u001b[1;32myield\u001b[0m \u001b[1;32mfrom\u001b[0m \u001b[0mself\u001b[0m\u001b[1;33m.\u001b[0m\u001b[0m_plot_args\u001b[0m\u001b[1;33m(\u001b[0m\u001b[0mthis\u001b[0m\u001b[1;33m,\u001b[0m \u001b[0mkwargs\u001b[0m\u001b[1;33m)\u001b[0m\u001b[1;33m\u001b[0m\u001b[1;33m\u001b[0m\u001b[0m\n\u001b[0m\u001b[0;32m    274\u001b[0m \u001b[1;33m\u001b[0m\u001b[0m\n\u001b[0;32m    275\u001b[0m     \u001b[1;32mdef\u001b[0m \u001b[0mget_next_color\u001b[0m\u001b[1;33m(\u001b[0m\u001b[0mself\u001b[0m\u001b[1;33m)\u001b[0m\u001b[1;33m:\u001b[0m\u001b[1;33m\u001b[0m\u001b[1;33m\u001b[0m\u001b[0m\n",
          "\u001b[1;32m~\\Anaconda3\\envs\\py37\\lib\\site-packages\\matplotlib\\axes\\_base.py\u001b[0m in \u001b[0;36m_plot_args\u001b[1;34m(self, tup, kwargs)\u001b[0m\n\u001b[0;32m    397\u001b[0m \u001b[1;33m\u001b[0m\u001b[0m\n\u001b[0;32m    398\u001b[0m         \u001b[1;32mif\u001b[0m \u001b[0mx\u001b[0m\u001b[1;33m.\u001b[0m\u001b[0mshape\u001b[0m\u001b[1;33m[\u001b[0m\u001b[1;36m0\u001b[0m\u001b[1;33m]\u001b[0m \u001b[1;33m!=\u001b[0m \u001b[0my\u001b[0m\u001b[1;33m.\u001b[0m\u001b[0mshape\u001b[0m\u001b[1;33m[\u001b[0m\u001b[1;36m0\u001b[0m\u001b[1;33m]\u001b[0m\u001b[1;33m:\u001b[0m\u001b[1;33m\u001b[0m\u001b[1;33m\u001b[0m\u001b[0m\n\u001b[1;32m--> 399\u001b[1;33m             raise ValueError(f\"x and y must have same first dimension, but \"\n\u001b[0m\u001b[0;32m    400\u001b[0m                              f\"have shapes {x.shape} and {y.shape}\")\n\u001b[0;32m    401\u001b[0m         \u001b[1;32mif\u001b[0m \u001b[0mx\u001b[0m\u001b[1;33m.\u001b[0m\u001b[0mndim\u001b[0m \u001b[1;33m>\u001b[0m \u001b[1;36m2\u001b[0m \u001b[1;32mor\u001b[0m \u001b[0my\u001b[0m\u001b[1;33m.\u001b[0m\u001b[0mndim\u001b[0m \u001b[1;33m>\u001b[0m \u001b[1;36m2\u001b[0m\u001b[1;33m:\u001b[0m\u001b[1;33m\u001b[0m\u001b[1;33m\u001b[0m\u001b[0m\n",
          "\u001b[1;31mValueError\u001b[0m: x and y must have same first dimension, but have shapes (8,) and (80,)"
         ]
        }
       ]
      }
     },
     "379975e2977b4502ad7a875d989f5bc2": {
      "model_module": "@jupyter-widgets/controls",
      "model_module_version": "1.5.0",
      "model_name": "ButtonModel",
      "state": {
       "description": "311",
       "layout": "IPY_MODEL_39d952eaf546482a8abcb6a21092c223",
       "style": "IPY_MODEL_bc13ccb62a6342369491911854a54637"
      }
     },
     "37ab51fef6324368baf9595e92f85ba1": {
      "model_module": "@jupyter-widgets/controls",
      "model_module_version": "1.5.0",
      "model_name": "ButtonStyleModel",
      "state": {}
     },
     "37cefd77dee442548127cec81aacdbdc": {
      "model_module": "@jupyter-widgets/controls",
      "model_module_version": "1.5.0",
      "model_name": "ButtonModel",
      "state": {
       "description": "349",
       "layout": "IPY_MODEL_16fc540c099f4877afd0c42bb6456d3d",
       "style": "IPY_MODEL_be16422fe9d44c818f0d0a2f59014963"
      }
     },
     "381913b0f7cf4b7e9e05670907990e92": {
      "model_module": "@jupyter-widgets/controls",
      "model_module_version": "1.5.0",
      "model_name": "ButtonModel",
      "state": {
       "description": "523",
       "layout": "IPY_MODEL_35caf533714b49bfbbd81b1717789ca5",
       "style": "IPY_MODEL_4489fc050d2848f99547cd1943631357"
      }
     },
     "3853a1df933f4ab588d8b83e192ca70d": {
      "model_module": "@jupyter-widgets/controls",
      "model_module_version": "1.5.0",
      "model_name": "HBoxModel",
      "state": {
       "children": [
        "IPY_MODEL_c6010e5f223b4cdaa717ed1e0920c11b",
        "IPY_MODEL_8ddf71a7db6146f1ae4405143598cc43",
        "IPY_MODEL_2f2373909970436382328b880f24b7c0",
        "IPY_MODEL_2acf8c867fa440e1b194444773a8e927",
        "IPY_MODEL_169464b1de5645cfa9842e7a7ef1485c",
        "IPY_MODEL_e5b84cf518cd42738eab20cbf29f186d",
        "IPY_MODEL_71a723f03d2f41d8a8addec2f382f4b0",
        "IPY_MODEL_b6ea0bf5ada0441aa357e8ca6b2b8981",
        "IPY_MODEL_2f8bce72f1994f5d9261b8f10aff17f3",
        "IPY_MODEL_8903082417ee4d7bb4bba787c5543db3",
        "IPY_MODEL_6e44e653315e4d7dabfe77ee09b43855",
        "IPY_MODEL_88d77747a4b946c9985b2405a2ee0ebb",
        "IPY_MODEL_a3acd71de5ca4d3c8eeb6247f1bce204",
        "IPY_MODEL_04a7ca6d4102453bb6c0cab7c9e756bd"
       ],
       "layout": "IPY_MODEL_cc7d7dee19424f08af2adacaa5f53597"
      }
     },
     "3926f3d9485040129d20278bcf636180": {
      "model_module": "@jupyter-widgets/controls",
      "model_module_version": "1.5.0",
      "model_name": "ButtonModel",
      "state": {
       "description": "66",
       "layout": "IPY_MODEL_9d557a9525884cd9a0c6a0fd5123b9f8",
       "style": "IPY_MODEL_8f05713fdda941f192ce61837f5dd981"
      }
     },
     "392c3f0c8cb14a71ab1fc01af7583e98": {
      "model_module": "@jupyter-widgets/controls",
      "model_module_version": "1.5.0",
      "model_name": "ButtonStyleModel",
      "state": {}
     },
     "39615c96f1ca479cbaf8ba4df7384e1d": {
      "model_module": "@jupyter-widgets/controls",
      "model_module_version": "1.5.0",
      "model_name": "ButtonModel",
      "state": {
       "description": "370",
       "layout": "IPY_MODEL_16fc540c099f4877afd0c42bb6456d3d",
       "style": "IPY_MODEL_461d84d2eb17454891461f2b6b04085b"
      }
     },
     "39d952eaf546482a8abcb6a21092c223": {
      "model_module": "@jupyter-widgets/base",
      "model_module_version": "1.2.0",
      "model_name": "LayoutModel",
      "state": {
       "border": "0px solid blue",
       "height": "30px",
       "width": "42px"
      }
     },
     "39e813202ffd4b11bb81b5aa5202bacd": {
      "model_module": "@jupyter-widgets/controls",
      "model_module_version": "1.5.0",
      "model_name": "ButtonModel",
      "state": {
       "description": "523",
       "layout": "IPY_MODEL_39d952eaf546482a8abcb6a21092c223",
       "style": "IPY_MODEL_08f6600d96494e9582580c74c5e787d8"
      }
     },
     "3aa33b88e15f48a8ae990f08300af470": {
      "model_module": "@jupyter-widgets/controls",
      "model_module_version": "1.5.0",
      "model_name": "ButtonStyleModel",
      "state": {}
     },
     "3aad5859bc0a4b689fe08d042d24978d": {
      "model_module": "@jupyter-widgets/controls",
      "model_module_version": "1.5.0",
      "model_name": "ButtonModel",
      "state": {
       "description": "61",
       "layout": "IPY_MODEL_9d557a9525884cd9a0c6a0fd5123b9f8",
       "style": "IPY_MODEL_6c38b523eef84450823da5a87287ac98"
      }
     },
     "3b0124117c6b464ea6487eefd6eca3a7": {
      "model_module": "@jupyter-widgets/controls",
      "model_module_version": "1.5.0",
      "model_name": "ButtonStyleModel",
      "state": {}
     },
     "3b42262d1d5f413c94a80b88bb722b6e": {
      "model_module": "@jupyter-widgets/controls",
      "model_module_version": "1.5.0",
      "model_name": "ButtonModel",
      "state": {
       "description": "Note",
       "layout": "IPY_MODEL_d3c9d6cf13db472784a4cb2c4b081a1c",
       "style": "IPY_MODEL_fbc71ab871204526ab10f73cd999845e"
      }
     },
     "3b58c9f5eaec4d86830ad233e8e312ae": {
      "model_module": "@jupyter-widgets/controls",
      "model_module_version": "1.5.0",
      "model_name": "ButtonStyleModel",
      "state": {}
     },
     "3b78761f22df4234ac259bdd5c9872a3": {
      "model_module": "@jupyter-widgets/controls",
      "model_module_version": "1.5.0",
      "model_name": "ButtonModel",
      "state": {
       "description": "415",
       "layout": "IPY_MODEL_18482c16c6f847d3a4fd0b44e6d652c5",
       "style": "IPY_MODEL_f0dc929780d34fd6a0b6e86c79619d7f"
      }
     },
     "3bc44a49c3fa459b86f6830e70d6e14a": {
      "model_module": "@jupyter-widgets/controls",
      "model_module_version": "1.5.0",
      "model_name": "ButtonModel",
      "state": {
       "description": "C",
       "layout": "IPY_MODEL_9c3d99e658354a67968ab6adb6e1e835",
       "style": "IPY_MODEL_dbd5ec21dd804c56ac8724d6fdeb89b4"
      }
     },
     "3c7ccfac03a245aa8e05b531b37f9b71": {
      "model_module": "@jupyter-widgets/controls",
      "model_module_version": "1.5.0",
      "model_name": "ButtonModel",
      "state": {
       "description": "71",
       "layout": "IPY_MODEL_9d557a9525884cd9a0c6a0fd5123b9f8",
       "style": "IPY_MODEL_c36e58e431a942f4ab0379637c744dd8"
      }
     },
     "3c96e5780f644ae5b4184513c9d9b404": {
      "model_module": "@jupyter-widgets/base",
      "model_module_version": "1.2.0",
      "model_name": "LayoutModel",
      "state": {
       "width": "100px"
      }
     },
     "3ca3f36eef64426b8e5b51dbd981c533": {
      "model_module": "@jupyter-widgets/controls",
      "model_module_version": "1.5.0",
      "model_name": "ButtonStyleModel",
      "state": {}
     },
     "3d27bbf9e3364c3f80849588725a9de5": {
      "model_module": "@jupyter-widgets/controls",
      "model_module_version": "1.5.0",
      "model_name": "VBoxModel",
      "state": {
       "children": [
        "IPY_MODEL_1bd3fdaab91346669f45bc8f4d011830",
        "IPY_MODEL_2b7d385403dc4722887572919392ffac",
        "IPY_MODEL_8d7895babe124000a3d5a1a15558e992",
        "IPY_MODEL_5cba638bf83a44b183e216e6c207be17"
       ],
       "layout": "IPY_MODEL_34163b3d2e6c44dfba06f0fc7ad6f23b"
      }
     },
     "3d3b2e114e084e269a4b1e1d978ec9c9": {
      "model_module": "@jupyter-widgets/controls",
      "model_module_version": "1.5.0",
      "model_name": "ButtonStyleModel",
      "state": {}
     },
     "3d81653f78cb45b39b9656117ec19ead": {
      "model_module": "@jupyter-widgets/controls",
      "model_module_version": "1.5.0",
      "model_name": "ButtonStyleModel",
      "state": {}
     },
     "3f4545b073c641298c2f57d1d67ea2f8": {
      "model_module": "@jupyter-widgets/base",
      "model_module_version": "1.2.0",
      "model_name": "LayoutModel",
      "state": {}
     },
     "3f4c8517f46c43c6a776e9a3af56e48f": {
      "model_module": "@jupyter-widgets/controls",
      "model_module_version": "1.5.0",
      "model_name": "ButtonStyleModel",
      "state": {
       "button_color": "#BBBBBB",
       "font_weight": "bold"
      }
     },
     "3f9fe97f6c174344982f0f00ba2a66a2": {
      "model_module": "@jupyter-widgets/controls",
      "model_module_version": "1.5.0",
      "model_name": "ButtonStyleModel",
      "state": {}
     },
     "4193c572fef04ce58026a913b799de04": {
      "model_module": "@jupyter-widgets/controls",
      "model_module_version": "1.5.0",
      "model_name": "ButtonModel",
      "state": {
       "description": "68",
       "layout": "IPY_MODEL_f76697facfad4a86a4e1a527bc08d5ec",
       "style": "IPY_MODEL_458186c897da4ec58bdb54760f6f6a00"
      }
     },
     "4197724d6fd346ae97a185e3244657bf": {
      "model_module": "@jupyter-widgets/controls",
      "model_module_version": "1.5.0",
      "model_name": "ButtonModel",
      "state": {
       "description": "277",
       "layout": "IPY_MODEL_35caf533714b49bfbbd81b1717789ca5",
       "style": "IPY_MODEL_7061af8303f3417abff4d8f5115e3642"
      }
     },
     "43242e596cda4b37b1b70b68b5db1dd4": {
      "model_module": "@jupyter-widgets/controls",
      "model_module_version": "1.5.0",
      "model_name": "ButtonModel",
      "state": {
       "description": "G#",
       "layout": "IPY_MODEL_9c3d99e658354a67968ab6adb6e1e835",
       "style": "IPY_MODEL_cdb5676197da419ea7971215b8817571"
      }
     },
     "43a7e6b4828a4c98842d59e94e1e6ec9": {
      "model_module": "@jupyter-widgets/controls",
      "model_module_version": "1.5.0",
      "model_name": "ButtonModel",
      "state": {
       "description": "68",
       "layout": "IPY_MODEL_35caf533714b49bfbbd81b1717789ca5",
       "style": "IPY_MODEL_59143615bac54e029d1b3067231c8cd4"
      }
     },
     "43a93b996ee54c8f8ceb7d6b55aa9ee2": {
      "model_module": "@jupyter-widgets/controls",
      "model_module_version": "1.5.0",
      "model_name": "ButtonStyleModel",
      "state": {}
     },
     "442ef39de8e04e61b8240cd6e71946ae": {
      "model_module": "@jupyter-widgets/controls",
      "model_module_version": "1.5.0",
      "model_name": "ButtonModel",
      "state": {
       "description": "60",
       "layout": "IPY_MODEL_18482c16c6f847d3a4fd0b44e6d652c5",
       "style": "IPY_MODEL_60db78e01b544b9ebd6b8ff49cde24a5"
      }
     },
     "4489fc050d2848f99547cd1943631357": {
      "model_module": "@jupyter-widgets/controls",
      "model_module_version": "1.5.0",
      "model_name": "ButtonStyleModel",
      "state": {}
     },
     "455d4516e434423981aa4450efabb032": {
      "model_module": "@jupyter-widgets/controls",
      "model_module_version": "1.5.0",
      "model_name": "ButtonStyleModel",
      "state": {
       "button_color": "white",
       "font_weight": "bold"
      }
     },
     "458186c897da4ec58bdb54760f6f6a00": {
      "model_module": "@jupyter-widgets/controls",
      "model_module_version": "1.5.0",
      "model_name": "ButtonStyleModel",
      "state": {}
     },
     "461d84d2eb17454891461f2b6b04085b": {
      "model_module": "@jupyter-widgets/controls",
      "model_module_version": "1.5.0",
      "model_name": "ButtonStyleModel",
      "state": {}
     },
     "4622b4d2325f48a7bc3bfe2e9f6a03c2": {
      "model_module": "@jupyter-widgets/controls",
      "model_module_version": "1.5.0",
      "model_name": "ButtonModel",
      "state": {
       "description": "262",
       "layout": "IPY_MODEL_35caf533714b49bfbbd81b1717789ca5",
       "style": "IPY_MODEL_6b1c140e1e79423e8e699908fee20935"
      }
     },
     "463ec552d1224c56a985eae61192af76": {
      "model_module": "@jupyter-widgets/controls",
      "model_module_version": "1.5.0",
      "model_name": "ButtonModel",
      "state": {
       "description": "60",
       "layout": "IPY_MODEL_39d952eaf546482a8abcb6a21092c223",
       "style": "IPY_MODEL_37ab51fef6324368baf9595e92f85ba1"
      }
     },
     "4661e8441f8e4dea873d18d04244601a": {
      "model_module": "@jupyter-widgets/controls",
      "model_module_version": "1.5.0",
      "model_name": "ButtonStyleModel",
      "state": {
       "button_color": "white",
       "font_weight": "bold"
      }
     },
     "4685c68686e24356b0072ac1cf2e1587": {
      "model_module": "@jupyter-widgets/controls",
      "model_module_version": "1.5.0",
      "model_name": "ButtonModel",
      "state": {
       "description": "392",
       "layout": "IPY_MODEL_18482c16c6f847d3a4fd0b44e6d652c5",
       "style": "IPY_MODEL_3176ad72c20843f7a56ee2426ae1db1f"
      }
     },
     "4699797f7b254468bd4bd8a4fbb36469": {
      "model_module": "@jupyter-widgets/controls",
      "model_module_version": "1.5.0",
      "model_name": "ButtonModel",
      "state": {
       "description": "Note",
       "layout": "IPY_MODEL_1c881f3549a042c9b17c6cf0c8402e40",
       "style": "IPY_MODEL_27cb3ccfe2864179bf852f1f8379aad7"
      }
     },
     "46be00db921f4fc59be0554e844c3cdb": {
      "model_module": "@jupyter-widgets/controls",
      "model_module_version": "1.5.0",
      "model_name": "ButtonModel",
      "state": {
       "description": "G#",
       "layout": "IPY_MODEL_4e742685616442d9a8c74b95c8291289",
       "style": "IPY_MODEL_1111bd9b3d504611badd04950b908fc0"
      }
     },
     "46c35f1878244cc1b095bb13c93b6004": {
      "model_module": "@jupyter-widgets/base",
      "model_module_version": "1.2.0",
      "model_name": "LayoutModel",
      "state": {}
     },
     "46d49b16758f47a693e5392e3ba19ec4": {
      "model_module": "@jupyter-widgets/controls",
      "model_module_version": "1.5.0",
      "model_name": "ButtonModel",
      "state": {
       "description": "523",
       "layout": "IPY_MODEL_16fc540c099f4877afd0c42bb6456d3d",
       "style": "IPY_MODEL_073c08f483864b8e9950638988a4a406"
      }
     },
     "47205b43dae64b53afa015afd33bc47e": {
      "model_module": "@jupyter-widgets/controls",
      "model_module_version": "1.5.0",
      "model_name": "ButtonStyleModel",
      "state": {
       "button_color": "#BBBBBB",
       "font_weight": "bold"
      }
     },
     "473288ee15c74c638491c2e2b46bf6d1": {
      "model_module": "@jupyter-widgets/controls",
      "model_module_version": "1.5.0",
      "model_name": "ButtonModel",
      "state": {
       "description": "66",
       "layout": "IPY_MODEL_16fc540c099f4877afd0c42bb6456d3d",
       "style": "IPY_MODEL_f4fff5aea77b4a7cab8102a945ca85e2"
      }
     },
     "47565130d36d4dac9ef85a5b3fd01c53": {
      "model_module": "@jupyter-widgets/controls",
      "model_module_version": "1.5.0",
      "model_name": "ButtonStyleModel",
      "state": {
       "button_color": "white",
       "font_weight": "bold"
      }
     },
     "478b5766897241c393c1a8336a44e72b": {
      "model_module": "@jupyter-widgets/controls",
      "model_module_version": "1.5.0",
      "model_name": "ButtonStyleModel",
      "state": {}
     },
     "4796d6bb8e714844930d0ca3f16429fd": {
      "model_module": "@jupyter-widgets/controls",
      "model_module_version": "1.5.0",
      "model_name": "ButtonModel",
      "state": {
       "description": "F",
       "layout": "IPY_MODEL_972469c993c048cdaa792f8d01c25ca5",
       "style": "IPY_MODEL_cbb71e01ac5f4fad8841e616218287f7"
      }
     },
     "4865582a71934f469be924b61743d51b": {
      "model_module": "@jupyter-widgets/controls",
      "model_module_version": "1.5.0",
      "model_name": "ButtonStyleModel",
      "state": {}
     },
     "49444d56a69442979ded1f7caf2f7bdf": {
      "model_module": "@jupyter-widgets/base",
      "model_module_version": "1.2.0",
      "model_name": "LayoutModel",
      "state": {
       "width": "100px"
      }
     },
     "4992a4906fb04db8bb2a061864808476": {
      "model_module": "@jupyter-widgets/controls",
      "model_module_version": "1.5.0",
      "model_name": "ButtonStyleModel",
      "state": {}
     },
     "499653260398433287fe0b7c70d4bafb": {
      "model_module": "@jupyter-widgets/controls",
      "model_module_version": "1.5.0",
      "model_name": "ButtonModel",
      "state": {
       "description": "A#",
       "layout": "IPY_MODEL_972469c993c048cdaa792f8d01c25ca5",
       "style": "IPY_MODEL_e6de056245674ba3be79fc39da6917e5"
      }
     },
     "4a01cf59d24b44fc952c91226cae9566": {
      "model_module": "@jupyter-widgets/controls",
      "model_module_version": "1.5.0",
      "model_name": "ButtonStyleModel",
      "state": {
       "button_color": "white",
       "font_weight": "bold"
      }
     },
     "4a238b2ffb354b4ebd6db09957e60d0c": {
      "model_module": "@jupyter-widgets/controls",
      "model_module_version": "1.5.0",
      "model_name": "ButtonModel",
      "state": {
       "description": "71",
       "layout": "IPY_MODEL_16fc540c099f4877afd0c42bb6456d3d",
       "style": "IPY_MODEL_5b080fc59cac44b6b9bcc7949281607d"
      }
     },
     "4a40d2126d5d41e6b666566f4337920b": {
      "model_module": "@jupyter-widgets/controls",
      "model_module_version": "1.5.0",
      "model_name": "ButtonStyleModel",
      "state": {
       "button_color": "#BBBBBB",
       "font_weight": "bold"
      }
     },
     "4a43e9302c2a45f39b37ae277e6fd707": {
      "model_module": "@jupyter-widgets/controls",
      "model_module_version": "1.5.0",
      "model_name": "ButtonStyleModel",
      "state": {}
     },
     "4a70d95317ad4955821b342e70425f94": {
      "model_module": "@jupyter-widgets/controls",
      "model_module_version": "1.5.0",
      "model_name": "ButtonModel",
      "state": {
       "description": "D",
       "layout": "IPY_MODEL_4e742685616442d9a8c74b95c8291289",
       "style": "IPY_MODEL_d835c1c26af341d38ac2bb4036c1e24f"
      }
     },
     "4a71f3afb91d47d582c2e3917288b1ef": {
      "model_module": "@jupyter-widgets/controls",
      "model_module_version": "1.5.0",
      "model_name": "ButtonStyleModel",
      "state": {}
     },
     "4b37d5fe5e15424384efd02cb54cf75b": {
      "model_module": "@jupyter-widgets/controls",
      "model_module_version": "1.5.0",
      "model_name": "ButtonModel",
      "state": {
       "description": "E",
       "layout": "IPY_MODEL_d37f618c4d194ae5b7e8455e28e44b63",
       "style": "IPY_MODEL_047d609094d34eebbb75eee313a1b0b9"
      }
     },
     "4c2c65a3c2d7438b940ee7044550d36f": {
      "model_module": "@jupyter-widgets/controls",
      "model_module_version": "1.5.0",
      "model_name": "ButtonStyleModel",
      "state": {}
     },
     "4ca921bcd11e4363b5db560c1d78f4dd": {
      "model_module": "@jupyter-widgets/controls",
      "model_module_version": "1.5.0",
      "model_name": "ButtonStyleModel",
      "state": {}
     },
     "4cce218d95a54902beb00d0326f76325": {
      "model_module": "@jupyter-widgets/controls",
      "model_module_version": "1.5.0",
      "model_name": "ButtonModel",
      "state": {
       "description": "A#",
       "layout": "IPY_MODEL_d37f618c4d194ae5b7e8455e28e44b63",
       "style": "IPY_MODEL_c6d6041abbf54d4f87232ae4a1626960"
      }
     },
     "4d06b928ce6d4d0ea13f4255c590a023": {
      "model_module": "@jupyter-widgets/controls",
      "model_module_version": "1.5.0",
      "model_name": "HBoxModel",
      "state": {
       "children": [
        "IPY_MODEL_75a9d8081fd5478da7cbd32d3361bf0e",
        "IPY_MODEL_201ef081549f470384bb19602f485935",
        "IPY_MODEL_1bf4e32152624914a887ae402fe22948",
        "IPY_MODEL_0e601f9359f0483eaa516de1b0ce68fb",
        "IPY_MODEL_1a0020ae190f40b0a9624e17e7d91f75",
        "IPY_MODEL_4796d6bb8e714844930d0ca3f16429fd",
        "IPY_MODEL_f1bd36bb9c5f46eba45ba9c1739afc87",
        "IPY_MODEL_14b9cf74094f417691d4f8baa56ca0d7",
        "IPY_MODEL_7da477d819434b0e9734564ed67a9485",
        "IPY_MODEL_f938dc0a405c41b99834e38661528f40",
        "IPY_MODEL_499653260398433287fe0b7c70d4bafb",
        "IPY_MODEL_fea8b11f45dd4cd08b896dc72afb27e7",
        "IPY_MODEL_a17ac664ec8d418e941cf2878a9ca323",
        "IPY_MODEL_4699797f7b254468bd4bd8a4fbb36469"
       ],
       "layout": "IPY_MODEL_97c7ad6f92334670a6fc00bd508f9d9b"
      }
     },
     "4dd895c86be7491d97454151423724ae": {
      "model_module": "@jupyter-widgets/base",
      "model_module_version": "1.2.0",
      "model_name": "LayoutModel",
      "state": {}
     },
     "4de68264d21844d5ab75763c496c9072": {
      "model_module": "@jupyter-widgets/controls",
      "model_module_version": "1.5.0",
      "model_name": "ButtonStyleModel",
      "state": {
       "button_color": "#BBBBBB",
       "font_weight": "bold"
      }
     },
     "4e0c785906354f929d02f02b8ac62a4a": {
      "model_module": "@jupyter-widgets/controls",
      "model_module_version": "1.5.0",
      "model_name": "ButtonModel",
      "state": {
       "description": "68",
       "layout": "IPY_MODEL_18482c16c6f847d3a4fd0b44e6d652c5",
       "style": "IPY_MODEL_df3c50d577b341b08089354e95eb5726"
      }
     },
     "4e6a209425ba40a19c63f9bd50b91a09": {
      "model_module": "@jupyter-widgets/controls",
      "model_module_version": "1.5.0",
      "model_name": "ButtonStyleModel",
      "state": {
       "button_color": "#BBBBBB",
       "font_weight": "bold"
      }
     },
     "4e742685616442d9a8c74b95c8291289": {
      "model_module": "@jupyter-widgets/base",
      "model_module_version": "1.2.0",
      "model_name": "LayoutModel",
      "state": {
       "border": "2px solid black",
       "height": "80px",
       "width": "42px"
      }
     },
     "4e94d42bd3064713a6a87789a6cd977a": {
      "model_module": "@jupyter-widgets/controls",
      "model_module_version": "1.5.0",
      "model_name": "ButtonStyleModel",
      "state": {}
     },
     "4f854f8f7b43490aa63501898401ade3": {
      "model_module": "@jupyter-widgets/controls",
      "model_module_version": "1.5.0",
      "model_name": "ButtonModel",
      "state": {
       "description": "E",
       "layout": "IPY_MODEL_1f73d6ed87f14cdba71fd37d0a99871a",
       "style": "IPY_MODEL_95e2176187a841a4a2a1d5dd619765d4"
      }
     },
     "504de383884143e9831bb902086bf3e3": {
      "model_module": "@jupyter-widgets/controls",
      "model_module_version": "1.5.0",
      "model_name": "ButtonModel",
      "state": {
       "description": "Frequency",
       "layout": "IPY_MODEL_3c96e5780f644ae5b4184513c9d9b404",
       "style": "IPY_MODEL_d355ae518aa54a3f8fba19a7524cf605"
      }
     },
     "5164c1c0e78c4bd5a94c85984b6326ab": {
      "model_module": "@jupyter-widgets/controls",
      "model_module_version": "1.5.0",
      "model_name": "ButtonModel",
      "state": {
       "description": "294",
       "layout": "IPY_MODEL_35caf533714b49bfbbd81b1717789ca5",
       "style": "IPY_MODEL_c2480386746e47d5965e9588d998a0fa"
      }
     },
     "516a216834394c0a8ea64f346cacd3a7": {
      "model_module": "@jupyter-widgets/controls",
      "model_module_version": "1.5.0",
      "model_name": "ButtonStyleModel",
      "state": {}
     },
     "519b0483a6b144eb805a86e5c376b9fd": {
      "model_module": "@jupyter-widgets/controls",
      "model_module_version": "1.5.0",
      "model_name": "ButtonStyleModel",
      "state": {}
     },
     "53b3aa5c512f47098f07895b3dc85f20": {
      "model_module": "@jupyter-widgets/controls",
      "model_module_version": "1.5.0",
      "model_name": "ButtonModel",
      "state": {
       "description": "415",
       "layout": "IPY_MODEL_16fc540c099f4877afd0c42bb6456d3d",
       "style": "IPY_MODEL_f8c47f8b22a64b3095823c2650bd42fb"
      }
     },
     "543ff011b0da43e78412f33ef4bda2d0": {
      "model_module": "@jupyter-widgets/controls",
      "model_module_version": "1.5.0",
      "model_name": "ButtonStyleModel",
      "state": {}
     },
     "54d163e90b88453f8146130c1ebece8d": {
      "model_module": "@jupyter-widgets/controls",
      "model_module_version": "1.5.0",
      "model_name": "ButtonModel",
      "state": {
       "description": "67",
       "layout": "IPY_MODEL_18482c16c6f847d3a4fd0b44e6d652c5",
       "style": "IPY_MODEL_87e5b3ce4d3f4d94abaf18217f6f7a6f"
      }
     },
     "5527a45043b14e61aaa9859e03309a8c": {
      "model_module": "@jupyter-widgets/controls",
      "model_module_version": "1.5.0",
      "model_name": "ButtonModel",
      "state": {
       "description": "G#",
       "layout": "IPY_MODEL_1f73d6ed87f14cdba71fd37d0a99871a",
       "style": "IPY_MODEL_57bd9a4f75ff4ee7b9467a476e11703c"
      }
     },
     "5546444178df46c99dfdb132557ddb6e": {
      "model_module": "@jupyter-widgets/controls",
      "model_module_version": "1.5.0",
      "model_name": "ButtonModel",
      "state": {
       "description": "G#",
       "layout": "IPY_MODEL_da2b95c2564e4a9cacc48f3f32033574",
       "style": "IPY_MODEL_4a40d2126d5d41e6b666566f4337920b"
      }
     },
     "55923591814c40cba8c4eb38fb6d989b": {
      "model_module": "@jupyter-widgets/controls",
      "model_module_version": "1.5.0",
      "model_name": "ButtonModel",
      "state": {
       "description": "63",
       "layout": "IPY_MODEL_959046a4dcef42b58bbf3f9082dd5811",
       "style": "IPY_MODEL_050a47013610461c90ee8b27b8be7e7b"
      }
     },
     "55a0cdb8dab4472bbb54e9aa52bd8bcd": {
      "model_module": "@jupyter-widgets/controls",
      "model_module_version": "1.5.0",
      "model_name": "ButtonStyleModel",
      "state": {}
     },
     "5675d0fa1c3a45f78a9145aa150e3740": {
      "model_module": "@jupyter-widgets/controls",
      "model_module_version": "1.5.0",
      "model_name": "ButtonStyleModel",
      "state": {
       "button_color": "white",
       "font_weight": "bold"
      }
     },
     "57bd9a4f75ff4ee7b9467a476e11703c": {
      "model_module": "@jupyter-widgets/controls",
      "model_module_version": "1.5.0",
      "model_name": "ButtonStyleModel",
      "state": {
       "button_color": "#BBBBBB",
       "font_weight": "bold"
      }
     },
     "57f37c23d6bf45429bb03ade7631e8dd": {
      "model_module": "@jupyter-widgets/controls",
      "model_module_version": "1.5.0",
      "model_name": "ButtonStyleModel",
      "state": {
       "button_color": "#BBBBBB",
       "font_weight": "bold"
      }
     },
     "5809d3d0eaca406d931c9ed44891b185": {
      "model_module": "@jupyter-widgets/controls",
      "model_module_version": "1.5.0",
      "model_name": "ButtonModel",
      "state": {
       "description": "370",
       "layout": "IPY_MODEL_39d952eaf546482a8abcb6a21092c223",
       "style": "IPY_MODEL_127ec73c7bba477b8cb11ee595dcf582"
      }
     },
     "58632f243fae481c98f15e8ab6a9b765": {
      "model_module": "@jupyter-widgets/controls",
      "model_module_version": "1.5.0",
      "model_name": "ButtonModel",
      "state": {
       "description": "B",
       "layout": "IPY_MODEL_4e742685616442d9a8c74b95c8291289",
       "style": "IPY_MODEL_33872434a7844bd982bfa6306de7b2ef"
      }
     },
     "58745cd717514a5d8eaf3c92654a089b": {
      "model_module": "@jupyter-widgets/controls",
      "model_module_version": "1.5.0",
      "model_name": "ButtonStyleModel",
      "state": {}
     },
     "58cdbb40b45a4c94850e8c2b0616df89": {
      "model_module": "@jupyter-widgets/controls",
      "model_module_version": "1.5.0",
      "model_name": "ButtonModel",
      "state": {
       "description": "466",
       "layout": "IPY_MODEL_9d557a9525884cd9a0c6a0fd5123b9f8",
       "style": "IPY_MODEL_83c6b6b64f7e4c2299edddc74aacc1e9"
      }
     },
     "59143615bac54e029d1b3067231c8cd4": {
      "model_module": "@jupyter-widgets/controls",
      "model_module_version": "1.5.0",
      "model_name": "ButtonStyleModel",
      "state": {}
     },
     "59a57fb7525f44ed963118454d97e2fa": {
      "model_module": "@jupyter-widgets/controls",
      "model_module_version": "1.5.0",
      "model_name": "ButtonStyleModel",
      "state": {}
     },
     "59b542f2e94547fd9403d99bad9dfe85": {
      "model_module": "@jupyter-widgets/controls",
      "model_module_version": "1.5.0",
      "model_name": "HBoxModel",
      "state": {
       "children": [
        "IPY_MODEL_f8729dea8a034e1aa77ef5cfd596f36f",
        "IPY_MODEL_ace2f318e4484de69c77fb5339e4d81e",
        "IPY_MODEL_c551677a047641dca6d2c04dc16faf32",
        "IPY_MODEL_9e1018f0ef484e31a0d112d67d693594",
        "IPY_MODEL_9746dcaba1e34dea878dd0d8cfd42347",
        "IPY_MODEL_d339f75b62f0464c8c87a3e3918b07b4",
        "IPY_MODEL_473288ee15c74c638491c2e2b46bf6d1",
        "IPY_MODEL_e827f2d3cbc44a9eb7879ad4fccdc46a",
        "IPY_MODEL_dcbadc67db204f94b526cc758f5ebfd8",
        "IPY_MODEL_1d785e28e5e2435eb21590a770f6131d",
        "IPY_MODEL_32c86c23f1bd4d229eaaa7480376a45e",
        "IPY_MODEL_4a238b2ffb354b4ebd6db09957e60d0c",
        "IPY_MODEL_27fc16710d474d6da5e9488bbdcc83c0",
        "IPY_MODEL_6fbb68f69f244e62a243598b589c5308"
       ],
       "layout": "IPY_MODEL_7cff24b78dfe466da66a23761cca936a"
      }
     },
     "59bb05ada05d49ed9318e1a5cb2714c5": {
      "model_module": "@jupyter-widgets/controls",
      "model_module_version": "1.5.0",
      "model_name": "ButtonStyleModel",
      "state": {
       "button_color": "#EEFFDD"
      }
     },
     "59f1aa1e3b634359bf61cc4a3dbcaced": {
      "model_module": "@jupyter-widgets/controls",
      "model_module_version": "1.5.0",
      "model_name": "HBoxModel",
      "state": {
       "children": [
        "IPY_MODEL_c6c7bd92cda54bc2b2799fe0b9f4da8f",
        "IPY_MODEL_91df684bad7c45c8b1ac193c45daede9",
        "IPY_MODEL_d6d1616c7d7748939830b4a7944b5e61",
        "IPY_MODEL_364090abae944c1682115d92d8e864ac",
        "IPY_MODEL_0386903d4fa34bb580dd941d8ab7def4",
        "IPY_MODEL_f46e0f3cfbc949d3b52b58b4687901a8",
        "IPY_MODEL_14fda8d809c04e1480cc06486e9f754c",
        "IPY_MODEL_4685c68686e24356b0072ac1cf2e1587",
        "IPY_MODEL_3b78761f22df4234ac259bdd5c9872a3",
        "IPY_MODEL_eb4b381e13b4489bbaeafe54898bc446",
        "IPY_MODEL_1fc55ca068b84747b420b98e932cdf35",
        "IPY_MODEL_df023f4295804b0092875fa1005fc647",
        "IPY_MODEL_89fc1277289646a88efa35ac44e1e905",
        "IPY_MODEL_6e7de08ad7964bd6bbad57048aa4b0df"
       ],
       "layout": "IPY_MODEL_952d2e5d140344efa72c057deb6e0a67"
      }
     },
     "5a3f270073054a93a824f760a08cd1b1": {
      "model_module": "@jupyter-widgets/controls",
      "model_module_version": "1.5.0",
      "model_name": "ButtonStyleModel",
      "state": {}
     },
     "5a8f6dcc83c04c44b9ad7926c73cf99d": {
      "model_module": "@jupyter-widgets/base",
      "model_module_version": "1.2.0",
      "model_name": "LayoutModel",
      "state": {
       "width": "100px"
      }
     },
     "5a93839075914c5783f871af484d2988": {
      "model_module": "@jupyter-widgets/controls",
      "model_module_version": "1.5.0",
      "model_name": "ButtonModel",
      "state": {
       "description": "D#",
       "layout": "IPY_MODEL_d37f618c4d194ae5b7e8455e28e44b63",
       "style": "IPY_MODEL_1b11c68dcff3402d8088ad2badb24960"
      }
     },
     "5ac6fdcc40164833a1ed860b5974ee7c": {
      "model_module": "@jupyter-widgets/controls",
      "model_module_version": "1.5.0",
      "model_name": "ButtonStyleModel",
      "state": {
       "button_color": "white",
       "font_weight": "bold"
      }
     },
     "5ac7b1127956442c85c98c493ee310e0": {
      "model_module": "@jupyter-widgets/controls",
      "model_module_version": "1.5.0",
      "model_name": "ButtonStyleModel",
      "state": {
       "button_color": "white",
       "font_weight": "bold"
      }
     },
     "5b080fc59cac44b6b9bcc7949281607d": {
      "model_module": "@jupyter-widgets/controls",
      "model_module_version": "1.5.0",
      "model_name": "ButtonStyleModel",
      "state": {}
     },
     "5b9838d240424b08a3883996eb7f2185": {
      "model_module": "@jupyter-widgets/controls",
      "model_module_version": "1.5.0",
      "model_name": "ButtonStyleModel",
      "state": {
       "button_color": "white",
       "font_weight": "bold"
      }
     },
     "5c293179763b4853a268f6816d42331b": {
      "model_module": "@jupyter-widgets/controls",
      "model_module_version": "1.5.0",
      "model_name": "ButtonStyleModel",
      "state": {}
     },
     "5cba638bf83a44b183e216e6c207be17": {
      "model_module": "@jupyter-widgets/output",
      "model_module_version": "1.0.0",
      "model_name": "OutputModel",
      "state": {
       "layout": "IPY_MODEL_0cea6943488947709cc72730c5ebbacb",
       "outputs": [
        {
         "data": {
          "image/png": "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\n",
          "text/plain": "<Figure size 576x144 with 1 Axes>"
         },
         "metadata": {},
         "output_type": "display_data"
        },
        {
         "data": {
          "text/html": "\n                <audio  controls=\"controls\" autoplay=\"autoplay\">\n                    <source src=\"data:audio/wav;base64,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\" type=\"audio/wav\" />\n                    Your browser does not support the audio element.\n                </audio>\n              ",
          "text/plain": "<IPython.lib.display.Audio object>"
         },
         "metadata": {},
         "output_type": "display_data"
        }
       ]
      }
     },
     "5d6e2108b95f483799bb31a441511903": {
      "model_module": "@jupyter-widgets/controls",
      "model_module_version": "1.5.0",
      "model_name": "HBoxModel",
      "state": {
       "children": [
        "IPY_MODEL_c4c73fb9347e482e993f5d65708459a0",
        "IPY_MODEL_27e55d9c56044b95aef2dab57b9209b0",
        "IPY_MODEL_f67adeadfa0d464bb484198858667fec",
        "IPY_MODEL_5a93839075914c5783f871af484d2988",
        "IPY_MODEL_4b37d5fe5e15424384efd02cb54cf75b",
        "IPY_MODEL_160517f7f33c4c99bceac0862856fe94",
        "IPY_MODEL_70e17b110b43495db491cdb095c4f764",
        "IPY_MODEL_0722c85b49434d27968d8f15fd114e8b",
        "IPY_MODEL_c68bce88940546eb9f60e2352d264387",
        "IPY_MODEL_0ca7e915500648afa13cb93176368591",
        "IPY_MODEL_4cce218d95a54902beb00d0326f76325",
        "IPY_MODEL_6deed267214942e09e47128b08aab4c1",
        "IPY_MODEL_5f7c7652c70a44f796959a384b813f6c",
        "IPY_MODEL_3b42262d1d5f413c94a80b88bb722b6e"
       ],
       "layout": "IPY_MODEL_f56049bc78c242f0abdaf0c486c18aa1"
      }
     },
     "5d7e96a3555249d3a71e5f833226014b": {
      "model_module": "@jupyter-widgets/controls",
      "model_module_version": "1.5.0",
      "model_name": "ButtonStyleModel",
      "state": {}
     },
     "5d9f43cf6ede469a8f4966d2e0078350": {
      "model_module": "@jupyter-widgets/controls",
      "model_module_version": "1.5.0",
      "model_name": "ButtonModel",
      "state": {
       "description": "440",
       "layout": "IPY_MODEL_d3b4a8b1eb4c4c88819d93fb337337c6",
       "style": "IPY_MODEL_fe63cefcec7f410298a171257b45b5f8"
      }
     },
     "5e12c004bd63436eb95daf10e37c88b2": {
      "model_module": "@jupyter-widgets/controls",
      "model_module_version": "1.5.0",
      "model_name": "ButtonStyleModel",
      "state": {}
     },
     "5f0322b3074441a49389ef517b064529": {
      "model_module": "@jupyter-widgets/controls",
      "model_module_version": "1.5.0",
      "model_name": "ButtonModel",
      "state": {
       "description": "G",
       "layout": "IPY_MODEL_9c3d99e658354a67968ab6adb6e1e835",
       "style": "IPY_MODEL_a16c7a93a4ae4cd5a0d9beb7ccf39f95"
      }
     },
     "5f280691afb649dc9da6e74f100eedc2": {
      "model_module": "@jupyter-widgets/controls",
      "model_module_version": "1.5.0",
      "model_name": "ButtonModel",
      "state": {
       "description": "370",
       "layout": "IPY_MODEL_9d557a9525884cd9a0c6a0fd5123b9f8",
       "style": "IPY_MODEL_2fe9069bcc034883a35420897844de25"
      }
     },
     "5f76a810f9b04c3e8b81217e6144bf5b": {
      "model_module": "@jupyter-widgets/base",
      "model_module_version": "1.2.0",
      "model_name": "LayoutModel",
      "state": {
       "height": "80px",
       "width": "100px"
      }
     },
     "5f7c7652c70a44f796959a384b813f6c": {
      "model_module": "@jupyter-widgets/controls",
      "model_module_version": "1.5.0",
      "model_name": "ButtonModel",
      "state": {
       "description": "C",
       "layout": "IPY_MODEL_d37f618c4d194ae5b7e8455e28e44b63",
       "style": "IPY_MODEL_7c5c41002f834a38b19a27e81f631587"
      }
     },
     "5fb2c9527a8f4da28d251bd2b76f99ad": {
      "model_module": "@jupyter-widgets/controls",
      "model_module_version": "1.5.0",
      "model_name": "ButtonModel",
      "state": {
       "description": "G#",
       "layout": "IPY_MODEL_1ebcdd31d8b44db283e6a7b24e45c33d",
       "style": "IPY_MODEL_c9188cc242a7493aa7e4fad9d2db2c90"
      }
     },
     "5fb80a0e08ec4c448aa984d84c7e0871": {
      "model_module": "@jupyter-widgets/controls",
      "model_module_version": "1.5.0",
      "model_name": "ButtonStyleModel",
      "state": {}
     },
     "5fd89d9252734fbfa23abfe6164c9878": {
      "model_module": "@jupyter-widgets/controls",
      "model_module_version": "1.5.0",
      "model_name": "ButtonStyleModel",
      "state": {}
     },
     "601f11c953f94b6995b78071da181f59": {
      "model_module": "@jupyter-widgets/controls",
      "model_module_version": "1.5.0",
      "model_name": "ButtonStyleModel",
      "state": {}
     },
     "60ad759718d64141b37fe6019e444a7f": {
      "model_module": "@jupyter-widgets/controls",
      "model_module_version": "1.5.0",
      "model_name": "ButtonStyleModel",
      "state": {
       "button_color": "#BBBBBB",
       "font_weight": "bold"
      }
     },
     "60db78e01b544b9ebd6b8ff49cde24a5": {
      "model_module": "@jupyter-widgets/controls",
      "model_module_version": "1.5.0",
      "model_name": "ButtonStyleModel",
      "state": {}
     },
     "611b393fcec4409bb4114e524d72328a": {
      "model_module": "@jupyter-widgets/controls",
      "model_module_version": "1.5.0",
      "model_name": "ButtonModel",
      "state": {
       "description": "523",
       "layout": "IPY_MODEL_f76697facfad4a86a4e1a527bc08d5ec",
       "style": "IPY_MODEL_fa175541c295434382f36e91247627e6"
      }
     },
     "6182d3cb54fd4f948b69638fac6e3e7c": {
      "model_module": "@jupyter-widgets/controls",
      "model_module_version": "1.5.0",
      "model_name": "ButtonModel",
      "state": {
       "description": "F#",
       "layout": "IPY_MODEL_1ebcdd31d8b44db283e6a7b24e45c33d",
       "style": "IPY_MODEL_099c0e5b7b1a4617b38d729bc6805166"
      }
     },
     "618c27a87b764a5392bdb5a92bad0c6f": {
      "model_module": "@jupyter-widgets/controls",
      "model_module_version": "1.5.0",
      "model_name": "ButtonModel",
      "state": {
       "description": "Frequency",
       "layout": "IPY_MODEL_ed1eca9cbc02408e9d4e0eb78e125932",
       "style": "IPY_MODEL_bb3c8fef8d6b4724b0b20b051b5deafb"
      }
     },
     "624e8b65cad24d94b24585af089b2372": {
      "model_module": "@jupyter-widgets/controls",
      "model_module_version": "1.5.0",
      "model_name": "ButtonStyleModel",
      "state": {
       "button_color": "#BBBBBB",
       "font_weight": "bold"
      }
     },
     "648d4d27c1484727a50f3c74cdc6aa20": {
      "model_module": "@jupyter-widgets/controls",
      "model_module_version": "1.5.0",
      "model_name": "HBoxModel",
      "state": {
       "children": [
        "IPY_MODEL_1274ae56eaa2424da060669875f4ea82",
        "IPY_MODEL_af14382b6d6e428f8c62a4e0a94f3137",
        "IPY_MODEL_0225e6815e5c4f03bfd8a583f7e0f1df",
        "IPY_MODEL_97b2f122892f43469f491a36a095b7bd",
        "IPY_MODEL_6b6b8f78bbf84803a863d1dc201dbf79",
        "IPY_MODEL_9e10c981b7fa425aa1afa1d1d5b447a1",
        "IPY_MODEL_5f280691afb649dc9da6e74f100eedc2",
        "IPY_MODEL_a5189e5c24344170a28df76024241600",
        "IPY_MODEL_9766b50484484eb8b0b6cfd5c10a9a96",
        "IPY_MODEL_f053054edc954b2c9b3ed69dc6ac18c7",
        "IPY_MODEL_58cdbb40b45a4c94850e8c2b0616df89",
        "IPY_MODEL_bdd094e89442461baa2f0a4fce247c60",
        "IPY_MODEL_7d28f9c58cb24afcaf2b84b09bf1a7e9",
        "IPY_MODEL_f158dd24c0dc41fd9faea64633612b07"
       ],
       "layout": "IPY_MODEL_06f2156e4c4c4a6bb9c3aa19b9e8b301"
      }
     },
     "6491f70f8adf44388aec432d7ee2e60a": {
      "model_module": "@jupyter-widgets/controls",
      "model_module_version": "1.5.0",
      "model_name": "ButtonStyleModel",
      "state": {}
     },
     "6541a305182747a49fc61a70aef46a48": {
      "model_module": "@jupyter-widgets/controls",
      "model_module_version": "1.5.0",
      "model_name": "ButtonModel",
      "state": {
       "description": "MIDI",
       "layout": "IPY_MODEL_038586672e2d425a9c6f21252738c8e8",
       "style": "IPY_MODEL_f636f0c3f22a4bd589f6e908844f2f32"
      }
     },
     "658a84a9f6b9419298731c00a9dc50d5": {
      "model_module": "@jupyter-widgets/controls",
      "model_module_version": "1.5.0",
      "model_name": "ButtonModel",
      "state": {
       "description": "Frequency",
       "layout": "IPY_MODEL_5a8f6dcc83c04c44b9ad7926c73cf99d",
       "style": "IPY_MODEL_2990a635ebfb4ce2882971dd1ffd1d10"
      }
     },
     "6633a11807314036a61cc126e98e0694": {
      "model_module": "@jupyter-widgets/controls",
      "model_module_version": "1.5.0",
      "model_name": "ButtonStyleModel",
      "state": {}
     },
     "665a364d042a4eb58e10f405da1deb80": {
      "model_module": "@jupyter-widgets/controls",
      "model_module_version": "1.5.0",
      "model_name": "ButtonModel",
      "state": {
       "description": "C",
       "layout": "IPY_MODEL_1ebcdd31d8b44db283e6a7b24e45c33d",
       "style": "IPY_MODEL_30b907aff5a2452b93c607bbf92c28ce"
      }
     },
     "66b7344453ed4493a47ad3beecf3f863": {
      "model_module": "@jupyter-widgets/controls",
      "model_module_version": "1.5.0",
      "model_name": "ButtonStyleModel",
      "state": {}
     },
     "67ca815fc43e472c972d5c59073dd7b5": {
      "model_module": "@jupyter-widgets/controls",
      "model_module_version": "1.5.0",
      "model_name": "ButtonStyleModel",
      "state": {}
     },
     "67cb1bef9e4b407a81fc1526a73cb4a8": {
      "model_module": "@jupyter-widgets/controls",
      "model_module_version": "1.5.0",
      "model_name": "ButtonStyleModel",
      "state": {}
     },
     "67f5418cd39f4b62aa4d34481575deeb": {
      "model_module": "@jupyter-widgets/controls",
      "model_module_version": "1.5.0",
      "model_name": "ButtonModel",
      "state": {
       "description": "65",
       "layout": "IPY_MODEL_9d557a9525884cd9a0c6a0fd5123b9f8",
       "style": "IPY_MODEL_2ee275f9df36479783bf1e3740e98332"
      }
     },
     "688999427f844d6aabd4329dfef22b03": {
      "model_module": "@jupyter-widgets/controls",
      "model_module_version": "1.5.0",
      "model_name": "ButtonStyleModel",
      "state": {}
     },
     "68bca991e0874f72a288f4431c7c38b9": {
      "model_module": "@jupyter-widgets/controls",
      "model_module_version": "1.5.0",
      "model_name": "ButtonModel",
      "state": {
       "description": "C",
       "layout": "IPY_MODEL_0ce70a23b86147e598ab80566c43fba2",
       "style": "IPY_MODEL_1a8a12b6b92049ef8d777ba4284b4c3e"
      }
     },
     "68d80e0ba5f640fb96bc464f21a2790e": {
      "model_module": "@jupyter-widgets/controls",
      "model_module_version": "1.5.0",
      "model_name": "ButtonStyleModel",
      "state": {}
     },
     "6a075d52e1894a1da97951f01dd91505": {
      "model_module": "@jupyter-widgets/controls",
      "model_module_version": "1.5.0",
      "model_name": "ButtonModel",
      "state": {
       "description": "D#",
       "layout": "IPY_MODEL_0ce70a23b86147e598ab80566c43fba2",
       "style": "IPY_MODEL_310611530e8647f88679f03e85f77a54"
      }
     },
     "6ac99eb8a11e4003860c8a35da60c75f": {
      "model_module": "@jupyter-widgets/controls",
      "model_module_version": "1.5.0",
      "model_name": "ButtonStyleModel",
      "state": {
       "button_color": "white",
       "font_weight": "bold"
      }
     },
     "6b1c140e1e79423e8e699908fee20935": {
      "model_module": "@jupyter-widgets/controls",
      "model_module_version": "1.5.0",
      "model_name": "ButtonStyleModel",
      "state": {}
     },
     "6b6b8f78bbf84803a863d1dc201dbf79": {
      "model_module": "@jupyter-widgets/controls",
      "model_module_version": "1.5.0",
      "model_name": "ButtonModel",
      "state": {
       "description": "330",
       "layout": "IPY_MODEL_9d557a9525884cd9a0c6a0fd5123b9f8",
       "style": "IPY_MODEL_c0e4458ea96749a9b1375700eabca98e"
      }
     },
     "6b77ffd4ed314bf589ab939d2b0559fc": {
      "model_module": "@jupyter-widgets/controls",
      "model_module_version": "1.5.0",
      "model_name": "ButtonStyleModel",
      "state": {}
     },
     "6b8c61eb040c413aa3ce55d32359cb26": {
      "model_module": "@jupyter-widgets/controls",
      "model_module_version": "1.5.0",
      "model_name": "VBoxModel",
      "state": {
       "children": [
        "IPY_MODEL_0d00dcb9536947409e6477119fd8b283",
        "IPY_MODEL_648d4d27c1484727a50f3c74cdc6aa20",
        "IPY_MODEL_4d06b928ce6d4d0ea13f4255c590a023",
        "IPY_MODEL_7fad19c6e36f490685dbf4065b9d6b9b"
       ],
       "layout": "IPY_MODEL_9d139299d88b4f968802990da1538708"
      }
     },
     "6bb3fea192ec44b5977c8856af486819": {
      "model_module": "@jupyter-widgets/controls",
      "model_module_version": "1.5.0",
      "model_name": "ButtonModel",
      "state": {
       "description": "64",
       "layout": "IPY_MODEL_d3b4a8b1eb4c4c88819d93fb337337c6",
       "style": "IPY_MODEL_ce428c48c2c9406a9ef2194525560889"
      }
     },
     "6c338a8a884b4433bbe6768fbcd841f6": {
      "model_module": "@jupyter-widgets/controls",
      "model_module_version": "1.5.0",
      "model_name": "ButtonStyleModel",
      "state": {}
     },
     "6c38b523eef84450823da5a87287ac98": {
      "model_module": "@jupyter-widgets/controls",
      "model_module_version": "1.5.0",
      "model_name": "ButtonStyleModel",
      "state": {}
     },
     "6cc4af8af8454a15a38325358843ae37": {
      "model_module": "@jupyter-widgets/controls",
      "model_module_version": "1.5.0",
      "model_name": "ButtonStyleModel",
      "state": {}
     },
     "6dace944fe1c447babfefe8655c08ba5": {
      "model_module": "@jupyter-widgets/base",
      "model_module_version": "1.2.0",
      "model_name": "LayoutModel",
      "state": {}
     },
     "6dd80533b3e4485f8038df925d471283": {
      "model_module": "@jupyter-widgets/controls",
      "model_module_version": "1.5.0",
      "model_name": "ButtonStyleModel",
      "state": {}
     },
     "6deed267214942e09e47128b08aab4c1": {
      "model_module": "@jupyter-widgets/controls",
      "model_module_version": "1.5.0",
      "model_name": "ButtonModel",
      "state": {
       "description": "B",
       "layout": "IPY_MODEL_d37f618c4d194ae5b7e8455e28e44b63",
       "style": "IPY_MODEL_ce72f0457f234758abe08a0a4ca4f18c"
      }
     },
     "6e1c5e1a851a42ffbeb6d7dbd5df03f5": {
      "model_module": "@jupyter-widgets/controls",
      "model_module_version": "1.5.0",
      "model_name": "ButtonModel",
      "state": {
       "description": "71",
       "layout": "IPY_MODEL_959046a4dcef42b58bbf3f9082dd5811",
       "style": "IPY_MODEL_fdba76ab2cff4044b074a02a2d308661"
      }
     },
     "6e209ee46237483f9243536b0d709318": {
      "model_module": "@jupyter-widgets/controls",
      "model_module_version": "1.5.0",
      "model_name": "ButtonModel",
      "state": {
       "description": "G",
       "layout": "IPY_MODEL_1f73d6ed87f14cdba71fd37d0a99871a",
       "style": "IPY_MODEL_1f99fdd37e5e43fe950173e31d13dfd4"
      }
     },
     "6e44e653315e4d7dabfe77ee09b43855": {
      "model_module": "@jupyter-widgets/controls",
      "model_module_version": "1.5.0",
      "model_name": "ButtonModel",
      "state": {
       "description": "466",
       "layout": "IPY_MODEL_959046a4dcef42b58bbf3f9082dd5811",
       "style": "IPY_MODEL_8f1d99b0411b4425834a8f759655e042"
      }
     },
     "6e7de08ad7964bd6bbad57048aa4b0df": {
      "model_module": "@jupyter-widgets/controls",
      "model_module_version": "1.5.0",
      "model_name": "ButtonModel",
      "state": {
       "description": "Frequency",
       "layout": "IPY_MODEL_bb983ec5c92a45eb8c2cbceec7a2f6ec",
       "style": "IPY_MODEL_de4ce8d5d4604e7c928ceadc11678d75"
      }
     },
     "6f42087ae1c24e77b5792791afecaec2": {
      "model_module": "@jupyter-widgets/controls",
      "model_module_version": "1.5.0",
      "model_name": "ButtonModel",
      "state": {
       "description": "61",
       "layout": "IPY_MODEL_18482c16c6f847d3a4fd0b44e6d652c5",
       "style": "IPY_MODEL_688999427f844d6aabd4329dfef22b03"
      }
     },
     "6fbb68f69f244e62a243598b589c5308": {
      "model_module": "@jupyter-widgets/controls",
      "model_module_version": "1.5.0",
      "model_name": "ButtonModel",
      "state": {
       "description": "MIDI",
       "layout": "IPY_MODEL_ad8532bef63c48b1b75ddab217336681",
       "style": "IPY_MODEL_f7d8e1896cfd4df79fcc231d5f10e0a8"
      }
     },
     "7003fd7f69c64f5b9b2c2d11ad92cfb2": {
      "model_module": "@jupyter-widgets/controls",
      "model_module_version": "1.5.0",
      "model_name": "ButtonStyleModel",
      "state": {
       "button_color": "#BBBBBB",
       "font_weight": "bold"
      }
     },
     "704c2f6e155249f4b08002c9717084f8": {
      "model_module": "@jupyter-widgets/controls",
      "model_module_version": "1.5.0",
      "model_name": "ButtonStyleModel",
      "state": {}
     },
     "7061af8303f3417abff4d8f5115e3642": {
      "model_module": "@jupyter-widgets/controls",
      "model_module_version": "1.5.0",
      "model_name": "ButtonStyleModel",
      "state": {}
     },
     "70e17b110b43495db491cdb095c4f764": {
      "model_module": "@jupyter-widgets/controls",
      "model_module_version": "1.5.0",
      "model_name": "ButtonModel",
      "state": {
       "description": "F#",
       "layout": "IPY_MODEL_d37f618c4d194ae5b7e8455e28e44b63",
       "style": "IPY_MODEL_c6e8caaa3fb143fca0af1c11d9ee1c99"
      }
     },
     "71a723f03d2f41d8a8addec2f382f4b0": {
      "model_module": "@jupyter-widgets/controls",
      "model_module_version": "1.5.0",
      "model_name": "ButtonModel",
      "state": {
       "description": "370",
       "layout": "IPY_MODEL_959046a4dcef42b58bbf3f9082dd5811",
       "style": "IPY_MODEL_32f2cab0e30049c5a4b648f20dbdf6dd"
      }
     },
     "71d50813e3b44823a5d037bce87d6b6f": {
      "model_module": "@jupyter-widgets/controls",
      "model_module_version": "1.5.0",
      "model_name": "ButtonStyleModel",
      "state": {
       "button_color": "#BBBBBB",
       "font_weight": "bold"
      }
     },
     "720cb4fb501d423cb757428680308480": {
      "model_module": "@jupyter-widgets/controls",
      "model_module_version": "1.5.0",
      "model_name": "ButtonModel",
      "state": {
       "description": "311",
       "layout": "IPY_MODEL_f76697facfad4a86a4e1a527bc08d5ec",
       "style": "IPY_MODEL_9bacabd648e2443f91288f1eec28e912"
      }
     },
     "7238d04925544c01a9e9cb26411e2ee9": {
      "model_module": "@jupyter-widgets/controls",
      "model_module_version": "1.5.0",
      "model_name": "ButtonStyleModel",
      "state": {}
     },
     "723b3b2e8ede4ba5a4b22baa8964e9b2": {
      "model_module": "@jupyter-widgets/controls",
      "model_module_version": "1.5.0",
      "model_name": "ButtonStyleModel",
      "state": {}
     },
     "7270489e0f6547daa175733779eb42ef": {
      "model_module": "@jupyter-widgets/controls",
      "model_module_version": "1.5.0",
      "model_name": "ButtonStyleModel",
      "state": {
       "button_color": "#EEFFDD"
      }
     },
     "72e1a43f5a694d6fa1ea75d8e5ff32ed": {
      "model_module": "@jupyter-widgets/controls",
      "model_module_version": "1.5.0",
      "model_name": "ButtonStyleModel",
      "state": {}
     },
     "72f06ff5ecc34dcf8e9642724b4a7472": {
      "model_module": "@jupyter-widgets/controls",
      "model_module_version": "1.5.0",
      "model_name": "ButtonModel",
      "state": {
       "description": "70",
       "layout": "IPY_MODEL_39d952eaf546482a8abcb6a21092c223",
       "style": "IPY_MODEL_7ee085daeb7c4da78ebfe9a1fd281719"
      }
     },
     "7304e10f8d334b9f99d2363a5f396e07": {
      "model_module": "@jupyter-widgets/controls",
      "model_module_version": "1.5.0",
      "model_name": "HBoxModel",
      "state": {
       "children": [
        "IPY_MODEL_442ef39de8e04e61b8240cd6e71946ae",
        "IPY_MODEL_6f42087ae1c24e77b5792791afecaec2",
        "IPY_MODEL_a22463abddb042788759b5ea8d9894ea",
        "IPY_MODEL_08cc3ace81bd4f4d84e5528f80ff60ba",
        "IPY_MODEL_b4ed3258f81f4f7282ac612fcf91d214",
        "IPY_MODEL_d0c9f6b70f5045ad8e14b0c75c060398",
        "IPY_MODEL_7719b370457145628efa402a20b8b35b",
        "IPY_MODEL_54d163e90b88453f8146130c1ebece8d",
        "IPY_MODEL_4e0c785906354f929d02f02b8ac62a4a",
        "IPY_MODEL_e7693117693d41caae754d9beeaa2899",
        "IPY_MODEL_8cf5ede884c74c3fa2a035a8693a98a0",
        "IPY_MODEL_21ed4f616aba4938bbfecfe8c42c46da",
        "IPY_MODEL_e39de2b0de2b43b3ade937d876ccb761",
        "IPY_MODEL_7aac19f7d71c4623a6c4318af5d963f1"
       ],
       "layout": "IPY_MODEL_d4e1c98dc0914c07a570d92d2e8c36fc"
      }
     },
     "737192e128104c6c9e6dc13566bc892d": {
      "model_module": "@jupyter-widgets/controls",
      "model_module_version": "1.5.0",
      "model_name": "ButtonModel",
      "state": {
       "description": "E",
       "layout": "IPY_MODEL_4e742685616442d9a8c74b95c8291289",
       "style": "IPY_MODEL_156a441a0b48471bacfd1e0a14599a55"
      }
     },
     "73cb8bc8d7624e819b268171f4ca0255": {
      "model_module": "@jupyter-widgets/controls",
      "model_module_version": "1.5.0",
      "model_name": "ButtonStyleModel",
      "state": {
       "button_color": "#BBBBBB",
       "font_weight": "bold"
      }
     },
     "746080aa54434029ad483c9642a62cff": {
      "model_module": "@jupyter-widgets/controls",
      "model_module_version": "1.5.0",
      "model_name": "ButtonStyleModel",
      "state": {
       "button_color": "white",
       "font_weight": "bold"
      }
     },
     "7498ac7dd52e4738951566002d24637e": {
      "model_module": "@jupyter-widgets/base",
      "model_module_version": "1.2.0",
      "model_name": "LayoutModel",
      "state": {
       "height": "80px",
       "width": "100px"
      }
     },
     "75a9d8081fd5478da7cbd32d3361bf0e": {
      "model_module": "@jupyter-widgets/controls",
      "model_module_version": "1.5.0",
      "model_name": "ButtonModel",
      "state": {
       "description": "C",
       "layout": "IPY_MODEL_972469c993c048cdaa792f8d01c25ca5",
       "style": "IPY_MODEL_746080aa54434029ad483c9642a62cff"
      }
     },
     "7687b806dfe24e1683d6de608eae6733": {
      "model_module": "@jupyter-widgets/controls",
      "model_module_version": "1.5.0",
      "model_name": "ButtonModel",
      "state": {
       "description": "D",
       "layout": "IPY_MODEL_0ce70a23b86147e598ab80566c43fba2",
       "style": "IPY_MODEL_455d4516e434423981aa4450efabb032"
      }
     },
     "768ee472a9c949b4a0bd5684b6d5f610": {
      "model_module": "@jupyter-widgets/controls",
      "model_module_version": "1.5.0",
      "model_name": "ButtonModel",
      "state": {
       "description": "523",
       "layout": "IPY_MODEL_d3b4a8b1eb4c4c88819d93fb337337c6",
       "style": "IPY_MODEL_bd5d6e82a78e4c1a9d6f3bd2ea5037bc"
      }
     },
     "76c1cd6fcb6140098caf0e62fda29e9b": {
      "model_module": "@jupyter-widgets/base",
      "model_module_version": "1.2.0",
      "model_name": "LayoutModel",
      "state": {}
     },
     "76e66e29d0d64e899a739686282d8237": {
      "model_module": "@jupyter-widgets/controls",
      "model_module_version": "1.5.0",
      "model_name": "ButtonStyleModel",
      "state": {
       "button_color": "white",
       "font_weight": "bold"
      }
     },
     "7719b370457145628efa402a20b8b35b": {
      "model_module": "@jupyter-widgets/controls",
      "model_module_version": "1.5.0",
      "model_name": "ButtonModel",
      "state": {
       "description": "66",
       "layout": "IPY_MODEL_18482c16c6f847d3a4fd0b44e6d652c5",
       "style": "IPY_MODEL_b9f5d5cae397413984f1893f2ce6c769"
      }
     },
     "773408b5efb64b33a3afd2505d1eb4ba": {
      "model_module": "@jupyter-widgets/controls",
      "model_module_version": "1.5.0",
      "model_name": "ButtonStyleModel",
      "state": {}
     },
     "7873643c54a44c2387909c0b816e3a80": {
      "model_module": "@jupyter-widgets/controls",
      "model_module_version": "1.5.0",
      "model_name": "ButtonStyleModel",
      "state": {}
     },
     "78746f20b3114ad28ad32dc8966f3cec": {
      "model_module": "@jupyter-widgets/controls",
      "model_module_version": "1.5.0",
      "model_name": "ButtonModel",
      "state": {
       "description": "70",
       "layout": "IPY_MODEL_9d557a9525884cd9a0c6a0fd5123b9f8",
       "style": "IPY_MODEL_edde9a63db7e46a2b06decb37776c742"
      }
     },
     "799e72b23e4c40308f7a0411903f0a35": {
      "model_module": "@jupyter-widgets/controls",
      "model_module_version": "1.5.0",
      "model_name": "ButtonStyleModel",
      "state": {}
     },
     "7aac19f7d71c4623a6c4318af5d963f1": {
      "model_module": "@jupyter-widgets/controls",
      "model_module_version": "1.5.0",
      "model_name": "ButtonModel",
      "state": {
       "description": "MIDI",
       "layout": "IPY_MODEL_e6fbb331619b46a8bfc2a343db62d00d",
       "style": "IPY_MODEL_dcaff97f0bf045f6b744d061f27ebd7b"
      }
     },
     "7b42cd05f5eb4b46ae86f7c698829f84": {
      "model_module": "@jupyter-widgets/controls",
      "model_module_version": "1.5.0",
      "model_name": "ButtonStyleModel",
      "state": {
       "button_color": "#EEFFDD"
      }
     },
     "7b4cfa8fbec64d2a9d9d782b9b027918": {
      "model_module": "@jupyter-widgets/controls",
      "model_module_version": "1.5.0",
      "model_name": "ButtonModel",
      "state": {
       "description": "440",
       "layout": "IPY_MODEL_35caf533714b49bfbbd81b1717789ca5",
       "style": "IPY_MODEL_32f9ecfce2134dc28c6b43ec9e499289"
      }
     },
     "7c2354e429d04d0186be53ac1a0a71b2": {
      "model_module": "@jupyter-widgets/controls",
      "model_module_version": "1.5.0",
      "model_name": "ButtonStyleModel",
      "state": {}
     },
     "7c5c41002f834a38b19a27e81f631587": {
      "model_module": "@jupyter-widgets/controls",
      "model_module_version": "1.5.0",
      "model_name": "ButtonStyleModel",
      "state": {
       "button_color": "white",
       "font_weight": "bold"
      }
     },
     "7c881a98b9eb42d3a9796705137b71dc": {
      "model_module": "@jupyter-widgets/controls",
      "model_module_version": "1.5.0",
      "model_name": "ButtonStyleModel",
      "state": {}
     },
     "7ceec3991c314fd1bb5d602171df6001": {
      "model_module": "@jupyter-widgets/controls",
      "model_module_version": "1.5.0",
      "model_name": "ButtonModel",
      "state": {
       "description": "61",
       "layout": "IPY_MODEL_f76697facfad4a86a4e1a527bc08d5ec",
       "style": "IPY_MODEL_2ba2af3da31f4730b68de8a880140ae9"
      }
     },
     "7cff24b78dfe466da66a23761cca936a": {
      "model_module": "@jupyter-widgets/base",
      "model_module_version": "1.2.0",
      "model_name": "LayoutModel",
      "state": {}
     },
     "7d28f9c58cb24afcaf2b84b09bf1a7e9": {
      "model_module": "@jupyter-widgets/controls",
      "model_module_version": "1.5.0",
      "model_name": "ButtonModel",
      "state": {
       "description": "523",
       "layout": "IPY_MODEL_9d557a9525884cd9a0c6a0fd5123b9f8",
       "style": "IPY_MODEL_e0dc9f25900c4efca7052ae354d838fd"
      }
     },
     "7d3833247ac24ed5b5f1030ac571640e": {
      "model_module": "@jupyter-widgets/base",
      "model_module_version": "1.2.0",
      "model_name": "LayoutModel",
      "state": {}
     },
     "7da477d819434b0e9734564ed67a9485": {
      "model_module": "@jupyter-widgets/controls",
      "model_module_version": "1.5.0",
      "model_name": "ButtonModel",
      "state": {
       "description": "G#",
       "layout": "IPY_MODEL_972469c993c048cdaa792f8d01c25ca5",
       "style": "IPY_MODEL_bb49190b05e44d42ba06341280e7f87f"
      }
     },
     "7ea48ff71c014846ad75dfc540c8fc6e": {
      "model_module": "@jupyter-widgets/controls",
      "model_module_version": "1.5.0",
      "model_name": "ButtonModel",
      "state": {
       "description": "B",
       "layout": "IPY_MODEL_0ce70a23b86147e598ab80566c43fba2",
       "style": "IPY_MODEL_d26823110a594c34ab4f2c8e4314a112"
      }
     },
     "7eae2561b799496f8a1587076cc7e0fc": {
      "model_module": "@jupyter-widgets/controls",
      "model_module_version": "1.5.0",
      "model_name": "ButtonModel",
      "state": {
       "description": "392",
       "layout": "IPY_MODEL_16fc540c099f4877afd0c42bb6456d3d",
       "style": "IPY_MODEL_b59fd2e4d8fc43cbb807a7441200fdbb"
      }
     },
     "7eb72097feec4aa5ae3382b24f22c882": {
      "model_module": "@jupyter-widgets/controls",
      "model_module_version": "1.5.0",
      "model_name": "ButtonModel",
      "state": {
       "description": "G",
       "layout": "IPY_MODEL_4e742685616442d9a8c74b95c8291289",
       "style": "IPY_MODEL_76e66e29d0d64e899a739686282d8237"
      }
     },
     "7ee085daeb7c4da78ebfe9a1fd281719": {
      "model_module": "@jupyter-widgets/controls",
      "model_module_version": "1.5.0",
      "model_name": "ButtonStyleModel",
      "state": {}
     },
     "7f1df713e5004ebcb0812d66695a7241": {
      "model_module": "@jupyter-widgets/controls",
      "model_module_version": "1.5.0",
      "model_name": "ButtonModel",
      "state": {
       "description": "63",
       "layout": "IPY_MODEL_d3b4a8b1eb4c4c88819d93fb337337c6",
       "style": "IPY_MODEL_7c881a98b9eb42d3a9796705137b71dc"
      }
     },
     "7f2ae058ec694731974329f3adebd681": {
      "model_module": "@jupyter-widgets/controls",
      "model_module_version": "1.5.0",
      "model_name": "ButtonStyleModel",
      "state": {
       "button_color": "white",
       "font_weight": "bold"
      }
     },
     "7fad19c6e36f490685dbf4065b9d6b9b": {
      "model_module": "@jupyter-widgets/output",
      "model_module_version": "1.0.0",
      "model_name": "OutputModel",
      "state": {
       "layout": "IPY_MODEL_e6aa17d5c0a245a4a81052f1c31a6bd9",
       "outputs": [
        {
         "ename": "TypeError",
         "evalue": "'Text' object is not callable",
         "output_type": "error",
         "traceback": [
          "\u001b[1;31m---------------------------------------------------------------------------\u001b[0m",
          "\u001b[1;31mTypeError\u001b[0m                                 Traceback (most recent call last)",
          "\u001b[1;32m<ipython-input-7-9d47c5c756ff>\u001b[0m in \u001b[0;36mon_button_clicked\u001b[1;34m(f, b)\u001b[0m\n\u001b[0;32m     29\u001b[0m             \u001b[0mfig\u001b[0m\u001b[1;33m,\u001b[0m\u001b[0max\u001b[0m \u001b[1;33m=\u001b[0m \u001b[0mplt\u001b[0m\u001b[1;33m.\u001b[0m\u001b[0msubplots\u001b[0m\u001b[1;33m(\u001b[0m\u001b[0mfigsize\u001b[0m\u001b[1;33m=\u001b[0m\u001b[1;33m(\u001b[0m\u001b[1;36m8\u001b[0m\u001b[1;33m,\u001b[0m\u001b[1;36m2\u001b[0m\u001b[1;33m)\u001b[0m\u001b[1;33m)\u001b[0m\u001b[1;33m\u001b[0m\u001b[1;33m\u001b[0m\u001b[0m\n\u001b[0;32m     30\u001b[0m             \u001b[0max\u001b[0m\u001b[1;33m.\u001b[0m\u001b[0mplot\u001b[0m\u001b[1;33m(\u001b[0m\u001b[0my\u001b[0m\u001b[1;33m[\u001b[0m\u001b[1;36m0\u001b[0m\u001b[1;33m:\u001b[0m\u001b[1;36m800\u001b[0m\u001b[1;33m]\u001b[0m\u001b[1;33m)\u001b[0m\u001b[1;33m\u001b[0m\u001b[1;33m\u001b[0m\u001b[0m\n\u001b[1;32m---> 31\u001b[1;33m             \u001b[0max\u001b[0m\u001b[1;33m.\u001b[0m\u001b[0mtitle\u001b[0m\u001b[1;33m(\u001b[0m\u001b[1;34m\"Waveform (initial 10msec)\"\u001b[0m\u001b[1;33m)\u001b[0m\u001b[1;33m\u001b[0m\u001b[1;33m\u001b[0m\u001b[0m\n\u001b[0m\u001b[0;32m     32\u001b[0m             \u001b[0mplt\u001b[0m\u001b[1;33m.\u001b[0m\u001b[0mclose\u001b[0m\u001b[1;33m(\u001b[0m\u001b[1;33m)\u001b[0m\u001b[1;33m\u001b[0m\u001b[1;33m\u001b[0m\u001b[0m\n\u001b[0;32m     33\u001b[0m \u001b[1;33m\u001b[0m\u001b[0m\n",
          "\u001b[1;31mTypeError\u001b[0m: 'Text' object is not callable"
         ]
        }
       ]
      }
     },
     "7fcba4f540ba43e38fc96457cd2d823b": {
      "model_module": "@jupyter-widgets/controls",
      "model_module_version": "1.5.0",
      "model_name": "ButtonModel",
      "state": {
       "description": "61",
       "layout": "IPY_MODEL_39d952eaf546482a8abcb6a21092c223",
       "style": "IPY_MODEL_a9a1c47598b04728b2eeb809eee293ee"
      }
     },
     "8024cff7719b4a43abe7f6d50ed53a5e": {
      "model_module": "@jupyter-widgets/controls",
      "model_module_version": "1.5.0",
      "model_name": "ButtonStyleModel",
      "state": {}
     },
     "805a865203ff4841afaf9f202a6fb6c0": {
      "model_module": "@jupyter-widgets/controls",
      "model_module_version": "1.5.0",
      "model_name": "ButtonModel",
      "state": {
       "description": "A#",
       "layout": "IPY_MODEL_da2b95c2564e4a9cacc48f3f32033574",
       "style": "IPY_MODEL_c9aaad6afa8f4d2c97fa582393f0f388"
      }
     },
     "805ad423e15b471eb7587089e2cdb5fd": {
      "model_module": "@jupyter-widgets/controls",
      "model_module_version": "1.5.0",
      "model_name": "ButtonStyleModel",
      "state": {
       "button_color": "white",
       "font_weight": "bold"
      }
     },
     "80e07c73b14745a1b728c67dd9b76afd": {
      "model_module": "@jupyter-widgets/controls",
      "model_module_version": "1.5.0",
      "model_name": "ButtonStyleModel",
      "state": {
       "button_color": "white",
       "font_weight": "bold"
      }
     },
     "81082faa845a482d87d36452f9ac2fdb": {
      "model_module": "@jupyter-widgets/controls",
      "model_module_version": "1.5.0",
      "model_name": "ButtonModel",
      "state": {
       "description": "70",
       "layout": "IPY_MODEL_35caf533714b49bfbbd81b1717789ca5",
       "style": "IPY_MODEL_5c293179763b4853a268f6816d42331b"
      }
     },
     "81aab573b0b64817a4c53e420d5294a0": {
      "model_module": "@jupyter-widgets/controls",
      "model_module_version": "1.5.0",
      "model_name": "ButtonStyleModel",
      "state": {
       "button_color": "#EEFFDD"
      }
     },
     "81ec16c40bbf431f8c4aaa7ea3dfc40f": {
      "model_module": "@jupyter-widgets/base",
      "model_module_version": "1.2.0",
      "model_name": "LayoutModel",
      "state": {}
     },
     "82f5f23b9b9b4d089184dad09ead2135": {
      "model_module": "@jupyter-widgets/controls",
      "model_module_version": "1.5.0",
      "model_name": "ButtonModel",
      "state": {
       "description": "63",
       "layout": "IPY_MODEL_39d952eaf546482a8abcb6a21092c223",
       "style": "IPY_MODEL_2ef65d1c778d4d4391dcc1f3483d5894"
      }
     },
     "83044886259c439c95ca58708c17340c": {
      "model_module": "@jupyter-widgets/controls",
      "model_module_version": "1.5.0",
      "model_name": "ButtonModel",
      "state": {
       "description": "277",
       "layout": "IPY_MODEL_f76697facfad4a86a4e1a527bc08d5ec",
       "style": "IPY_MODEL_c6a2a5ba3e184b64a000f21f02dda75e"
      }
     },
     "83b205a0c5354873bf01e46cd8351db6": {
      "model_module": "@jupyter-widgets/controls",
      "model_module_version": "1.5.0",
      "model_name": "ButtonStyleModel",
      "state": {
       "button_color": "white",
       "font_weight": "bold"
      }
     },
     "83c6b6b64f7e4c2299edddc74aacc1e9": {
      "model_module": "@jupyter-widgets/controls",
      "model_module_version": "1.5.0",
      "model_name": "ButtonStyleModel",
      "state": {}
     },
     "83fc7c23cace4c45aad05deff0f02030": {
      "model_module": "@jupyter-widgets/controls",
      "model_module_version": "1.5.0",
      "model_name": "ButtonStyleModel",
      "state": {
       "button_color": "#EEFFDD"
      }
     },
     "84421f8a68a9453197668db5de9593c3": {
      "model_module": "@jupyter-widgets/controls",
      "model_module_version": "1.5.0",
      "model_name": "ButtonStyleModel",
      "state": {}
     },
     "8450e32f797149f6828d630b7d4e3c63": {
      "model_module": "@jupyter-widgets/controls",
      "model_module_version": "1.5.0",
      "model_name": "ButtonModel",
      "state": {
       "description": "A#",
       "layout": "IPY_MODEL_1f73d6ed87f14cdba71fd37d0a99871a",
       "style": "IPY_MODEL_3f4c8517f46c43c6a776e9a3af56e48f"
      }
     },
     "846e1f4f26f84c1cb47c1a0431ba1b50": {
      "model_module": "@jupyter-widgets/controls",
      "model_module_version": "1.5.0",
      "model_name": "ButtonModel",
      "state": {
       "description": "Note",
       "layout": "IPY_MODEL_b335b353b38b4d63a9ab5d42cad18297",
       "style": "IPY_MODEL_83fc7c23cace4c45aad05deff0f02030"
      }
     },
     "85127f33ee734408bc9e0cbf6db3ef6f": {
      "model_module": "@jupyter-widgets/controls",
      "model_module_version": "1.5.0",
      "model_name": "ButtonModel",
      "state": {
       "description": "466",
       "layout": "IPY_MODEL_35caf533714b49bfbbd81b1717789ca5",
       "style": "IPY_MODEL_e014b26b6bce4b48bea06a00c3532a9a"
      }
     },
     "86fd74ae852b41248e648f3653ac5928": {
      "model_module": "@jupyter-widgets/base",
      "model_module_version": "1.2.0",
      "model_name": "LayoutModel",
      "state": {}
     },
     "8718c0c30e2c401fa2687b052712a0a5": {
      "model_module": "@jupyter-widgets/controls",
      "model_module_version": "1.5.0",
      "model_name": "ButtonStyleModel",
      "state": {
       "button_color": "#EEFFDD"
      }
     },
     "872c3754ab9f4c4883f4846cd66835b3": {
      "model_module": "@jupyter-widgets/controls",
      "model_module_version": "1.5.0",
      "model_name": "ButtonStyleModel",
      "state": {
       "button_color": "#BBBBBB",
       "font_weight": "bold"
      }
     },
     "8733f267106347b1b9b81b500dbb3fee": {
      "model_module": "@jupyter-widgets/controls",
      "model_module_version": "1.5.0",
      "model_name": "ButtonStyleModel",
      "state": {}
     },
     "874c9127f89e41e29fd74404e9654ada": {
      "model_module": "@jupyter-widgets/controls",
      "model_module_version": "1.5.0",
      "model_name": "ButtonModel",
      "state": {
       "description": "62",
       "layout": "IPY_MODEL_959046a4dcef42b58bbf3f9082dd5811",
       "style": "IPY_MODEL_5a3f270073054a93a824f760a08cd1b1"
      }
     },
     "876752baa57d4d2d9a91498ce90b9d41": {
      "model_module": "@jupyter-widgets/controls",
      "model_module_version": "1.5.0",
      "model_name": "ButtonModel",
      "state": {
       "description": "63",
       "layout": "IPY_MODEL_f76697facfad4a86a4e1a527bc08d5ec",
       "style": "IPY_MODEL_ae57ea7e1c9a42dd9f4c3909bfeeb892"
      }
     },
     "8783651d19b64588b9357d553928450f": {
      "model_module": "@jupyter-widgets/controls",
      "model_module_version": "1.5.0",
      "model_name": "ButtonModel",
      "state": {
       "description": "C#",
       "layout": "IPY_MODEL_1ebcdd31d8b44db283e6a7b24e45c33d",
       "style": "IPY_MODEL_35ed4645ca54455b92e2cda7f94d8f31"
      }
     },
     "87c748e3ba834b3dbcbee0926a98d0aa": {
      "model_module": "@jupyter-widgets/controls",
      "model_module_version": "1.5.0",
      "model_name": "ButtonStyleModel",
      "state": {}
     },
     "87e5b3ce4d3f4d94abaf18217f6f7a6f": {
      "model_module": "@jupyter-widgets/controls",
      "model_module_version": "1.5.0",
      "model_name": "ButtonStyleModel",
      "state": {}
     },
     "888c9576953345f48fe32e8306bfeecd": {
      "model_module": "@jupyter-widgets/controls",
      "model_module_version": "1.5.0",
      "model_name": "ButtonStyleModel",
      "state": {}
     },
     "88aac3a4052b4ffa89024545a7248487": {
      "model_module": "@jupyter-widgets/controls",
      "model_module_version": "1.5.0",
      "model_name": "ButtonStyleModel",
      "state": {}
     },
     "88c28654b8704df3b4b32798e2f76e84": {
      "model_module": "@jupyter-widgets/controls",
      "model_module_version": "1.5.0",
      "model_name": "VBoxModel",
      "state": {
       "children": [
        "IPY_MODEL_dc1e34589fc24f7c99ea0737709a90d3",
        "IPY_MODEL_3853a1df933f4ab588d8b83e192ca70d",
        "IPY_MODEL_b50dcc60549c4199a3c1afa31776ca4f",
        "IPY_MODEL_a4655b67fa824856b6f47431cd86553b"
       ],
       "layout": "IPY_MODEL_6dace944fe1c447babfefe8655c08ba5"
      }
     },
     "88d2507a5bc045efa92b9e29b4658b21": {
      "model_module": "@jupyter-widgets/controls",
      "model_module_version": "1.5.0",
      "model_name": "ButtonStyleModel",
      "state": {
       "button_color": "#EEFFDD"
      }
     },
     "88d77747a4b946c9985b2405a2ee0ebb": {
      "model_module": "@jupyter-widgets/controls",
      "model_module_version": "1.5.0",
      "model_name": "ButtonModel",
      "state": {
       "description": "494",
       "layout": "IPY_MODEL_959046a4dcef42b58bbf3f9082dd5811",
       "style": "IPY_MODEL_59a57fb7525f44ed963118454d97e2fa"
      }
     },
     "88e7eccc80374a55b37dcba2489be3da": {
      "model_module": "@jupyter-widgets/controls",
      "model_module_version": "1.5.0",
      "model_name": "ButtonModel",
      "state": {
       "description": "370",
       "layout": "IPY_MODEL_35caf533714b49bfbbd81b1717789ca5",
       "style": "IPY_MODEL_888c9576953345f48fe32e8306bfeecd"
      }
     },
     "88ef9755a70c46a48923aa4fab98374b": {
      "model_module": "@jupyter-widgets/controls",
      "model_module_version": "1.5.0",
      "model_name": "ButtonStyleModel",
      "state": {}
     },
     "8903082417ee4d7bb4bba787c5543db3": {
      "model_module": "@jupyter-widgets/controls",
      "model_module_version": "1.5.0",
      "model_name": "ButtonModel",
      "state": {
       "description": "440",
       "layout": "IPY_MODEL_959046a4dcef42b58bbf3f9082dd5811",
       "style": "IPY_MODEL_3ca3f36eef64426b8e5b51dbd981c533"
      }
     },
     "894798edaa8d432fae181d4863be9638": {
      "model_module": "@jupyter-widgets/controls",
      "model_module_version": "1.5.0",
      "model_name": "ButtonModel",
      "state": {
       "description": "392",
       "layout": "IPY_MODEL_35caf533714b49bfbbd81b1717789ca5",
       "style": "IPY_MODEL_a9c8c67f473b4c12a758bb1344be3962"
      }
     },
     "8994956fc71b4b3983c8c3497eb64694": {
      "model_module": "@jupyter-widgets/controls",
      "model_module_version": "1.5.0",
      "model_name": "ButtonStyleModel",
      "state": {
       "button_color": "white",
       "font_weight": "bold"
      }
     },
     "89fc1277289646a88efa35ac44e1e905": {
      "model_module": "@jupyter-widgets/controls",
      "model_module_version": "1.5.0",
      "model_name": "ButtonModel",
      "state": {
       "description": "523",
       "layout": "IPY_MODEL_18482c16c6f847d3a4fd0b44e6d652c5",
       "style": "IPY_MODEL_0769ddfdb39e4027b54d3831489b7a19"
      }
     },
     "8a71515ffe144dc086c4a5afcef67029": {
      "model_module": "@jupyter-widgets/controls",
      "model_module_version": "1.5.0",
      "model_name": "ButtonModel",
      "state": {
       "description": "Frequency",
       "layout": "IPY_MODEL_dc8289a37f594914b57e95a75dc0e19e",
       "style": "IPY_MODEL_59bb05ada05d49ed9318e1a5cb2714c5"
      }
     },
     "8a79a523bde6413c9797244aba782939": {
      "model_module": "@jupyter-widgets/controls",
      "model_module_version": "1.5.0",
      "model_name": "ButtonModel",
      "state": {
       "description": "262",
       "layout": "IPY_MODEL_f76697facfad4a86a4e1a527bc08d5ec",
       "style": "IPY_MODEL_68d80e0ba5f640fb96bc464f21a2790e"
      }
     },
     "8a8fecbad294432faf16343692171a3c": {
      "model_module": "@jupyter-widgets/controls",
      "model_module_version": "1.5.0",
      "model_name": "ButtonModel",
      "state": {
       "description": "F",
       "layout": "IPY_MODEL_1ebcdd31d8b44db283e6a7b24e45c33d",
       "style": "IPY_MODEL_2bb288a5939944bf83fbf55233a9f323"
      }
     },
     "8a9e7efedc2b48f68fb95eb4bb7de263": {
      "model_module": "@jupyter-widgets/controls",
      "model_module_version": "1.5.0",
      "model_name": "HBoxModel",
      "state": {
       "children": [
        "IPY_MODEL_9b5e7ce2100b4b1ba3ba1902918ad418",
        "IPY_MODEL_fe131b1268e24a0987bc7a4ef0311baf",
        "IPY_MODEL_0469c6f84b13454f81868aa26fb7426b",
        "IPY_MODEL_8fcebb7ec9484ec5b114543227f1e4ab",
        "IPY_MODEL_0e8641ae133043388f0c5961b6caeed5",
        "IPY_MODEL_d5f74070ce384c369b91a5246637c954",
        "IPY_MODEL_dca1e1b612f340be8c5f5cd0390b2360",
        "IPY_MODEL_bd362da1b7304544b4e04b2d235b512b",
        "IPY_MODEL_0c11fab8d9014ac49f5791b9fe47ef8d",
        "IPY_MODEL_5d9f43cf6ede469a8f4966d2e0078350",
        "IPY_MODEL_e83503b1a3b4446fa05a779de99ee47f",
        "IPY_MODEL_14231058fc6444008d435e31290cc32f",
        "IPY_MODEL_768ee472a9c949b4a0bd5684b6d5f610",
        "IPY_MODEL_8a71515ffe144dc086c4a5afcef67029"
       ],
       "layout": "IPY_MODEL_dbdc0dce78d04a47b932df8b88da9ca9"
      }
     },
     "8add721fe267451fb41a6e776b805e54": {
      "model_module": "@jupyter-widgets/base",
      "model_module_version": "1.2.0",
      "model_name": "LayoutModel",
      "state": {
       "width": "100px"
      }
     },
     "8b01b83faa0449ce92e60e276c3303a0": {
      "model_module": "@jupyter-widgets/controls",
      "model_module_version": "1.5.0",
      "model_name": "ButtonStyleModel",
      "state": {
       "button_color": "white",
       "font_weight": "bold"
      }
     },
     "8b2b6d3d2ee049fab9341764917fe3e3": {
      "model_module": "@jupyter-widgets/base",
      "model_module_version": "1.2.0",
      "model_name": "LayoutModel",
      "state": {}
     },
     "8b7f9f1bab664040a2d9b19ece3688ef": {
      "model_module": "@jupyter-widgets/controls",
      "model_module_version": "1.5.0",
      "model_name": "ButtonStyleModel",
      "state": {
       "button_color": "#EEFFDD"
      }
     },
     "8c3bcc3444fa4e2293e1607e0ecaa11a": {
      "model_module": "@jupyter-widgets/base",
      "model_module_version": "1.2.0",
      "model_name": "LayoutModel",
      "state": {}
     },
     "8cf05f23906d49899e2a2e1774895f33": {
      "model_module": "@jupyter-widgets/controls",
      "model_module_version": "1.5.0",
      "model_name": "ButtonStyleModel",
      "state": {}
     },
     "8cf5ede884c74c3fa2a035a8693a98a0": {
      "model_module": "@jupyter-widgets/controls",
      "model_module_version": "1.5.0",
      "model_name": "ButtonModel",
      "state": {
       "description": "70",
       "layout": "IPY_MODEL_18482c16c6f847d3a4fd0b44e6d652c5",
       "style": "IPY_MODEL_db908f24d52745dfab74d263918556a3"
      }
     },
     "8d5c2f994aab40eeb31e5d8dfd3921ed": {
      "model_module": "@jupyter-widgets/controls",
      "model_module_version": "1.5.0",
      "model_name": "ButtonModel",
      "state": {
       "description": "67",
       "layout": "IPY_MODEL_9d557a9525884cd9a0c6a0fd5123b9f8",
       "style": "IPY_MODEL_bb6c965cebea478bbb76bdb661fb97c5"
      }
     },
     "8d7895babe124000a3d5a1a15558e992": {
      "model_module": "@jupyter-widgets/controls",
      "model_module_version": "1.5.0",
      "model_name": "HBoxModel",
      "state": {
       "children": [
        "IPY_MODEL_22bf3a4aa8734a5d996d75e866880691",
        "IPY_MODEL_d23f1eb331a448fd9caba13cfaec3663",
        "IPY_MODEL_b6503ab9b48d4512b7f2d23b57fe4a3f",
        "IPY_MODEL_07d5ec70ba5b4ed395ad78ec150ae4ce",
        "IPY_MODEL_ea2a1faf957346739a243aa33cd2075c",
        "IPY_MODEL_eaa3b09dfc944cfe859971652ffe7b8d",
        "IPY_MODEL_2fecf011b5534b19ab5f88cac26fbfaa",
        "IPY_MODEL_3528f1501dea4b8a91feb04c2cd328a0",
        "IPY_MODEL_5546444178df46c99dfdb132557ddb6e",
        "IPY_MODEL_99c6154ba6444a95ac4232bf3695ffd2",
        "IPY_MODEL_805a865203ff4841afaf9f202a6fb6c0",
        "IPY_MODEL_9778006a05bd44d986991ff6164032a7",
        "IPY_MODEL_0f2c8cd33e694a7f9a9f79ef57d33a62",
        "IPY_MODEL_846e1f4f26f84c1cb47c1a0431ba1b50"
       ],
       "layout": "IPY_MODEL_4dd895c86be7491d97454151423724ae"
      }
     },
     "8ddf71a7db6146f1ae4405143598cc43": {
      "model_module": "@jupyter-widgets/controls",
      "model_module_version": "1.5.0",
      "model_name": "ButtonModel",
      "state": {
       "description": "277",
       "layout": "IPY_MODEL_959046a4dcef42b58bbf3f9082dd5811",
       "style": "IPY_MODEL_c90827f6e4e94e6cbf01ebab3f55b8f3"
      }
     },
     "8e44aa5fc25e4862887fc76bc280053d": {
      "model_module": "@jupyter-widgets/controls",
      "model_module_version": "1.5.0",
      "model_name": "ButtonStyleModel",
      "state": {}
     },
     "8e54c9f93aec47168a5af35dec12e8d2": {
      "model_module": "@jupyter-widgets/controls",
      "model_module_version": "1.5.0",
      "model_name": "ButtonStyleModel",
      "state": {
       "button_color": "white",
       "font_weight": "bold"
      }
     },
     "8f05713fdda941f192ce61837f5dd981": {
      "model_module": "@jupyter-widgets/controls",
      "model_module_version": "1.5.0",
      "model_name": "ButtonStyleModel",
      "state": {}
     },
     "8f1b08a4120c49b39758f4bc8fb5b653": {
      "model_module": "@jupyter-widgets/controls",
      "model_module_version": "1.5.0",
      "model_name": "ButtonModel",
      "state": {
       "description": "D#",
       "layout": "IPY_MODEL_1f73d6ed87f14cdba71fd37d0a99871a",
       "style": "IPY_MODEL_22c26559e9864d139ff24602cf7a2aeb"
      }
     },
     "8f1d99b0411b4425834a8f759655e042": {
      "model_module": "@jupyter-widgets/controls",
      "model_module_version": "1.5.0",
      "model_name": "ButtonStyleModel",
      "state": {}
     },
     "8f5aa6809d2a4fc0983fb646daa856b7": {
      "model_module": "@jupyter-widgets/controls",
      "model_module_version": "1.5.0",
      "model_name": "ButtonModel",
      "state": {
       "description": "E",
       "layout": "IPY_MODEL_0ce70a23b86147e598ab80566c43fba2",
       "style": "IPY_MODEL_80e07c73b14745a1b728c67dd9b76afd"
      }
     },
     "8fcebb7ec9484ec5b114543227f1e4ab": {
      "model_module": "@jupyter-widgets/controls",
      "model_module_version": "1.5.0",
      "model_name": "ButtonModel",
      "state": {
       "description": "311",
       "layout": "IPY_MODEL_d3b4a8b1eb4c4c88819d93fb337337c6",
       "style": "IPY_MODEL_97a283ab097d4ffdb6cddacc9906b2a7"
      }
     },
     "903944dc9a1c4c53bf94944b5364ba03": {
      "model_module": "@jupyter-widgets/controls",
      "model_module_version": "1.5.0",
      "model_name": "ButtonStyleModel",
      "state": {}
     },
     "909b97d478b045a8b8e46716048b53ac": {
      "model_module": "@jupyter-widgets/base",
      "model_module_version": "1.2.0",
      "model_name": "LayoutModel",
      "state": {}
     },
     "90c47cefbfeb4b509e9affb2c04dcb3b": {
      "model_module": "@jupyter-widgets/controls",
      "model_module_version": "1.5.0",
      "model_name": "ButtonModel",
      "state": {
       "description": "330",
       "layout": "IPY_MODEL_35caf533714b49bfbbd81b1717789ca5",
       "style": "IPY_MODEL_141bcc386b3f49168794cc73458ea80a"
      }
     },
     "917e95163ebc461b820481cb413799a1": {
      "model_module": "@jupyter-widgets/controls",
      "model_module_version": "1.5.0",
      "model_name": "ButtonModel",
      "state": {
       "description": "64",
       "layout": "IPY_MODEL_9d557a9525884cd9a0c6a0fd5123b9f8",
       "style": "IPY_MODEL_c26aec1ad70f4bc586aa0bd70b05a470"
      }
     },
     "91ba4c85bbf1427cb36810d1804cc576": {
      "model_module": "@jupyter-widgets/controls",
      "model_module_version": "1.5.0",
      "model_name": "ButtonStyleModel",
      "state": {}
     },
     "91df684bad7c45c8b1ac193c45daede9": {
      "model_module": "@jupyter-widgets/controls",
      "model_module_version": "1.5.0",
      "model_name": "ButtonModel",
      "state": {
       "description": "277",
       "layout": "IPY_MODEL_18482c16c6f847d3a4fd0b44e6d652c5",
       "style": "IPY_MODEL_e8211050b1424ef79d26cdc72db6730a"
      }
     },
     "92e7b1307046464a835c8dfdfee7a362": {
      "model_module": "@jupyter-widgets/controls",
      "model_module_version": "1.5.0",
      "model_name": "ButtonStyleModel",
      "state": {
       "button_color": "#BBBBBB",
       "font_weight": "bold"
      }
     },
     "931c886b7b244fcd80a19f91a3b7573e": {
      "model_module": "@jupyter-widgets/controls",
      "model_module_version": "1.5.0",
      "model_name": "ButtonStyleModel",
      "state": {
       "button_color": "#BBBBBB",
       "font_weight": "bold"
      }
     },
     "9370f43f36eb4bdd879441c097b2468e": {
      "model_module": "@jupyter-widgets/controls",
      "model_module_version": "1.5.0",
      "model_name": "ButtonModel",
      "state": {
       "description": "71",
       "layout": "IPY_MODEL_f76697facfad4a86a4e1a527bc08d5ec",
       "style": "IPY_MODEL_9a72caceee964def88724a0e417a9dbd"
      }
     },
     "939ad9b962df40bfa5e8762752866c98": {
      "model_module": "@jupyter-widgets/controls",
      "model_module_version": "1.5.0",
      "model_name": "ButtonModel",
      "state": {
       "description": "65",
       "layout": "IPY_MODEL_d3b4a8b1eb4c4c88819d93fb337337c6",
       "style": "IPY_MODEL_f2a4a80139ea4db9a94f0a3b919a0464"
      }
     },
     "944b70aa29024eb2bd2231dd18429f74": {
      "model_module": "@jupyter-widgets/controls",
      "model_module_version": "1.5.0",
      "model_name": "ButtonStyleModel",
      "state": {
       "button_color": "white",
       "font_weight": "bold"
      }
     },
     "948c9fdb72d34ba68a7d90e306f8bd32": {
      "model_module": "@jupyter-widgets/controls",
      "model_module_version": "1.5.0",
      "model_name": "ButtonModel",
      "state": {
       "description": "E",
       "layout": "IPY_MODEL_1ebcdd31d8b44db283e6a7b24e45c33d",
       "style": "IPY_MODEL_defb93cfa43b44d3868707d23aea44a5"
      }
     },
     "951051c9399341ff890a2cc436efc5d7": {
      "model_module": "@jupyter-widgets/controls",
      "model_module_version": "1.5.0",
      "model_name": "ButtonModel",
      "state": {
       "description": "349",
       "layout": "IPY_MODEL_35caf533714b49bfbbd81b1717789ca5",
       "style": "IPY_MODEL_91ba4c85bbf1427cb36810d1804cc576"
      }
     },
     "952d2e5d140344efa72c057deb6e0a67": {
      "model_module": "@jupyter-widgets/base",
      "model_module_version": "1.2.0",
      "model_name": "LayoutModel",
      "state": {}
     },
     "959046a4dcef42b58bbf3f9082dd5811": {
      "model_module": "@jupyter-widgets/base",
      "model_module_version": "1.2.0",
      "model_name": "LayoutModel",
      "state": {
       "border": "0px solid blue",
       "height": "30px",
       "width": "42px"
      }
     },
     "95c11ec642a34061b37946fc4df0adaa": {
      "model_module": "@jupyter-widgets/controls",
      "model_module_version": "1.5.0",
      "model_name": "ButtonStyleModel",
      "state": {}
     },
     "95e2176187a841a4a2a1d5dd619765d4": {
      "model_module": "@jupyter-widgets/controls",
      "model_module_version": "1.5.0",
      "model_name": "ButtonStyleModel",
      "state": {
       "button_color": "white",
       "font_weight": "bold"
      }
     },
     "963e1272fe3a46609823de764ac2309b": {
      "model_module": "@jupyter-widgets/controls",
      "model_module_version": "1.5.0",
      "model_name": "ButtonModel",
      "state": {
       "description": "66",
       "layout": "IPY_MODEL_f76697facfad4a86a4e1a527bc08d5ec",
       "style": "IPY_MODEL_b670d7af6e744b3c8cfba8f2499f309a"
      }
     },
     "96b3c6fc857741e9beca3b31d09d6532": {
      "model_module": "@jupyter-widgets/controls",
      "model_module_version": "1.5.0",
      "model_name": "ButtonStyleModel",
      "state": {}
     },
     "972469c993c048cdaa792f8d01c25ca5": {
      "model_module": "@jupyter-widgets/base",
      "model_module_version": "1.2.0",
      "model_name": "LayoutModel",
      "state": {
       "border": "2px solid black",
       "height": "80px",
       "width": "42px"
      }
     },
     "9746dcaba1e34dea878dd0d8cfd42347": {
      "model_module": "@jupyter-widgets/controls",
      "model_module_version": "1.5.0",
      "model_name": "ButtonModel",
      "state": {
       "description": "64",
       "layout": "IPY_MODEL_16fc540c099f4877afd0c42bb6456d3d",
       "style": "IPY_MODEL_fcf481118d8c46379390d8dd3194e801"
      }
     },
     "97513644eebc466ca563822f5f6ae46f": {
      "model_module": "@jupyter-widgets/controls",
      "model_module_version": "1.5.0",
      "model_name": "ButtonStyleModel",
      "state": {
       "button_color": "#EEFFDD"
      }
     },
     "9766b50484484eb8b0b6cfd5c10a9a96": {
      "model_module": "@jupyter-widgets/controls",
      "model_module_version": "1.5.0",
      "model_name": "ButtonModel",
      "state": {
       "description": "415",
       "layout": "IPY_MODEL_9d557a9525884cd9a0c6a0fd5123b9f8",
       "style": "IPY_MODEL_a7036885d61f4a9a8783efe9b98f1435"
      }
     },
     "9778006a05bd44d986991ff6164032a7": {
      "model_module": "@jupyter-widgets/controls",
      "model_module_version": "1.5.0",
      "model_name": "ButtonModel",
      "state": {
       "description": "B",
       "layout": "IPY_MODEL_da2b95c2564e4a9cacc48f3f32033574",
       "style": "IPY_MODEL_e2f6685836fc47c7b11cba4c41581c75"
      }
     },
     "97a283ab097d4ffdb6cddacc9906b2a7": {
      "model_module": "@jupyter-widgets/controls",
      "model_module_version": "1.5.0",
      "model_name": "ButtonStyleModel",
      "state": {}
     },
     "97a4ccefac044907b004b949a28324e4": {
      "model_module": "@jupyter-widgets/controls",
      "model_module_version": "1.5.0",
      "model_name": "ButtonModel",
      "state": {
       "description": "65",
       "layout": "IPY_MODEL_39d952eaf546482a8abcb6a21092c223",
       "style": "IPY_MODEL_99359cdd499740ce835e30effc25fbe8"
      }
     },
     "97b2f122892f43469f491a36a095b7bd": {
      "model_module": "@jupyter-widgets/controls",
      "model_module_version": "1.5.0",
      "model_name": "ButtonModel",
      "state": {
       "description": "311",
       "layout": "IPY_MODEL_9d557a9525884cd9a0c6a0fd5123b9f8",
       "style": "IPY_MODEL_df42495b515f4b24851c6b0e34829f87"
      }
     },
     "97c7ad6f92334670a6fc00bd508f9d9b": {
      "model_module": "@jupyter-widgets/base",
      "model_module_version": "1.2.0",
      "model_name": "LayoutModel",
      "state": {}
     },
     "97f5276501aa492493bc58cbffedafe9": {
      "model_module": "@jupyter-widgets/controls",
      "model_module_version": "1.5.0",
      "model_name": "ButtonModel",
      "state": {
       "description": "466",
       "layout": "IPY_MODEL_39d952eaf546482a8abcb6a21092c223",
       "style": "IPY_MODEL_f73e6717ed0e4cc684190a346fbf5bd8"
      }
     },
     "9821523fe84b40efa82df09219ab3278": {
      "model_module": "@jupyter-widgets/controls",
      "model_module_version": "1.5.0",
      "model_name": "ButtonModel",
      "state": {
       "description": "61",
       "layout": "IPY_MODEL_959046a4dcef42b58bbf3f9082dd5811",
       "style": "IPY_MODEL_f9d1f7736b3d410b80f9827a3e938e67"
      }
     },
     "98e956d5cc0548de8ec18d31eee915d4": {
      "model_module": "@jupyter-widgets/controls",
      "model_module_version": "1.5.0",
      "model_name": "ButtonModel",
      "state": {
       "description": "65",
       "layout": "IPY_MODEL_959046a4dcef42b58bbf3f9082dd5811",
       "style": "IPY_MODEL_8e44aa5fc25e4862887fc76bc280053d"
      }
     },
     "99359cdd499740ce835e30effc25fbe8": {
      "model_module": "@jupyter-widgets/controls",
      "model_module_version": "1.5.0",
      "model_name": "ButtonStyleModel",
      "state": {}
     },
     "99ae38f6472243e9abd6cc3914c0e918": {
      "model_module": "@jupyter-widgets/controls",
      "model_module_version": "1.5.0",
      "model_name": "ButtonModel",
      "state": {
       "description": "66",
       "layout": "IPY_MODEL_35caf533714b49bfbbd81b1717789ca5",
       "style": "IPY_MODEL_7238d04925544c01a9e9cb26411e2ee9"
      }
     },
     "99c6154ba6444a95ac4232bf3695ffd2": {
      "model_module": "@jupyter-widgets/controls",
      "model_module_version": "1.5.0",
      "model_name": "ButtonModel",
      "state": {
       "description": "A",
       "layout": "IPY_MODEL_da2b95c2564e4a9cacc48f3f32033574",
       "style": "IPY_MODEL_c6731158b52e4684ae0d03cdeaeb0dbd"
      }
     },
     "99d0d58c012644199aece891052c0133": {
      "model_module": "@jupyter-widgets/controls",
      "model_module_version": "1.5.0",
      "model_name": "ButtonModel",
      "state": {
       "description": "C#",
       "layout": "IPY_MODEL_1f73d6ed87f14cdba71fd37d0a99871a",
       "style": "IPY_MODEL_fb2b9dd52d724e10b36f7ba320547351"
      }
     },
     "9a72caceee964def88724a0e417a9dbd": {
      "model_module": "@jupyter-widgets/controls",
      "model_module_version": "1.5.0",
      "model_name": "ButtonStyleModel",
      "state": {}
     },
     "9b5e7ce2100b4b1ba3ba1902918ad418": {
      "model_module": "@jupyter-widgets/controls",
      "model_module_version": "1.5.0",
      "model_name": "ButtonModel",
      "state": {
       "description": "262",
       "layout": "IPY_MODEL_d3b4a8b1eb4c4c88819d93fb337337c6",
       "style": "IPY_MODEL_abf01b10880f48d9831c2e4c78bd1487"
      }
     },
     "9bacabd648e2443f91288f1eec28e912": {
      "model_module": "@jupyter-widgets/controls",
      "model_module_version": "1.5.0",
      "model_name": "ButtonStyleModel",
      "state": {}
     },
     "9c134bd8ff7445ec95bb8c5efad5226a": {
      "model_module": "@jupyter-widgets/controls",
      "model_module_version": "1.5.0",
      "model_name": "ButtonStyleModel",
      "state": {
       "button_color": "white",
       "font_weight": "bold"
      }
     },
     "9c3d99e658354a67968ab6adb6e1e835": {
      "model_module": "@jupyter-widgets/base",
      "model_module_version": "1.2.0",
      "model_name": "LayoutModel",
      "state": {
       "border": "2px solid black",
       "height": "80px",
       "width": "42px"
      }
     },
     "9c8341153ac34401b40a98dd8d43d624": {
      "model_module": "@jupyter-widgets/controls",
      "model_module_version": "1.5.0",
      "model_name": "ButtonModel",
      "state": {
       "description": "A",
       "layout": "IPY_MODEL_1ebcdd31d8b44db283e6a7b24e45c33d",
       "style": "IPY_MODEL_8994956fc71b4b3983c8c3497eb64694"
      }
     },
     "9c8e804eeddf44928152162e27934744": {
      "model_module": "@jupyter-widgets/controls",
      "model_module_version": "1.5.0",
      "model_name": "HBoxModel",
      "state": {
       "children": [
        "IPY_MODEL_0dc221a4aee846cbae5bc66b30201ab0",
        "IPY_MODEL_8783651d19b64588b9357d553928450f",
        "IPY_MODEL_0c753b8173ea478081502a36d78211b2",
        "IPY_MODEL_0f9e98a864b9449e9f52646242f4566d",
        "IPY_MODEL_948c9fdb72d34ba68a7d90e306f8bd32",
        "IPY_MODEL_8a8fecbad294432faf16343692171a3c",
        "IPY_MODEL_6182d3cb54fd4f948b69638fac6e3e7c",
        "IPY_MODEL_e59ab82a62a549c3afbef77904b8d9b7",
        "IPY_MODEL_5fb2c9527a8f4da28d251bd2b76f99ad",
        "IPY_MODEL_9c8341153ac34401b40a98dd8d43d624",
        "IPY_MODEL_1953ea67675a417ba95acfb944dd5fde",
        "IPY_MODEL_c1f7e400ed244d3bb593301b7f750bf9",
        "IPY_MODEL_665a364d042a4eb58e10f405da1deb80",
        "IPY_MODEL_da1714b478214104966f7ad558f5639b"
       ],
       "layout": "IPY_MODEL_b8c0b36be2384490ac96ac28c67c0188"
      }
     },
     "9ca3da107ef144eebd40d59bae7fb42f": {
      "model_module": "@jupyter-widgets/controls",
      "model_module_version": "1.5.0",
      "model_name": "HBoxModel",
      "state": {
       "children": [
        "IPY_MODEL_a1f58afbd36c458e91e6a2f99006769d",
        "IPY_MODEL_b868f4c2566348e7b5bcaaa125d15b8f",
        "IPY_MODEL_e5b031009f804ff4808793fc99a76355",
        "IPY_MODEL_c905d726ddd14baabca5de0884d82482",
        "IPY_MODEL_ca0c513ead7f493680690a336ea3a272",
        "IPY_MODEL_37cefd77dee442548127cec81aacdbdc",
        "IPY_MODEL_39615c96f1ca479cbaf8ba4df7384e1d",
        "IPY_MODEL_7eae2561b799496f8a1587076cc7e0fc",
        "IPY_MODEL_53b3aa5c512f47098f07895b3dc85f20",
        "IPY_MODEL_fedee33804c54045bd0bcde85b453de2",
        "IPY_MODEL_f9b61b0ceed94902951c5217b704d753",
        "IPY_MODEL_c330d67fcdc24de59ec562d370e9fe55",
        "IPY_MODEL_46d49b16758f47a693e5392e3ba19ec4",
        "IPY_MODEL_504de383884143e9831bb902086bf3e3"
       ],
       "layout": "IPY_MODEL_ed26b1a627a043028642895af971ef77"
      }
     },
     "9cbdd068fd9c4ecd82670d159657df2e": {
      "model_module": "@jupyter-widgets/controls",
      "model_module_version": "1.5.0",
      "model_name": "ButtonStyleModel",
      "state": {}
     },
     "9d139299d88b4f968802990da1538708": {
      "model_module": "@jupyter-widgets/base",
      "model_module_version": "1.2.0",
      "model_name": "LayoutModel",
      "state": {}
     },
     "9d557a9525884cd9a0c6a0fd5123b9f8": {
      "model_module": "@jupyter-widgets/base",
      "model_module_version": "1.2.0",
      "model_name": "LayoutModel",
      "state": {
       "border": "0px solid blue",
       "height": "30px",
       "width": "42px"
      }
     },
     "9d9f45e1377a402e8616a89a9739b3e8": {
      "model_module": "@jupyter-widgets/controls",
      "model_module_version": "1.5.0",
      "model_name": "ButtonModel",
      "state": {
       "description": "72",
       "layout": "IPY_MODEL_35caf533714b49bfbbd81b1717789ca5",
       "style": "IPY_MODEL_fded0c364f65424493fac05b852dc8b2"
      }
     },
     "9daa07f01b0a4d619ae3a21f2df96ae1": {
      "model_module": "@jupyter-widgets/controls",
      "model_module_version": "1.5.0",
      "model_name": "ButtonStyleModel",
      "state": {}
     },
     "9df884be15f34fb19c787bf561e70596": {
      "model_module": "@jupyter-widgets/controls",
      "model_module_version": "1.5.0",
      "model_name": "ButtonStyleModel",
      "state": {
       "button_color": "white",
       "font_weight": "bold"
      }
     },
     "9e1018f0ef484e31a0d112d67d693594": {
      "model_module": "@jupyter-widgets/controls",
      "model_module_version": "1.5.0",
      "model_name": "ButtonModel",
      "state": {
       "description": "63",
       "layout": "IPY_MODEL_16fc540c099f4877afd0c42bb6456d3d",
       "style": "IPY_MODEL_8024cff7719b4a43abe7f6d50ed53a5e"
      }
     },
     "9e10c981b7fa425aa1afa1d1d5b447a1": {
      "model_module": "@jupyter-widgets/controls",
      "model_module_version": "1.5.0",
      "model_name": "ButtonModel",
      "state": {
       "description": "349",
       "layout": "IPY_MODEL_9d557a9525884cd9a0c6a0fd5123b9f8",
       "style": "IPY_MODEL_196f6798f748452faf4cf3f66f157c9b"
      }
     },
     "9e3070ae9eba4f73aadc3325025a5268": {
      "model_module": "@jupyter-widgets/base",
      "model_module_version": "1.2.0",
      "model_name": "LayoutModel",
      "state": {}
     },
     "9ef6c2290c6f4aa3809be33027156582": {
      "model_module": "@jupyter-widgets/controls",
      "model_module_version": "1.5.0",
      "model_name": "ButtonStyleModel",
      "state": {
       "button_color": "white",
       "font_weight": "bold"
      }
     },
     "a16c7a93a4ae4cd5a0d9beb7ccf39f95": {
      "model_module": "@jupyter-widgets/controls",
      "model_module_version": "1.5.0",
      "model_name": "ButtonStyleModel",
      "state": {
       "button_color": "white",
       "font_weight": "bold"
      }
     },
     "a17ac664ec8d418e941cf2878a9ca323": {
      "model_module": "@jupyter-widgets/controls",
      "model_module_version": "1.5.0",
      "model_name": "ButtonModel",
      "state": {
       "description": "C",
       "layout": "IPY_MODEL_972469c993c048cdaa792f8d01c25ca5",
       "style": "IPY_MODEL_f4a972cd733c41faa63b9d356ae2bf10"
      }
     },
     "a18dcd8a851340f3bfb767bb458d3605": {
      "model_module": "@jupyter-widgets/controls",
      "model_module_version": "1.5.0",
      "model_name": "ButtonModel",
      "state": {
       "description": "71",
       "layout": "IPY_MODEL_39d952eaf546482a8abcb6a21092c223",
       "style": "IPY_MODEL_4a43e9302c2a45f39b37ae277e6fd707"
      }
     },
     "a1f58afbd36c458e91e6a2f99006769d": {
      "model_module": "@jupyter-widgets/controls",
      "model_module_version": "1.5.0",
      "model_name": "ButtonModel",
      "state": {
       "description": "262",
       "layout": "IPY_MODEL_16fc540c099f4877afd0c42bb6456d3d",
       "style": "IPY_MODEL_43a93b996ee54c8f8ceb7d6b55aa9ee2"
      }
     },
     "a220f4bbe4f940eeb581c7c0db9830d0": {
      "model_module": "@jupyter-widgets/controls",
      "model_module_version": "1.5.0",
      "model_name": "ButtonStyleModel",
      "state": {}
     },
     "a22463abddb042788759b5ea8d9894ea": {
      "model_module": "@jupyter-widgets/controls",
      "model_module_version": "1.5.0",
      "model_name": "ButtonModel",
      "state": {
       "description": "62",
       "layout": "IPY_MODEL_18482c16c6f847d3a4fd0b44e6d652c5",
       "style": "IPY_MODEL_256559c1d0cb4335a376ec0b10b3b853"
      }
     },
     "a2d000fc7abd4a1e82129bad84fbafe2": {
      "model_module": "@jupyter-widgets/controls",
      "model_module_version": "1.5.0",
      "model_name": "ButtonModel",
      "state": {
       "description": "72",
       "layout": "IPY_MODEL_959046a4dcef42b58bbf3f9082dd5811",
       "style": "IPY_MODEL_0ae1afdb24904dcbba507b06918a7458"
      }
     },
     "a2e31c23d698400a814271fb8df223ff": {
      "model_module": "@jupyter-widgets/controls",
      "model_module_version": "1.5.0",
      "model_name": "ButtonModel",
      "state": {
       "description": "C",
       "layout": "IPY_MODEL_0ce70a23b86147e598ab80566c43fba2",
       "style": "IPY_MODEL_e95f203c841a44fe9c2ced3aff5fcbd2"
      }
     },
     "a393592e57404ca0898bdbf9dbe83987": {
      "model_module": "@jupyter-widgets/controls",
      "model_module_version": "1.5.0",
      "model_name": "ButtonStyleModel",
      "state": {}
     },
     "a3acd71de5ca4d3c8eeb6247f1bce204": {
      "model_module": "@jupyter-widgets/controls",
      "model_module_version": "1.5.0",
      "model_name": "ButtonModel",
      "state": {
       "description": "523",
       "layout": "IPY_MODEL_959046a4dcef42b58bbf3f9082dd5811",
       "style": "IPY_MODEL_10de25e5f15247229303421fdfaa35da"
      }
     },
     "a4655b67fa824856b6f47431cd86553b": {
      "model_module": "@jupyter-widgets/output",
      "model_module_version": "1.0.0",
      "model_name": "OutputModel",
      "state": {
       "layout": "IPY_MODEL_f21cd284ac4b4dd4aa8b2f0a0e20169c",
       "outputs": [
        {
         "ename": "TypeError",
         "evalue": "synth() got an unexpected keyword argument 'rate'",
         "output_type": "error",
         "traceback": [
          "\u001b[1;31m---------------------------------------------------------------------------\u001b[0m",
          "\u001b[1;31mTypeError\u001b[0m                                 Traceback (most recent call last)",
          "\u001b[1;32m<ipython-input-10-b39c48f9b798>\u001b[0m in \u001b[0;36mon_button_clicked\u001b[1;34m(f, b)\u001b[0m\n\u001b[0;32m     26\u001b[0m             \u001b[1;31m#print(\"hallo\",f)\u001b[0m\u001b[1;33m\u001b[0m\u001b[1;33m\u001b[0m\u001b[1;33m\u001b[0m\u001b[0m\n\u001b[0;32m     27\u001b[0m             \u001b[0mclear_output\u001b[0m\u001b[1;33m(\u001b[0m\u001b[1;33m)\u001b[0m\u001b[1;33m\u001b[0m\u001b[1;33m\u001b[0m\u001b[0m\n\u001b[1;32m---> 28\u001b[1;33m             \u001b[0my\u001b[0m\u001b[1;33m=\u001b[0m\u001b[0msynth\u001b[0m\u001b[1;33m(\u001b[0m\u001b[0mf\u001b[0m\u001b[1;33m,\u001b[0m\u001b[0mrate\u001b[0m\u001b[1;33m=\u001b[0m\u001b[1;36m8000\u001b[0m\u001b[1;33m)\u001b[0m\u001b[1;33m\u001b[0m\u001b[1;33m\u001b[0m\u001b[0m\n\u001b[0m\u001b[0;32m     29\u001b[0m             \u001b[0mfig\u001b[0m\u001b[1;33m,\u001b[0m\u001b[0max\u001b[0m \u001b[1;33m=\u001b[0m \u001b[0mplt\u001b[0m\u001b[1;33m.\u001b[0m\u001b[0msubplots\u001b[0m\u001b[1;33m(\u001b[0m\u001b[0mfigsize\u001b[0m\u001b[1;33m=\u001b[0m\u001b[1;33m(\u001b[0m\u001b[1;36m8\u001b[0m\u001b[1;33m,\u001b[0m\u001b[1;36m2\u001b[0m\u001b[1;33m)\u001b[0m\u001b[1;33m)\u001b[0m\u001b[1;33m\u001b[0m\u001b[1;33m\u001b[0m\u001b[0m\n\u001b[0;32m     30\u001b[0m             \u001b[0max\u001b[0m\u001b[1;33m.\u001b[0m\u001b[0mplot\u001b[0m\u001b[1;33m(\u001b[0m\u001b[0mnp\u001b[0m\u001b[1;33m.\u001b[0m\u001b[0marange\u001b[0m\u001b[1;33m(\u001b[0m\u001b[1;36m0.\u001b[0m\u001b[1;33m,\u001b[0m\u001b[1;36m.001\u001b[0m\u001b[1;33m,\u001b[0m\u001b[1;36m1\u001b[0m\u001b[1;33m/\u001b[0m\u001b[1;36m8000.\u001b[0m\u001b[1;33m)\u001b[0m\u001b[1;33m,\u001b[0m\u001b[0my\u001b[0m\u001b[1;33m[\u001b[0m\u001b[1;36m0\u001b[0m\u001b[1;33m:\u001b[0m\u001b[1;36m80\u001b[0m\u001b[1;33m]\u001b[0m\u001b[1;33m)\u001b[0m\u001b[1;33m\u001b[0m\u001b[1;33m\u001b[0m\u001b[0m\n",
          "\u001b[1;31mTypeError\u001b[0m: synth() got an unexpected keyword argument 'rate'"
         ]
        }
       ]
      }
     },
     "a4eaee080e134045be70428f4594d6b3": {
      "model_module": "@jupyter-widgets/controls",
      "model_module_version": "1.5.0",
      "model_name": "HBoxModel",
      "state": {
       "children": [
        "IPY_MODEL_463ec552d1224c56a985eae61192af76",
        "IPY_MODEL_7fcba4f540ba43e38fc96457cd2d823b",
        "IPY_MODEL_c45c546edf9841dfa1a7519d5f17d82e",
        "IPY_MODEL_82f5f23b9b9b4d089184dad09ead2135",
        "IPY_MODEL_c9d395b753e9447fb241ae70e86ae286",
        "IPY_MODEL_97a4ccefac044907b004b949a28324e4",
        "IPY_MODEL_e49b02ad72f041598a4734611ce3ce7e",
        "IPY_MODEL_11e26d097be54d369bdeaeb5190958eb",
        "IPY_MODEL_0612e23cd346490e81cdd3f313ac47a1",
        "IPY_MODEL_ad1c167ed7cd41a985b8135d88e3e0d8",
        "IPY_MODEL_72f06ff5ecc34dcf8e9642724b4a7472",
        "IPY_MODEL_a18dcd8a851340f3bfb767bb458d3605",
        "IPY_MODEL_b76f37079f604660ad12ae0070b6c9b7",
        "IPY_MODEL_af277d713039480eb2f0a9c856a20f6f"
       ],
       "layout": "IPY_MODEL_aad3f69e431b49a7afc2f6deb6566ba3"
      }
     },
     "a4f2858e101b4f30a989d78b2dffda8b": {
      "model_module": "@jupyter-widgets/controls",
      "model_module_version": "1.5.0",
      "model_name": "ButtonStyleModel",
      "state": {
       "button_color": "white",
       "font_weight": "bold"
      }
     },
     "a5189e5c24344170a28df76024241600": {
      "model_module": "@jupyter-widgets/controls",
      "model_module_version": "1.5.0",
      "model_name": "ButtonModel",
      "state": {
       "description": "392",
       "layout": "IPY_MODEL_9d557a9525884cd9a0c6a0fd5123b9f8",
       "style": "IPY_MODEL_88ef9755a70c46a48923aa4fab98374b"
      }
     },
     "a55fa83d09de4a4095ecd9d8369f11c2": {
      "model_module": "@jupyter-widgets/controls",
      "model_module_version": "1.5.0",
      "model_name": "ButtonStyleModel",
      "state": {
       "button_color": "#BBBBBB",
       "font_weight": "bold"
      }
     },
     "a608a9ea65484abda7f57600426e3e82": {
      "model_module": "@jupyter-widgets/controls",
      "model_module_version": "1.5.0",
      "model_name": "ButtonStyleModel",
      "state": {}
     },
     "a7036885d61f4a9a8783efe9b98f1435": {
      "model_module": "@jupyter-widgets/controls",
      "model_module_version": "1.5.0",
      "model_name": "ButtonStyleModel",
      "state": {}
     },
     "a832ce0e9a794f15905721c7f049e444": {
      "model_module": "@jupyter-widgets/controls",
      "model_module_version": "1.5.0",
      "model_name": "ButtonStyleModel",
      "state": {}
     },
     "a848bb8a3473460e8de076dceec76c4b": {
      "model_module": "@jupyter-widgets/controls",
      "model_module_version": "1.5.0",
      "model_name": "ButtonModel",
      "state": {
       "description": "72",
       "layout": "IPY_MODEL_f76697facfad4a86a4e1a527bc08d5ec",
       "style": "IPY_MODEL_b0268f676092435ea5a3414b364941fd"
      }
     },
     "a96326e9a5e04cf2998fccacbbeb7f13": {
      "model_module": "@jupyter-widgets/controls",
      "model_module_version": "1.5.0",
      "model_name": "ButtonStyleModel",
      "state": {}
     },
     "a9a1c47598b04728b2eeb809eee293ee": {
      "model_module": "@jupyter-widgets/controls",
      "model_module_version": "1.5.0",
      "model_name": "ButtonStyleModel",
      "state": {}
     },
     "a9c8c67f473b4c12a758bb1344be3962": {
      "model_module": "@jupyter-widgets/controls",
      "model_module_version": "1.5.0",
      "model_name": "ButtonStyleModel",
      "state": {}
     },
     "aa3314d7a3da4f92b0038007b684c3d3": {
      "model_module": "@jupyter-widgets/controls",
      "model_module_version": "1.5.0",
      "model_name": "ButtonStyleModel",
      "state": {}
     },
     "aa84381fa7694249b5cad9dc7722febe": {
      "model_module": "@jupyter-widgets/controls",
      "model_module_version": "1.5.0",
      "model_name": "ButtonStyleModel",
      "state": {}
     },
     "aad3f69e431b49a7afc2f6deb6566ba3": {
      "model_module": "@jupyter-widgets/base",
      "model_module_version": "1.2.0",
      "model_name": "LayoutModel",
      "state": {}
     },
     "abb9d80d3f7e40ec90ccd1dd9d61cb23": {
      "model_module": "@jupyter-widgets/output",
      "model_module_version": "1.0.0",
      "model_name": "OutputModel",
      "state": {
       "layout": "IPY_MODEL_3f4545b073c641298c2f57d1d67ea2f8",
       "outputs": [
        {
         "data": {
          "image/png": "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\n",
          "text/plain": "<Figure size 576x144 with 1 Axes>"
         },
         "metadata": {},
         "output_type": "display_data"
        },
        {
         "data": {
          "text/html": "\n                <audio  controls=\"controls\" autoplay=\"autoplay\">\n                    <source src=\"data:audio/wav;base64,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\" type=\"audio/wav\" />\n                    Your browser does not support the audio element.\n                </audio>\n              ",
          "text/plain": "<IPython.lib.display.Audio object>"
         },
         "metadata": {},
         "output_type": "display_data"
        }
       ]
      }
     },
     "abf01b10880f48d9831c2e4c78bd1487": {
      "model_module": "@jupyter-widgets/controls",
      "model_module_version": "1.5.0",
      "model_name": "ButtonStyleModel",
      "state": {}
     },
     "acba2c47002b4133bf135233698b2d7a": {
      "model_module": "@jupyter-widgets/base",
      "model_module_version": "1.2.0",
      "model_name": "LayoutModel",
      "state": {
       "width": "100px"
      }
     },
     "acc90a0bcb224f61aa8dd04e9111f2fc": {
      "model_module": "@jupyter-widgets/base",
      "model_module_version": "1.2.0",
      "model_name": "LayoutModel",
      "state": {
       "width": "100px"
      }
     },
     "ace2f318e4484de69c77fb5339e4d81e": {
      "model_module": "@jupyter-widgets/controls",
      "model_module_version": "1.5.0",
      "model_name": "ButtonModel",
      "state": {
       "description": "61",
       "layout": "IPY_MODEL_16fc540c099f4877afd0c42bb6456d3d",
       "style": "IPY_MODEL_2c4977abddbe4f6381eed25d7f90f99d"
      }
     },
     "acf085d840b54685b3ab09d921c5beba": {
      "model_module": "@jupyter-widgets/controls",
      "model_module_version": "1.5.0",
      "model_name": "ButtonModel",
      "state": {
       "description": "69",
       "layout": "IPY_MODEL_9d557a9525884cd9a0c6a0fd5123b9f8",
       "style": "IPY_MODEL_8cf05f23906d49899e2a2e1774895f33"
      }
     },
     "ad1c167ed7cd41a985b8135d88e3e0d8": {
      "model_module": "@jupyter-widgets/controls",
      "model_module_version": "1.5.0",
      "model_name": "ButtonModel",
      "state": {
       "description": "69",
       "layout": "IPY_MODEL_39d952eaf546482a8abcb6a21092c223",
       "style": "IPY_MODEL_d68fb4570b5041cd89070470e1a4ebfb"
      }
     },
     "ad8532bef63c48b1b75ddab217336681": {
      "model_module": "@jupyter-widgets/base",
      "model_module_version": "1.2.0",
      "model_name": "LayoutModel",
      "state": {
       "width": "100px"
      }
     },
     "add18eaa162b4b69ad37e53e622fd593": {
      "model_module": "@jupyter-widgets/controls",
      "model_module_version": "1.5.0",
      "model_name": "ButtonStyleModel",
      "state": {}
     },
     "ae57ea7e1c9a42dd9f4c3909bfeeb892": {
      "model_module": "@jupyter-widgets/controls",
      "model_module_version": "1.5.0",
      "model_name": "ButtonStyleModel",
      "state": {}
     },
     "ae7bd915d12d471aac7f384dc0ce191e": {
      "model_module": "@jupyter-widgets/controls",
      "model_module_version": "1.5.0",
      "model_name": "ButtonModel",
      "state": {
       "description": "Note",
       "layout": "IPY_MODEL_5f76a810f9b04c3e8b81217e6144bf5b",
       "style": "IPY_MODEL_275af81253884c55b8923f779499a931"
      }
     },
     "af14382b6d6e428f8c62a4e0a94f3137": {
      "model_module": "@jupyter-widgets/controls",
      "model_module_version": "1.5.0",
      "model_name": "ButtonModel",
      "state": {
       "description": "277",
       "layout": "IPY_MODEL_9d557a9525884cd9a0c6a0fd5123b9f8",
       "style": "IPY_MODEL_7873643c54a44c2387909c0b816e3a80"
      }
     },
     "af277d713039480eb2f0a9c856a20f6f": {
      "model_module": "@jupyter-widgets/controls",
      "model_module_version": "1.5.0",
      "model_name": "ButtonModel",
      "state": {
       "description": "MIDI",
       "layout": "IPY_MODEL_bad85d60492947a78db9fc230aa4140a",
       "style": "IPY_MODEL_88d2507a5bc045efa92b9e29b4658b21"
      }
     },
     "afb7d5db71a0459eb9d8585f2d4d758a": {
      "model_module": "@jupyter-widgets/base",
      "model_module_version": "1.2.0",
      "model_name": "LayoutModel",
      "state": {
       "height": "80px",
       "width": "100px"
      }
     },
     "afb897b5e17f4cbca36775b966781157": {
      "model_module": "@jupyter-widgets/base",
      "model_module_version": "1.2.0",
      "model_name": "LayoutModel",
      "state": {}
     },
     "b0268f676092435ea5a3414b364941fd": {
      "model_module": "@jupyter-widgets/controls",
      "model_module_version": "1.5.0",
      "model_name": "ButtonStyleModel",
      "state": {}
     },
     "b104dab45ab14b1e94d95df239727979": {
      "model_module": "@jupyter-widgets/base",
      "model_module_version": "1.2.0",
      "model_name": "LayoutModel",
      "state": {}
     },
     "b245fd220bc94852bca8a1dfd3f7bec5": {
      "model_module": "@jupyter-widgets/controls",
      "model_module_version": "1.5.0",
      "model_name": "ButtonStyleModel",
      "state": {}
     },
     "b2a4ea9224bd409ea7bebd522d6d2e48": {
      "model_module": "@jupyter-widgets/controls",
      "model_module_version": "1.5.0",
      "model_name": "ButtonStyleModel",
      "state": {
       "button_color": "white",
       "font_weight": "bold"
      }
     },
     "b2ca58e6d94948b78b2e122123d2e4c0": {
      "model_module": "@jupyter-widgets/base",
      "model_module_version": "1.2.0",
      "model_name": "LayoutModel",
      "state": {
       "width": "100px"
      }
     },
     "b335b353b38b4d63a9ab5d42cad18297": {
      "model_module": "@jupyter-widgets/base",
      "model_module_version": "1.2.0",
      "model_name": "LayoutModel",
      "state": {
       "height": "80px",
       "width": "100px"
      }
     },
     "b3959292e5b64c9a9811073c62348ec1": {
      "model_module": "@jupyter-widgets/controls",
      "model_module_version": "1.5.0",
      "model_name": "ButtonStyleModel",
      "state": {
       "button_color": "white",
       "font_weight": "bold"
      }
     },
     "b4ed3258f81f4f7282ac612fcf91d214": {
      "model_module": "@jupyter-widgets/controls",
      "model_module_version": "1.5.0",
      "model_name": "ButtonModel",
      "state": {
       "description": "64",
       "layout": "IPY_MODEL_18482c16c6f847d3a4fd0b44e6d652c5",
       "style": "IPY_MODEL_f2ebe69bb2a74b038f64152ef048321c"
      }
     },
     "b4f0cd9663f144918ed6700df6ef14b7": {
      "model_module": "@jupyter-widgets/controls",
      "model_module_version": "1.5.0",
      "model_name": "ButtonStyleModel",
      "state": {}
     },
     "b50dcc60549c4199a3c1afa31776ca4f": {
      "model_module": "@jupyter-widgets/controls",
      "model_module_version": "1.5.0",
      "model_name": "HBoxModel",
      "state": {
       "children": [
        "IPY_MODEL_a2e31c23d698400a814271fb8df223ff",
        "IPY_MODEL_0afcf52d031a4b34b752da9f500bbf43",
        "IPY_MODEL_7687b806dfe24e1683d6de608eae6733",
        "IPY_MODEL_6a075d52e1894a1da97951f01dd91505",
        "IPY_MODEL_8f5aa6809d2a4fc0983fb646daa856b7",
        "IPY_MODEL_00af32b3a908434a9d1734d8900858f4",
        "IPY_MODEL_ff4f6992a88e440ab01ac286011e4665",
        "IPY_MODEL_0b1aee0ca7004d398a3bf9b1fa8c1565",
        "IPY_MODEL_f3e8f801f92349daadb6d2dd4a362384",
        "IPY_MODEL_d36c16617cd14426ab863dba617284c2",
        "IPY_MODEL_30055bcee621405bae95f4563b42b769",
        "IPY_MODEL_7ea48ff71c014846ad75dfc540c8fc6e",
        "IPY_MODEL_68bca991e0874f72a288f4431c7c38b9",
        "IPY_MODEL_0088d92ec81c46648fe2bff7fcaef6a8"
       ],
       "layout": "IPY_MODEL_46c35f1878244cc1b095bb13c93b6004"
      }
     },
     "b53bb94c24ed4995a2431317cc4414bd": {
      "model_module": "@jupyter-widgets/controls",
      "model_module_version": "1.5.0",
      "model_name": "ButtonStyleModel",
      "state": {
       "button_color": "#EEFFDD"
      }
     },
     "b58270cf36f54108a19b216f0b242c30": {
      "model_module": "@jupyter-widgets/controls",
      "model_module_version": "1.5.0",
      "model_name": "ButtonModel",
      "state": {
       "description": "F#",
       "layout": "IPY_MODEL_4e742685616442d9a8c74b95c8291289",
       "style": "IPY_MODEL_47205b43dae64b53afa015afd33bc47e"
      }
     },
     "b59fd2e4d8fc43cbb807a7441200fdbb": {
      "model_module": "@jupyter-widgets/controls",
      "model_module_version": "1.5.0",
      "model_name": "ButtonStyleModel",
      "state": {}
     },
     "b6503ab9b48d4512b7f2d23b57fe4a3f": {
      "model_module": "@jupyter-widgets/controls",
      "model_module_version": "1.5.0",
      "model_name": "ButtonModel",
      "state": {
       "description": "D",
       "layout": "IPY_MODEL_da2b95c2564e4a9cacc48f3f32033574",
       "style": "IPY_MODEL_5675d0fa1c3a45f78a9145aa150e3740"
      }
     },
     "b670d7af6e744b3c8cfba8f2499f309a": {
      "model_module": "@jupyter-widgets/controls",
      "model_module_version": "1.5.0",
      "model_name": "ButtonStyleModel",
      "state": {}
     },
     "b6ea0bf5ada0441aa357e8ca6b2b8981": {
      "model_module": "@jupyter-widgets/controls",
      "model_module_version": "1.5.0",
      "model_name": "ButtonModel",
      "state": {
       "description": "392",
       "layout": "IPY_MODEL_959046a4dcef42b58bbf3f9082dd5811",
       "style": "IPY_MODEL_bb3a8048cf5c4f02a3f9bf421986ec64"
      }
     },
     "b762241ae30b4446b08ebde9a66d0040": {
      "model_module": "@jupyter-widgets/base",
      "model_module_version": "1.2.0",
      "model_name": "LayoutModel",
      "state": {}
     },
     "b76f37079f604660ad12ae0070b6c9b7": {
      "model_module": "@jupyter-widgets/controls",
      "model_module_version": "1.5.0",
      "model_name": "ButtonModel",
      "state": {
       "description": "72",
       "layout": "IPY_MODEL_39d952eaf546482a8abcb6a21092c223",
       "style": "IPY_MODEL_4ca921bcd11e4363b5db560c1d78f4dd"
      }
     },
     "b868f4c2566348e7b5bcaaa125d15b8f": {
      "model_module": "@jupyter-widgets/controls",
      "model_module_version": "1.5.0",
      "model_name": "ButtonModel",
      "state": {
       "description": "277",
       "layout": "IPY_MODEL_16fc540c099f4877afd0c42bb6456d3d",
       "style": "IPY_MODEL_95c11ec642a34061b37946fc4df0adaa"
      }
     },
     "b894f3131a81405ebe9c638e3f1a65ae": {
      "model_module": "@jupyter-widgets/controls",
      "model_module_version": "1.5.0",
      "model_name": "ButtonStyleModel",
      "state": {}
     },
     "b8c0b36be2384490ac96ac28c67c0188": {
      "model_module": "@jupyter-widgets/base",
      "model_module_version": "1.2.0",
      "model_name": "LayoutModel",
      "state": {}
     },
     "b9f5d5cae397413984f1893f2ce6c769": {
      "model_module": "@jupyter-widgets/controls",
      "model_module_version": "1.5.0",
      "model_name": "ButtonStyleModel",
      "state": {}
     },
     "bad85d60492947a78db9fc230aa4140a": {
      "model_module": "@jupyter-widgets/base",
      "model_module_version": "1.2.0",
      "model_name": "LayoutModel",
      "state": {
       "width": "100px"
      }
     },
     "bb072692d50d45d3a716481b00c3e293": {
      "model_module": "@jupyter-widgets/controls",
      "model_module_version": "1.5.0",
      "model_name": "ButtonStyleModel",
      "state": {}
     },
     "bb37c07c032c44e799cd08f0c5a649b5": {
      "model_module": "@jupyter-widgets/controls",
      "model_module_version": "1.5.0",
      "model_name": "ButtonStyleModel",
      "state": {}
     },
     "bb3a8048cf5c4f02a3f9bf421986ec64": {
      "model_module": "@jupyter-widgets/controls",
      "model_module_version": "1.5.0",
      "model_name": "ButtonStyleModel",
      "state": {}
     },
     "bb3c8fef8d6b4724b0b20b051b5deafb": {
      "model_module": "@jupyter-widgets/controls",
      "model_module_version": "1.5.0",
      "model_name": "ButtonStyleModel",
      "state": {
       "button_color": "#EEFFDD"
      }
     },
     "bb49190b05e44d42ba06341280e7f87f": {
      "model_module": "@jupyter-widgets/controls",
      "model_module_version": "1.5.0",
      "model_name": "ButtonStyleModel",
      "state": {
       "button_color": "#BBBBBB",
       "font_weight": "bold"
      }
     },
     "bb6c965cebea478bbb76bdb661fb97c5": {
      "model_module": "@jupyter-widgets/controls",
      "model_module_version": "1.5.0",
      "model_name": "ButtonStyleModel",
      "state": {}
     },
     "bb9574432e544c6e84af96b922b8a84b": {
      "model_module": "@jupyter-widgets/controls",
      "model_module_version": "1.5.0",
      "model_name": "ButtonModel",
      "state": {
       "description": "415",
       "layout": "IPY_MODEL_35caf533714b49bfbbd81b1717789ca5",
       "style": "IPY_MODEL_f28bc1439b924460b99fb6d8265d3e34"
      }
     },
     "bb983ec5c92a45eb8c2cbceec7a2f6ec": {
      "model_module": "@jupyter-widgets/base",
      "model_module_version": "1.2.0",
      "model_name": "LayoutModel",
      "state": {
       "width": "100px"
      }
     },
     "bc13ccb62a6342369491911854a54637": {
      "model_module": "@jupyter-widgets/controls",
      "model_module_version": "1.5.0",
      "model_name": "ButtonStyleModel",
      "state": {}
     },
     "bd362da1b7304544b4e04b2d235b512b": {
      "model_module": "@jupyter-widgets/controls",
      "model_module_version": "1.5.0",
      "model_name": "ButtonModel",
      "state": {
       "description": "392",
       "layout": "IPY_MODEL_d3b4a8b1eb4c4c88819d93fb337337c6",
       "style": "IPY_MODEL_ebf3a7063cb948caaa652f7458ae3eb4"
      }
     },
     "bd5d6e82a78e4c1a9d6f3bd2ea5037bc": {
      "model_module": "@jupyter-widgets/controls",
      "model_module_version": "1.5.0",
      "model_name": "ButtonStyleModel",
      "state": {}
     },
     "bdd094e89442461baa2f0a4fce247c60": {
      "model_module": "@jupyter-widgets/controls",
      "model_module_version": "1.5.0",
      "model_name": "ButtonModel",
      "state": {
       "description": "494",
       "layout": "IPY_MODEL_9d557a9525884cd9a0c6a0fd5123b9f8",
       "style": "IPY_MODEL_6491f70f8adf44388aec432d7ee2e60a"
      }
     },
     "be0bfe6ef90f4d5994999b2c85b4c659": {
      "model_module": "@jupyter-widgets/controls",
      "model_module_version": "1.5.0",
      "model_name": "ButtonModel",
      "state": {
       "description": "60",
       "layout": "IPY_MODEL_d3b4a8b1eb4c4c88819d93fb337337c6",
       "style": "IPY_MODEL_e79a7afbb2c4435280cacb188cec9e4f"
      }
     },
     "be16422fe9d44c818f0d0a2f59014963": {
      "model_module": "@jupyter-widgets/controls",
      "model_module_version": "1.5.0",
      "model_name": "ButtonStyleModel",
      "state": {}
     },
     "be6a21438370476db1f047791ead519f": {
      "model_module": "@jupyter-widgets/controls",
      "model_module_version": "1.5.0",
      "model_name": "ButtonStyleModel",
      "state": {
       "button_color": "white",
       "font_weight": "bold"
      }
     },
     "be8a536780e04b2fa90c6c94e65c749e": {
      "model_module": "@jupyter-widgets/controls",
      "model_module_version": "1.5.0",
      "model_name": "ButtonModel",
      "state": {
       "description": "466",
       "layout": "IPY_MODEL_f76697facfad4a86a4e1a527bc08d5ec",
       "style": "IPY_MODEL_3f9fe97f6c174344982f0f00ba2a66a2"
      }
     },
     "bef04f299ce14d4fa2d2cfa5afce6ed9": {
      "model_module": "@jupyter-widgets/controls",
      "model_module_version": "1.5.0",
      "model_name": "ButtonModel",
      "state": {
       "description": "63",
       "layout": "IPY_MODEL_9d557a9525884cd9a0c6a0fd5123b9f8",
       "style": "IPY_MODEL_4865582a71934f469be924b61743d51b"
      }
     },
     "bf0deeb0fa164fdf9d402d4c29389ba2": {
      "model_module": "@jupyter-widgets/controls",
      "model_module_version": "1.5.0",
      "model_name": "ButtonStyleModel",
      "state": {
       "button_color": "white",
       "font_weight": "bold"
      }
     },
     "bf4ea96385eb49438de5c5e29af3769e": {
      "model_module": "@jupyter-widgets/controls",
      "model_module_version": "1.5.0",
      "model_name": "ButtonModel",
      "state": {
       "description": "277",
       "layout": "IPY_MODEL_39d952eaf546482a8abcb6a21092c223",
       "style": "IPY_MODEL_b4f0cd9663f144918ed6700df6ef14b7"
      }
     },
     "bfa848bec10a47efae739d0d3748fd78": {
      "model_module": "@jupyter-widgets/controls",
      "model_module_version": "1.5.0",
      "model_name": "ButtonStyleModel",
      "state": {}
     },
     "bfc2e74cd7df4e1eb191f4db6f712299": {
      "model_module": "@jupyter-widgets/controls",
      "model_module_version": "1.5.0",
      "model_name": "VBoxModel",
      "state": {
       "children": [
        "IPY_MODEL_59b542f2e94547fd9403d99bad9dfe85",
        "IPY_MODEL_9ca3da107ef144eebd40d59bae7fb42f",
        "IPY_MODEL_5d6e2108b95f483799bb31a441511903",
        "IPY_MODEL_abb9d80d3f7e40ec90ccd1dd9d61cb23"
       ],
       "layout": "IPY_MODEL_76c1cd6fcb6140098caf0e62fda29e9b"
      }
     },
     "c0273bb05e5f4691b9f43e2dd0d215f5": {
      "model_module": "@jupyter-widgets/controls",
      "model_module_version": "1.5.0",
      "model_name": "ButtonStyleModel",
      "state": {}
     },
     "c091ed1e1d6e4f459a7e79e004024716": {
      "model_module": "@jupyter-widgets/controls",
      "model_module_version": "1.5.0",
      "model_name": "ButtonModel",
      "state": {
       "description": "349",
       "layout": "IPY_MODEL_f76697facfad4a86a4e1a527bc08d5ec",
       "style": "IPY_MODEL_0871ff073e874ce58b4f869cf686e2ff"
      }
     },
     "c0e4458ea96749a9b1375700eabca98e": {
      "model_module": "@jupyter-widgets/controls",
      "model_module_version": "1.5.0",
      "model_name": "ButtonStyleModel",
      "state": {}
     },
     "c125b52c373c445897dae5a063b340dd": {
      "model_module": "@jupyter-widgets/controls",
      "model_module_version": "1.5.0",
      "model_name": "ButtonStyleModel",
      "state": {
       "button_color": "white",
       "font_weight": "bold"
      }
     },
     "c17d0024b3864eb080836b1aa43efe79": {
      "model_module": "@jupyter-widgets/output",
      "model_module_version": "1.0.0",
      "model_name": "OutputModel",
      "state": {
       "layout": "IPY_MODEL_9e3070ae9eba4f73aadc3325025a5268",
       "outputs": [
        {
         "data": {
          "image/png": "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\n",
          "text/plain": "<Figure size 576x144 with 1 Axes>"
         },
         "metadata": {},
         "output_type": "display_data"
        },
        {
         "data": {
          "text/html": "\n                <audio  controls=\"controls\" autoplay=\"autoplay\">\n                    <source src=\"data:audio/wav;base64,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\" type=\"audio/wav\" />\n                    Your browser does not support the audio element.\n                </audio>\n              ",
          "text/plain": "<IPython.lib.display.Audio object>"
         },
         "metadata": {},
         "output_type": "display_data"
        }
       ]
      }
     },
     "c1f7e400ed244d3bb593301b7f750bf9": {
      "model_module": "@jupyter-widgets/controls",
      "model_module_version": "1.5.0",
      "model_name": "ButtonModel",
      "state": {
       "description": "B",
       "layout": "IPY_MODEL_1ebcdd31d8b44db283e6a7b24e45c33d",
       "style": "IPY_MODEL_9c134bd8ff7445ec95bb8c5efad5226a"
      }
     },
     "c2480386746e47d5965e9588d998a0fa": {
      "model_module": "@jupyter-widgets/controls",
      "model_module_version": "1.5.0",
      "model_name": "ButtonStyleModel",
      "state": {}
     },
     "c253b7abe90e4e898d3342b31f99e628": {
      "model_module": "@jupyter-widgets/controls",
      "model_module_version": "1.5.0",
      "model_name": "ButtonModel",
      "state": {
       "description": "71",
       "layout": "IPY_MODEL_d3b4a8b1eb4c4c88819d93fb337337c6",
       "style": "IPY_MODEL_1e62fc8c0fe34f0eb662313eadab005a"
      }
     },
     "c26aec1ad70f4bc586aa0bd70b05a470": {
      "model_module": "@jupyter-widgets/controls",
      "model_module_version": "1.5.0",
      "model_name": "ButtonStyleModel",
      "state": {}
     },
     "c27d593fbb46495aae2834082f0b869a": {
      "model_module": "@jupyter-widgets/controls",
      "model_module_version": "1.5.0",
      "model_name": "ButtonModel",
      "state": {
       "description": "60",
       "layout": "IPY_MODEL_959046a4dcef42b58bbf3f9082dd5811",
       "style": "IPY_MODEL_338b0aa030fc46f3a55b893498701ecc"
      }
     },
     "c330d67fcdc24de59ec562d370e9fe55": {
      "model_module": "@jupyter-widgets/controls",
      "model_module_version": "1.5.0",
      "model_name": "ButtonModel",
      "state": {
       "description": "494",
       "layout": "IPY_MODEL_16fc540c099f4877afd0c42bb6456d3d",
       "style": "IPY_MODEL_67cb1bef9e4b407a81fc1526a73cb4a8"
      }
     },
     "c3446e0c7eed47e48efff51391c6017a": {
      "model_module": "@jupyter-widgets/controls",
      "model_module_version": "1.5.0",
      "model_name": "ButtonModel",
      "state": {
       "description": "69",
       "layout": "IPY_MODEL_d3b4a8b1eb4c4c88819d93fb337337c6",
       "style": "IPY_MODEL_5d7e96a3555249d3a71e5f833226014b"
      }
     },
     "c36e58e431a942f4ab0379637c744dd8": {
      "model_module": "@jupyter-widgets/controls",
      "model_module_version": "1.5.0",
      "model_name": "ButtonStyleModel",
      "state": {}
     },
     "c3f233a7dbe04bda9d475f1803b9538f": {
      "model_module": "@jupyter-widgets/controls",
      "model_module_version": "1.5.0",
      "model_name": "ButtonStyleModel",
      "state": {}
     },
     "c45c546edf9841dfa1a7519d5f17d82e": {
      "model_module": "@jupyter-widgets/controls",
      "model_module_version": "1.5.0",
      "model_name": "ButtonModel",
      "state": {
       "description": "62",
       "layout": "IPY_MODEL_39d952eaf546482a8abcb6a21092c223",
       "style": "IPY_MODEL_f2142f5501654929a126862a6b702ca5"
      }
     },
     "c4c73fb9347e482e993f5d65708459a0": {
      "model_module": "@jupyter-widgets/controls",
      "model_module_version": "1.5.0",
      "model_name": "ButtonModel",
      "state": {
       "description": "C",
       "layout": "IPY_MODEL_d37f618c4d194ae5b7e8455e28e44b63",
       "style": "IPY_MODEL_04cc0c7144384fa38dcc3d12b957d34c"
      }
     },
     "c551677a047641dca6d2c04dc16faf32": {
      "model_module": "@jupyter-widgets/controls",
      "model_module_version": "1.5.0",
      "model_name": "ButtonModel",
      "state": {
       "description": "62",
       "layout": "IPY_MODEL_16fc540c099f4877afd0c42bb6456d3d",
       "style": "IPY_MODEL_290b7ce8428244828ec6875cbd3c8235"
      }
     },
     "c60030abec214666ad6848d52f066f9d": {
      "model_module": "@jupyter-widgets/controls",
      "model_module_version": "1.5.0",
      "model_name": "ButtonModel",
      "state": {
       "description": "B",
       "layout": "IPY_MODEL_9c3d99e658354a67968ab6adb6e1e835",
       "style": "IPY_MODEL_944b70aa29024eb2bd2231dd18429f74"
      }
     },
     "c6010e5f223b4cdaa717ed1e0920c11b": {
      "model_module": "@jupyter-widgets/controls",
      "model_module_version": "1.5.0",
      "model_name": "ButtonModel",
      "state": {
       "description": "262",
       "layout": "IPY_MODEL_959046a4dcef42b58bbf3f9082dd5811",
       "style": "IPY_MODEL_d097254f787f4892929bf92ded27d3bb"
      }
     },
     "c60a2543daa3481892faa9188a9206fd": {
      "model_module": "@jupyter-widgets/controls",
      "model_module_version": "1.5.0",
      "model_name": "ButtonModel",
      "state": {
       "description": "C#",
       "layout": "IPY_MODEL_4e742685616442d9a8c74b95c8291289",
       "style": "IPY_MODEL_18cbe2639c2a4147a4ad488c196332d5"
      }
     },
     "c6731158b52e4684ae0d03cdeaeb0dbd": {
      "model_module": "@jupyter-widgets/controls",
      "model_module_version": "1.5.0",
      "model_name": "ButtonStyleModel",
      "state": {
       "button_color": "white",
       "font_weight": "bold"
      }
     },
     "c68bce88940546eb9f60e2352d264387": {
      "model_module": "@jupyter-widgets/controls",
      "model_module_version": "1.5.0",
      "model_name": "ButtonModel",
      "state": {
       "description": "G#",
       "layout": "IPY_MODEL_d37f618c4d194ae5b7e8455e28e44b63",
       "style": "IPY_MODEL_4e6a209425ba40a19c63f9bd50b91a09"
      }
     },
     "c6a2a5ba3e184b64a000f21f02dda75e": {
      "model_module": "@jupyter-widgets/controls",
      "model_module_version": "1.5.0",
      "model_name": "ButtonStyleModel",
      "state": {}
     },
     "c6c7bd92cda54bc2b2799fe0b9f4da8f": {
      "model_module": "@jupyter-widgets/controls",
      "model_module_version": "1.5.0",
      "model_name": "ButtonModel",
      "state": {
       "description": "262",
       "layout": "IPY_MODEL_18482c16c6f847d3a4fd0b44e6d652c5",
       "style": "IPY_MODEL_9cbdd068fd9c4ecd82670d159657df2e"
      }
     },
     "c6d6041abbf54d4f87232ae4a1626960": {
      "model_module": "@jupyter-widgets/controls",
      "model_module_version": "1.5.0",
      "model_name": "ButtonStyleModel",
      "state": {
       "button_color": "#BBBBBB",
       "font_weight": "bold"
      }
     },
     "c6e8caaa3fb143fca0af1c11d9ee1c99": {
      "model_module": "@jupyter-widgets/controls",
      "model_module_version": "1.5.0",
      "model_name": "ButtonStyleModel",
      "state": {
       "button_color": "#BBBBBB",
       "font_weight": "bold"
      }
     },
     "c7dc88f3dfbc48aa8567f8f5e857cdb5": {
      "model_module": "@jupyter-widgets/controls",
      "model_module_version": "1.5.0",
      "model_name": "ButtonModel",
      "state": {
       "description": "294",
       "layout": "IPY_MODEL_f76697facfad4a86a4e1a527bc08d5ec",
       "style": "IPY_MODEL_a220f4bbe4f940eeb581c7c0db9830d0"
      }
     },
     "c7fb0bec4f9846148442d2d8ad989725": {
      "model_module": "@jupyter-widgets/controls",
      "model_module_version": "1.5.0",
      "model_name": "ButtonModel",
      "state": {
       "description": "415",
       "layout": "IPY_MODEL_39d952eaf546482a8abcb6a21092c223",
       "style": "IPY_MODEL_88aac3a4052b4ffa89024545a7248487"
      }
     },
     "c8000bd4c375472ebec15530aee2347a": {
      "model_module": "@jupyter-widgets/controls",
      "model_module_version": "1.5.0",
      "model_name": "ButtonModel",
      "state": {
       "description": "F",
       "layout": "IPY_MODEL_9c3d99e658354a67968ab6adb6e1e835",
       "style": "IPY_MODEL_5b9838d240424b08a3883996eb7f2185"
      }
     },
     "c905d726ddd14baabca5de0884d82482": {
      "model_module": "@jupyter-widgets/controls",
      "model_module_version": "1.5.0",
      "model_name": "ButtonModel",
      "state": {
       "description": "311",
       "layout": "IPY_MODEL_16fc540c099f4877afd0c42bb6456d3d",
       "style": "IPY_MODEL_3b58c9f5eaec4d86830ad233e8e312ae"
      }
     },
     "c90827f6e4e94e6cbf01ebab3f55b8f3": {
      "model_module": "@jupyter-widgets/controls",
      "model_module_version": "1.5.0",
      "model_name": "ButtonStyleModel",
      "state": {}
     },
     "c9188cc242a7493aa7e4fad9d2db2c90": {
      "model_module": "@jupyter-widgets/controls",
      "model_module_version": "1.5.0",
      "model_name": "ButtonStyleModel",
      "state": {
       "button_color": "#BBBBBB",
       "font_weight": "bold"
      }
     },
     "c9aaad6afa8f4d2c97fa582393f0f388": {
      "model_module": "@jupyter-widgets/controls",
      "model_module_version": "1.5.0",
      "model_name": "ButtonStyleModel",
      "state": {
       "button_color": "#BBBBBB",
       "font_weight": "bold"
      }
     },
     "c9d395b753e9447fb241ae70e86ae286": {
      "model_module": "@jupyter-widgets/controls",
      "model_module_version": "1.5.0",
      "model_name": "ButtonModel",
      "state": {
       "description": "64",
       "layout": "IPY_MODEL_39d952eaf546482a8abcb6a21092c223",
       "style": "IPY_MODEL_6633a11807314036a61cc126e98e0694"
      }
     },
     "ca0c513ead7f493680690a336ea3a272": {
      "model_module": "@jupyter-widgets/controls",
      "model_module_version": "1.5.0",
      "model_name": "ButtonModel",
      "state": {
       "description": "330",
       "layout": "IPY_MODEL_16fc540c099f4877afd0c42bb6456d3d",
       "style": "IPY_MODEL_add18eaa162b4b69ad37e53e622fd593"
      }
     },
     "ca40a3d5e05e4cae99beedde96b3720d": {
      "model_module": "@jupyter-widgets/controls",
      "model_module_version": "1.5.0",
      "model_name": "ButtonStyleModel",
      "state": {}
     },
     "cafbd362400745c5910809cbe694f855": {
      "model_module": "@jupyter-widgets/base",
      "model_module_version": "1.2.0",
      "model_name": "LayoutModel",
      "state": {}
     },
     "cb6664d897c44cc98eca0ad05f588c7a": {
      "model_module": "@jupyter-widgets/controls",
      "model_module_version": "1.5.0",
      "model_name": "ButtonStyleModel",
      "state": {}
     },
     "cb9ac1e8c2984db7a51361c1a9543544": {
      "model_module": "@jupyter-widgets/controls",
      "model_module_version": "1.5.0",
      "model_name": "ButtonModel",
      "state": {
       "description": "67",
       "layout": "IPY_MODEL_d3b4a8b1eb4c4c88819d93fb337337c6",
       "style": "IPY_MODEL_327f2ba861e742fbae0a5ee55e3a175e"
      }
     },
     "cbb71e01ac5f4fad8841e616218287f7": {
      "model_module": "@jupyter-widgets/controls",
      "model_module_version": "1.5.0",
      "model_name": "ButtonStyleModel",
      "state": {
       "button_color": "white",
       "font_weight": "bold"
      }
     },
     "cbc22639c537432091c9bc47966e4f0a": {
      "model_module": "@jupyter-widgets/controls",
      "model_module_version": "1.5.0",
      "model_name": "ButtonModel",
      "state": {
       "description": "60",
       "layout": "IPY_MODEL_f76697facfad4a86a4e1a527bc08d5ec",
       "style": "IPY_MODEL_a608a9ea65484abda7f57600426e3e82"
      }
     },
     "cbd1fdbdaf814334a8bb18301f35380f": {
      "model_module": "@jupyter-widgets/controls",
      "model_module_version": "1.5.0",
      "model_name": "ButtonModel",
      "state": {
       "description": "69",
       "layout": "IPY_MODEL_35caf533714b49bfbbd81b1717789ca5",
       "style": "IPY_MODEL_4e94d42bd3064713a6a87789a6cd977a"
      }
     },
     "cbd4d8d363ea450da966289f5e234a86": {
      "model_module": "@jupyter-widgets/controls",
      "model_module_version": "1.5.0",
      "model_name": "ButtonStyleModel",
      "state": {}
     },
     "cc7d7dee19424f08af2adacaa5f53597": {
      "model_module": "@jupyter-widgets/base",
      "model_module_version": "1.2.0",
      "model_name": "LayoutModel",
      "state": {}
     },
     "ccdf7192c1184a7e82f35d1664708a45": {
      "model_module": "@jupyter-widgets/controls",
      "model_module_version": "1.5.0",
      "model_name": "ButtonStyleModel",
      "state": {
       "button_color": "white",
       "font_weight": "bold"
      }
     },
     "ccfa7624ca3547cc8a28d02dd7961d5c": {
      "model_module": "@jupyter-widgets/controls",
      "model_module_version": "1.5.0",
      "model_name": "ButtonStyleModel",
      "state": {
       "button_color": "white",
       "font_weight": "bold"
      }
     },
     "cd180fbfa83a4218b6f75d732ecacd2d": {
      "model_module": "@jupyter-widgets/controls",
      "model_module_version": "1.5.0",
      "model_name": "ButtonModel",
      "state": {
       "description": "D",
       "layout": "IPY_MODEL_9c3d99e658354a67968ab6adb6e1e835",
       "style": "IPY_MODEL_f359510bd33f4fe3a987cebdb0581bc4"
      }
     },
     "cdb5676197da419ea7971215b8817571": {
      "model_module": "@jupyter-widgets/controls",
      "model_module_version": "1.5.0",
      "model_name": "ButtonStyleModel",
      "state": {
       "button_color": "#BBBBBB",
       "font_weight": "bold"
      }
     },
     "ce428c48c2c9406a9ef2194525560889": {
      "model_module": "@jupyter-widgets/controls",
      "model_module_version": "1.5.0",
      "model_name": "ButtonStyleModel",
      "state": {}
     },
     "ce72f0457f234758abe08a0a4ca4f18c": {
      "model_module": "@jupyter-widgets/controls",
      "model_module_version": "1.5.0",
      "model_name": "ButtonStyleModel",
      "state": {
       "button_color": "white",
       "font_weight": "bold"
      }
     },
     "ce856992c7ff48fabf0205329896218b": {
      "model_module": "@jupyter-widgets/base",
      "model_module_version": "1.2.0",
      "model_name": "LayoutModel",
      "state": {
       "width": "100px"
      }
     },
     "d00d27c2394c44d990069fa90801e202": {
      "model_module": "@jupyter-widgets/controls",
      "model_module_version": "1.5.0",
      "model_name": "ButtonModel",
      "state": {
       "description": "65",
       "layout": "IPY_MODEL_35caf533714b49bfbbd81b1717789ca5",
       "style": "IPY_MODEL_6cc4af8af8454a15a38325358843ae37"
      }
     },
     "d0712a4e40f446e4857cd7d0478b8667": {
      "model_module": "@jupyter-widgets/controls",
      "model_module_version": "1.5.0",
      "model_name": "HBoxModel",
      "state": {
       "children": [
        "IPY_MODEL_3bc44a49c3fa459b86f6830e70d6e14a",
        "IPY_MODEL_f41d27052cde4c819064bfd595a323e7",
        "IPY_MODEL_cd180fbfa83a4218b6f75d732ecacd2d",
        "IPY_MODEL_e5c37ccf521e4f268342e0608dab0071",
        "IPY_MODEL_2c94d33d57704b9898caa7465e990d29",
        "IPY_MODEL_c8000bd4c375472ebec15530aee2347a",
        "IPY_MODEL_203bb5d24dce49d5b54d56d77104f41d",
        "IPY_MODEL_5f0322b3074441a49389ef517b064529",
        "IPY_MODEL_43242e596cda4b37b1b70b68b5db1dd4",
        "IPY_MODEL_1f823446b3d442ed8b41ea8f585543f0",
        "IPY_MODEL_db128485b3384a569843fbb18eaa685a",
        "IPY_MODEL_c60030abec214666ad6848d52f066f9d",
        "IPY_MODEL_03f2023b244448e0963d7f28bc8b141a",
        "IPY_MODEL_e57390420f5d40289c68844edad73c71"
       ],
       "layout": "IPY_MODEL_b762241ae30b4446b08ebde9a66d0040"
      }
     },
     "d097254f787f4892929bf92ded27d3bb": {
      "model_module": "@jupyter-widgets/controls",
      "model_module_version": "1.5.0",
      "model_name": "ButtonStyleModel",
      "state": {}
     },
     "d0c9f6b70f5045ad8e14b0c75c060398": {
      "model_module": "@jupyter-widgets/controls",
      "model_module_version": "1.5.0",
      "model_name": "ButtonModel",
      "state": {
       "description": "65",
       "layout": "IPY_MODEL_18482c16c6f847d3a4fd0b44e6d652c5",
       "style": "IPY_MODEL_601f11c953f94b6995b78071da181f59"
      }
     },
     "d0ca8d09e833422ab77fe99aafbdfdac": {
      "model_module": "@jupyter-widgets/controls",
      "model_module_version": "1.5.0",
      "model_name": "ButtonStyleModel",
      "state": {
       "button_color": "#EEFFDD"
      }
     },
     "d19e1dee8b284c9fae58c4fefeb75eeb": {
      "model_module": "@jupyter-widgets/controls",
      "model_module_version": "1.5.0",
      "model_name": "ButtonStyleModel",
      "state": {
       "button_color": "white",
       "font_weight": "bold"
      }
     },
     "d1bbc4ea78c94287bf8d6ce12169adbc": {
      "model_module": "@jupyter-widgets/controls",
      "model_module_version": "1.5.0",
      "model_name": "ButtonStyleModel",
      "state": {}
     },
     "d1cbd27549e04c7fb3080d44b4563c52": {
      "model_module": "@jupyter-widgets/controls",
      "model_module_version": "1.5.0",
      "model_name": "ButtonStyleModel",
      "state": {
       "button_color": "#BBBBBB",
       "font_weight": "bold"
      }
     },
     "d23f1eb331a448fd9caba13cfaec3663": {
      "model_module": "@jupyter-widgets/controls",
      "model_module_version": "1.5.0",
      "model_name": "ButtonModel",
      "state": {
       "description": "C#",
       "layout": "IPY_MODEL_da2b95c2564e4a9cacc48f3f32033574",
       "style": "IPY_MODEL_dea0072e59c1458cbbc6907cb9edcd77"
      }
     },
     "d2666db22ed440ea80b4a517d32f5c5b": {
      "model_module": "@jupyter-widgets/controls",
      "model_module_version": "1.5.0",
      "model_name": "ButtonStyleModel",
      "state": {}
     },
     "d26823110a594c34ab4f2c8e4314a112": {
      "model_module": "@jupyter-widgets/controls",
      "model_module_version": "1.5.0",
      "model_name": "ButtonStyleModel",
      "state": {
       "button_color": "white",
       "font_weight": "bold"
      }
     },
     "d339f75b62f0464c8c87a3e3918b07b4": {
      "model_module": "@jupyter-widgets/controls",
      "model_module_version": "1.5.0",
      "model_name": "ButtonModel",
      "state": {
       "description": "65",
       "layout": "IPY_MODEL_16fc540c099f4877afd0c42bb6456d3d",
       "style": "IPY_MODEL_5e12c004bd63436eb95daf10e37c88b2"
      }
     },
     "d355ae518aa54a3f8fba19a7524cf605": {
      "model_module": "@jupyter-widgets/controls",
      "model_module_version": "1.5.0",
      "model_name": "ButtonStyleModel",
      "state": {
       "button_color": "#EEFFDD"
      }
     },
     "d36c16617cd14426ab863dba617284c2": {
      "model_module": "@jupyter-widgets/controls",
      "model_module_version": "1.5.0",
      "model_name": "ButtonModel",
      "state": {
       "description": "A",
       "layout": "IPY_MODEL_0ce70a23b86147e598ab80566c43fba2",
       "style": "IPY_MODEL_4661e8441f8e4dea873d18d04244601a"
      }
     },
     "d37f618c4d194ae5b7e8455e28e44b63": {
      "model_module": "@jupyter-widgets/base",
      "model_module_version": "1.2.0",
      "model_name": "LayoutModel",
      "state": {
       "border": "2px solid black",
       "height": "80px",
       "width": "42px"
      }
     },
     "d3970a9298dd4b13be45820b4923d889": {
      "model_module": "@jupyter-widgets/controls",
      "model_module_version": "1.5.0",
      "model_name": "ButtonModel",
      "state": {
       "description": "72",
       "layout": "IPY_MODEL_d3b4a8b1eb4c4c88819d93fb337337c6",
       "style": "IPY_MODEL_96b3c6fc857741e9beca3b31d09d6532"
      }
     },
     "d3b4a8b1eb4c4c88819d93fb337337c6": {
      "model_module": "@jupyter-widgets/base",
      "model_module_version": "1.2.0",
      "model_name": "LayoutModel",
      "state": {
       "border": "0px solid blue",
       "height": "30px",
       "width": "42px"
      }
     },
     "d3c9d6cf13db472784a4cb2c4b081a1c": {
      "model_module": "@jupyter-widgets/base",
      "model_module_version": "1.2.0",
      "model_name": "LayoutModel",
      "state": {
       "height": "80px",
       "width": "100px"
      }
     },
     "d4e1c98dc0914c07a570d92d2e8c36fc": {
      "model_module": "@jupyter-widgets/base",
      "model_module_version": "1.2.0",
      "model_name": "LayoutModel",
      "state": {}
     },
     "d53b81db811542aa84f3ca8c98bc6f3c": {
      "model_module": "@jupyter-widgets/controls",
      "model_module_version": "1.5.0",
      "model_name": "ButtonStyleModel",
      "state": {}
     },
     "d573a98dbf61496bab6a96d14d8fad16": {
      "model_module": "@jupyter-widgets/base",
      "model_module_version": "1.2.0",
      "model_name": "LayoutModel",
      "state": {
       "height": "80px",
       "width": "100px"
      }
     },
     "d5f74070ce384c369b91a5246637c954": {
      "model_module": "@jupyter-widgets/controls",
      "model_module_version": "1.5.0",
      "model_name": "ButtonModel",
      "state": {
       "description": "349",
       "layout": "IPY_MODEL_d3b4a8b1eb4c4c88819d93fb337337c6",
       "style": "IPY_MODEL_84421f8a68a9453197668db5de9593c3"
      }
     },
     "d68fb4570b5041cd89070470e1a4ebfb": {
      "model_module": "@jupyter-widgets/controls",
      "model_module_version": "1.5.0",
      "model_name": "ButtonStyleModel",
      "state": {}
     },
     "d6d1616c7d7748939830b4a7944b5e61": {
      "model_module": "@jupyter-widgets/controls",
      "model_module_version": "1.5.0",
      "model_name": "ButtonModel",
      "state": {
       "description": "294",
       "layout": "IPY_MODEL_18482c16c6f847d3a4fd0b44e6d652c5",
       "style": "IPY_MODEL_b245fd220bc94852bca8a1dfd3f7bec5"
      }
     },
     "d7092567d8264156a4ea82b1bc38932f": {
      "model_module": "@jupyter-widgets/controls",
      "model_module_version": "1.5.0",
      "model_name": "ButtonModel",
      "state": {
       "description": "330",
       "layout": "IPY_MODEL_39d952eaf546482a8abcb6a21092c223",
       "style": "IPY_MODEL_ee018e7320a6411cbb188366f2954cda"
      }
     },
     "d72812f7c5fa47f388b8f64a5142bd6a": {
      "model_module": "@jupyter-widgets/controls",
      "model_module_version": "1.5.0",
      "model_name": "ButtonModel",
      "state": {
       "description": "68",
       "layout": "IPY_MODEL_959046a4dcef42b58bbf3f9082dd5811",
       "style": "IPY_MODEL_bb072692d50d45d3a716481b00c3e293"
      }
     },
     "d75f3b1e62de496f8460e0d9b5ed020a": {
      "model_module": "@jupyter-widgets/controls",
      "model_module_version": "1.5.0",
      "model_name": "ButtonStyleModel",
      "state": {
       "button_color": "white",
       "font_weight": "bold"
      }
     },
     "d7bbebf838974a6882118797040cd0f2": {
      "model_module": "@jupyter-widgets/controls",
      "model_module_version": "1.5.0",
      "model_name": "ButtonModel",
      "state": {
       "description": "62",
       "layout": "IPY_MODEL_9d557a9525884cd9a0c6a0fd5123b9f8",
       "style": "IPY_MODEL_24bf2ca197d44ed098d4bc3c543c75b0"
      }
     },
     "d7ead885b2384272ad4d503f20803e01": {
      "model_module": "@jupyter-widgets/controls",
      "model_module_version": "1.5.0",
      "model_name": "ButtonModel",
      "state": {
       "description": "D",
       "layout": "IPY_MODEL_1f73d6ed87f14cdba71fd37d0a99871a",
       "style": "IPY_MODEL_ec482472b1c849d8bb4152f8a42b396f"
      }
     },
     "d835c1c26af341d38ac2bb4036c1e24f": {
      "model_module": "@jupyter-widgets/controls",
      "model_module_version": "1.5.0",
      "model_name": "ButtonStyleModel",
      "state": {
       "button_color": "white",
       "font_weight": "bold"
      }
     },
     "d8ad2ec597984183b1296b26ddae0dc3": {
      "model_module": "@jupyter-widgets/controls",
      "model_module_version": "1.5.0",
      "model_name": "ButtonStyleModel",
      "state": {}
     },
     "d8beaaaa7d3747eb93859c8f64967a70": {
      "model_module": "@jupyter-widgets/controls",
      "model_module_version": "1.5.0",
      "model_name": "ButtonStyleModel",
      "state": {}
     },
     "da1714b478214104966f7ad558f5639b": {
      "model_module": "@jupyter-widgets/controls",
      "model_module_version": "1.5.0",
      "model_name": "ButtonModel",
      "state": {
       "description": "Note",
       "layout": "IPY_MODEL_df9cb80781c54aec9d24eed62acdfd4c",
       "style": "IPY_MODEL_2027e3f805d54d6ca722a4f861e42dc5"
      }
     },
     "da2b95c2564e4a9cacc48f3f32033574": {
      "model_module": "@jupyter-widgets/base",
      "model_module_version": "1.2.0",
      "model_name": "LayoutModel",
      "state": {
       "border": "2px solid black",
       "height": "80px",
       "width": "42px"
      }
     },
     "da44cca6dcf947e380f1c253f1018655": {
      "model_module": "@jupyter-widgets/controls",
      "model_module_version": "1.5.0",
      "model_name": "ButtonStyleModel",
      "state": {
       "button_color": "#EEFFDD"
      }
     },
     "db128485b3384a569843fbb18eaa685a": {
      "model_module": "@jupyter-widgets/controls",
      "model_module_version": "1.5.0",
      "model_name": "ButtonModel",
      "state": {
       "description": "A#",
       "layout": "IPY_MODEL_9c3d99e658354a67968ab6adb6e1e835",
       "style": "IPY_MODEL_92e7b1307046464a835c8dfdfee7a362"
      }
     },
     "db908f24d52745dfab74d263918556a3": {
      "model_module": "@jupyter-widgets/controls",
      "model_module_version": "1.5.0",
      "model_name": "ButtonStyleModel",
      "state": {}
     },
     "dbd5ec21dd804c56ac8724d6fdeb89b4": {
      "model_module": "@jupyter-widgets/controls",
      "model_module_version": "1.5.0",
      "model_name": "ButtonStyleModel",
      "state": {
       "button_color": "white",
       "font_weight": "bold"
      }
     },
     "dbd91a531d1b4b1486d3ee3d025eb462": {
      "model_module": "@jupyter-widgets/controls",
      "model_module_version": "1.5.0",
      "model_name": "ButtonStyleModel",
      "state": {}
     },
     "dbdc0dce78d04a47b932df8b88da9ca9": {
      "model_module": "@jupyter-widgets/base",
      "model_module_version": "1.2.0",
      "model_name": "LayoutModel",
      "state": {}
     },
     "dc1e34589fc24f7c99ea0737709a90d3": {
      "model_module": "@jupyter-widgets/controls",
      "model_module_version": "1.5.0",
      "model_name": "HBoxModel",
      "state": {
       "children": [
        "IPY_MODEL_c27d593fbb46495aae2834082f0b869a",
        "IPY_MODEL_9821523fe84b40efa82df09219ab3278",
        "IPY_MODEL_874c9127f89e41e29fd74404e9654ada",
        "IPY_MODEL_55923591814c40cba8c4eb38fb6d989b",
        "IPY_MODEL_f3b4fa1a3b864ac58dbb57b8099a0f60",
        "IPY_MODEL_98e956d5cc0548de8ec18d31eee915d4",
        "IPY_MODEL_e5ac7d1514384442aa5a92e6a8d354a3",
        "IPY_MODEL_05834008d65b4f3194c16ad238134eb8",
        "IPY_MODEL_d72812f7c5fa47f388b8f64a5142bd6a",
        "IPY_MODEL_f9f60a73914a4a3c980d8fadd750f8d4",
        "IPY_MODEL_22514fe516d3418cad5f5d1c2fd4720d",
        "IPY_MODEL_6e1c5e1a851a42ffbeb6d7dbd5df03f5",
        "IPY_MODEL_a2d000fc7abd4a1e82129bad84fbafe2",
        "IPY_MODEL_6541a305182747a49fc61a70aef46a48"
       ],
       "layout": "IPY_MODEL_cafbd362400745c5910809cbe694f855"
      }
     },
     "dc30febfe8c743b6a78dd29e44e6a89a": {
      "model_module": "@jupyter-widgets/controls",
      "model_module_version": "1.5.0",
      "model_name": "ButtonModel",
      "state": {
       "description": "64",
       "layout": "IPY_MODEL_35caf533714b49bfbbd81b1717789ca5",
       "style": "IPY_MODEL_edf071ae99f84ada929f6ad9ea1c0a83"
      }
     },
     "dc8289a37f594914b57e95a75dc0e19e": {
      "model_module": "@jupyter-widgets/base",
      "model_module_version": "1.2.0",
      "model_name": "LayoutModel",
      "state": {
       "width": "100px"
      }
     },
     "dca1e1b612f340be8c5f5cd0390b2360": {
      "model_module": "@jupyter-widgets/controls",
      "model_module_version": "1.5.0",
      "model_name": "ButtonModel",
      "state": {
       "description": "370",
       "layout": "IPY_MODEL_d3b4a8b1eb4c4c88819d93fb337337c6",
       "style": "IPY_MODEL_bb37c07c032c44e799cd08f0c5a649b5"
      }
     },
     "dcaff97f0bf045f6b744d061f27ebd7b": {
      "model_module": "@jupyter-widgets/controls",
      "model_module_version": "1.5.0",
      "model_name": "ButtonStyleModel",
      "state": {
       "button_color": "#EEFFDD"
      }
     },
     "dcbadc67db204f94b526cc758f5ebfd8": {
      "model_module": "@jupyter-widgets/controls",
      "model_module_version": "1.5.0",
      "model_name": "ButtonModel",
      "state": {
       "description": "68",
       "layout": "IPY_MODEL_16fc540c099f4877afd0c42bb6456d3d",
       "style": "IPY_MODEL_55a0cdb8dab4472bbb54e9aa52bd8bcd"
      }
     },
     "dcd6e3a59b5f4feebcc4c01b7a0f514d": {
      "model_module": "@jupyter-widgets/controls",
      "model_module_version": "1.5.0",
      "model_name": "ButtonModel",
      "state": {
       "description": "62",
       "layout": "IPY_MODEL_f76697facfad4a86a4e1a527bc08d5ec",
       "style": "IPY_MODEL_3d3b2e114e084e269a4b1e1d978ec9c9"
      }
     },
     "ddfb573dfa4f4663afbed20577e7f56a": {
      "model_module": "@jupyter-widgets/controls",
      "model_module_version": "1.5.0",
      "model_name": "ButtonStyleModel",
      "state": {}
     },
     "de4ce8d5d4604e7c928ceadc11678d75": {
      "model_module": "@jupyter-widgets/controls",
      "model_module_version": "1.5.0",
      "model_name": "ButtonStyleModel",
      "state": {
       "button_color": "#EEFFDD"
      }
     },
     "dea0072e59c1458cbbc6907cb9edcd77": {
      "model_module": "@jupyter-widgets/controls",
      "model_module_version": "1.5.0",
      "model_name": "ButtonStyleModel",
      "state": {
       "button_color": "#BBBBBB",
       "font_weight": "bold"
      }
     },
     "defb93cfa43b44d3868707d23aea44a5": {
      "model_module": "@jupyter-widgets/controls",
      "model_module_version": "1.5.0",
      "model_name": "ButtonStyleModel",
      "state": {
       "button_color": "white",
       "font_weight": "bold"
      }
     },
     "df023f4295804b0092875fa1005fc647": {
      "model_module": "@jupyter-widgets/controls",
      "model_module_version": "1.5.0",
      "model_name": "ButtonModel",
      "state": {
       "description": "494",
       "layout": "IPY_MODEL_18482c16c6f847d3a4fd0b44e6d652c5",
       "style": "IPY_MODEL_5fb80a0e08ec4c448aa984d84c7e0871"
      }
     },
     "df3c50d577b341b08089354e95eb5726": {
      "model_module": "@jupyter-widgets/controls",
      "model_module_version": "1.5.0",
      "model_name": "ButtonStyleModel",
      "state": {}
     },
     "df42495b515f4b24851c6b0e34829f87": {
      "model_module": "@jupyter-widgets/controls",
      "model_module_version": "1.5.0",
      "model_name": "ButtonStyleModel",
      "state": {}
     },
     "df9cb80781c54aec9d24eed62acdfd4c": {
      "model_module": "@jupyter-widgets/base",
      "model_module_version": "1.2.0",
      "model_name": "LayoutModel",
      "state": {
       "height": "80px",
       "width": "100px"
      }
     },
     "e014b26b6bce4b48bea06a00c3532a9a": {
      "model_module": "@jupyter-widgets/controls",
      "model_module_version": "1.5.0",
      "model_name": "ButtonStyleModel",
      "state": {}
     },
     "e0bc532b72024d2db75c5d4c0e57fb08": {
      "model_module": "@jupyter-widgets/controls",
      "model_module_version": "1.5.0",
      "model_name": "ButtonModel",
      "state": {
       "description": "68",
       "layout": "IPY_MODEL_9d557a9525884cd9a0c6a0fd5123b9f8",
       "style": "IPY_MODEL_704c2f6e155249f4b08002c9717084f8"
      }
     },
     "e0dc9f25900c4efca7052ae354d838fd": {
      "model_module": "@jupyter-widgets/controls",
      "model_module_version": "1.5.0",
      "model_name": "ButtonStyleModel",
      "state": {}
     },
     "e250ccfa0c2244d4b1b71942bd10af55": {
      "model_module": "@jupyter-widgets/controls",
      "model_module_version": "1.5.0",
      "model_name": "ButtonStyleModel",
      "state": {}
     },
     "e2bfdc5c23244c42bf27a150817befa6": {
      "model_module": "@jupyter-widgets/controls",
      "model_module_version": "1.5.0",
      "model_name": "ButtonStyleModel",
      "state": {}
     },
     "e2f6685836fc47c7b11cba4c41581c75": {
      "model_module": "@jupyter-widgets/controls",
      "model_module_version": "1.5.0",
      "model_name": "ButtonStyleModel",
      "state": {
       "button_color": "white",
       "font_weight": "bold"
      }
     },
     "e2fff367ab264b888314f128e15fcc73": {
      "model_module": "@jupyter-widgets/controls",
      "model_module_version": "1.5.0",
      "model_name": "ButtonModel",
      "state": {
       "description": "67",
       "layout": "IPY_MODEL_f76697facfad4a86a4e1a527bc08d5ec",
       "style": "IPY_MODEL_8733f267106347b1b9b81b500dbb3fee"
      }
     },
     "e345e52505f1499d981179352f026102": {
      "model_module": "@jupyter-widgets/controls",
      "model_module_version": "1.5.0",
      "model_name": "ButtonStyleModel",
      "state": {}
     },
     "e39de2b0de2b43b3ade937d876ccb761": {
      "model_module": "@jupyter-widgets/controls",
      "model_module_version": "1.5.0",
      "model_name": "ButtonModel",
      "state": {
       "description": "72",
       "layout": "IPY_MODEL_18482c16c6f847d3a4fd0b44e6d652c5",
       "style": "IPY_MODEL_6b77ffd4ed314bf589ab939d2b0559fc"
      }
     },
     "e3ae1e2463ae4113bb0bee15971e787d": {
      "model_module": "@jupyter-widgets/controls",
      "model_module_version": "1.5.0",
      "model_name": "ButtonModel",
      "state": {
       "description": "C",
       "layout": "IPY_MODEL_1f73d6ed87f14cdba71fd37d0a99871a",
       "style": "IPY_MODEL_6ac99eb8a11e4003860c8a35da60c75f"
      }
     },
     "e3e30d7c92d84b78876b4a26c029a0a3": {
      "model_module": "@jupyter-widgets/controls",
      "model_module_version": "1.5.0",
      "model_name": "ButtonModel",
      "state": {
       "description": "D#",
       "layout": "IPY_MODEL_4e742685616442d9a8c74b95c8291289",
       "style": "IPY_MODEL_199063cc53f543ff90023185b0f33a24"
      }
     },
     "e49b02ad72f041598a4734611ce3ce7e": {
      "model_module": "@jupyter-widgets/controls",
      "model_module_version": "1.5.0",
      "model_name": "ButtonModel",
      "state": {
       "description": "66",
       "layout": "IPY_MODEL_39d952eaf546482a8abcb6a21092c223",
       "style": "IPY_MODEL_87c748e3ba834b3dbcbee0926a98d0aa"
      }
     },
     "e57390420f5d40289c68844edad73c71": {
      "model_module": "@jupyter-widgets/controls",
      "model_module_version": "1.5.0",
      "model_name": "ButtonModel",
      "state": {
       "description": "Note",
       "layout": "IPY_MODEL_d573a98dbf61496bab6a96d14d8fad16",
       "style": "IPY_MODEL_7270489e0f6547daa175733779eb42ef"
      }
     },
     "e59ab82a62a549c3afbef77904b8d9b7": {
      "model_module": "@jupyter-widgets/controls",
      "model_module_version": "1.5.0",
      "model_name": "ButtonModel",
      "state": {
       "description": "G",
       "layout": "IPY_MODEL_1ebcdd31d8b44db283e6a7b24e45c33d",
       "style": "IPY_MODEL_bf0deeb0fa164fdf9d402d4c29389ba2"
      }
     },
     "e5ac7d1514384442aa5a92e6a8d354a3": {
      "model_module": "@jupyter-widgets/controls",
      "model_module_version": "1.5.0",
      "model_name": "ButtonModel",
      "state": {
       "description": "66",
       "layout": "IPY_MODEL_959046a4dcef42b58bbf3f9082dd5811",
       "style": "IPY_MODEL_ef685cb181b142a8b983b913babf0898"
      }
     },
     "e5b031009f804ff4808793fc99a76355": {
      "model_module": "@jupyter-widgets/controls",
      "model_module_version": "1.5.0",
      "model_name": "ButtonModel",
      "state": {
       "description": "294",
       "layout": "IPY_MODEL_16fc540c099f4877afd0c42bb6456d3d",
       "style": "IPY_MODEL_5fd89d9252734fbfa23abfe6164c9878"
      }
     },
     "e5b84cf518cd42738eab20cbf29f186d": {
      "model_module": "@jupyter-widgets/controls",
      "model_module_version": "1.5.0",
      "model_name": "ButtonModel",
      "state": {
       "description": "349",
       "layout": "IPY_MODEL_959046a4dcef42b58bbf3f9082dd5811",
       "style": "IPY_MODEL_a393592e57404ca0898bdbf9dbe83987"
      }
     },
     "e5c37ccf521e4f268342e0608dab0071": {
      "model_module": "@jupyter-widgets/controls",
      "model_module_version": "1.5.0",
      "model_name": "ButtonModel",
      "state": {
       "description": "D#",
       "layout": "IPY_MODEL_9c3d99e658354a67968ab6adb6e1e835",
       "style": "IPY_MODEL_931c886b7b244fcd80a19f91a3b7573e"
      }
     },
     "e5d0a4efb19c4ffc95b03ae363c51bc0": {
      "model_module": "@jupyter-widgets/controls",
      "model_module_version": "1.5.0",
      "model_name": "ButtonModel",
      "state": {
       "description": "64",
       "layout": "IPY_MODEL_f76697facfad4a86a4e1a527bc08d5ec",
       "style": "IPY_MODEL_1a3863200f7e4a218946d39ba6bafb79"
      }
     },
     "e65f89562ec64defbea14aedb6129648": {
      "model_module": "@jupyter-widgets/controls",
      "model_module_version": "1.5.0",
      "model_name": "ButtonModel",
      "state": {
       "description": "C",
       "layout": "IPY_MODEL_4e742685616442d9a8c74b95c8291289",
       "style": "IPY_MODEL_ccdf7192c1184a7e82f35d1664708a45"
      }
     },
     "e6aa17d5c0a245a4a81052f1c31a6bd9": {
      "model_module": "@jupyter-widgets/base",
      "model_module_version": "1.2.0",
      "model_name": "LayoutModel",
      "state": {}
     },
     "e6de056245674ba3be79fc39da6917e5": {
      "model_module": "@jupyter-widgets/controls",
      "model_module_version": "1.5.0",
      "model_name": "ButtonStyleModel",
      "state": {
       "button_color": "#BBBBBB",
       "font_weight": "bold"
      }
     },
     "e6fbb331619b46a8bfc2a343db62d00d": {
      "model_module": "@jupyter-widgets/base",
      "model_module_version": "1.2.0",
      "model_name": "LayoutModel",
      "state": {
       "width": "100px"
      }
     },
     "e7693117693d41caae754d9beeaa2899": {
      "model_module": "@jupyter-widgets/controls",
      "model_module_version": "1.5.0",
      "model_name": "ButtonModel",
      "state": {
       "description": "69",
       "layout": "IPY_MODEL_18482c16c6f847d3a4fd0b44e6d652c5",
       "style": "IPY_MODEL_e345e52505f1499d981179352f026102"
      }
     },
     "e79a7afbb2c4435280cacb188cec9e4f": {
      "model_module": "@jupyter-widgets/controls",
      "model_module_version": "1.5.0",
      "model_name": "ButtonStyleModel",
      "state": {}
     },
     "e7bb116bcd894f39ab014c0807721ae6": {
      "model_module": "@jupyter-widgets/controls",
      "model_module_version": "1.5.0",
      "model_name": "HBoxModel",
      "state": {
       "children": [
        "IPY_MODEL_e3ae1e2463ae4113bb0bee15971e787d",
        "IPY_MODEL_99d0d58c012644199aece891052c0133",
        "IPY_MODEL_d7ead885b2384272ad4d503f20803e01",
        "IPY_MODEL_8f1b08a4120c49b39758f4bc8fb5b653",
        "IPY_MODEL_4f854f8f7b43490aa63501898401ade3",
        "IPY_MODEL_e9e5a64d66174181a14f4a1c476c47d9",
        "IPY_MODEL_365d2f9df6e44ae3a0a33d0d35c757d9",
        "IPY_MODEL_6e209ee46237483f9243536b0d709318",
        "IPY_MODEL_5527a45043b14e61aaa9859e03309a8c",
        "IPY_MODEL_0db8744a21ab409a89ba28c9769e5885",
        "IPY_MODEL_8450e32f797149f6828d630b7d4e3c63",
        "IPY_MODEL_0a794e151296481588ee096fda5ef9a9",
        "IPY_MODEL_f2582b7df2ce45618b99465bef981ee2",
        "IPY_MODEL_ae7bd915d12d471aac7f384dc0ce191e"
       ],
       "layout": "IPY_MODEL_86fd74ae852b41248e648f3653ac5928"
      }
     },
     "e8211050b1424ef79d26cdc72db6730a": {
      "model_module": "@jupyter-widgets/controls",
      "model_module_version": "1.5.0",
      "model_name": "ButtonStyleModel",
      "state": {}
     },
     "e827f2d3cbc44a9eb7879ad4fccdc46a": {
      "model_module": "@jupyter-widgets/controls",
      "model_module_version": "1.5.0",
      "model_name": "ButtonModel",
      "state": {
       "description": "67",
       "layout": "IPY_MODEL_16fc540c099f4877afd0c42bb6456d3d",
       "style": "IPY_MODEL_2007f13403a041bdb97396d9e341e46d"
      }
     },
     "e83503b1a3b4446fa05a779de99ee47f": {
      "model_module": "@jupyter-widgets/controls",
      "model_module_version": "1.5.0",
      "model_name": "ButtonModel",
      "state": {
       "description": "466",
       "layout": "IPY_MODEL_d3b4a8b1eb4c4c88819d93fb337337c6",
       "style": "IPY_MODEL_a96326e9a5e04cf2998fccacbbeb7f13"
      }
     },
     "e9574d50b1814332ae760040f1145256": {
      "model_module": "@jupyter-widgets/controls",
      "model_module_version": "1.5.0",
      "model_name": "ButtonStyleModel",
      "state": {}
     },
     "e95f203c841a44fe9c2ced3aff5fcbd2": {
      "model_module": "@jupyter-widgets/controls",
      "model_module_version": "1.5.0",
      "model_name": "ButtonStyleModel",
      "state": {
       "button_color": "white",
       "font_weight": "bold"
      }
     },
     "e95f82d844f5409c9333f5b6348955b2": {
      "model_module": "@jupyter-widgets/controls",
      "model_module_version": "1.5.0",
      "model_name": "ButtonStyleModel",
      "state": {
       "button_color": "#BBBBBB",
       "font_weight": "bold"
      }
     },
     "e9e5a64d66174181a14f4a1c476c47d9": {
      "model_module": "@jupyter-widgets/controls",
      "model_module_version": "1.5.0",
      "model_name": "ButtonModel",
      "state": {
       "description": "F",
       "layout": "IPY_MODEL_1f73d6ed87f14cdba71fd37d0a99871a",
       "style": "IPY_MODEL_b2a4ea9224bd409ea7bebd522d6d2e48"
      }
     },
     "ea25904332ae40c0b027894427c95c48": {
      "model_module": "@jupyter-widgets/controls",
      "model_module_version": "1.5.0",
      "model_name": "ButtonModel",
      "state": {
       "description": "392",
       "layout": "IPY_MODEL_39d952eaf546482a8abcb6a21092c223",
       "style": "IPY_MODEL_cb6664d897c44cc98eca0ad05f588c7a"
      }
     },
     "ea2a1faf957346739a243aa33cd2075c": {
      "model_module": "@jupyter-widgets/controls",
      "model_module_version": "1.5.0",
      "model_name": "ButtonModel",
      "state": {
       "description": "E",
       "layout": "IPY_MODEL_da2b95c2564e4a9cacc48f3f32033574",
       "style": "IPY_MODEL_9df884be15f34fb19c787bf561e70596"
      }
     },
     "eaa3b09dfc944cfe859971652ffe7b8d": {
      "model_module": "@jupyter-widgets/controls",
      "model_module_version": "1.5.0",
      "model_name": "ButtonModel",
      "state": {
       "description": "F",
       "layout": "IPY_MODEL_da2b95c2564e4a9cacc48f3f32033574",
       "style": "IPY_MODEL_d75f3b1e62de496f8460e0d9b5ed020a"
      }
     },
     "ead4433c9f0547a7a22f70bf23eb765b": {
      "model_module": "@jupyter-widgets/controls",
      "model_module_version": "1.5.0",
      "model_name": "ButtonModel",
      "state": {
       "description": "A#",
       "layout": "IPY_MODEL_4e742685616442d9a8c74b95c8291289",
       "style": "IPY_MODEL_17e08e8e459547fab58cc4e0481d33ca"
      }
     },
     "eb4b381e13b4489bbaeafe54898bc446": {
      "model_module": "@jupyter-widgets/controls",
      "model_module_version": "1.5.0",
      "model_name": "ButtonModel",
      "state": {
       "description": "440",
       "layout": "IPY_MODEL_18482c16c6f847d3a4fd0b44e6d652c5",
       "style": "IPY_MODEL_a832ce0e9a794f15905721c7f049e444"
      }
     },
     "eb931846d8c94e198cdf932d0d0c27de": {
      "model_module": "@jupyter-widgets/controls",
      "model_module_version": "1.5.0",
      "model_name": "ButtonModel",
      "state": {
       "description": "494",
       "layout": "IPY_MODEL_f76697facfad4a86a4e1a527bc08d5ec",
       "style": "IPY_MODEL_903944dc9a1c4c53bf94944b5364ba03"
      }
     },
     "ebc89730092944d09accba72578379bb": {
      "model_module": "@jupyter-widgets/controls",
      "model_module_version": "1.5.0",
      "model_name": "ButtonModel",
      "state": {
       "description": "349",
       "layout": "IPY_MODEL_39d952eaf546482a8abcb6a21092c223",
       "style": "IPY_MODEL_0fd06416f17f4f3294c26e50b79af0a2"
      }
     },
     "ebf3a7063cb948caaa652f7458ae3eb4": {
      "model_module": "@jupyter-widgets/controls",
      "model_module_version": "1.5.0",
      "model_name": "ButtonStyleModel",
      "state": {}
     },
     "ec048ec7ada94d0a88b51a05f172b383": {
      "model_module": "@jupyter-widgets/controls",
      "model_module_version": "1.5.0",
      "model_name": "ButtonStyleModel",
      "state": {
       "button_color": "#BBBBBB",
       "font_weight": "bold"
      }
     },
     "ec482472b1c849d8bb4152f8a42b396f": {
      "model_module": "@jupyter-widgets/controls",
      "model_module_version": "1.5.0",
      "model_name": "ButtonStyleModel",
      "state": {
       "button_color": "white",
       "font_weight": "bold"
      }
     },
     "ec92aa182d454710acdd19858188fe08": {
      "model_module": "@jupyter-widgets/base",
      "model_module_version": "1.2.0",
      "model_name": "LayoutModel",
      "state": {}
     },
     "ed1eca9cbc02408e9d4e0eb78e125932": {
      "model_module": "@jupyter-widgets/base",
      "model_module_version": "1.2.0",
      "model_name": "LayoutModel",
      "state": {
       "width": "100px"
      }
     },
     "ed26b1a627a043028642895af971ef77": {
      "model_module": "@jupyter-widgets/base",
      "model_module_version": "1.2.0",
      "model_name": "LayoutModel",
      "state": {}
     },
     "ed2e9b41e8e443a789f8238cd4b57a35": {
      "model_module": "@jupyter-widgets/base",
      "model_module_version": "1.2.0",
      "model_name": "LayoutModel",
      "state": {}
     },
     "edde9a63db7e46a2b06decb37776c742": {
      "model_module": "@jupyter-widgets/controls",
      "model_module_version": "1.5.0",
      "model_name": "ButtonStyleModel",
      "state": {}
     },
     "edf071ae99f84ada929f6ad9ea1c0a83": {
      "model_module": "@jupyter-widgets/controls",
      "model_module_version": "1.5.0",
      "model_name": "ButtonStyleModel",
      "state": {}
     },
     "ee018e7320a6411cbb188366f2954cda": {
      "model_module": "@jupyter-widgets/controls",
      "model_module_version": "1.5.0",
      "model_name": "ButtonStyleModel",
      "state": {}
     },
     "ee0c0f9ac26a49c78fca44e23e935195": {
      "model_module": "@jupyter-widgets/controls",
      "model_module_version": "1.5.0",
      "model_name": "ButtonModel",
      "state": {
       "description": "494",
       "layout": "IPY_MODEL_35caf533714b49bfbbd81b1717789ca5",
       "style": "IPY_MODEL_7c2354e429d04d0186be53ac1a0a71b2"
      }
     },
     "eea9160648af4ea4a1dcfceb7046b606": {
      "model_module": "@jupyter-widgets/controls",
      "model_module_version": "1.5.0",
      "model_name": "ButtonModel",
      "state": {
       "description": "330",
       "layout": "IPY_MODEL_f76697facfad4a86a4e1a527bc08d5ec",
       "style": "IPY_MODEL_4c2c65a3c2d7438b940ee7044550d36f"
      }
     },
     "ef51709b4ea74a38b3f0bec6bc1bad90": {
      "model_module": "@jupyter-widgets/controls",
      "model_module_version": "1.5.0",
      "model_name": "ButtonStyleModel",
      "state": {}
     },
     "ef685cb181b142a8b983b913babf0898": {
      "model_module": "@jupyter-widgets/controls",
      "model_module_version": "1.5.0",
      "model_name": "ButtonStyleModel",
      "state": {}
     },
     "f053054edc954b2c9b3ed69dc6ac18c7": {
      "model_module": "@jupyter-widgets/controls",
      "model_module_version": "1.5.0",
      "model_name": "ButtonModel",
      "state": {
       "description": "440",
       "layout": "IPY_MODEL_9d557a9525884cd9a0c6a0fd5123b9f8",
       "style": "IPY_MODEL_3d81653f78cb45b39b9656117ec19ead"
      }
     },
     "f06e87926a5042a0abf79e2b79941780": {
      "model_module": "@jupyter-widgets/controls",
      "model_module_version": "1.5.0",
      "model_name": "ButtonStyleModel",
      "state": {
       "button_color": "white",
       "font_weight": "bold"
      }
     },
     "f0dc929780d34fd6a0b6e86c79619d7f": {
      "model_module": "@jupyter-widgets/controls",
      "model_module_version": "1.5.0",
      "model_name": "ButtonStyleModel",
      "state": {}
     },
     "f158dd24c0dc41fd9faea64633612b07": {
      "model_module": "@jupyter-widgets/controls",
      "model_module_version": "1.5.0",
      "model_name": "ButtonModel",
      "state": {
       "description": "Frequency",
       "layout": "IPY_MODEL_b2ca58e6d94948b78b2e122123d2e4c0",
       "style": "IPY_MODEL_2e9865dc68b8473ca25f696f7d0bacf5"
      }
     },
     "f1bcb67e22bb467ab2ad4df804f797cc": {
      "model_module": "@jupyter-widgets/controls",
      "model_module_version": "1.5.0",
      "model_name": "ButtonStyleModel",
      "state": {
       "button_color": "white",
       "font_weight": "bold"
      }
     },
     "f1bd36bb9c5f46eba45ba9c1739afc87": {
      "model_module": "@jupyter-widgets/controls",
      "model_module_version": "1.5.0",
      "model_name": "ButtonModel",
      "state": {
       "description": "F#",
       "layout": "IPY_MODEL_972469c993c048cdaa792f8d01c25ca5",
       "style": "IPY_MODEL_71d50813e3b44823a5d037bce87d6b6f"
      }
     },
     "f1f1c4ae9ed345a7ac0c5e0b2ae83eba": {
      "model_module": "@jupyter-widgets/controls",
      "model_module_version": "1.5.0",
      "model_name": "HBoxModel",
      "state": {
       "children": [
        "IPY_MODEL_8a79a523bde6413c9797244aba782939",
        "IPY_MODEL_83044886259c439c95ca58708c17340c",
        "IPY_MODEL_c7dc88f3dfbc48aa8567f8f5e857cdb5",
        "IPY_MODEL_720cb4fb501d423cb757428680308480",
        "IPY_MODEL_eea9160648af4ea4a1dcfceb7046b606",
        "IPY_MODEL_c091ed1e1d6e4f459a7e79e004024716",
        "IPY_MODEL_2690d9eef5a74a789694c8cfd69c94bc",
        "IPY_MODEL_12e933e24d964a47b035f1882cdf1c59",
        "IPY_MODEL_1e58a328edf74a829eb6fd213cb9c59f",
        "IPY_MODEL_0f75b8c655ec4d2f94e0c081eb370c04",
        "IPY_MODEL_be8a536780e04b2fa90c6c94e65c749e",
        "IPY_MODEL_eb931846d8c94e198cdf932d0d0c27de",
        "IPY_MODEL_611b393fcec4409bb4114e524d72328a",
        "IPY_MODEL_1cb1fbd86679456299c6066b2bf31d18"
       ],
       "layout": "IPY_MODEL_81ec16c40bbf431f8c4aaa7ea3dfc40f"
      }
     },
     "f2142f5501654929a126862a6b702ca5": {
      "model_module": "@jupyter-widgets/controls",
      "model_module_version": "1.5.0",
      "model_name": "ButtonStyleModel",
      "state": {}
     },
     "f21cd284ac4b4dd4aa8b2f0a0e20169c": {
      "model_module": "@jupyter-widgets/base",
      "model_module_version": "1.2.0",
      "model_name": "LayoutModel",
      "state": {}
     },
     "f2582b7df2ce45618b99465bef981ee2": {
      "model_module": "@jupyter-widgets/controls",
      "model_module_version": "1.5.0",
      "model_name": "ButtonModel",
      "state": {
       "description": "C",
       "layout": "IPY_MODEL_1f73d6ed87f14cdba71fd37d0a99871a",
       "style": "IPY_MODEL_4a01cf59d24b44fc952c91226cae9566"
      }
     },
     "f25c99a619b4483a907fc1ec5f771b87": {
      "model_module": "@jupyter-widgets/controls",
      "model_module_version": "1.5.0",
      "model_name": "ButtonModel",
      "state": {
       "description": "MIDI",
       "layout": "IPY_MODEL_acc90a0bcb224f61aa8dd04e9111f2fc",
       "style": "IPY_MODEL_97513644eebc466ca563822f5f6ae46f"
      }
     },
     "f28bc1439b924460b99fb6d8265d3e34": {
      "model_module": "@jupyter-widgets/controls",
      "model_module_version": "1.5.0",
      "model_name": "ButtonStyleModel",
      "state": {}
     },
     "f2a4a80139ea4db9a94f0a3b919a0464": {
      "model_module": "@jupyter-widgets/controls",
      "model_module_version": "1.5.0",
      "model_name": "ButtonStyleModel",
      "state": {}
     },
     "f2b64fb47dcf48d0928aa6bf1a149b70": {
      "model_module": "@jupyter-widgets/controls",
      "model_module_version": "1.5.0",
      "model_name": "VBoxModel",
      "state": {
       "children": [
        "IPY_MODEL_2198ce6396884b238e768e8ea3d6c96c",
        "IPY_MODEL_8a9e7efedc2b48f68fb95eb4bb7de263",
        "IPY_MODEL_d0712a4e40f446e4857cd7d0478b8667",
        "IPY_MODEL_1dd3543bc8144e0c8a4e7904d6477cbb"
       ],
       "layout": "IPY_MODEL_322f9c3ea95948cab4a37836b820ccd7"
      }
     },
     "f2ebe69bb2a74b038f64152ef048321c": {
      "model_module": "@jupyter-widgets/controls",
      "model_module_version": "1.5.0",
      "model_name": "ButtonStyleModel",
      "state": {}
     },
     "f359510bd33f4fe3a987cebdb0581bc4": {
      "model_module": "@jupyter-widgets/controls",
      "model_module_version": "1.5.0",
      "model_name": "ButtonStyleModel",
      "state": {
       "button_color": "white",
       "font_weight": "bold"
      }
     },
     "f3b4fa1a3b864ac58dbb57b8099a0f60": {
      "model_module": "@jupyter-widgets/controls",
      "model_module_version": "1.5.0",
      "model_name": "ButtonModel",
      "state": {
       "description": "64",
       "layout": "IPY_MODEL_959046a4dcef42b58bbf3f9082dd5811",
       "style": "IPY_MODEL_516a216834394c0a8ea64f346cacd3a7"
      }
     },
     "f3bc8bc159e6424ca9b662d23284f4b8": {
      "model_module": "@jupyter-widgets/base",
      "model_module_version": "1.2.0",
      "model_name": "LayoutModel",
      "state": {}
     },
     "f3e8f801f92349daadb6d2dd4a362384": {
      "model_module": "@jupyter-widgets/controls",
      "model_module_version": "1.5.0",
      "model_name": "ButtonModel",
      "state": {
       "description": "G#",
       "layout": "IPY_MODEL_0ce70a23b86147e598ab80566c43fba2",
       "style": "IPY_MODEL_624e8b65cad24d94b24585af089b2372"
      }
     },
     "f41d27052cde4c819064bfd595a323e7": {
      "model_module": "@jupyter-widgets/controls",
      "model_module_version": "1.5.0",
      "model_name": "ButtonModel",
      "state": {
       "description": "C#",
       "layout": "IPY_MODEL_9c3d99e658354a67968ab6adb6e1e835",
       "style": "IPY_MODEL_d1cbd27549e04c7fb3080d44b4563c52"
      }
     },
     "f4396def8a2148789b29607a8c6ae834": {
      "model_module": "@jupyter-widgets/controls",
      "model_module_version": "1.5.0",
      "model_name": "ButtonStyleModel",
      "state": {}
     },
     "f46e0f3cfbc949d3b52b58b4687901a8": {
      "model_module": "@jupyter-widgets/controls",
      "model_module_version": "1.5.0",
      "model_name": "ButtonModel",
      "state": {
       "description": "349",
       "layout": "IPY_MODEL_18482c16c6f847d3a4fd0b44e6d652c5",
       "style": "IPY_MODEL_e250ccfa0c2244d4b1b71942bd10af55"
      }
     },
     "f4a972cd733c41faa63b9d356ae2bf10": {
      "model_module": "@jupyter-widgets/controls",
      "model_module_version": "1.5.0",
      "model_name": "ButtonStyleModel",
      "state": {
       "button_color": "white",
       "font_weight": "bold"
      }
     },
     "f4ea96b3ebc24545bc2811bab75dad0c": {
      "model_module": "@jupyter-widgets/controls",
      "model_module_version": "1.5.0",
      "model_name": "VBoxModel",
      "state": {
       "children": [
        "IPY_MODEL_2ed4eccdc5fe4f9da8e61b96a5a0951f",
        "IPY_MODEL_f1f1c4ae9ed345a7ac0c5e0b2ae83eba",
        "IPY_MODEL_e7bb116bcd894f39ab014c0807721ae6",
        "IPY_MODEL_232d40f023004254a9e86cdf38db32d9"
       ],
       "layout": "IPY_MODEL_fdf9e24243f2443190bdc0e933d3938d"
      }
     },
     "f4fff5aea77b4a7cab8102a945ca85e2": {
      "model_module": "@jupyter-widgets/controls",
      "model_module_version": "1.5.0",
      "model_name": "ButtonStyleModel",
      "state": {}
     },
     "f56049bc78c242f0abdaf0c486c18aa1": {
      "model_module": "@jupyter-widgets/base",
      "model_module_version": "1.2.0",
      "model_name": "LayoutModel",
      "state": {}
     },
     "f5f5911113564072bc827d9c16d7be8c": {
      "model_module": "@jupyter-widgets/controls",
      "model_module_version": "1.5.0",
      "model_name": "ButtonStyleModel",
      "state": {
       "button_color": "#BBBBBB",
       "font_weight": "bold"
      }
     },
     "f636f0c3f22a4bd589f6e908844f2f32": {
      "model_module": "@jupyter-widgets/controls",
      "model_module_version": "1.5.0",
      "model_name": "ButtonStyleModel",
      "state": {
       "button_color": "#EEFFDD"
      }
     },
     "f66b829fc322459693a5a5f6b8aaa06c": {
      "model_module": "@jupyter-widgets/controls",
      "model_module_version": "1.5.0",
      "model_name": "ButtonModel",
      "state": {
       "description": "494",
       "layout": "IPY_MODEL_39d952eaf546482a8abcb6a21092c223",
       "style": "IPY_MODEL_1ced46d5f8054cfa8b56b2588cc3088c"
      }
     },
     "f67adeadfa0d464bb484198858667fec": {
      "model_module": "@jupyter-widgets/controls",
      "model_module_version": "1.5.0",
      "model_name": "ButtonModel",
      "state": {
       "description": "D",
       "layout": "IPY_MODEL_d37f618c4d194ae5b7e8455e28e44b63",
       "style": "IPY_MODEL_805ad423e15b471eb7587089e2cdb5fd"
      }
     },
     "f70bac3462f348f99f2636840b601764": {
      "model_module": "@jupyter-widgets/controls",
      "model_module_version": "1.5.0",
      "model_name": "ButtonModel",
      "state": {
       "description": "69",
       "layout": "IPY_MODEL_f76697facfad4a86a4e1a527bc08d5ec",
       "style": "IPY_MODEL_2dad99c81dca41d4ab0d8264729dcf4e"
      }
     },
     "f73e6717ed0e4cc684190a346fbf5bd8": {
      "model_module": "@jupyter-widgets/controls",
      "model_module_version": "1.5.0",
      "model_name": "ButtonStyleModel",
      "state": {}
     },
     "f75c151af1dd438bb38ff1911c26df92": {
      "model_module": "@jupyter-widgets/controls",
      "model_module_version": "1.5.0",
      "model_name": "ButtonModel",
      "state": {
       "description": "A",
       "layout": "IPY_MODEL_4e742685616442d9a8c74b95c8291289",
       "style": "IPY_MODEL_9ef6c2290c6f4aa3809be33027156582"
      }
     },
     "f76697facfad4a86a4e1a527bc08d5ec": {
      "model_module": "@jupyter-widgets/base",
      "model_module_version": "1.2.0",
      "model_name": "LayoutModel",
      "state": {
       "border": "0px solid blue",
       "height": "30px",
       "width": "42px"
      }
     },
     "f7af261d90d942aeb30f543ae4aecf25": {
      "model_module": "@jupyter-widgets/controls",
      "model_module_version": "1.5.0",
      "model_name": "ButtonModel",
      "state": {
       "description": "70",
       "layout": "IPY_MODEL_d3b4a8b1eb4c4c88819d93fb337337c6",
       "style": "IPY_MODEL_20a8b3580ae4447c8a679486b2646960"
      }
     },
     "f7d8e1896cfd4df79fcc231d5f10e0a8": {
      "model_module": "@jupyter-widgets/controls",
      "model_module_version": "1.5.0",
      "model_name": "ButtonStyleModel",
      "state": {
       "button_color": "#EEFFDD"
      }
     },
     "f8729dea8a034e1aa77ef5cfd596f36f": {
      "model_module": "@jupyter-widgets/controls",
      "model_module_version": "1.5.0",
      "model_name": "ButtonModel",
      "state": {
       "description": "60",
       "layout": "IPY_MODEL_16fc540c099f4877afd0c42bb6456d3d",
       "style": "IPY_MODEL_b894f3131a81405ebe9c638e3f1a65ae"
      }
     },
     "f8c47f8b22a64b3095823c2650bd42fb": {
      "model_module": "@jupyter-widgets/controls",
      "model_module_version": "1.5.0",
      "model_name": "ButtonStyleModel",
      "state": {}
     },
     "f938dc0a405c41b99834e38661528f40": {
      "model_module": "@jupyter-widgets/controls",
      "model_module_version": "1.5.0",
      "model_name": "ButtonModel",
      "state": {
       "description": "A",
       "layout": "IPY_MODEL_972469c993c048cdaa792f8d01c25ca5",
       "style": "IPY_MODEL_d19e1dee8b284c9fae58c4fefeb75eeb"
      }
     },
     "f9b61b0ceed94902951c5217b704d753": {
      "model_module": "@jupyter-widgets/controls",
      "model_module_version": "1.5.0",
      "model_name": "ButtonModel",
      "state": {
       "description": "466",
       "layout": "IPY_MODEL_16fc540c099f4877afd0c42bb6456d3d",
       "style": "IPY_MODEL_0ea97c4158064839957de1bf3faa16b9"
      }
     },
     "f9c05e642f97413dae63376825a5db74": {
      "model_module": "@jupyter-widgets/controls",
      "model_module_version": "1.5.0",
      "model_name": "ButtonStyleModel",
      "state": {
       "button_color": "white",
       "font_weight": "bold"
      }
     },
     "f9d1f7736b3d410b80f9827a3e938e67": {
      "model_module": "@jupyter-widgets/controls",
      "model_module_version": "1.5.0",
      "model_name": "ButtonStyleModel",
      "state": {}
     },
     "f9f60a73914a4a3c980d8fadd750f8d4": {
      "model_module": "@jupyter-widgets/controls",
      "model_module_version": "1.5.0",
      "model_name": "ButtonModel",
      "state": {
       "description": "69",
       "layout": "IPY_MODEL_959046a4dcef42b58bbf3f9082dd5811",
       "style": "IPY_MODEL_d2666db22ed440ea80b4a517d32f5c5b"
      }
     },
     "fa175541c295434382f36e91247627e6": {
      "model_module": "@jupyter-widgets/controls",
      "model_module_version": "1.5.0",
      "model_name": "ButtonStyleModel",
      "state": {}
     },
     "fb2b9dd52d724e10b36f7ba320547351": {
      "model_module": "@jupyter-widgets/controls",
      "model_module_version": "1.5.0",
      "model_name": "ButtonStyleModel",
      "state": {
       "button_color": "#BBBBBB",
       "font_weight": "bold"
      }
     },
     "fb7379008ad643dd9fe67ddaddbe5124": {
      "model_module": "@jupyter-widgets/base",
      "model_module_version": "1.2.0",
      "model_name": "LayoutModel",
      "state": {}
     },
     "fbc71ab871204526ab10f73cd999845e": {
      "model_module": "@jupyter-widgets/controls",
      "model_module_version": "1.5.0",
      "model_name": "ButtonStyleModel",
      "state": {
       "button_color": "#EEFFDD"
      }
     },
     "fc3d8b453e9149da8031d62476f8cf39": {
      "model_module": "@jupyter-widgets/controls",
      "model_module_version": "1.5.0",
      "model_name": "ButtonModel",
      "state": {
       "description": "MIDI",
       "layout": "IPY_MODEL_8add721fe267451fb41a6e776b805e54",
       "style": "IPY_MODEL_81aab573b0b64817a4c53e420d5294a0"
      }
     },
     "fcb814013bae478eac5dd058ff977a25": {
      "model_module": "@jupyter-widgets/controls",
      "model_module_version": "1.5.0",
      "model_name": "ButtonModel",
      "state": {
       "description": "61",
       "layout": "IPY_MODEL_d3b4a8b1eb4c4c88819d93fb337337c6",
       "style": "IPY_MODEL_aa84381fa7694249b5cad9dc7722febe"
      }
     },
     "fcf481118d8c46379390d8dd3194e801": {
      "model_module": "@jupyter-widgets/controls",
      "model_module_version": "1.5.0",
      "model_name": "ButtonStyleModel",
      "state": {}
     },
     "fdba76ab2cff4044b074a02a2d308661": {
      "model_module": "@jupyter-widgets/controls",
      "model_module_version": "1.5.0",
      "model_name": "ButtonStyleModel",
      "state": {}
     },
     "fdd2ae16bf2d4d45aa4a4b87e2324446": {
      "model_module": "@jupyter-widgets/controls",
      "model_module_version": "1.5.0",
      "model_name": "ButtonModel",
      "state": {
       "description": "71",
       "layout": "IPY_MODEL_35caf533714b49bfbbd81b1717789ca5",
       "style": "IPY_MODEL_dbd91a531d1b4b1486d3ee3d025eb462"
      }
     },
     "fded0c364f65424493fac05b852dc8b2": {
      "model_module": "@jupyter-widgets/controls",
      "model_module_version": "1.5.0",
      "model_name": "ButtonStyleModel",
      "state": {}
     },
     "fdf9e24243f2443190bdc0e933d3938d": {
      "model_module": "@jupyter-widgets/base",
      "model_module_version": "1.2.0",
      "model_name": "LayoutModel",
      "state": {}
     },
     "fe131b1268e24a0987bc7a4ef0311baf": {
      "model_module": "@jupyter-widgets/controls",
      "model_module_version": "1.5.0",
      "model_name": "ButtonModel",
      "state": {
       "description": "277",
       "layout": "IPY_MODEL_d3b4a8b1eb4c4c88819d93fb337337c6",
       "style": "IPY_MODEL_d8beaaaa7d3747eb93859c8f64967a70"
      }
     },
     "fe63cefcec7f410298a171257b45b5f8": {
      "model_module": "@jupyter-widgets/controls",
      "model_module_version": "1.5.0",
      "model_name": "ButtonStyleModel",
      "state": {}
     },
     "fea8b11f45dd4cd08b896dc72afb27e7": {
      "model_module": "@jupyter-widgets/controls",
      "model_module_version": "1.5.0",
      "model_name": "ButtonModel",
      "state": {
       "description": "B",
       "layout": "IPY_MODEL_972469c993c048cdaa792f8d01c25ca5",
       "style": "IPY_MODEL_be6a21438370476db1f047791ead519f"
      }
     },
     "fedee33804c54045bd0bcde85b453de2": {
      "model_module": "@jupyter-widgets/controls",
      "model_module_version": "1.5.0",
      "model_name": "ButtonModel",
      "state": {
       "description": "440",
       "layout": "IPY_MODEL_16fc540c099f4877afd0c42bb6456d3d",
       "style": "IPY_MODEL_f4396def8a2148789b29607a8c6ae834"
      }
     },
     "ff4f6992a88e440ab01ac286011e4665": {
      "model_module": "@jupyter-widgets/controls",
      "model_module_version": "1.5.0",
      "model_name": "ButtonModel",
      "state": {
       "description": "F#",
       "layout": "IPY_MODEL_0ce70a23b86147e598ab80566c43fba2",
       "style": "IPY_MODEL_57f37c23d6bf45429bb03ade7631e8dd"
      }
     }
    },
    "version_major": 2,
    "version_minor": 0
   }
  }
 },
 "nbformat": 4,
 "nbformat_minor": 4
}
