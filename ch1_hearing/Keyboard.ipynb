{
 "cells": [
  {
   "cell_type": "markdown",
   "metadata": {
    "slideshow": {
     "slide_type": "slide"
    }
   },
   "source": [
    "# Tones, Frequency and Pitch on a Synthesizer Keyboard\n",
    "\n",
    "In this notebook the concepts of **pitch** and **frequency** of a **note** are illustrated on a synthesizer keyboard.  \n",
    "For simplicity reasons this notebook synthesizes **pure tones**(sinewaves).    \n",
    "We also show the mapping to common **midi** notation.\n",
    "\n",
    "Natural sounds from musical instruments or the human voice are much more complex and often (quasi)-periodic signals.  For these sounds the pitch percept corresponds typically to the main periodicity or equivalently to the fundamental frequency.\n",
    "For more detailed elaboration look for demos on the subject of *Pitch & Timbre*.\n",
    "  \n",
    "By default we use simple 5msec ramping up and down of tones, to avoid some click like artificats at onset or offsets.\n",
    "In the last demo we use triangular waves to make the sound a bit more keyboard like\n",
    "You can vary You can play with a few other characteristic onsets of various instruments\n",
    "\n",
    "##### CREDITS\n",
    "This is an elaborated and corrected version from [ch11_image/07_synth.ipynb](https://github.com/ipython-books/cookbook-2nd-code/blob/master/chapter11_image/07_synth.ipynb)\n",
    "in the *IPython Cookbook, 2nd Edition, Copyright (c) 2017 Cyrille Rossant*\n"
   ]
  },
  {
   "cell_type": "code",
   "execution_count": 7,
   "metadata": {
    "slideshow": {
     "slide_type": "skip"
    }
   },
   "outputs": [],
   "source": [
    "import numpy as np\n",
    "import matplotlib.pyplot as plt\n",
    "from IPython.display import  Audio, display, clear_output\n",
    "from ipywidgets import widgets\n",
    "from functools import partial\n",
    "from scipy import signal\n",
    "import pandas as pd\n",
    "\n",
    "%matplotlib inline\n",
    "\n",
    "pd.set_option(\"precision\", 1)"
   ]
  },
  {
   "cell_type": "code",
   "execution_count": 43,
   "metadata": {
    "slideshow": {
     "slide_type": "slide"
    }
   },
   "outputs": [],
   "source": [
    "# utilities for generating a pure tone (and playing it)\n",
    "# using a sampling rate of 16kHz\n",
    "# and a duration of 0msec \n",
    "rate = 16000.\n",
    "duration = .25\n",
    "#t = np.linspace(\n",
    "#    0., duration, int(rate * duration))\n",
    "def synth(f, dur=duration,sample_rate = rate,sigtype='sin',envelope='smooth'):\n",
    "    #x = np.sin(f * 2. * np.pi * t)\n",
    "    #return(x)\n",
    "    t = np.linspace(0.0, dur, int(dur*sample_rate), endpoint=False)\n",
    "    tt = 2.*np.pi*t*f\n",
    "    if sigtype == 'sin':\n",
    "        y = np.sin(tt)\n",
    "    elif sigtype == 'square':\n",
    "        y = signal.square(tt)\n",
    "    elif sigtype == 'triangle':\n",
    "        y = signal.sawtooth(tt,width=.5)\n",
    "    if envelope is None: return(y)\n",
    "    else: return( adsr_envelope(y,instr=envelope,sample_rate=sample_rate))\n",
    "\n",
    "# apply ADSR style envelope (attack, decay, systain, release)\n",
    "def adsr_envelope(y,instr=None,sample_rate=8000,s=1., A=0.005, D=0., R=0.005):\n",
    "    adsr={\n",
    "        'smooth':{'s':1.,'A':.005,'D':0.,'R':.005},\n",
    "        'keyboard':{'s':1.,'A':.005,'D':0.,'R':.025},\n",
    "        'guitar':{'s':1.,'A':.015,'D':0.,'R':.015},\n",
    "        'trumpet':{'s':.32,'A':.030,'D':0.110,'R':.100},\n",
    "        'cello':{'s':.47,'A':.040,'D':0.290,'R':.200}\n",
    "    }\n",
    "    if instr is not None:\n",
    "        s=adsr[instr]['s']\n",
    "        A=adsr[instr]['A']\n",
    "        D=adsr[instr]['D']\n",
    "        R=adsr[instr]['R']\n",
    "    \n",
    "    y1= np.zeros(y.shape)\n",
    "    n4 = len(y)\n",
    "    t4 = n4/sample_rate\n",
    "    t1 = A\n",
    "    t2 = A+D\n",
    "    t3 = t4 - R\n",
    "    n1 = int(t1*sample_rate)\n",
    "    n2 = int(t2*sample_rate)\n",
    "    n3 = int(t3*sample_rate)\n",
    "    y1[0:n1] = y[0:n1]*(.5+.5*signal.sawtooth(2*np.pi*np.linspace(0,1,n1,endpoint=False)))\n",
    "    y1[n1:n2] = y[n1:n2]*(.5+.5*s-.5*(1-s)*signal.sawtooth(2*np.pi*np.linspace(0,1,n2-n1,endpoint=False)))\n",
    "    y1[n2:n3] = y[n2:n3]*s\n",
    "    y1[n3:n4] = y[n3:n4]*s* np.exp(-np.log(100)*np.linspace(0,1,n4-n3,endpoint=False))\n",
    "    return(y1)\n",
    "\n",
    "def play(x,AutoPlay=True,rate=rate):\n",
    "    display(Audio(x, rate=rate, autoplay=AutoPlay))"
   ]
  },
  {
   "cell_type": "markdown",
   "metadata": {},
   "source": [
    "### Musical Scales\n",
    "\n",
    "We are all familiar to some extent with the concept of musical notes making up melodies.   But where do these notes come from ?"
   ]
  },
  {
   "cell_type": "markdown",
   "metadata": {
    "slideshow": {
     "slide_type": "slide"
    }
   },
   "source": [
    "#### Synthesize a short sinewave of 440Hz\n",
    "This corresponds to A4 in music notation and in MIDI it has a value of 69."
   ]
  },
  {
   "cell_type": "code",
   "execution_count": 44,
   "metadata": {
    "podoc": {
     "output_text": "Sound widget"
    },
    "slideshow": {
     "slide_type": "subslide"
    }
   },
   "outputs": [
    {
     "data": {
      "text/html": [
       "\n",
       "                <audio  controls=\"controls\" >\n",
       "                    <source src=\"data:audio/wav;base64,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\" type=\"audio/wav\" />\n",
       "                    Your browser does not support the audio element.\n",
       "                </audio>\n",
       "              "
      ],
      "text/plain": [
       "<IPython.lib.display.Audio object>"
      ]
     },
     "metadata": {},
     "output_type": "display_data"
    }
   ],
   "source": [
    "#play(synth(440),AutoPlay=AutoPlay)\n",
    "display(Audio(synth(440),autoplay=False,rate=rate));"
   ]
  },
  {
   "cell_type": "markdown",
   "metadata": {
    "slideshow": {
     "slide_type": "slide"
    }
   },
   "source": [
    "#### Tones, pitch and musical scales\n",
    "Pitch is the more technical (and psychoacoustic) term for what you may know as how high a tone sounds like.   \n",
    "Expresssing the pitch may be done in a number of different ways.\n",
    "- Frequency (in Hz) ... the engineering way\n",
    "- Musical Notes  (C, A#, B*b*, ... ) ... the musicians way\n",
    "    + these letter notations denote the relative position within a single octave\n",
    "    + for 'absolute' tonal information we need to add a key, register or octave: A4 ~ 440Hz , A3 ~ 220Hz\n",
    "- MIDI numbers ... the synthesizer's way (a semitone scale)   \n",
    "\n",
    "Both the musical and MIDI notations used here are based on the Western music scale with 12 semitones in an octave\n",
    "\n",
    "A standard piano keyboard with 88 keys looks like this:\n",
    "\n",
    "<img src=\"88_key_piano.png\">\n",
    "\n",
    "The note marked in red is \"C4\", i.e. the C key in the 4th octave.   \n",
    "\n",
    "A mapping between note (in musical notation), frequency (in Hz) and midi number is shown for octave starting at C4. "
   ]
  },
  {
   "cell_type": "code",
   "execution_count": 10,
   "metadata": {
    "slideshow": {
     "slide_type": "subslide"
    }
   },
   "outputs": [
    {
     "data": {
      "text/html": [
       "<div>\n",
       "<style scoped>\n",
       "    .dataframe tbody tr th:only-of-type {\n",
       "        vertical-align: middle;\n",
       "    }\n",
       "\n",
       "    .dataframe tbody tr th {\n",
       "        vertical-align: top;\n",
       "    }\n",
       "\n",
       "    .dataframe thead th {\n",
       "        text-align: right;\n",
       "    }\n",
       "</style>\n",
       "<table border=\"1\" class=\"dataframe\">\n",
       "  <thead>\n",
       "    <tr style=\"text-align: right;\">\n",
       "      <th></th>\n",
       "      <th>Note</th>\n",
       "      <th>Freq(Hz)</th>\n",
       "      <th>MIDI</th>\n",
       "    </tr>\n",
       "  </thead>\n",
       "  <tbody>\n",
       "    <tr>\n",
       "      <th>0</th>\n",
       "      <td>C4</td>\n",
       "      <td>261.6</td>\n",
       "      <td>60</td>\n",
       "    </tr>\n",
       "    <tr>\n",
       "      <th>1</th>\n",
       "      <td>C#4</td>\n",
       "      <td>277.2</td>\n",
       "      <td>61</td>\n",
       "    </tr>\n",
       "    <tr>\n",
       "      <th>2</th>\n",
       "      <td>D4</td>\n",
       "      <td>293.7</td>\n",
       "      <td>62</td>\n",
       "    </tr>\n",
       "    <tr>\n",
       "      <th>3</th>\n",
       "      <td>D#4</td>\n",
       "      <td>311.1</td>\n",
       "      <td>63</td>\n",
       "    </tr>\n",
       "    <tr>\n",
       "      <th>4</th>\n",
       "      <td>E4</td>\n",
       "      <td>329.6</td>\n",
       "      <td>64</td>\n",
       "    </tr>\n",
       "    <tr>\n",
       "      <th>5</th>\n",
       "      <td>F4</td>\n",
       "      <td>349.2</td>\n",
       "      <td>65</td>\n",
       "    </tr>\n",
       "    <tr>\n",
       "      <th>6</th>\n",
       "      <td>F#4</td>\n",
       "      <td>370.0</td>\n",
       "      <td>66</td>\n",
       "    </tr>\n",
       "    <tr>\n",
       "      <th>7</th>\n",
       "      <td>G4</td>\n",
       "      <td>392.0</td>\n",
       "      <td>67</td>\n",
       "    </tr>\n",
       "    <tr>\n",
       "      <th>8</th>\n",
       "      <td>G#4</td>\n",
       "      <td>415.3</td>\n",
       "      <td>68</td>\n",
       "    </tr>\n",
       "    <tr>\n",
       "      <th>9</th>\n",
       "      <td>A4</td>\n",
       "      <td>440.0</td>\n",
       "      <td>69</td>\n",
       "    </tr>\n",
       "    <tr>\n",
       "      <th>10</th>\n",
       "      <td>A#4</td>\n",
       "      <td>466.2</td>\n",
       "      <td>70</td>\n",
       "    </tr>\n",
       "    <tr>\n",
       "      <th>11</th>\n",
       "      <td>B4</td>\n",
       "      <td>493.9</td>\n",
       "      <td>71</td>\n",
       "    </tr>\n",
       "    <tr>\n",
       "      <th>12</th>\n",
       "      <td>C5</td>\n",
       "      <td>523.3</td>\n",
       "      <td>72</td>\n",
       "    </tr>\n",
       "  </tbody>\n",
       "</table>\n",
       "</div>"
      ],
      "text/plain": [
       "   Note  Freq(Hz)  MIDI\n",
       "0    C4     261.6    60\n",
       "1   C#4     277.2    61\n",
       "2    D4     293.7    62\n",
       "3   D#4     311.1    63\n",
       "4    E4     329.6    64\n",
       "5    F4     349.2    65\n",
       "6   F#4     370.0    66\n",
       "7    G4     392.0    67\n",
       "8   G#4     415.3    68\n",
       "9    A4     440.0    69\n",
       "10  A#4     466.2    70\n",
       "11   B4     493.9    71\n",
       "12   C5     523.3    72"
      ]
     },
     "execution_count": 10,
     "metadata": {},
     "output_type": "execute_result"
    }
   ],
   "source": [
    "def m2f(m):\n",
    "    f = 2.**((m-69.)/12.0) * 440.\n",
    "    return(f)\n",
    "def f2m(f):\n",
    "    m=12.*log2(f/440.0)+69.\n",
    "    return(m)\n",
    "def note2f(note):\n",
    "    return(m2f(note2m(note)))\n",
    "def note2m(note):\n",
    "    semitones={'C':0,'D':2,'E':4,'F':5,'G':7,'A':9,'B':11}\n",
    "    register=note[-1]\n",
    "    m = 12 + int(register)*12 + semitones[note[0]]\n",
    "    if(len(note)>2): \n",
    "        if(note[1] =='#'): m+=1\n",
    "        elif(note[1] =='b'): m-=1\n",
    "    return(m)\n",
    "\n",
    "# Create a mapping table between different notations for notes in the middle segment\n",
    "notes = 'C4,C#4,D4,D#4,E4,F4,F#4,G4,G#4,A4,A#4,B4,C5'.split(',')\n",
    "midis = [note2m(key) for key in notes]\n",
    "freqs = [note2f(key) for key in notes]\n",
    "keyboard = list(zip(notes,freqs,midis))\n",
    "pd.DataFrame(keyboard,columns=['Note','Freq(Hz)','MIDI'])"
   ]
  },
  {
   "cell_type": "markdown",
   "metadata": {
    "slideshow": {
     "slide_type": "slide"
    }
   },
   "source": [
    "### Hit a note on a synthesizer keyboard to hear its pitch\n",
    "\n",
    "The same set of notes is not layed out on a keyboard that you can play.  Just hit one of the piano keys."
   ]
  },
  {
   "cell_type": "code",
   "execution_count": 12,
   "metadata": {
    "slideshow": {
     "slide_type": "fragment"
    }
   },
   "outputs": [
    {
     "name": "stdout",
     "output_type": "stream",
     "text": [
      "The top line shows the MIDI numbers\n",
      "The second line shows the frequencies of the tones in Hz\n",
      "The bottom section is a synthesizer keyboard with the notes on it\n",
      "Hit a note on the keyboard to hear it\n"
     ]
    },
    {
     "data": {
      "application/vnd.jupyter.widget-view+json": {
       "model_id": "dc01d987b59b4eab935947d61241d155",
       "version_major": 2,
       "version_minor": 0
      },
      "text/plain": [
       "VBox(children=(HBox(children=(Button(description='60', layout=Layout(border='0px solid blue', height='30px', w…"
      ]
     },
     "metadata": {},
     "output_type": "display_data"
    }
   ],
   "source": [
    "%precision 0\n",
    "layout = widgets.Layout(\n",
    "    width='42px', height='80px',\n",
    "    border='2px solid black')\n",
    "layout1 = widgets.Layout(\n",
    "    width='42px', height='30px',\n",
    "    border='0px solid blue')\n",
    "buttons = []\n",
    "midi_buttons = []\n",
    "freq_buttons = []\n",
    "output = widgets.Output()\n",
    "#output.layout.width='500px'\n",
    "for note,f,m  in keyboard:\n",
    "    button = widgets.Button(description=note[0:-1], layout=layout)\n",
    "    if(note[1]=='#'): button.style.button_color='#BBBBBB'\n",
    "    else: button.style.button_color='white'\n",
    "    button.style.font_weight='bold'\n",
    "    \n",
    "    midi_button = widgets.Button(description=str(m),layout=layout1)\n",
    "    freq_button = widgets.Button(description=\"%.0f\"%(f),layout=layout1)\n",
    "\n",
    "    def on_button_clicked(f, b):\n",
    "        # When a button is clicked, we play the sound\n",
    "        # in the Output widget.\n",
    "        with output:\n",
    "            #print(\"hallo\",f)\n",
    "            clear_output()\n",
    "            display(Audio(synth(f),autoplay=True,rate=rate))\n",
    "\n",
    "    button.on_click(partial(on_button_clicked,f))\n",
    "    buttons.append(button)\n",
    "    midi_buttons.append(midi_button)\n",
    "    freq_buttons.append(freq_button)\n",
    "\n",
    "    \n",
    "midi_buttons.append( widgets.Button( description='MIDI',\n",
    "                          layout=widgets.Layout(width='100px'),\n",
    "                          style=widgets.ButtonStyle(button_color='#EEFFDD')) )\n",
    "freq_buttons.append( widgets.Button( description='Frequency',\n",
    "                          layout=widgets.Layout(width='100px'),\n",
    "                          style=widgets.ButtonStyle(button_color='#EEFFDD')) )\n",
    "buttons.append( widgets.Button( description='Note',\n",
    "                          layout=widgets.Layout(width='100px',height='80px'),\n",
    "                          style=widgets.ButtonStyle(button_color='#EEFFDD')) )\n",
    "\n",
    "\n",
    "# We place all buttons horizontally.\n",
    "print(\"The top line shows the MIDI numbers\")\n",
    "print(\"The second line shows the frequencies of the tones in Hz\")\n",
    "print(\"The bottom section is a synthesizer keyboard with the notes on it\")\n",
    "print(\"Hit a note on the keyboard to hear it\")\n",
    "piano = widgets.VBox([widgets.HBox(midi_buttons),widgets.HBox(freq_buttons),widgets.HBox(buttons),output])\n",
    "piano"
   ]
  },
  {
   "cell_type": "markdown",
   "metadata": {
    "slideshow": {
     "slide_type": "slide"
    }
   },
   "source": [
    "### Finally play a simple melody\n",
    "Here we select triangular waves to make it a bit more music like.\n",
    "You can choose between 'sin', 'triangle' or 'square'"
   ]
  },
  {
   "cell_type": "code",
   "execution_count": 13,
   "metadata": {
    "slideshow": {
     "slide_type": "fragment"
    }
   },
   "outputs": [
    {
     "data": {
      "text/html": [
       "\n",
       "                <audio  controls=\"controls\" >\n",
       "                    <source src=\"data:audio/wav;base64,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\" type=\"audio/wav\" />\n",
       "                    Your browser does not support the audio element.\n",
       "                </audio>\n",
       "              "
      ],
      "text/plain": [
       "<IPython.lib.display.Audio object>"
      ]
     },
     "metadata": {},
     "output_type": "display_data"
    }
   ],
   "source": [
    "sigtype='triangle'\n",
    "melody = ['C4','D4','E4','C4','E4','F4','G4','A0','C4','D4','E4','C4','E4','F4','G4']\n",
    "y=[]\n",
    "for note in melody:\n",
    "      x = synth(note2f(note),sigtype=sigtype)\n",
    "      y = np.append(y,x,axis=0)\n",
    "display(Audio(y,rate=rate,autoplay=False))"
   ]
  }
 ],
 "metadata": {
  "kernelspec": {
   "display_name": "Python 3",
   "language": "python",
   "name": "python3"
  },
  "language_info": {
   "codemirror_mode": {
    "name": "ipython",
    "version": 3
   },
   "file_extension": ".py",
   "mimetype": "text/x-python",
   "name": "python",
   "nbconvert_exporter": "python",
   "pygments_lexer": "ipython3",
   "version": "3.7.8"
  },
  "widgets": {
   "application/vnd.jupyter.widget-state+json": {
    "state": {
     "00848b65d90d457a9ad2061d0d7202ad": {
      "model_module": "@jupyter-widgets/controls",
      "model_module_version": "1.5.0",
      "model_name": "ButtonModel",
      "state": {
       "description": "415",
       "layout": "IPY_MODEL_bb2fe2cbc9694d418d4cc921bc343fc7",
       "style": "IPY_MODEL_f856b57e0a8448d1ba056f39c4d323e0"
      }
     },
     "008b3534fb7e40a0ac78a0e58be77d07": {
      "model_module": "@jupyter-widgets/base",
      "model_module_version": "1.2.0",
      "model_name": "LayoutModel",
      "state": {}
     },
     "008fb6eb8a3348439ec5d184f1a287d9": {
      "model_module": "@jupyter-widgets/controls",
      "model_module_version": "1.5.0",
      "model_name": "ButtonStyleModel",
      "state": {}
     },
     "00cc3bb795c246a395f52696444f108d": {
      "model_module": "@jupyter-widgets/controls",
      "model_module_version": "1.5.0",
      "model_name": "ButtonModel",
      "state": {
       "description": "A#",
       "layout": "IPY_MODEL_29b8123ddefd4c53ad40fcbcb3a5394b",
       "style": "IPY_MODEL_32ed3905f09944bd9c7ce12c0ab1a23e"
      }
     },
     "013666fe087247b4bb053b0181f0e107": {
      "model_module": "@jupyter-widgets/controls",
      "model_module_version": "1.5.0",
      "model_name": "VBoxModel",
      "state": {
       "children": [
        "IPY_MODEL_38eb6b21c1154de79ad65432ad0ce496",
        "IPY_MODEL_bae44736fd9448f89a072ad4cc2765cd",
        "IPY_MODEL_6a238d44b5d54dffa6ab0996c786bc3a",
        "IPY_MODEL_f6acea8d415549a0b94b7d935f484c72"
       ],
       "layout": "IPY_MODEL_b58223a8428b42f6aaf1e0db564fd092"
      }
     },
     "0416232232e64228bd44c1e8df760ce5": {
      "model_module": "@jupyter-widgets/controls",
      "model_module_version": "1.5.0",
      "model_name": "ButtonStyleModel",
      "state": {}
     },
     "05af6ed8ac4141988ab3dbd650a59b98": {
      "model_module": "@jupyter-widgets/controls",
      "model_module_version": "1.5.0",
      "model_name": "ButtonStyleModel",
      "state": {}
     },
     "07152b92fcd84bc6b04bab49207a3a4e": {
      "model_module": "@jupyter-widgets/controls",
      "model_module_version": "1.5.0",
      "model_name": "ButtonStyleModel",
      "state": {}
     },
     "07c267feb2e442b9b7cf62ed9cbc1a33": {
      "model_module": "@jupyter-widgets/controls",
      "model_module_version": "1.5.0",
      "model_name": "ButtonModel",
      "state": {
       "description": "523",
       "layout": "IPY_MODEL_7d044cf3ea4243079449cbd978bb7199",
       "style": "IPY_MODEL_2200bb78403c45958fc7a78bba26ab50"
      }
     },
     "086c0b06492b44f3ba40ee1a965f3da3": {
      "model_module": "@jupyter-widgets/controls",
      "model_module_version": "1.5.0",
      "model_name": "ButtonModel",
      "state": {
       "description": "587",
       "layout": "IPY_MODEL_bb2fe2cbc9694d418d4cc921bc343fc7",
       "style": "IPY_MODEL_cfa6884184404b7e9b63178f05d5ef95"
      }
     },
     "0a66651d00b742028d774b00cfa01a33": {
      "model_module": "@jupyter-widgets/controls",
      "model_module_version": "1.5.0",
      "model_name": "ButtonModel",
      "state": {
       "description": "D#",
       "layout": "IPY_MODEL_9eae907ebbd84b6489cd2c09e27251d3",
       "style": "IPY_MODEL_9fdf2d371ca841f1bfc619d699f1159e"
      }
     },
     "0a752d83bcfa44a0b6b01c33610407b7": {
      "model_module": "@jupyter-widgets/controls",
      "model_module_version": "1.5.0",
      "model_name": "ButtonModel",
      "state": {
       "description": "415",
       "layout": "IPY_MODEL_538ffee193f0404eaa334a483e2abbbb",
       "style": "IPY_MODEL_05af6ed8ac4141988ab3dbd650a59b98"
      }
     },
     "0b1f60e249214d0d85b990c1bd03c111": {
      "model_module": "@jupyter-widgets/controls",
      "model_module_version": "1.5.0",
      "model_name": "ButtonModel",
      "state": {
       "description": "F",
       "layout": "IPY_MODEL_ab82f944a03c491591a434537bf043a0",
       "style": "IPY_MODEL_664b31e9efc44fce98be1b9849ee4630"
      }
     },
     "0b40487f16ce48aea26491b69f14c705": {
      "model_module": "@jupyter-widgets/controls",
      "model_module_version": "1.5.0",
      "model_name": "ButtonModel",
      "state": {
       "description": "E",
       "layout": "IPY_MODEL_ab82f944a03c491591a434537bf043a0",
       "style": "IPY_MODEL_f320c1dd90164130afd1a9bd294dc497"
      }
     },
     "0ba2d560cfbb4e30863b90d333ff4051": {
      "model_module": "@jupyter-widgets/controls",
      "model_module_version": "1.5.0",
      "model_name": "ButtonModel",
      "state": {
       "description": "294",
       "layout": "IPY_MODEL_bb2fe2cbc9694d418d4cc921bc343fc7",
       "style": "IPY_MODEL_e2a03c016fee48b69d01ea82725775e0"
      }
     },
     "0dfa28be5cfa45ee9e109306544db7aa": {
      "model_module": "@jupyter-widgets/controls",
      "model_module_version": "1.5.0",
      "model_name": "ButtonModel",
      "state": {
       "description": "B",
       "layout": "IPY_MODEL_29b8123ddefd4c53ad40fcbcb3a5394b",
       "style": "IPY_MODEL_62f75a5392894f4186be1ff6e7c56398"
      }
     },
     "0ea5df714fd14f158976092a75a59545": {
      "model_module": "@jupyter-widgets/controls",
      "model_module_version": "1.5.0",
      "model_name": "HBoxModel",
      "state": {
       "children": [
        "IPY_MODEL_65941a8b1f37442ca28cda1d7f9db81a",
        "IPY_MODEL_c22c601a72724966832e778ba1e6a9dc",
        "IPY_MODEL_cf5aa6e67c114ecaa44bf64eb65313f6",
        "IPY_MODEL_5fa7be0c41ca4c438b50c45314df96cf",
        "IPY_MODEL_49ba46ed7a59483b91d51e046e7f2622",
        "IPY_MODEL_d98a612662ee48ea82f087d29586199e",
        "IPY_MODEL_6eb39ea4eec845e29ae3a72b52f9b4f9",
        "IPY_MODEL_258dd1528d6a4d678da59b3511b12c53",
        "IPY_MODEL_0a752d83bcfa44a0b6b01c33610407b7",
        "IPY_MODEL_6756ebc4ad514d239732c3c148772420",
        "IPY_MODEL_949e02946a574dfea2323edfc4023048",
        "IPY_MODEL_d6f3a2789b164a20bdae3eb0e2aa9e3e",
        "IPY_MODEL_4db46862990641f1a4add02406a4099a",
        "IPY_MODEL_a2083806f97045b4bb967c2ea6a27450"
       ],
       "layout": "IPY_MODEL_eaa3fb31fa9349b3a63b5b82f683e9ec"
      }
     },
     "0ea7c7fd35c347ee98d62a95182acbae": {
      "model_module": "@jupyter-widgets/base",
      "model_module_version": "1.2.0",
      "model_name": "LayoutModel",
      "state": {
       "width": "100px"
      }
     },
     "0faa4699dc984e7b88b6947ef7ca045d": {
      "model_module": "@jupyter-widgets/controls",
      "model_module_version": "1.5.0",
      "model_name": "ButtonStyleModel",
      "state": {
       "button_color": "#EEFFDD"
      }
     },
     "100bae98fa644531852c87c9e0db499b": {
      "model_module": "@jupyter-widgets/controls",
      "model_module_version": "1.5.0",
      "model_name": "ButtonStyleModel",
      "state": {}
     },
     "113b23aa356b4899b676a77a46628349": {
      "model_module": "@jupyter-widgets/controls",
      "model_module_version": "1.5.0",
      "model_name": "ButtonStyleModel",
      "state": {}
     },
     "1177fb7c18464b458a376db83a84de27": {
      "model_module": "@jupyter-widgets/controls",
      "model_module_version": "1.5.0",
      "model_name": "ButtonStyleModel",
      "state": {}
     },
     "11a88df168b2411ea9e5f7f80899477b": {
      "model_module": "@jupyter-widgets/controls",
      "model_module_version": "1.5.0",
      "model_name": "ButtonStyleModel",
      "state": {}
     },
     "138f921c80b64648899faf24f6ebfdd7": {
      "model_module": "@jupyter-widgets/controls",
      "model_module_version": "1.5.0",
      "model_name": "ButtonStyleModel",
      "state": {}
     },
     "148b8d2d36bd41aaa086e336bca57f8f": {
      "model_module": "@jupyter-widgets/controls",
      "model_module_version": "1.5.0",
      "model_name": "ButtonStyleModel",
      "state": {
       "button_color": "#EEFFDD"
      }
     },
     "14a79d65d9f1482eb6613fbd25df19c1": {
      "model_module": "@jupyter-widgets/controls",
      "model_module_version": "1.5.0",
      "model_name": "ButtonModel",
      "state": {
       "description": "71",
       "layout": "IPY_MODEL_7d044cf3ea4243079449cbd978bb7199",
       "style": "IPY_MODEL_ad69bc16e1964dfbb3e5d170f291d282"
      }
     },
     "1551c9965a724bc3867f2fd56e3e03c0": {
      "model_module": "@jupyter-widgets/controls",
      "model_module_version": "1.5.0",
      "model_name": "ButtonStyleModel",
      "state": {}
     },
     "1574712335464c4a900b652b2256e596": {
      "model_module": "@jupyter-widgets/controls",
      "model_module_version": "1.5.0",
      "model_name": "ButtonStyleModel",
      "state": {}
     },
     "16bfdb8a344e4e678b027d6b5aad3960": {
      "model_module": "@jupyter-widgets/base",
      "model_module_version": "1.2.0",
      "model_name": "LayoutModel",
      "state": {}
     },
     "16cb1de0edc8422182957d0eb847e9ed": {
      "model_module": "@jupyter-widgets/base",
      "model_module_version": "1.2.0",
      "model_name": "LayoutModel",
      "state": {}
     },
     "1742b7f5f6c84d09837f018f7c018ea1": {
      "model_module": "@jupyter-widgets/controls",
      "model_module_version": "1.5.0",
      "model_name": "ButtonStyleModel",
      "state": {}
     },
     "17e1588b56214a1cb25bf8cb4503bdd7": {
      "model_module": "@jupyter-widgets/controls",
      "model_module_version": "1.5.0",
      "model_name": "ButtonModel",
      "state": {
       "description": "A",
       "layout": "IPY_MODEL_29b8123ddefd4c53ad40fcbcb3a5394b",
       "style": "IPY_MODEL_33b4f36b7c9642a2bd3a35fe6012c3b4"
      }
     },
     "187c49421ddd44c4959bf110dcc21f25": {
      "model_module": "@jupyter-widgets/controls",
      "model_module_version": "1.5.0",
      "model_name": "ButtonModel",
      "state": {
       "description": "C",
       "layout": "IPY_MODEL_9eae907ebbd84b6489cd2c09e27251d3",
       "style": "IPY_MODEL_4916fb6de97d451e936cea0b7af6820e"
      }
     },
     "1b750a7455034aa18537c7156c10f424": {
      "model_module": "@jupyter-widgets/controls",
      "model_module_version": "1.5.0",
      "model_name": "ButtonModel",
      "state": {
       "description": "A",
       "layout": "IPY_MODEL_ab82f944a03c491591a434537bf043a0",
       "style": "IPY_MODEL_fb9e4acc359642d18f34b6ba04ddacea"
      }
     },
     "1cfcd3af496d401b9b7f8d015b99e92a": {
      "model_module": "@jupyter-widgets/controls",
      "model_module_version": "1.5.0",
      "model_name": "ButtonModel",
      "state": {
       "description": "Note",
       "layout": "IPY_MODEL_7daf1b2d0eb240d6aa6ae6e3beb7f05c",
       "style": "IPY_MODEL_3ef668992ee148abbb91b0ce332648f1"
      }
     },
     "1f2c23fc54dc43d88ffb0404cfbdd483": {
      "model_module": "@jupyter-widgets/controls",
      "model_module_version": "1.5.0",
      "model_name": "ButtonStyleModel",
      "state": {}
     },
     "1f9360a171b445338a1c712b47bd39b4": {
      "model_module": "@jupyter-widgets/controls",
      "model_module_version": "1.5.0",
      "model_name": "ButtonModel",
      "state": {
       "description": "294",
       "layout": "IPY_MODEL_7d044cf3ea4243079449cbd978bb7199",
       "style": "IPY_MODEL_edf8cb8fa3734c1192abdbcb4147be69"
      }
     },
     "2200bb78403c45958fc7a78bba26ab50": {
      "model_module": "@jupyter-widgets/controls",
      "model_module_version": "1.5.0",
      "model_name": "ButtonStyleModel",
      "state": {}
     },
     "23420af682414be08c8708efb1dabce3": {
      "model_module": "@jupyter-widgets/controls",
      "model_module_version": "1.5.0",
      "model_name": "ButtonStyleModel",
      "state": {}
     },
     "23b9bc8b7b8448d3b69c75e10fa00910": {
      "model_module": "@jupyter-widgets/controls",
      "model_module_version": "1.5.0",
      "model_name": "ButtonStyleModel",
      "state": {
       "button_color": "#BBBBBB",
       "font_weight": "bold"
      }
     },
     "23ef2968f22a47cbaedac5167ede8936": {
      "model_module": "@jupyter-widgets/controls",
      "model_module_version": "1.5.0",
      "model_name": "ButtonStyleModel",
      "state": {
       "button_color": "#BBBBBB",
       "font_weight": "bold"
      }
     },
     "252bb555d28c46cfb962a3f0225f1cda": {
      "model_module": "@jupyter-widgets/controls",
      "model_module_version": "1.5.0",
      "model_name": "ButtonModel",
      "state": {
       "description": "F",
       "layout": "IPY_MODEL_9eae907ebbd84b6489cd2c09e27251d3",
       "style": "IPY_MODEL_a206c214acc04a6c90c120a1770b4027"
      }
     },
     "258dd1528d6a4d678da59b3511b12c53": {
      "model_module": "@jupyter-widgets/controls",
      "model_module_version": "1.5.0",
      "model_name": "ButtonModel",
      "state": {
       "description": "392",
       "layout": "IPY_MODEL_538ffee193f0404eaa334a483e2abbbb",
       "style": "IPY_MODEL_9f063576a834403ebf213e244a2d46f3"
      }
     },
     "26bb9d0cc8f24f11b4604ee66830b659": {
      "model_module": "@jupyter-widgets/controls",
      "model_module_version": "1.5.0",
      "model_name": "HBoxModel",
      "state": {
       "children": [
        "IPY_MODEL_9b8a4185fe0a49a2a2cd24829fab81ee",
        "IPY_MODEL_c7983591d642471bbfe0ff275e2bf22f",
        "IPY_MODEL_1f9360a171b445338a1c712b47bd39b4",
        "IPY_MODEL_c53204e5118d46e0981feb9448fbcfa2",
        "IPY_MODEL_4a7b7d64c96945c59e8d0937f0091c93",
        "IPY_MODEL_b8b6e35af31846009a62ccc6cf99ab91",
        "IPY_MODEL_c9067c571f754dd4adf31436d8542692",
        "IPY_MODEL_cd4a55b4fda246868a38dbf17c51a874",
        "IPY_MODEL_8556e49cccf64c6a9c70303a0c5270c0",
        "IPY_MODEL_f06ff1ebd81c40dcbaeae6c23a58a343",
        "IPY_MODEL_8cb47e00744a47a99d99ce61d7ed8bae",
        "IPY_MODEL_710fda65f27740b590136d0bf96789e8",
        "IPY_MODEL_07c267feb2e442b9b7cf62ed9cbc1a33",
        "IPY_MODEL_8dd1073957a047a18fb3de8a094b5157"
       ],
       "layout": "IPY_MODEL_9f481bf158c349a680c91ceb8bf8b500"
      }
     },
     "27ae670e37a94b0caf63bbf838ca22e9": {
      "model_module": "@jupyter-widgets/controls",
      "model_module_version": "1.5.0",
      "model_name": "ButtonStyleModel",
      "state": {}
     },
     "280f6498d12d41868b0ddf9077934ca0": {
      "model_module": "@jupyter-widgets/controls",
      "model_module_version": "1.5.0",
      "model_name": "ButtonModel",
      "state": {
       "description": "311",
       "layout": "IPY_MODEL_bb2fe2cbc9694d418d4cc921bc343fc7",
       "style": "IPY_MODEL_138f921c80b64648899faf24f6ebfdd7"
      }
     },
     "29b8123ddefd4c53ad40fcbcb3a5394b": {
      "model_module": "@jupyter-widgets/base",
      "model_module_version": "1.2.0",
      "model_name": "LayoutModel",
      "state": {
       "border": "2px solid black",
       "height": "80px",
       "width": "42px"
      }
     },
     "2bdee1cb5e694a37bad742805319ff6d": {
      "model_module": "@jupyter-widgets/controls",
      "model_module_version": "1.5.0",
      "model_name": "ButtonModel",
      "state": {
       "description": "MIDI",
       "layout": "IPY_MODEL_306d61c3c75b4368b1cc5dca47e298b5",
       "style": "IPY_MODEL_72d80ab976a645b0ad32c7e024988c3a"
      }
     },
     "2beb8ed1bf084338913a6bec8abc3149": {
      "model_module": "@jupyter-widgets/controls",
      "model_module_version": "1.5.0",
      "model_name": "ButtonStyleModel",
      "state": {}
     },
     "2c34f638e3a848f1bb07bbe969e914ac": {
      "model_module": "@jupyter-widgets/controls",
      "model_module_version": "1.5.0",
      "model_name": "ButtonModel",
      "state": {
       "description": "A#",
       "layout": "IPY_MODEL_9eae907ebbd84b6489cd2c09e27251d3",
       "style": "IPY_MODEL_23ef2968f22a47cbaedac5167ede8936"
      }
     },
     "2c38cdb3e8aa4b88a35e96cd26551e64": {
      "model_module": "@jupyter-widgets/controls",
      "model_module_version": "1.5.0",
      "model_name": "ButtonStyleModel",
      "state": {}
     },
     "2c737f9de4974ad182fada9e28183cdd": {
      "model_module": "@jupyter-widgets/controls",
      "model_module_version": "1.5.0",
      "model_name": "ButtonStyleModel",
      "state": {}
     },
     "2c86573ed92a45c9bfe9662aa332d530": {
      "model_module": "@jupyter-widgets/controls",
      "model_module_version": "1.5.0",
      "model_name": "ButtonStyleModel",
      "state": {
       "button_color": "white",
       "font_weight": "bold"
      }
     },
     "2f581121880c4585b70901fae54d4fef": {
      "model_module": "@jupyter-widgets/controls",
      "model_module_version": "1.5.0",
      "model_name": "ButtonModel",
      "state": {
       "description": "C",
       "layout": "IPY_MODEL_9eae907ebbd84b6489cd2c09e27251d3",
       "style": "IPY_MODEL_2c86573ed92a45c9bfe9662aa332d530"
      }
     },
     "3051fdd168894f618e335e56ae7ec38e": {
      "model_module": "@jupyter-widgets/controls",
      "model_module_version": "1.5.0",
      "model_name": "ButtonModel",
      "state": {
       "description": "63",
       "layout": "IPY_MODEL_538ffee193f0404eaa334a483e2abbbb",
       "style": "IPY_MODEL_d1df3f2263ec4d12b9965dd492a3abf6"
      }
     },
     "306d61c3c75b4368b1cc5dca47e298b5": {
      "model_module": "@jupyter-widgets/base",
      "model_module_version": "1.2.0",
      "model_name": "LayoutModel",
      "state": {
       "width": "100px"
      }
     },
     "317727a2398f40e6ad701d1930349ea8": {
      "model_module": "@jupyter-widgets/controls",
      "model_module_version": "1.5.0",
      "model_name": "ButtonModel",
      "state": {
       "description": "466",
       "layout": "IPY_MODEL_bb2fe2cbc9694d418d4cc921bc343fc7",
       "style": "IPY_MODEL_72b422524b234606aab1cf0af7349efc"
      }
     },
     "32ed3905f09944bd9c7ce12c0ab1a23e": {
      "model_module": "@jupyter-widgets/controls",
      "model_module_version": "1.5.0",
      "model_name": "ButtonStyleModel",
      "state": {
       "button_color": "#BBBBBB",
       "font_weight": "bold"
      }
     },
     "33b4f36b7c9642a2bd3a35fe6012c3b4": {
      "model_module": "@jupyter-widgets/controls",
      "model_module_version": "1.5.0",
      "model_name": "ButtonStyleModel",
      "state": {
       "button_color": "white",
       "font_weight": "bold"
      }
     },
     "34bdd152a42047999ef939cd1c80e9b1": {
      "model_module": "@jupyter-widgets/controls",
      "model_module_version": "1.5.0",
      "model_name": "ButtonStyleModel",
      "state": {
       "button_color": "#BBBBBB",
       "font_weight": "bold"
      }
     },
     "3625a6196fce401e8f86d065bec59dcf": {
      "model_module": "@jupyter-widgets/controls",
      "model_module_version": "1.5.0",
      "model_name": "ButtonModel",
      "state": {
       "description": "63",
       "layout": "IPY_MODEL_bb2fe2cbc9694d418d4cc921bc343fc7",
       "style": "IPY_MODEL_2beb8ed1bf084338913a6bec8abc3149"
      }
     },
     "36471b7ff121476fac088ee1286b1399": {
      "model_module": "@jupyter-widgets/controls",
      "model_module_version": "1.5.0",
      "model_name": "ButtonModel",
      "state": {
       "description": "72",
       "layout": "IPY_MODEL_bb2fe2cbc9694d418d4cc921bc343fc7",
       "style": "IPY_MODEL_99e173cbea0a44f78d6d3f3cec5efa5c"
      }
     },
     "37036112fae54b27b68321c1c3508821": {
      "model_module": "@jupyter-widgets/controls",
      "model_module_version": "1.5.0",
      "model_name": "ButtonStyleModel",
      "state": {
       "button_color": "white",
       "font_weight": "bold"
      }
     },
     "3765ba4ce1834206ac66942f8466b30f": {
      "model_module": "@jupyter-widgets/controls",
      "model_module_version": "1.5.0",
      "model_name": "ButtonStyleModel",
      "state": {}
     },
     "38822d7fa7264398869a7796dcc3cc93": {
      "model_module": "@jupyter-widgets/controls",
      "model_module_version": "1.5.0",
      "model_name": "ButtonStyleModel",
      "state": {}
     },
     "38eb6b21c1154de79ad65432ad0ce496": {
      "model_module": "@jupyter-widgets/controls",
      "model_module_version": "1.5.0",
      "model_name": "HBoxModel",
      "state": {
       "children": [
        "IPY_MODEL_ebfa6f88a1a94bfdb824687df669f4f5",
        "IPY_MODEL_4faccbf352fe4016803d9c768d2a13f3",
        "IPY_MODEL_a054d4d59e874788971406abe6257093",
        "IPY_MODEL_3625a6196fce401e8f86d065bec59dcf",
        "IPY_MODEL_e5662d5d318349b09ad99e8abbc9c532",
        "IPY_MODEL_5f3c428bfa5d42bc9dd525113d5c6ad4",
        "IPY_MODEL_e6d586680f9543208fc0cb1a30f22a36",
        "IPY_MODEL_ff8214748d8c4ea4b67a1b5612122793",
        "IPY_MODEL_67bcb9878ff24b3993f40c5eaa7be7cf",
        "IPY_MODEL_d1a3e75353ae49adb23fe6280d36b9f9",
        "IPY_MODEL_aea2fadd5ed34a28916463f2c14d396c",
        "IPY_MODEL_d94758d44c4c4a209ff6ce2d04e4d037",
        "IPY_MODEL_36471b7ff121476fac088ee1286b1399",
        "IPY_MODEL_7f89d7db0c82471a915839e63154f044",
        "IPY_MODEL_a9f77dc0a2fb4bae9fd7c330edd7f1fb",
        "IPY_MODEL_2bdee1cb5e694a37bad742805319ff6d"
       ],
       "layout": "IPY_MODEL_61911542dff2419caf455f37207829b0"
      }
     },
     "39ed36e03cf847cc90462fb6efef1f5b": {
      "model_module": "@jupyter-widgets/controls",
      "model_module_version": "1.5.0",
      "model_name": "ButtonModel",
      "state": {
       "description": "F#",
       "layout": "IPY_MODEL_ab82f944a03c491591a434537bf043a0",
       "style": "IPY_MODEL_e7ebecb825404b36870f5924e39cf394"
      }
     },
     "3a985127e77641ddb0fedb931d1a4719": {
      "model_module": "@jupyter-widgets/controls",
      "model_module_version": "1.5.0",
      "model_name": "ButtonStyleModel",
      "state": {}
     },
     "3aba197ccd604e368a4311ab6a722140": {
      "model_module": "@jupyter-widgets/controls",
      "model_module_version": "1.5.0",
      "model_name": "ButtonStyleModel",
      "state": {}
     },
     "3c2cb62296014bc7946e955221a5295b": {
      "model_module": "@jupyter-widgets/controls",
      "model_module_version": "1.5.0",
      "model_name": "ButtonModel",
      "state": {
       "description": "65",
       "layout": "IPY_MODEL_538ffee193f0404eaa334a483e2abbbb",
       "style": "IPY_MODEL_1f2c23fc54dc43d88ffb0404cfbdd483"
      }
     },
     "3ed5b364cdb7467892188062f82f6feb": {
      "model_module": "@jupyter-widgets/controls",
      "model_module_version": "1.5.0",
      "model_name": "ButtonStyleModel",
      "state": {
       "button_color": "#BBBBBB",
       "font_weight": "bold"
      }
     },
     "3ef668992ee148abbb91b0ce332648f1": {
      "model_module": "@jupyter-widgets/controls",
      "model_module_version": "1.5.0",
      "model_name": "ButtonStyleModel",
      "state": {
       "button_color": "#EEFFDD"
      }
     },
     "42814bb26f78453cb6ac2a09665d9cb8": {
      "model_module": "@jupyter-widgets/controls",
      "model_module_version": "1.5.0",
      "model_name": "ButtonModel",
      "state": {
       "description": "62",
       "layout": "IPY_MODEL_7d044cf3ea4243079449cbd978bb7199",
       "style": "IPY_MODEL_f4efb4891d3b43c98891c0a8aad66ad3"
      }
     },
     "45847606bde34c76a8dff243e6dcd4bf": {
      "model_module": "@jupyter-widgets/base",
      "model_module_version": "1.2.0",
      "model_name": "LayoutModel",
      "state": {}
     },
     "45d18f7b5054436689acff7453839372": {
      "model_module": "@jupyter-widgets/controls",
      "model_module_version": "1.5.0",
      "model_name": "ButtonStyleModel",
      "state": {}
     },
     "466b29029b024adc8c8d71502d2a93f4": {
      "model_module": "@jupyter-widgets/controls",
      "model_module_version": "1.5.0",
      "model_name": "ButtonModel",
      "state": {
       "description": "D#",
       "layout": "IPY_MODEL_ab82f944a03c491591a434537bf043a0",
       "style": "IPY_MODEL_c867fc2c9a9b4a1698791ea464277e86"
      }
     },
     "46a752c18ad74692a2b312df343f1235": {
      "model_module": "@jupyter-widgets/controls",
      "model_module_version": "1.5.0",
      "model_name": "ButtonStyleModel",
      "state": {}
     },
     "48e8db5ddfd94a8f8660518075cfe0e2": {
      "model_module": "@jupyter-widgets/controls",
      "model_module_version": "1.5.0",
      "model_name": "ButtonStyleModel",
      "state": {}
     },
     "4916fb6de97d451e936cea0b7af6820e": {
      "model_module": "@jupyter-widgets/controls",
      "model_module_version": "1.5.0",
      "model_name": "ButtonStyleModel",
      "state": {
       "button_color": "white",
       "font_weight": "bold"
      }
     },
     "492f830a92aa49a192cba816fed99cf3": {
      "model_module": "@jupyter-widgets/controls",
      "model_module_version": "1.5.0",
      "model_name": "ButtonModel",
      "state": {
       "description": "66",
       "layout": "IPY_MODEL_538ffee193f0404eaa334a483e2abbbb",
       "style": "IPY_MODEL_6ce71ff5123a45e4ae2f37b6ce8fe07d"
      }
     },
     "4958c3bdef2341a893c8d133aa4356bb": {
      "model_module": "@jupyter-widgets/controls",
      "model_module_version": "1.5.0",
      "model_name": "ButtonModel",
      "state": {
       "description": "262",
       "layout": "IPY_MODEL_bb2fe2cbc9694d418d4cc921bc343fc7",
       "style": "IPY_MODEL_8ffac38294714a638db56b8dec8d515a"
      }
     },
     "49ba46ed7a59483b91d51e046e7f2622": {
      "model_module": "@jupyter-widgets/controls",
      "model_module_version": "1.5.0",
      "model_name": "ButtonModel",
      "state": {
       "description": "330",
       "layout": "IPY_MODEL_538ffee193f0404eaa334a483e2abbbb",
       "style": "IPY_MODEL_791e156fbb9e48e29f46bfe5ce9fa1b7"
      }
     },
     "4a7b7d64c96945c59e8d0937f0091c93": {
      "model_module": "@jupyter-widgets/controls",
      "model_module_version": "1.5.0",
      "model_name": "ButtonModel",
      "state": {
       "description": "330",
       "layout": "IPY_MODEL_7d044cf3ea4243079449cbd978bb7199",
       "style": "IPY_MODEL_615e8743bbbd43d691ec194b9464e776"
      }
     },
     "4af904e7a4d04054b7cc634d789eed53": {
      "model_module": "@jupyter-widgets/controls",
      "model_module_version": "1.5.0",
      "model_name": "ButtonStyleModel",
      "state": {}
     },
     "4db46862990641f1a4add02406a4099a": {
      "model_module": "@jupyter-widgets/controls",
      "model_module_version": "1.5.0",
      "model_name": "ButtonModel",
      "state": {
       "description": "523",
       "layout": "IPY_MODEL_538ffee193f0404eaa334a483e2abbbb",
       "style": "IPY_MODEL_bdb3f3c3525c42488d35e351bcdc0ee6"
      }
     },
     "4dd2d3cece9b4af7b577f82bbfea818c": {
      "model_module": "@jupyter-widgets/controls",
      "model_module_version": "1.5.0",
      "model_name": "ButtonModel",
      "state": {
       "description": "65",
       "layout": "IPY_MODEL_7d044cf3ea4243079449cbd978bb7199",
       "style": "IPY_MODEL_1177fb7c18464b458a376db83a84de27"
      }
     },
     "4faccbf352fe4016803d9c768d2a13f3": {
      "model_module": "@jupyter-widgets/controls",
      "model_module_version": "1.5.0",
      "model_name": "ButtonModel",
      "state": {
       "description": "61",
       "layout": "IPY_MODEL_bb2fe2cbc9694d418d4cc921bc343fc7",
       "style": "IPY_MODEL_3a985127e77641ddb0fedb931d1a4719"
      }
     },
     "4fb32a4cdc6842f28cea1a207dd03ca8": {
      "model_module": "@jupyter-widgets/controls",
      "model_module_version": "1.5.0",
      "model_name": "ButtonModel",
      "state": {
       "description": "63",
       "layout": "IPY_MODEL_7d044cf3ea4243079449cbd978bb7199",
       "style": "IPY_MODEL_e1554d650f824227a6ae7a2c7f547ff3"
      }
     },
     "50a0d577376541a5a505fca0c06bd63c": {
      "model_module": "@jupyter-widgets/controls",
      "model_module_version": "1.5.0",
      "model_name": "ButtonStyleModel",
      "state": {}
     },
     "518c59f63a7a4d68bb6a304c5daeb21c": {
      "model_module": "@jupyter-widgets/controls",
      "model_module_version": "1.5.0",
      "model_name": "ButtonStyleModel",
      "state": {}
     },
     "52c922f134794ed69ac4c1a6151fe064": {
      "model_module": "@jupyter-widgets/controls",
      "model_module_version": "1.5.0",
      "model_name": "ButtonModel",
      "state": {
       "description": "370",
       "layout": "IPY_MODEL_bb2fe2cbc9694d418d4cc921bc343fc7",
       "style": "IPY_MODEL_9180bbdb53404259acab94fe248a47b7"
      }
     },
     "538ffee193f0404eaa334a483e2abbbb": {
      "model_module": "@jupyter-widgets/base",
      "model_module_version": "1.2.0",
      "model_name": "LayoutModel",
      "state": {
       "border": "0px solid blue",
       "height": "30px",
       "width": "42px"
      }
     },
     "53f71209dd004079899e52cf9b97c7e6": {
      "model_module": "@jupyter-widgets/controls",
      "model_module_version": "1.5.0",
      "model_name": "ButtonModel",
      "state": {
       "description": "C",
       "layout": "IPY_MODEL_ab82f944a03c491591a434537bf043a0",
       "style": "IPY_MODEL_beb0abde0d224667baf16da5813582a6"
      }
     },
     "5504d091f01b4a90b3c5ce2bdca36d7e": {
      "model_module": "@jupyter-widgets/controls",
      "model_module_version": "1.5.0",
      "model_name": "ButtonStyleModel",
      "state": {}
     },
     "55693a908c0c4bd5b6c6af62b168d78c": {
      "model_module": "@jupyter-widgets/controls",
      "model_module_version": "1.5.0",
      "model_name": "ButtonStyleModel",
      "state": {
       "button_color": "#BBBBBB",
       "font_weight": "bold"
      }
     },
     "56d88fc10f984435b3aad69c54f95302": {
      "model_module": "@jupyter-widgets/controls",
      "model_module_version": "1.5.0",
      "model_name": "ButtonStyleModel",
      "state": {}
     },
     "59837ac640744287b6426e5d614dbcf7": {
      "model_module": "@jupyter-widgets/controls",
      "model_module_version": "1.5.0",
      "model_name": "ButtonModel",
      "state": {
       "description": "71",
       "layout": "IPY_MODEL_538ffee193f0404eaa334a483e2abbbb",
       "style": "IPY_MODEL_3765ba4ce1834206ac66942f8466b30f"
      }
     },
     "5a20189d63454461a13066d911fd79ea": {
      "model_module": "@jupyter-widgets/base",
      "model_module_version": "1.2.0",
      "model_name": "LayoutModel",
      "state": {}
     },
     "5a77a19c3c9e4b3c8e0d5327d2ea2c78": {
      "model_module": "@jupyter-widgets/controls",
      "model_module_version": "1.5.0",
      "model_name": "ButtonStyleModel",
      "state": {
       "button_color": "#BBBBBB",
       "font_weight": "bold"
      }
     },
     "5ae18b2fabc148cc807a0419c7616270": {
      "model_module": "@jupyter-widgets/controls",
      "model_module_version": "1.5.0",
      "model_name": "ButtonModel",
      "state": {
       "description": "330",
       "layout": "IPY_MODEL_bb2fe2cbc9694d418d4cc921bc343fc7",
       "style": "IPY_MODEL_50a0d577376541a5a505fca0c06bd63c"
      }
     },
     "5d8251e1fe134b0796bba748d045b9ed": {
      "model_module": "@jupyter-widgets/controls",
      "model_module_version": "1.5.0",
      "model_name": "HBoxModel",
      "state": {
       "children": [
        "IPY_MODEL_6ebb40ca2bdd44a7a01718806c27c0a2",
        "IPY_MODEL_f7a4fccb5f3c4cce8dd5d7eef46ed60c",
        "IPY_MODEL_cc38334dfbae493dbe25b66e911c7a7b",
        "IPY_MODEL_466b29029b024adc8c8d71502d2a93f4",
        "IPY_MODEL_0b40487f16ce48aea26491b69f14c705",
        "IPY_MODEL_0b1f60e249214d0d85b990c1bd03c111",
        "IPY_MODEL_39ed36e03cf847cc90462fb6efef1f5b",
        "IPY_MODEL_d8b5142701544b1caf915d23842a66d8",
        "IPY_MODEL_d1c48fbc61ba4e688e2a1a2b3cc952b3",
        "IPY_MODEL_1b750a7455034aa18537c7156c10f424",
        "IPY_MODEL_6db754fcc6dd4738ae1c865c9a8b396e",
        "IPY_MODEL_f8ce2d0ad5fa4eae941a6ebdaf61158b",
        "IPY_MODEL_53f71209dd004079899e52cf9b97c7e6",
        "IPY_MODEL_7bc0ad9c1fdd4969956e9cd3efb19f53"
       ],
       "layout": "IPY_MODEL_7a46eb1981794499832841b1b0b6ab5d"
      }
     },
     "5d8ae631fee04b87a878cb984ceff965": {
      "model_module": "@jupyter-widgets/controls",
      "model_module_version": "1.5.0",
      "model_name": "ButtonStyleModel",
      "state": {
       "button_color": "white",
       "font_weight": "bold"
      }
     },
     "5e8824dcd0684f23a97ec063cf3a9d41": {
      "model_module": "@jupyter-widgets/controls",
      "model_module_version": "1.5.0",
      "model_name": "ButtonStyleModel",
      "state": {}
     },
     "5f3c428bfa5d42bc9dd525113d5c6ad4": {
      "model_module": "@jupyter-widgets/controls",
      "model_module_version": "1.5.0",
      "model_name": "ButtonModel",
      "state": {
       "description": "65",
       "layout": "IPY_MODEL_bb2fe2cbc9694d418d4cc921bc343fc7",
       "style": "IPY_MODEL_665b5985f8da481baf8746c8f1b13e7e"
      }
     },
     "5fa7be0c41ca4c438b50c45314df96cf": {
      "model_module": "@jupyter-widgets/controls",
      "model_module_version": "1.5.0",
      "model_name": "ButtonModel",
      "state": {
       "description": "311",
       "layout": "IPY_MODEL_538ffee193f0404eaa334a483e2abbbb",
       "style": "IPY_MODEL_9d56d5a0ea0844929c730c4a6e33d3c5"
      }
     },
     "60d4320289484c09a0e3379c41772aa5": {
      "model_module": "@jupyter-widgets/controls",
      "model_module_version": "1.5.0",
      "model_name": "ButtonModel",
      "state": {
       "description": "69",
       "layout": "IPY_MODEL_538ffee193f0404eaa334a483e2abbbb",
       "style": "IPY_MODEL_bbcd57e189694a8783cf723f900d24e3"
      }
     },
     "612d08d9afb94920a89f3a99c9b14023": {
      "model_module": "@jupyter-widgets/controls",
      "model_module_version": "1.5.0",
      "model_name": "ButtonModel",
      "state": {
       "description": "C#",
       "layout": "IPY_MODEL_9eae907ebbd84b6489cd2c09e27251d3",
       "style": "IPY_MODEL_b105faeded144166854fad9a9e3265b8"
      }
     },
     "615e8743bbbd43d691ec194b9464e776": {
      "model_module": "@jupyter-widgets/controls",
      "model_module_version": "1.5.0",
      "model_name": "ButtonStyleModel",
      "state": {}
     },
     "61911542dff2419caf455f37207829b0": {
      "model_module": "@jupyter-widgets/base",
      "model_module_version": "1.2.0",
      "model_name": "LayoutModel",
      "state": {}
     },
     "62f75a5392894f4186be1ff6e7c56398": {
      "model_module": "@jupyter-widgets/controls",
      "model_module_version": "1.5.0",
      "model_name": "ButtonStyleModel",
      "state": {
       "button_color": "white",
       "font_weight": "bold"
      }
     },
     "63a05e88b14c4c12927f2b3a1cb918c8": {
      "model_module": "@jupyter-widgets/controls",
      "model_module_version": "1.5.0",
      "model_name": "ButtonModel",
      "state": {
       "description": "A",
       "layout": "IPY_MODEL_9eae907ebbd84b6489cd2c09e27251d3",
       "style": "IPY_MODEL_b7343d18c2254decb0d434618a1d2f5b"
      }
     },
     "65941a8b1f37442ca28cda1d7f9db81a": {
      "model_module": "@jupyter-widgets/controls",
      "model_module_version": "1.5.0",
      "model_name": "ButtonModel",
      "state": {
       "description": "262",
       "layout": "IPY_MODEL_538ffee193f0404eaa334a483e2abbbb",
       "style": "IPY_MODEL_793e20766f58485fb1f2cff9756f2e82"
      }
     },
     "65ef44aa58064e3d9359b1fdc8742bad": {
      "model_module": "@jupyter-widgets/controls",
      "model_module_version": "1.5.0",
      "model_name": "ButtonStyleModel",
      "state": {
       "button_color": "white",
       "font_weight": "bold"
      }
     },
     "664b31e9efc44fce98be1b9849ee4630": {
      "model_module": "@jupyter-widgets/controls",
      "model_module_version": "1.5.0",
      "model_name": "ButtonStyleModel",
      "state": {
       "button_color": "white",
       "font_weight": "bold"
      }
     },
     "665b5985f8da481baf8746c8f1b13e7e": {
      "model_module": "@jupyter-widgets/controls",
      "model_module_version": "1.5.0",
      "model_name": "ButtonStyleModel",
      "state": {}
     },
     "666489d57a454140ab7c121face2df56": {
      "model_module": "@jupyter-widgets/controls",
      "model_module_version": "1.5.0",
      "model_name": "ButtonModel",
      "state": {
       "description": "523",
       "layout": "IPY_MODEL_bb2fe2cbc9694d418d4cc921bc343fc7",
       "style": "IPY_MODEL_a2e5b9d98db34fd49ffe24b07cae7343"
      }
     },
     "66ad07ae11d54c7cb6b723fe9dc31ced": {
      "model_module": "@jupyter-widgets/controls",
      "model_module_version": "1.5.0",
      "model_name": "ButtonModel",
      "state": {
       "description": "68",
       "layout": "IPY_MODEL_538ffee193f0404eaa334a483e2abbbb",
       "style": "IPY_MODEL_bd3694a34181442994fc5a6258f7c2d6"
      }
     },
     "6756ebc4ad514d239732c3c148772420": {
      "model_module": "@jupyter-widgets/controls",
      "model_module_version": "1.5.0",
      "model_name": "ButtonModel",
      "state": {
       "description": "440",
       "layout": "IPY_MODEL_538ffee193f0404eaa334a483e2abbbb",
       "style": "IPY_MODEL_1551c9965a724bc3867f2fd56e3e03c0"
      }
     },
     "67bcb9878ff24b3993f40c5eaa7be7cf": {
      "model_module": "@jupyter-widgets/controls",
      "model_module_version": "1.5.0",
      "model_name": "ButtonModel",
      "state": {
       "description": "68",
       "layout": "IPY_MODEL_bb2fe2cbc9694d418d4cc921bc343fc7",
       "style": "IPY_MODEL_1574712335464c4a900b652b2256e596"
      }
     },
     "6807525cdbe041a297d66c4640a93534": {
      "model_module": "@jupyter-widgets/controls",
      "model_module_version": "1.5.0",
      "model_name": "ButtonModel",
      "state": {
       "description": "E",
       "layout": "IPY_MODEL_9eae907ebbd84b6489cd2c09e27251d3",
       "style": "IPY_MODEL_766e9172d196453b9dc7a2aa545dab4f"
      }
     },
     "6974d96e8f7e4ddf858f6d30d468498a": {
      "model_module": "@jupyter-widgets/controls",
      "model_module_version": "1.5.0",
      "model_name": "ButtonModel",
      "state": {
       "description": "67",
       "layout": "IPY_MODEL_7d044cf3ea4243079449cbd978bb7199",
       "style": "IPY_MODEL_23420af682414be08c8708efb1dabce3"
      }
     },
     "6a238d44b5d54dffa6ab0996c786bc3a": {
      "model_module": "@jupyter-widgets/controls",
      "model_module_version": "1.5.0",
      "model_name": "HBoxModel",
      "state": {
       "children": [
        "IPY_MODEL_2f581121880c4585b70901fae54d4fef",
        "IPY_MODEL_ca86b602e5c14b6eb99311cee6c58cfb",
        "IPY_MODEL_fd5572d1fc34429c815f7be744a9b254",
        "IPY_MODEL_0a66651d00b742028d774b00cfa01a33",
        "IPY_MODEL_6807525cdbe041a297d66c4640a93534",
        "IPY_MODEL_252bb555d28c46cfb962a3f0225f1cda",
        "IPY_MODEL_a4be8174fabb4a309dc85f01ae9a8988",
        "IPY_MODEL_8f7d3c1dddfe42c2b10f247365d239e9",
        "IPY_MODEL_d5d1034e1e064c52b7ac2342529cb6ab",
        "IPY_MODEL_63a05e88b14c4c12927f2b3a1cb918c8",
        "IPY_MODEL_2c34f638e3a848f1bb07bbe969e914ac",
        "IPY_MODEL_e18578a79ede448a9d02b505b0b98eda",
        "IPY_MODEL_187c49421ddd44c4959bf110dcc21f25",
        "IPY_MODEL_612d08d9afb94920a89f3a99c9b14023",
        "IPY_MODEL_6e5d56cf61e146d7be4ac87019d803f6",
        "IPY_MODEL_1cfcd3af496d401b9b7f8d015b99e92a"
       ],
       "layout": "IPY_MODEL_008b3534fb7e40a0ac78a0e58be77d07"
      }
     },
     "6a33ca30adec4e39a53f2f1f0ae439c5": {
      "model_module": "@jupyter-widgets/controls",
      "model_module_version": "1.5.0",
      "model_name": "ButtonStyleModel",
      "state": {
       "button_color": "white",
       "font_weight": "bold"
      }
     },
     "6ce71ff5123a45e4ae2f37b6ce8fe07d": {
      "model_module": "@jupyter-widgets/controls",
      "model_module_version": "1.5.0",
      "model_name": "ButtonStyleModel",
      "state": {}
     },
     "6db754fcc6dd4738ae1c865c9a8b396e": {
      "model_module": "@jupyter-widgets/controls",
      "model_module_version": "1.5.0",
      "model_name": "ButtonModel",
      "state": {
       "description": "A#",
       "layout": "IPY_MODEL_ab82f944a03c491591a434537bf043a0",
       "style": "IPY_MODEL_5a77a19c3c9e4b3c8e0d5327d2ea2c78"
      }
     },
     "6e5d56cf61e146d7be4ac87019d803f6": {
      "model_module": "@jupyter-widgets/controls",
      "model_module_version": "1.5.0",
      "model_name": "ButtonModel",
      "state": {
       "description": "D",
       "layout": "IPY_MODEL_9eae907ebbd84b6489cd2c09e27251d3",
       "style": "IPY_MODEL_37036112fae54b27b68321c1c3508821"
      }
     },
     "6eb39ea4eec845e29ae3a72b52f9b4f9": {
      "model_module": "@jupyter-widgets/controls",
      "model_module_version": "1.5.0",
      "model_name": "ButtonModel",
      "state": {
       "description": "370",
       "layout": "IPY_MODEL_538ffee193f0404eaa334a483e2abbbb",
       "style": "IPY_MODEL_0416232232e64228bd44c1e8df760ce5"
      }
     },
     "6ebb40ca2bdd44a7a01718806c27c0a2": {
      "model_module": "@jupyter-widgets/controls",
      "model_module_version": "1.5.0",
      "model_name": "ButtonModel",
      "state": {
       "description": "C",
       "layout": "IPY_MODEL_ab82f944a03c491591a434537bf043a0",
       "style": "IPY_MODEL_fcf94083be344548a75756523e4f7b31"
      }
     },
     "710fda65f27740b590136d0bf96789e8": {
      "model_module": "@jupyter-widgets/controls",
      "model_module_version": "1.5.0",
      "model_name": "ButtonModel",
      "state": {
       "description": "494",
       "layout": "IPY_MODEL_7d044cf3ea4243079449cbd978bb7199",
       "style": "IPY_MODEL_95a0a8e33f44431586ff4cfc6ff710f1"
      }
     },
     "72af1077828a4089a06eb8112aa1268d": {
      "model_module": "@jupyter-widgets/controls",
      "model_module_version": "1.5.0",
      "model_name": "ButtonStyleModel",
      "state": {}
     },
     "72b19da35b97487d926794f65f2434a9": {
      "model_module": "@jupyter-widgets/controls",
      "model_module_version": "1.5.0",
      "model_name": "ButtonStyleModel",
      "state": {
       "button_color": "#BBBBBB",
       "font_weight": "bold"
      }
     },
     "72b422524b234606aab1cf0af7349efc": {
      "model_module": "@jupyter-widgets/controls",
      "model_module_version": "1.5.0",
      "model_name": "ButtonStyleModel",
      "state": {}
     },
     "72d80ab976a645b0ad32c7e024988c3a": {
      "model_module": "@jupyter-widgets/controls",
      "model_module_version": "1.5.0",
      "model_name": "ButtonStyleModel",
      "state": {
       "button_color": "#EEFFDD"
      }
     },
     "7306db316c8349e8bd73e33d84ab5eaf": {
      "model_module": "@jupyter-widgets/controls",
      "model_module_version": "1.5.0",
      "model_name": "ButtonModel",
      "state": {
       "description": "C",
       "layout": "IPY_MODEL_29b8123ddefd4c53ad40fcbcb3a5394b",
       "style": "IPY_MODEL_7ec9e763bbb44436b940b61032962bc1"
      }
     },
     "766e9172d196453b9dc7a2aa545dab4f": {
      "model_module": "@jupyter-widgets/controls",
      "model_module_version": "1.5.0",
      "model_name": "ButtonStyleModel",
      "state": {
       "button_color": "white",
       "font_weight": "bold"
      }
     },
     "767920eea5134b1abed9cc11037b5a80": {
      "model_module": "@jupyter-widgets/controls",
      "model_module_version": "1.5.0",
      "model_name": "ButtonModel",
      "state": {
       "description": "61",
       "layout": "IPY_MODEL_7d044cf3ea4243079449cbd978bb7199",
       "style": "IPY_MODEL_c29d4ed17dcb4e089e029d07931e7a44"
      }
     },
     "76bec64bbd9646098da25f4d529ce589": {
      "model_module": "@jupyter-widgets/controls",
      "model_module_version": "1.5.0",
      "model_name": "ButtonModel",
      "state": {
       "description": "62",
       "layout": "IPY_MODEL_538ffee193f0404eaa334a483e2abbbb",
       "style": "IPY_MODEL_7bea69502e424c93ba37b83e981f099e"
      }
     },
     "787104da99274c70b2a39569aad49621": {
      "model_module": "@jupyter-widgets/controls",
      "model_module_version": "1.5.0",
      "model_name": "ButtonModel",
      "state": {
       "description": "61",
       "layout": "IPY_MODEL_538ffee193f0404eaa334a483e2abbbb",
       "style": "IPY_MODEL_f5e5cff98364418bbe74f7e733dcd075"
      }
     },
     "791e156fbb9e48e29f46bfe5ce9fa1b7": {
      "model_module": "@jupyter-widgets/controls",
      "model_module_version": "1.5.0",
      "model_name": "ButtonStyleModel",
      "state": {}
     },
     "793e20766f58485fb1f2cff9756f2e82": {
      "model_module": "@jupyter-widgets/controls",
      "model_module_version": "1.5.0",
      "model_name": "ButtonStyleModel",
      "state": {}
     },
     "7a46eb1981794499832841b1b0b6ab5d": {
      "model_module": "@jupyter-widgets/base",
      "model_module_version": "1.2.0",
      "model_name": "LayoutModel",
      "state": {}
     },
     "7bc0ad9c1fdd4969956e9cd3efb19f53": {
      "model_module": "@jupyter-widgets/controls",
      "model_module_version": "1.5.0",
      "model_name": "ButtonModel",
      "state": {
       "description": "Note",
       "layout": "IPY_MODEL_840b8c81f5444422afd01e5b5a547211",
       "style": "IPY_MODEL_878092cc3de248adb6b6153b5d85976a"
      }
     },
     "7bea69502e424c93ba37b83e981f099e": {
      "model_module": "@jupyter-widgets/controls",
      "model_module_version": "1.5.0",
      "model_name": "ButtonStyleModel",
      "state": {}
     },
     "7d044cf3ea4243079449cbd978bb7199": {
      "model_module": "@jupyter-widgets/base",
      "model_module_version": "1.2.0",
      "model_name": "LayoutModel",
      "state": {
       "border": "0px solid blue",
       "height": "30px",
       "width": "42px"
      }
     },
     "7daf1b2d0eb240d6aa6ae6e3beb7f05c": {
      "model_module": "@jupyter-widgets/base",
      "model_module_version": "1.2.0",
      "model_name": "LayoutModel",
      "state": {
       "height": "80px",
       "width": "100px"
      }
     },
     "7e649a7dbdb2441188e2df7266042413": {
      "model_module": "@jupyter-widgets/output",
      "model_module_version": "1.0.0",
      "model_name": "OutputModel",
      "state": {
       "layout": "IPY_MODEL_c5fef31452ac423cb7fb88a11d02b3f5"
      }
     },
     "7ec9e763bbb44436b940b61032962bc1": {
      "model_module": "@jupyter-widgets/controls",
      "model_module_version": "1.5.0",
      "model_name": "ButtonStyleModel",
      "state": {
       "button_color": "white",
       "font_weight": "bold"
      }
     },
     "7f89d7db0c82471a915839e63154f044": {
      "model_module": "@jupyter-widgets/controls",
      "model_module_version": "1.5.0",
      "model_name": "ButtonModel",
      "state": {
       "description": "73",
       "layout": "IPY_MODEL_bb2fe2cbc9694d418d4cc921bc343fc7",
       "style": "IPY_MODEL_8b370afda5b04281bba4136593f4a24b"
      }
     },
     "8101cdc4dcf34354a472f1954190f299": {
      "model_module": "@jupyter-widgets/controls",
      "model_module_version": "1.5.0",
      "model_name": "ButtonModel",
      "state": {
       "description": "60",
       "layout": "IPY_MODEL_538ffee193f0404eaa334a483e2abbbb",
       "style": "IPY_MODEL_c321efc25b764fd9bc3acf08ef45ec4d"
      }
     },
     "8108839aab02412981682318758a1ea3": {
      "model_module": "@jupyter-widgets/controls",
      "model_module_version": "1.5.0",
      "model_name": "HBoxModel",
      "state": {
       "children": [
        "IPY_MODEL_8101cdc4dcf34354a472f1954190f299",
        "IPY_MODEL_787104da99274c70b2a39569aad49621",
        "IPY_MODEL_76bec64bbd9646098da25f4d529ce589",
        "IPY_MODEL_3051fdd168894f618e335e56ae7ec38e",
        "IPY_MODEL_f5f5c9fa808b44ebba4a90f2bc959322",
        "IPY_MODEL_3c2cb62296014bc7946e955221a5295b",
        "IPY_MODEL_492f830a92aa49a192cba816fed99cf3",
        "IPY_MODEL_92db91ea192d4c17b49788838ab04435",
        "IPY_MODEL_66ad07ae11d54c7cb6b723fe9dc31ced",
        "IPY_MODEL_60d4320289484c09a0e3379c41772aa5",
        "IPY_MODEL_c1ab52c4da73449ca065348a47625085",
        "IPY_MODEL_59837ac640744287b6426e5d614dbcf7",
        "IPY_MODEL_f46ad26295d941ae855bef7f3c48dca5",
        "IPY_MODEL_d020ba80917b4b0f93be081888822745"
       ],
       "layout": "IPY_MODEL_b5fb2627a1c747faa57ff1fb79bfeb79"
      }
     },
     "840b8c81f5444422afd01e5b5a547211": {
      "model_module": "@jupyter-widgets/base",
      "model_module_version": "1.2.0",
      "model_name": "LayoutModel",
      "state": {
       "height": "80px",
       "width": "100px"
      }
     },
     "846a00e4e71f4d9e8636996d0724d31e": {
      "model_module": "@jupyter-widgets/controls",
      "model_module_version": "1.5.0",
      "model_name": "ButtonModel",
      "state": {
       "description": "277",
       "layout": "IPY_MODEL_bb2fe2cbc9694d418d4cc921bc343fc7",
       "style": "IPY_MODEL_a089737dbb2f411c978fc4d3b4dcd436"
      }
     },
     "846fb11eb43843058f256c4cb4e9cafa": {
      "model_module": "@jupyter-widgets/controls",
      "model_module_version": "1.5.0",
      "model_name": "ButtonStyleModel",
      "state": {
       "button_color": "white",
       "font_weight": "bold"
      }
     },
     "8556e49cccf64c6a9c70303a0c5270c0": {
      "model_module": "@jupyter-widgets/controls",
      "model_module_version": "1.5.0",
      "model_name": "ButtonModel",
      "state": {
       "description": "415",
       "layout": "IPY_MODEL_7d044cf3ea4243079449cbd978bb7199",
       "style": "IPY_MODEL_100bae98fa644531852c87c9e0db499b"
      }
     },
     "875d1646c476469b8a3031c0d6e9661b": {
      "model_module": "@jupyter-widgets/controls",
      "model_module_version": "1.5.0",
      "model_name": "ButtonModel",
      "state": {
       "description": "72",
       "layout": "IPY_MODEL_7d044cf3ea4243079449cbd978bb7199",
       "style": "IPY_MODEL_46a752c18ad74692a2b312df343f1235"
      }
     },
     "878092cc3de248adb6b6153b5d85976a": {
      "model_module": "@jupyter-widgets/controls",
      "model_module_version": "1.5.0",
      "model_name": "ButtonStyleModel",
      "state": {
       "button_color": "#EEFFDD"
      }
     },
     "8b370afda5b04281bba4136593f4a24b": {
      "model_module": "@jupyter-widgets/controls",
      "model_module_version": "1.5.0",
      "model_name": "ButtonStyleModel",
      "state": {}
     },
     "8b6e5eb2b94c4da688ac63a55847e43b": {
      "model_module": "@jupyter-widgets/controls",
      "model_module_version": "1.5.0",
      "model_name": "ButtonStyleModel",
      "state": {}
     },
     "8bd76e49a2bf4140a9e9908639da9949": {
      "model_module": "@jupyter-widgets/controls",
      "model_module_version": "1.5.0",
      "model_name": "ButtonStyleModel",
      "state": {
       "button_color": "#BBBBBB",
       "font_weight": "bold"
      }
     },
     "8c0dae4a7a9145c896e2809ba1bae604": {
      "model_module": "@jupyter-widgets/controls",
      "model_module_version": "1.5.0",
      "model_name": "ButtonStyleModel",
      "state": {
       "button_color": "white",
       "font_weight": "bold"
      }
     },
     "8c8f2fbf6f03449f9cea5405bc163272": {
      "model_module": "@jupyter-widgets/controls",
      "model_module_version": "1.5.0",
      "model_name": "ButtonModel",
      "state": {
       "description": "G",
       "layout": "IPY_MODEL_29b8123ddefd4c53ad40fcbcb3a5394b",
       "style": "IPY_MODEL_ee46dc09045147268b7bff746c1487fc"
      }
     },
     "8cb47e00744a47a99d99ce61d7ed8bae": {
      "model_module": "@jupyter-widgets/controls",
      "model_module_version": "1.5.0",
      "model_name": "ButtonModel",
      "state": {
       "description": "466",
       "layout": "IPY_MODEL_7d044cf3ea4243079449cbd978bb7199",
       "style": "IPY_MODEL_518c59f63a7a4d68bb6a304c5daeb21c"
      }
     },
     "8dd1073957a047a18fb3de8a094b5157": {
      "model_module": "@jupyter-widgets/controls",
      "model_module_version": "1.5.0",
      "model_name": "ButtonModel",
      "state": {
       "description": "Frequency",
       "layout": "IPY_MODEL_cfb3b652bb6346a8ab5378ee8e956168",
       "style": "IPY_MODEL_e882b396813a4a8b8076685e8d203cb6"
      }
     },
     "8e03a336417e4bbd9763a0db76671462": {
      "model_module": "@jupyter-widgets/controls",
      "model_module_version": "1.5.0",
      "model_name": "ButtonModel",
      "state": {
       "description": "F",
       "layout": "IPY_MODEL_29b8123ddefd4c53ad40fcbcb3a5394b",
       "style": "IPY_MODEL_93dc93a24d784ebe99d7da0a8b21e7b1"
      }
     },
     "8ef634d7438c4aa09faf3f424853f168": {
      "model_module": "@jupyter-widgets/controls",
      "model_module_version": "1.5.0",
      "model_name": "ButtonStyleModel",
      "state": {}
     },
     "8f7d3c1dddfe42c2b10f247365d239e9": {
      "model_module": "@jupyter-widgets/controls",
      "model_module_version": "1.5.0",
      "model_name": "ButtonModel",
      "state": {
       "description": "G",
       "layout": "IPY_MODEL_9eae907ebbd84b6489cd2c09e27251d3",
       "style": "IPY_MODEL_5d8ae631fee04b87a878cb984ceff965"
      }
     },
     "8ffac38294714a638db56b8dec8d515a": {
      "model_module": "@jupyter-widgets/controls",
      "model_module_version": "1.5.0",
      "model_name": "ButtonStyleModel",
      "state": {}
     },
     "916dc5b7bcb24bf49a8faad241b679bb": {
      "model_module": "@jupyter-widgets/controls",
      "model_module_version": "1.5.0",
      "model_name": "ButtonModel",
      "state": {
       "description": "66",
       "layout": "IPY_MODEL_7d044cf3ea4243079449cbd978bb7199",
       "style": "IPY_MODEL_113b23aa356b4899b676a77a46628349"
      }
     },
     "9180bbdb53404259acab94fe248a47b7": {
      "model_module": "@jupyter-widgets/controls",
      "model_module_version": "1.5.0",
      "model_name": "ButtonStyleModel",
      "state": {}
     },
     "91b75ac9a0da4e8d8902cf8f29caacfc": {
      "model_module": "@jupyter-widgets/controls",
      "model_module_version": "1.5.0",
      "model_name": "ButtonModel",
      "state": {
       "description": "D",
       "layout": "IPY_MODEL_29b8123ddefd4c53ad40fcbcb3a5394b",
       "style": "IPY_MODEL_dbd8a4bdea7849318a7d1db85a3c75db"
      }
     },
     "92386aad86e84121af0f9050066a3528": {
      "model_module": "@jupyter-widgets/controls",
      "model_module_version": "1.5.0",
      "model_name": "ButtonStyleModel",
      "state": {}
     },
     "927f645523874bfb80ad07da55dceea4": {
      "model_module": "@jupyter-widgets/controls",
      "model_module_version": "1.5.0",
      "model_name": "ButtonModel",
      "state": {
       "description": "392",
       "layout": "IPY_MODEL_bb2fe2cbc9694d418d4cc921bc343fc7",
       "style": "IPY_MODEL_cc84bfa0e3f849d188de1a4e2ef188ff"
      }
     },
     "92db91ea192d4c17b49788838ab04435": {
      "model_module": "@jupyter-widgets/controls",
      "model_module_version": "1.5.0",
      "model_name": "ButtonModel",
      "state": {
       "description": "67",
       "layout": "IPY_MODEL_538ffee193f0404eaa334a483e2abbbb",
       "style": "IPY_MODEL_3aba197ccd604e368a4311ab6a722140"
      }
     },
     "935401619dd246db987d7d6ed57ded6b": {
      "model_module": "@jupyter-widgets/controls",
      "model_module_version": "1.5.0",
      "model_name": "ButtonStyleModel",
      "state": {}
     },
     "93dc93a24d784ebe99d7da0a8b21e7b1": {
      "model_module": "@jupyter-widgets/controls",
      "model_module_version": "1.5.0",
      "model_name": "ButtonStyleModel",
      "state": {
       "button_color": "white",
       "font_weight": "bold"
      }
     },
     "949e02946a574dfea2323edfc4023048": {
      "model_module": "@jupyter-widgets/controls",
      "model_module_version": "1.5.0",
      "model_name": "ButtonModel",
      "state": {
       "description": "466",
       "layout": "IPY_MODEL_538ffee193f0404eaa334a483e2abbbb",
       "style": "IPY_MODEL_b814ca2225b44b1592d749ba7df9df27"
      }
     },
     "95a0a8e33f44431586ff4cfc6ff710f1": {
      "model_module": "@jupyter-widgets/controls",
      "model_module_version": "1.5.0",
      "model_name": "ButtonStyleModel",
      "state": {}
     },
     "985ba2c581a546809dd1e165b630b23a": {
      "model_module": "@jupyter-widgets/controls",
      "model_module_version": "1.5.0",
      "model_name": "ButtonStyleModel",
      "state": {
       "button_color": "white",
       "font_weight": "bold"
      }
     },
     "9969b4b6ec6b43449fdda791dd66e3ee": {
      "model_module": "@jupyter-widgets/controls",
      "model_module_version": "1.5.0",
      "model_name": "ButtonModel",
      "state": {
       "description": "MIDI",
       "layout": "IPY_MODEL_0ea7c7fd35c347ee98d62a95182acbae",
       "style": "IPY_MODEL_0faa4699dc984e7b88b6947ef7ca045d"
      }
     },
     "99e173cbea0a44f78d6d3f3cec5efa5c": {
      "model_module": "@jupyter-widgets/controls",
      "model_module_version": "1.5.0",
      "model_name": "ButtonStyleModel",
      "state": {}
     },
     "9a9e209350c64958ab55e019351b6460": {
      "model_module": "@jupyter-widgets/controls",
      "model_module_version": "1.5.0",
      "model_name": "ButtonStyleModel",
      "state": {}
     },
     "9b8a4185fe0a49a2a2cd24829fab81ee": {
      "model_module": "@jupyter-widgets/controls",
      "model_module_version": "1.5.0",
      "model_name": "ButtonModel",
      "state": {
       "description": "262",
       "layout": "IPY_MODEL_7d044cf3ea4243079449cbd978bb7199",
       "style": "IPY_MODEL_ef68d068803c410684dcc791709f1a47"
      }
     },
     "9d56d5a0ea0844929c730c4a6e33d3c5": {
      "model_module": "@jupyter-widgets/controls",
      "model_module_version": "1.5.0",
      "model_name": "ButtonStyleModel",
      "state": {}
     },
     "9dd25b21c6744701b1ea6c128ba017a9": {
      "model_module": "@jupyter-widgets/base",
      "model_module_version": "1.2.0",
      "model_name": "LayoutModel",
      "state": {}
     },
     "9eae907ebbd84b6489cd2c09e27251d3": {
      "model_module": "@jupyter-widgets/base",
      "model_module_version": "1.2.0",
      "model_name": "LayoutModel",
      "state": {
       "border": "2px solid black",
       "height": "80px",
       "width": "42px"
      }
     },
     "9edb8908fcbc4e219625b12da39916e7": {
      "model_module": "@jupyter-widgets/base",
      "model_module_version": "1.2.0",
      "model_name": "LayoutModel",
      "state": {
       "width": "100px"
      }
     },
     "9f063576a834403ebf213e244a2d46f3": {
      "model_module": "@jupyter-widgets/controls",
      "model_module_version": "1.5.0",
      "model_name": "ButtonStyleModel",
      "state": {}
     },
     "9f481bf158c349a680c91ceb8bf8b500": {
      "model_module": "@jupyter-widgets/base",
      "model_module_version": "1.2.0",
      "model_name": "LayoutModel",
      "state": {}
     },
     "9f8935bdc70149d08a4bedf53c030e30": {
      "model_module": "@jupyter-widgets/base",
      "model_module_version": "1.2.0",
      "model_name": "LayoutModel",
      "state": {}
     },
     "9fdf2d371ca841f1bfc619d699f1159e": {
      "model_module": "@jupyter-widgets/controls",
      "model_module_version": "1.5.0",
      "model_name": "ButtonStyleModel",
      "state": {
       "button_color": "#BBBBBB",
       "font_weight": "bold"
      }
     },
     "a03f3ad104d44ce4b42ae0bfe3e4331c": {
      "model_module": "@jupyter-widgets/controls",
      "model_module_version": "1.5.0",
      "model_name": "ButtonModel",
      "state": {
       "description": "70",
       "layout": "IPY_MODEL_7d044cf3ea4243079449cbd978bb7199",
       "style": "IPY_MODEL_56d88fc10f984435b3aad69c54f95302"
      }
     },
     "a054d4d59e874788971406abe6257093": {
      "model_module": "@jupyter-widgets/controls",
      "model_module_version": "1.5.0",
      "model_name": "ButtonModel",
      "state": {
       "description": "62",
       "layout": "IPY_MODEL_bb2fe2cbc9694d418d4cc921bc343fc7",
       "style": "IPY_MODEL_07152b92fcd84bc6b04bab49207a3a4e"
      }
     },
     "a089737dbb2f411c978fc4d3b4dcd436": {
      "model_module": "@jupyter-widgets/controls",
      "model_module_version": "1.5.0",
      "model_name": "ButtonStyleModel",
      "state": {}
     },
     "a16cc47de50c4eea8874c5dbad805db5": {
      "model_module": "@jupyter-widgets/output",
      "model_module_version": "1.0.0",
      "model_name": "OutputModel",
      "state": {
       "layout": "IPY_MODEL_16cb1de0edc8422182957d0eb847e9ed",
       "outputs": [
        {
         "data": {
          "text/html": "\n                <audio  controls=\"controls\" autoplay=\"autoplay\">\n                    <source src=\"data:audio/wav;base64,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\" type=\"audio/wav\" />\n                    Your browser does not support the audio element.\n                </audio>\n              ",
          "text/plain": "<IPython.lib.display.Audio object>"
         },
         "metadata": {},
         "output_type": "display_data"
        }
       ]
      }
     },
     "a206c214acc04a6c90c120a1770b4027": {
      "model_module": "@jupyter-widgets/controls",
      "model_module_version": "1.5.0",
      "model_name": "ButtonStyleModel",
      "state": {
       "button_color": "white",
       "font_weight": "bold"
      }
     },
     "a2083806f97045b4bb967c2ea6a27450": {
      "model_module": "@jupyter-widgets/controls",
      "model_module_version": "1.5.0",
      "model_name": "ButtonModel",
      "state": {
       "description": "Frequency",
       "layout": "IPY_MODEL_d0cb37ce634744b5a4f5201fd86b00fe",
       "style": "IPY_MODEL_148b8d2d36bd41aaa086e336bca57f8f"
      }
     },
     "a2e5b9d98db34fd49ffe24b07cae7343": {
      "model_module": "@jupyter-widgets/controls",
      "model_module_version": "1.5.0",
      "model_name": "ButtonStyleModel",
      "state": {}
     },
     "a4be8174fabb4a309dc85f01ae9a8988": {
      "model_module": "@jupyter-widgets/controls",
      "model_module_version": "1.5.0",
      "model_name": "ButtonModel",
      "state": {
       "description": "F#",
       "layout": "IPY_MODEL_9eae907ebbd84b6489cd2c09e27251d3",
       "style": "IPY_MODEL_72b19da35b97487d926794f65f2434a9"
      }
     },
     "a52abac9cd20466e9cdc634bcd27ec1f": {
      "model_module": "@jupyter-widgets/controls",
      "model_module_version": "1.5.0",
      "model_name": "ButtonModel",
      "state": {
       "description": "E",
       "layout": "IPY_MODEL_29b8123ddefd4c53ad40fcbcb3a5394b",
       "style": "IPY_MODEL_65ef44aa58064e3d9359b1fdc8742bad"
      }
     },
     "a610e16b267f4f2d86310e8d659467b7": {
      "model_module": "@jupyter-widgets/controls",
      "model_module_version": "1.5.0",
      "model_name": "ButtonStyleModel",
      "state": {
       "button_color": "white",
       "font_weight": "bold"
      }
     },
     "a8e93b9737684618817b2b81855236cc": {
      "model_module": "@jupyter-widgets/controls",
      "model_module_version": "1.5.0",
      "model_name": "ButtonStyleModel",
      "state": {}
     },
     "a9f44126746147c082dbf4e2d3b85f16": {
      "model_module": "@jupyter-widgets/controls",
      "model_module_version": "1.5.0",
      "model_name": "ButtonModel",
      "state": {
       "description": "Note",
       "layout": "IPY_MODEL_b1856b10571a4031b307b742a665b4c8",
       "style": "IPY_MODEL_f3d586775fc74663a8942efe68c9b3d4"
      }
     },
     "a9f77dc0a2fb4bae9fd7c330edd7f1fb": {
      "model_module": "@jupyter-widgets/controls",
      "model_module_version": "1.5.0",
      "model_name": "ButtonModel",
      "state": {
       "description": "74",
       "layout": "IPY_MODEL_bb2fe2cbc9694d418d4cc921bc343fc7",
       "style": "IPY_MODEL_b2977176117149c382b9819479e60171"
      }
     },
     "ab6a9d19fcb24b3680459404c442c06e": {
      "model_module": "@jupyter-widgets/controls",
      "model_module_version": "1.5.0",
      "model_name": "ButtonStyleModel",
      "state": {
       "button_color": "white",
       "font_weight": "bold"
      }
     },
     "ab82f944a03c491591a434537bf043a0": {
      "model_module": "@jupyter-widgets/base",
      "model_module_version": "1.2.0",
      "model_name": "LayoutModel",
      "state": {
       "border": "2px solid black",
       "height": "80px",
       "width": "42px"
      }
     },
     "ac505eb993154055bc78139b361287c7": {
      "model_module": "@jupyter-widgets/controls",
      "model_module_version": "1.5.0",
      "model_name": "ButtonModel",
      "state": {
       "description": "64",
       "layout": "IPY_MODEL_7d044cf3ea4243079449cbd978bb7199",
       "style": "IPY_MODEL_48e8db5ddfd94a8f8660518075cfe0e2"
      }
     },
     "ac649ee85bff49988736255f24031566": {
      "model_module": "@jupyter-widgets/controls",
      "model_module_version": "1.5.0",
      "model_name": "VBoxModel",
      "state": {
       "children": [
        "IPY_MODEL_8108839aab02412981682318758a1ea3",
        "IPY_MODEL_0ea5df714fd14f158976092a75a59545",
        "IPY_MODEL_5d8251e1fe134b0796bba748d045b9ed",
        "IPY_MODEL_7e649a7dbdb2441188e2df7266042413"
       ],
       "layout": "IPY_MODEL_5a20189d63454461a13066d911fd79ea"
      }
     },
     "ad69bc16e1964dfbb3e5d170f291d282": {
      "model_module": "@jupyter-widgets/controls",
      "model_module_version": "1.5.0",
      "model_name": "ButtonStyleModel",
      "state": {}
     },
     "aea2fadd5ed34a28916463f2c14d396c": {
      "model_module": "@jupyter-widgets/controls",
      "model_module_version": "1.5.0",
      "model_name": "ButtonModel",
      "state": {
       "description": "70",
       "layout": "IPY_MODEL_bb2fe2cbc9694d418d4cc921bc343fc7",
       "style": "IPY_MODEL_8b6e5eb2b94c4da688ac63a55847e43b"
      }
     },
     "b07f0e8da0c44dfa94205ae1474d8d84": {
      "model_module": "@jupyter-widgets/controls",
      "model_module_version": "1.5.0",
      "model_name": "ButtonModel",
      "state": {
       "description": "G#",
       "layout": "IPY_MODEL_29b8123ddefd4c53ad40fcbcb3a5394b",
       "style": "IPY_MODEL_8bd76e49a2bf4140a9e9908639da9949"
      }
     },
     "b105faeded144166854fad9a9e3265b8": {
      "model_module": "@jupyter-widgets/controls",
      "model_module_version": "1.5.0",
      "model_name": "ButtonStyleModel",
      "state": {
       "button_color": "#BBBBBB",
       "font_weight": "bold"
      }
     },
     "b1856b10571a4031b307b742a665b4c8": {
      "model_module": "@jupyter-widgets/base",
      "model_module_version": "1.2.0",
      "model_name": "LayoutModel",
      "state": {
       "height": "80px",
       "width": "100px"
      }
     },
     "b1e56b48b58b4d1d8068beff40c63551": {
      "model_module": "@jupyter-widgets/controls",
      "model_module_version": "1.5.0",
      "model_name": "ButtonStyleModel",
      "state": {}
     },
     "b2977176117149c382b9819479e60171": {
      "model_module": "@jupyter-widgets/controls",
      "model_module_version": "1.5.0",
      "model_name": "ButtonStyleModel",
      "state": {}
     },
     "b58223a8428b42f6aaf1e0db564fd092": {
      "model_module": "@jupyter-widgets/base",
      "model_module_version": "1.2.0",
      "model_name": "LayoutModel",
      "state": {}
     },
     "b5fb2627a1c747faa57ff1fb79bfeb79": {
      "model_module": "@jupyter-widgets/base",
      "model_module_version": "1.2.0",
      "model_name": "LayoutModel",
      "state": {}
     },
     "b7343d18c2254decb0d434618a1d2f5b": {
      "model_module": "@jupyter-widgets/controls",
      "model_module_version": "1.5.0",
      "model_name": "ButtonStyleModel",
      "state": {
       "button_color": "white",
       "font_weight": "bold"
      }
     },
     "b814ca2225b44b1592d749ba7df9df27": {
      "model_module": "@jupyter-widgets/controls",
      "model_module_version": "1.5.0",
      "model_name": "ButtonStyleModel",
      "state": {}
     },
     "b81b5ef50fc24b578c9d89666460cff4": {
      "model_module": "@jupyter-widgets/controls",
      "model_module_version": "1.5.0",
      "model_name": "ButtonStyleModel",
      "state": {
       "button_color": "#EEFFDD"
      }
     },
     "b8b6e35af31846009a62ccc6cf99ab91": {
      "model_module": "@jupyter-widgets/controls",
      "model_module_version": "1.5.0",
      "model_name": "ButtonModel",
      "state": {
       "description": "349",
       "layout": "IPY_MODEL_7d044cf3ea4243079449cbd978bb7199",
       "style": "IPY_MODEL_38822d7fa7264398869a7796dcc3cc93"
      }
     },
     "b9b06088ba2c45f09164984ed7a61bab": {
      "model_module": "@jupyter-widgets/controls",
      "model_module_version": "1.5.0",
      "model_name": "ButtonModel",
      "state": {
       "description": "Frequency",
       "layout": "IPY_MODEL_fe164efbd2074db1b36d22fade53ba5f",
       "style": "IPY_MODEL_daeab8cf741149a7a5ed8b80985b8696"
      }
     },
     "bae44736fd9448f89a072ad4cc2765cd": {
      "model_module": "@jupyter-widgets/controls",
      "model_module_version": "1.5.0",
      "model_name": "HBoxModel",
      "state": {
       "children": [
        "IPY_MODEL_4958c3bdef2341a893c8d133aa4356bb",
        "IPY_MODEL_846a00e4e71f4d9e8636996d0724d31e",
        "IPY_MODEL_0ba2d560cfbb4e30863b90d333ff4051",
        "IPY_MODEL_280f6498d12d41868b0ddf9077934ca0",
        "IPY_MODEL_5ae18b2fabc148cc807a0419c7616270",
        "IPY_MODEL_ddd52398244a4fe7898d2da0c3c2eefe",
        "IPY_MODEL_52c922f134794ed69ac4c1a6151fe064",
        "IPY_MODEL_927f645523874bfb80ad07da55dceea4",
        "IPY_MODEL_00848b65d90d457a9ad2061d0d7202ad",
        "IPY_MODEL_d7b9f469e0e34cb8b1e9da2927106253",
        "IPY_MODEL_317727a2398f40e6ad701d1930349ea8",
        "IPY_MODEL_bbfc1d3fe17047a68f27d54213cefbbc",
        "IPY_MODEL_666489d57a454140ab7c121face2df56",
        "IPY_MODEL_ce8e5d4b478440ee8ecba972e3163dbe",
        "IPY_MODEL_086c0b06492b44f3ba40ee1a965f3da3",
        "IPY_MODEL_b9b06088ba2c45f09164984ed7a61bab"
       ],
       "layout": "IPY_MODEL_e767ce42a1cb42efb3c85b7a26eba189"
      }
     },
     "bb2fe2cbc9694d418d4cc921bc343fc7": {
      "model_module": "@jupyter-widgets/base",
      "model_module_version": "1.2.0",
      "model_name": "LayoutModel",
      "state": {
       "border": "0px solid blue",
       "height": "30px",
       "width": "42px"
      }
     },
     "bbcd57e189694a8783cf723f900d24e3": {
      "model_module": "@jupyter-widgets/controls",
      "model_module_version": "1.5.0",
      "model_name": "ButtonStyleModel",
      "state": {}
     },
     "bbfc1d3fe17047a68f27d54213cefbbc": {
      "model_module": "@jupyter-widgets/controls",
      "model_module_version": "1.5.0",
      "model_name": "ButtonModel",
      "state": {
       "description": "494",
       "layout": "IPY_MODEL_bb2fe2cbc9694d418d4cc921bc343fc7",
       "style": "IPY_MODEL_92386aad86e84121af0f9050066a3528"
      }
     },
     "bd3694a34181442994fc5a6258f7c2d6": {
      "model_module": "@jupyter-widgets/controls",
      "model_module_version": "1.5.0",
      "model_name": "ButtonStyleModel",
      "state": {}
     },
     "bdb3f3c3525c42488d35e351bcdc0ee6": {
      "model_module": "@jupyter-widgets/controls",
      "model_module_version": "1.5.0",
      "model_name": "ButtonStyleModel",
      "state": {}
     },
     "beb0abde0d224667baf16da5813582a6": {
      "model_module": "@jupyter-widgets/controls",
      "model_module_version": "1.5.0",
      "model_name": "ButtonStyleModel",
      "state": {
       "button_color": "white",
       "font_weight": "bold"
      }
     },
     "bfe60965ebfa4e6ab9c9b950eb1ffb2f": {
      "model_module": "@jupyter-widgets/controls",
      "model_module_version": "1.5.0",
      "model_name": "HBoxModel",
      "state": {
       "children": [
        "IPY_MODEL_e05b284b73c0466badaa759c8f72c61b",
        "IPY_MODEL_cd0e9d7cd775456fa35b7f4688cab602",
        "IPY_MODEL_91b75ac9a0da4e8d8902cf8f29caacfc",
        "IPY_MODEL_c7c1089c5c474d1bb476fd128a52b05b",
        "IPY_MODEL_a52abac9cd20466e9cdc634bcd27ec1f",
        "IPY_MODEL_8e03a336417e4bbd9763a0db76671462",
        "IPY_MODEL_d61db6e3987a4ad9863378a3f37a1ae4",
        "IPY_MODEL_8c8f2fbf6f03449f9cea5405bc163272",
        "IPY_MODEL_b07f0e8da0c44dfa94205ae1474d8d84",
        "IPY_MODEL_17e1588b56214a1cb25bf8cb4503bdd7",
        "IPY_MODEL_00cc3bb795c246a395f52696444f108d",
        "IPY_MODEL_0dfa28be5cfa45ee9e109306544db7aa",
        "IPY_MODEL_7306db316c8349e8bd73e33d84ab5eaf",
        "IPY_MODEL_a9f44126746147c082dbf4e2d3b85f16"
       ],
       "layout": "IPY_MODEL_16bfdb8a344e4e678b027d6b5aad3960"
      }
     },
     "bfeeb37545154baab99e7598a1d7a5fc": {
      "model_module": "@jupyter-widgets/controls",
      "model_module_version": "1.5.0",
      "model_name": "ButtonStyleModel",
      "state": {}
     },
     "c1ab52c4da73449ca065348a47625085": {
      "model_module": "@jupyter-widgets/controls",
      "model_module_version": "1.5.0",
      "model_name": "ButtonModel",
      "state": {
       "description": "70",
       "layout": "IPY_MODEL_538ffee193f0404eaa334a483e2abbbb",
       "style": "IPY_MODEL_008fb6eb8a3348439ec5d184f1a287d9"
      }
     },
     "c22c601a72724966832e778ba1e6a9dc": {
      "model_module": "@jupyter-widgets/controls",
      "model_module_version": "1.5.0",
      "model_name": "ButtonModel",
      "state": {
       "description": "277",
       "layout": "IPY_MODEL_538ffee193f0404eaa334a483e2abbbb",
       "style": "IPY_MODEL_c69328d14d084818bffa2aa7600b7035"
      }
     },
     "c29d4ed17dcb4e089e029d07931e7a44": {
      "model_module": "@jupyter-widgets/controls",
      "model_module_version": "1.5.0",
      "model_name": "ButtonStyleModel",
      "state": {}
     },
     "c321efc25b764fd9bc3acf08ef45ec4d": {
      "model_module": "@jupyter-widgets/controls",
      "model_module_version": "1.5.0",
      "model_name": "ButtonStyleModel",
      "state": {}
     },
     "c53204e5118d46e0981feb9448fbcfa2": {
      "model_module": "@jupyter-widgets/controls",
      "model_module_version": "1.5.0",
      "model_name": "ButtonModel",
      "state": {
       "description": "311",
       "layout": "IPY_MODEL_7d044cf3ea4243079449cbd978bb7199",
       "style": "IPY_MODEL_bfeeb37545154baab99e7598a1d7a5fc"
      }
     },
     "c5fef31452ac423cb7fb88a11d02b3f5": {
      "model_module": "@jupyter-widgets/base",
      "model_module_version": "1.2.0",
      "model_name": "LayoutModel",
      "state": {}
     },
     "c69328d14d084818bffa2aa7600b7035": {
      "model_module": "@jupyter-widgets/controls",
      "model_module_version": "1.5.0",
      "model_name": "ButtonStyleModel",
      "state": {}
     },
     "c7983591d642471bbfe0ff275e2bf22f": {
      "model_module": "@jupyter-widgets/controls",
      "model_module_version": "1.5.0",
      "model_name": "ButtonModel",
      "state": {
       "description": "277",
       "layout": "IPY_MODEL_7d044cf3ea4243079449cbd978bb7199",
       "style": "IPY_MODEL_9a9e209350c64958ab55e019351b6460"
      }
     },
     "c7c1089c5c474d1bb476fd128a52b05b": {
      "model_module": "@jupyter-widgets/controls",
      "model_module_version": "1.5.0",
      "model_name": "ButtonModel",
      "state": {
       "description": "D#",
       "layout": "IPY_MODEL_29b8123ddefd4c53ad40fcbcb3a5394b",
       "style": "IPY_MODEL_34bdd152a42047999ef939cd1c80e9b1"
      }
     },
     "c867fc2c9a9b4a1698791ea464277e86": {
      "model_module": "@jupyter-widgets/controls",
      "model_module_version": "1.5.0",
      "model_name": "ButtonStyleModel",
      "state": {
       "button_color": "#BBBBBB",
       "font_weight": "bold"
      }
     },
     "c9067c571f754dd4adf31436d8542692": {
      "model_module": "@jupyter-widgets/controls",
      "model_module_version": "1.5.0",
      "model_name": "ButtonModel",
      "state": {
       "description": "370",
       "layout": "IPY_MODEL_7d044cf3ea4243079449cbd978bb7199",
       "style": "IPY_MODEL_72af1077828a4089a06eb8112aa1268d"
      }
     },
     "ca86b602e5c14b6eb99311cee6c58cfb": {
      "model_module": "@jupyter-widgets/controls",
      "model_module_version": "1.5.0",
      "model_name": "ButtonModel",
      "state": {
       "description": "C#",
       "layout": "IPY_MODEL_9eae907ebbd84b6489cd2c09e27251d3",
       "style": "IPY_MODEL_ff4f81002a5a40eab26ede55cb53bb24"
      }
     },
     "cae62b63c7e44da796fe27c69e9c91e4": {
      "model_module": "@jupyter-widgets/controls",
      "model_module_version": "1.5.0",
      "model_name": "ButtonStyleModel",
      "state": {
       "button_color": "#BBBBBB",
       "font_weight": "bold"
      }
     },
     "cc38334dfbae493dbe25b66e911c7a7b": {
      "model_module": "@jupyter-widgets/controls",
      "model_module_version": "1.5.0",
      "model_name": "ButtonModel",
      "state": {
       "description": "D",
       "layout": "IPY_MODEL_ab82f944a03c491591a434537bf043a0",
       "style": "IPY_MODEL_985ba2c581a546809dd1e165b630b23a"
      }
     },
     "cc84bfa0e3f849d188de1a4e2ef188ff": {
      "model_module": "@jupyter-widgets/controls",
      "model_module_version": "1.5.0",
      "model_name": "ButtonStyleModel",
      "state": {}
     },
     "cd0e9d7cd775456fa35b7f4688cab602": {
      "model_module": "@jupyter-widgets/controls",
      "model_module_version": "1.5.0",
      "model_name": "ButtonModel",
      "state": {
       "description": "C#",
       "layout": "IPY_MODEL_29b8123ddefd4c53ad40fcbcb3a5394b",
       "style": "IPY_MODEL_3ed5b364cdb7467892188062f82f6feb"
      }
     },
     "cd4a55b4fda246868a38dbf17c51a874": {
      "model_module": "@jupyter-widgets/controls",
      "model_module_version": "1.5.0",
      "model_name": "ButtonModel",
      "state": {
       "description": "392",
       "layout": "IPY_MODEL_7d044cf3ea4243079449cbd978bb7199",
       "style": "IPY_MODEL_b1e56b48b58b4d1d8068beff40c63551"
      }
     },
     "ce8e5d4b478440ee8ecba972e3163dbe": {
      "model_module": "@jupyter-widgets/controls",
      "model_module_version": "1.5.0",
      "model_name": "ButtonModel",
      "state": {
       "description": "554",
       "layout": "IPY_MODEL_bb2fe2cbc9694d418d4cc921bc343fc7",
       "style": "IPY_MODEL_5e8824dcd0684f23a97ec063cf3a9d41"
      }
     },
     "cf5aa6e67c114ecaa44bf64eb65313f6": {
      "model_module": "@jupyter-widgets/controls",
      "model_module_version": "1.5.0",
      "model_name": "ButtonModel",
      "state": {
       "description": "294",
       "layout": "IPY_MODEL_538ffee193f0404eaa334a483e2abbbb",
       "style": "IPY_MODEL_4af904e7a4d04054b7cc634d789eed53"
      }
     },
     "cfa6884184404b7e9b63178f05d5ef95": {
      "model_module": "@jupyter-widgets/controls",
      "model_module_version": "1.5.0",
      "model_name": "ButtonStyleModel",
      "state": {}
     },
     "cfb3b652bb6346a8ab5378ee8e956168": {
      "model_module": "@jupyter-widgets/base",
      "model_module_version": "1.2.0",
      "model_name": "LayoutModel",
      "state": {
       "width": "100px"
      }
     },
     "d020ba80917b4b0f93be081888822745": {
      "model_module": "@jupyter-widgets/controls",
      "model_module_version": "1.5.0",
      "model_name": "ButtonModel",
      "state": {
       "description": "MIDI",
       "layout": "IPY_MODEL_9edb8908fcbc4e219625b12da39916e7",
       "style": "IPY_MODEL_b81b5ef50fc24b578c9d89666460cff4"
      }
     },
     "d0992b0d24204673833ccd7eaf746dcf": {
      "model_module": "@jupyter-widgets/controls",
      "model_module_version": "1.5.0",
      "model_name": "ButtonModel",
      "state": {
       "description": "60",
       "layout": "IPY_MODEL_7d044cf3ea4243079449cbd978bb7199",
       "style": "IPY_MODEL_ffc120c010ac43848b9c615c34838a20"
      }
     },
     "d0cb37ce634744b5a4f5201fd86b00fe": {
      "model_module": "@jupyter-widgets/base",
      "model_module_version": "1.2.0",
      "model_name": "LayoutModel",
      "state": {
       "width": "100px"
      }
     },
     "d1a3e75353ae49adb23fe6280d36b9f9": {
      "model_module": "@jupyter-widgets/controls",
      "model_module_version": "1.5.0",
      "model_name": "ButtonModel",
      "state": {
       "description": "69",
       "layout": "IPY_MODEL_bb2fe2cbc9694d418d4cc921bc343fc7",
       "style": "IPY_MODEL_2c38cdb3e8aa4b88a35e96cd26551e64"
      }
     },
     "d1c48fbc61ba4e688e2a1a2b3cc952b3": {
      "model_module": "@jupyter-widgets/controls",
      "model_module_version": "1.5.0",
      "model_name": "ButtonModel",
      "state": {
       "description": "G#",
       "layout": "IPY_MODEL_ab82f944a03c491591a434537bf043a0",
       "style": "IPY_MODEL_23b9bc8b7b8448d3b69c75e10fa00910"
      }
     },
     "d1df3f2263ec4d12b9965dd492a3abf6": {
      "model_module": "@jupyter-widgets/controls",
      "model_module_version": "1.5.0",
      "model_name": "ButtonStyleModel",
      "state": {}
     },
     "d5d1034e1e064c52b7ac2342529cb6ab": {
      "model_module": "@jupyter-widgets/controls",
      "model_module_version": "1.5.0",
      "model_name": "ButtonModel",
      "state": {
       "description": "G#",
       "layout": "IPY_MODEL_9eae907ebbd84b6489cd2c09e27251d3",
       "style": "IPY_MODEL_cae62b63c7e44da796fe27c69e9c91e4"
      }
     },
     "d61db6e3987a4ad9863378a3f37a1ae4": {
      "model_module": "@jupyter-widgets/controls",
      "model_module_version": "1.5.0",
      "model_name": "ButtonModel",
      "state": {
       "description": "F#",
       "layout": "IPY_MODEL_29b8123ddefd4c53ad40fcbcb3a5394b",
       "style": "IPY_MODEL_e80edff9640f4194a8bfd3528ff3e997"
      }
     },
     "d6f3a2789b164a20bdae3eb0e2aa9e3e": {
      "model_module": "@jupyter-widgets/controls",
      "model_module_version": "1.5.0",
      "model_name": "ButtonModel",
      "state": {
       "description": "494",
       "layout": "IPY_MODEL_538ffee193f0404eaa334a483e2abbbb",
       "style": "IPY_MODEL_f4cb1514c20048069d410e501ae5a2b4"
      }
     },
     "d7b9f469e0e34cb8b1e9da2927106253": {
      "model_module": "@jupyter-widgets/controls",
      "model_module_version": "1.5.0",
      "model_name": "ButtonModel",
      "state": {
       "description": "440",
       "layout": "IPY_MODEL_bb2fe2cbc9694d418d4cc921bc343fc7",
       "style": "IPY_MODEL_2c737f9de4974ad182fada9e28183cdd"
      }
     },
     "d8b5142701544b1caf915d23842a66d8": {
      "model_module": "@jupyter-widgets/controls",
      "model_module_version": "1.5.0",
      "model_name": "ButtonModel",
      "state": {
       "description": "G",
       "layout": "IPY_MODEL_ab82f944a03c491591a434537bf043a0",
       "style": "IPY_MODEL_846fb11eb43843058f256c4cb4e9cafa"
      }
     },
     "d94758d44c4c4a209ff6ce2d04e4d037": {
      "model_module": "@jupyter-widgets/controls",
      "model_module_version": "1.5.0",
      "model_name": "ButtonModel",
      "state": {
       "description": "71",
       "layout": "IPY_MODEL_bb2fe2cbc9694d418d4cc921bc343fc7",
       "style": "IPY_MODEL_dab65bb5e42345f09073ac736c6ab446"
      }
     },
     "d98a612662ee48ea82f087d29586199e": {
      "model_module": "@jupyter-widgets/controls",
      "model_module_version": "1.5.0",
      "model_name": "ButtonModel",
      "state": {
       "description": "349",
       "layout": "IPY_MODEL_538ffee193f0404eaa334a483e2abbbb",
       "style": "IPY_MODEL_e028accbb91a4c6bb6f81cbffe5b9f65"
      }
     },
     "dab65bb5e42345f09073ac736c6ab446": {
      "model_module": "@jupyter-widgets/controls",
      "model_module_version": "1.5.0",
      "model_name": "ButtonStyleModel",
      "state": {}
     },
     "daeab8cf741149a7a5ed8b80985b8696": {
      "model_module": "@jupyter-widgets/controls",
      "model_module_version": "1.5.0",
      "model_name": "ButtonStyleModel",
      "state": {
       "button_color": "#EEFFDD"
      }
     },
     "dbd8a4bdea7849318a7d1db85a3c75db": {
      "model_module": "@jupyter-widgets/controls",
      "model_module_version": "1.5.0",
      "model_name": "ButtonStyleModel",
      "state": {
       "button_color": "white",
       "font_weight": "bold"
      }
     },
     "dc01d987b59b4eab935947d61241d155": {
      "model_module": "@jupyter-widgets/controls",
      "model_module_version": "1.5.0",
      "model_name": "VBoxModel",
      "state": {
       "children": [
        "IPY_MODEL_de0e7b078a44460d8f67e321a30245d3",
        "IPY_MODEL_26bb9d0cc8f24f11b4604ee66830b659",
        "IPY_MODEL_bfe60965ebfa4e6ab9c9b950eb1ffb2f",
        "IPY_MODEL_a16cc47de50c4eea8874c5dbad805db5"
       ],
       "layout": "IPY_MODEL_45847606bde34c76a8dff243e6dcd4bf"
      }
     },
     "dc2134de3e3e49d98a3a361e2a0bf659": {
      "model_module": "@jupyter-widgets/controls",
      "model_module_version": "1.5.0",
      "model_name": "ButtonModel",
      "state": {
       "description": "68",
       "layout": "IPY_MODEL_7d044cf3ea4243079449cbd978bb7199",
       "style": "IPY_MODEL_a8e93b9737684618817b2b81855236cc"
      }
     },
     "ddd52398244a4fe7898d2da0c3c2eefe": {
      "model_module": "@jupyter-widgets/controls",
      "model_module_version": "1.5.0",
      "model_name": "ButtonModel",
      "state": {
       "description": "349",
       "layout": "IPY_MODEL_bb2fe2cbc9694d418d4cc921bc343fc7",
       "style": "IPY_MODEL_fe8268cd61af4029909c3ff25e7d0107"
      }
     },
     "de0e7b078a44460d8f67e321a30245d3": {
      "model_module": "@jupyter-widgets/controls",
      "model_module_version": "1.5.0",
      "model_name": "HBoxModel",
      "state": {
       "children": [
        "IPY_MODEL_d0992b0d24204673833ccd7eaf746dcf",
        "IPY_MODEL_767920eea5134b1abed9cc11037b5a80",
        "IPY_MODEL_42814bb26f78453cb6ac2a09665d9cb8",
        "IPY_MODEL_4fb32a4cdc6842f28cea1a207dd03ca8",
        "IPY_MODEL_ac505eb993154055bc78139b361287c7",
        "IPY_MODEL_4dd2d3cece9b4af7b577f82bbfea818c",
        "IPY_MODEL_916dc5b7bcb24bf49a8faad241b679bb",
        "IPY_MODEL_6974d96e8f7e4ddf858f6d30d468498a",
        "IPY_MODEL_dc2134de3e3e49d98a3a361e2a0bf659",
        "IPY_MODEL_defc7a47db7a4b8f88840ff0f1c259b4",
        "IPY_MODEL_a03f3ad104d44ce4b42ae0bfe3e4331c",
        "IPY_MODEL_14a79d65d9f1482eb6613fbd25df19c1",
        "IPY_MODEL_875d1646c476469b8a3031c0d6e9661b",
        "IPY_MODEL_9969b4b6ec6b43449fdda791dd66e3ee"
       ],
       "layout": "IPY_MODEL_9dd25b21c6744701b1ea6c128ba017a9"
      }
     },
     "defc7a47db7a4b8f88840ff0f1c259b4": {
      "model_module": "@jupyter-widgets/controls",
      "model_module_version": "1.5.0",
      "model_name": "ButtonModel",
      "state": {
       "description": "69",
       "layout": "IPY_MODEL_7d044cf3ea4243079449cbd978bb7199",
       "style": "IPY_MODEL_45d18f7b5054436689acff7453839372"
      }
     },
     "e028accbb91a4c6bb6f81cbffe5b9f65": {
      "model_module": "@jupyter-widgets/controls",
      "model_module_version": "1.5.0",
      "model_name": "ButtonStyleModel",
      "state": {}
     },
     "e05b284b73c0466badaa759c8f72c61b": {
      "model_module": "@jupyter-widgets/controls",
      "model_module_version": "1.5.0",
      "model_name": "ButtonModel",
      "state": {
       "description": "C",
       "layout": "IPY_MODEL_29b8123ddefd4c53ad40fcbcb3a5394b",
       "style": "IPY_MODEL_a610e16b267f4f2d86310e8d659467b7"
      }
     },
     "e1554d650f824227a6ae7a2c7f547ff3": {
      "model_module": "@jupyter-widgets/controls",
      "model_module_version": "1.5.0",
      "model_name": "ButtonStyleModel",
      "state": {}
     },
     "e18578a79ede448a9d02b505b0b98eda": {
      "model_module": "@jupyter-widgets/controls",
      "model_module_version": "1.5.0",
      "model_name": "ButtonModel",
      "state": {
       "description": "B",
       "layout": "IPY_MODEL_9eae907ebbd84b6489cd2c09e27251d3",
       "style": "IPY_MODEL_ab6a9d19fcb24b3680459404c442c06e"
      }
     },
     "e2a03c016fee48b69d01ea82725775e0": {
      "model_module": "@jupyter-widgets/controls",
      "model_module_version": "1.5.0",
      "model_name": "ButtonStyleModel",
      "state": {}
     },
     "e5662d5d318349b09ad99e8abbc9c532": {
      "model_module": "@jupyter-widgets/controls",
      "model_module_version": "1.5.0",
      "model_name": "ButtonModel",
      "state": {
       "description": "64",
       "layout": "IPY_MODEL_bb2fe2cbc9694d418d4cc921bc343fc7",
       "style": "IPY_MODEL_ec7be11743f947f5b26fd3bd20235eb7"
      }
     },
     "e6d586680f9543208fc0cb1a30f22a36": {
      "model_module": "@jupyter-widgets/controls",
      "model_module_version": "1.5.0",
      "model_name": "ButtonModel",
      "state": {
       "description": "66",
       "layout": "IPY_MODEL_bb2fe2cbc9694d418d4cc921bc343fc7",
       "style": "IPY_MODEL_27ae670e37a94b0caf63bbf838ca22e9"
      }
     },
     "e767ce42a1cb42efb3c85b7a26eba189": {
      "model_module": "@jupyter-widgets/base",
      "model_module_version": "1.2.0",
      "model_name": "LayoutModel",
      "state": {}
     },
     "e7ebecb825404b36870f5924e39cf394": {
      "model_module": "@jupyter-widgets/controls",
      "model_module_version": "1.5.0",
      "model_name": "ButtonStyleModel",
      "state": {
       "button_color": "#BBBBBB",
       "font_weight": "bold"
      }
     },
     "e80edff9640f4194a8bfd3528ff3e997": {
      "model_module": "@jupyter-widgets/controls",
      "model_module_version": "1.5.0",
      "model_name": "ButtonStyleModel",
      "state": {
       "button_color": "#BBBBBB",
       "font_weight": "bold"
      }
     },
     "e882b396813a4a8b8076685e8d203cb6": {
      "model_module": "@jupyter-widgets/controls",
      "model_module_version": "1.5.0",
      "model_name": "ButtonStyleModel",
      "state": {
       "button_color": "#EEFFDD"
      }
     },
     "eaa3fb31fa9349b3a63b5b82f683e9ec": {
      "model_module": "@jupyter-widgets/base",
      "model_module_version": "1.2.0",
      "model_name": "LayoutModel",
      "state": {}
     },
     "ebfa6f88a1a94bfdb824687df669f4f5": {
      "model_module": "@jupyter-widgets/controls",
      "model_module_version": "1.5.0",
      "model_name": "ButtonModel",
      "state": {
       "description": "60",
       "layout": "IPY_MODEL_bb2fe2cbc9694d418d4cc921bc343fc7",
       "style": "IPY_MODEL_11a88df168b2411ea9e5f7f80899477b"
      }
     },
     "ec7be11743f947f5b26fd3bd20235eb7": {
      "model_module": "@jupyter-widgets/controls",
      "model_module_version": "1.5.0",
      "model_name": "ButtonStyleModel",
      "state": {}
     },
     "edf8cb8fa3734c1192abdbcb4147be69": {
      "model_module": "@jupyter-widgets/controls",
      "model_module_version": "1.5.0",
      "model_name": "ButtonStyleModel",
      "state": {}
     },
     "ee46dc09045147268b7bff746c1487fc": {
      "model_module": "@jupyter-widgets/controls",
      "model_module_version": "1.5.0",
      "model_name": "ButtonStyleModel",
      "state": {
       "button_color": "white",
       "font_weight": "bold"
      }
     },
     "ef68d068803c410684dcc791709f1a47": {
      "model_module": "@jupyter-widgets/controls",
      "model_module_version": "1.5.0",
      "model_name": "ButtonStyleModel",
      "state": {}
     },
     "f06ff1ebd81c40dcbaeae6c23a58a343": {
      "model_module": "@jupyter-widgets/controls",
      "model_module_version": "1.5.0",
      "model_name": "ButtonModel",
      "state": {
       "description": "440",
       "layout": "IPY_MODEL_7d044cf3ea4243079449cbd978bb7199",
       "style": "IPY_MODEL_5504d091f01b4a90b3c5ce2bdca36d7e"
      }
     },
     "f320c1dd90164130afd1a9bd294dc497": {
      "model_module": "@jupyter-widgets/controls",
      "model_module_version": "1.5.0",
      "model_name": "ButtonStyleModel",
      "state": {
       "button_color": "white",
       "font_weight": "bold"
      }
     },
     "f3d586775fc74663a8942efe68c9b3d4": {
      "model_module": "@jupyter-widgets/controls",
      "model_module_version": "1.5.0",
      "model_name": "ButtonStyleModel",
      "state": {
       "button_color": "#EEFFDD"
      }
     },
     "f46ad26295d941ae855bef7f3c48dca5": {
      "model_module": "@jupyter-widgets/controls",
      "model_module_version": "1.5.0",
      "model_name": "ButtonModel",
      "state": {
       "description": "72",
       "layout": "IPY_MODEL_538ffee193f0404eaa334a483e2abbbb",
       "style": "IPY_MODEL_935401619dd246db987d7d6ed57ded6b"
      }
     },
     "f4cb1514c20048069d410e501ae5a2b4": {
      "model_module": "@jupyter-widgets/controls",
      "model_module_version": "1.5.0",
      "model_name": "ButtonStyleModel",
      "state": {}
     },
     "f4efb4891d3b43c98891c0a8aad66ad3": {
      "model_module": "@jupyter-widgets/controls",
      "model_module_version": "1.5.0",
      "model_name": "ButtonStyleModel",
      "state": {}
     },
     "f5e5cff98364418bbe74f7e733dcd075": {
      "model_module": "@jupyter-widgets/controls",
      "model_module_version": "1.5.0",
      "model_name": "ButtonStyleModel",
      "state": {}
     },
     "f5f5c9fa808b44ebba4a90f2bc959322": {
      "model_module": "@jupyter-widgets/controls",
      "model_module_version": "1.5.0",
      "model_name": "ButtonModel",
      "state": {
       "description": "64",
       "layout": "IPY_MODEL_538ffee193f0404eaa334a483e2abbbb",
       "style": "IPY_MODEL_8ef634d7438c4aa09faf3f424853f168"
      }
     },
     "f6acea8d415549a0b94b7d935f484c72": {
      "model_module": "@jupyter-widgets/output",
      "model_module_version": "1.0.0",
      "model_name": "OutputModel",
      "state": {
       "layout": "IPY_MODEL_9f8935bdc70149d08a4bedf53c030e30",
       "outputs": [
        {
         "data": {
          "text/html": "\n                <audio  controls=\"controls\" autoplay=\"autoplay\">\n                    <source src=\"data:audio/wav;base64,UklGRmQfAABXQVZFZm10IBAAAAABAAEAgD4AAAB9AAACABAAZGF0YUAfAAAAAFMARwHGArAE2AYOCRoLwwzYDSkOlA0CDG0J3QVsAUf8o/bH8AHrpOUF4XPdNduF2o7bZN4H413pOPFQ+ksEvw40GSwjKSyyM1c5vDyaPcY7MzfzLzomWRrCDP79p+5p3/PQ8cMIucmwrKsKqhes3bE/u/THiddp6d/8HRFIJX043EmWWPFjU2tNbpxsMWYvW/JLAzkcIxsL/PHO2KfAmqrymKCLM4MHgD2Cvok4lian0bta08Ts/QbrIHY5l09eYgJx5Hqbf/R+9XjfbSpefkqxM7YanAB85m7NgLarosKSc4c1gU6AxoRtjtucdq90xejdzPcHEoErJkP4VxdpyXWHff1/EH3hdMZnTVYzQVspxQ+H9bjbcMO0rW+bZY0thCuAioE7iPaTPaRguIfPuOjiAu8cxDVVTLFfBm+veTl/aX89euxv5WDLTWs3th62BIXqOtHmuYal9JTkiNaBF4C6g5eMUJpQrNXB+Nm08/QNnyefP/FUsWYfdKp89n/gfX52H2pKWbNEOC3WE5/5rN8Vx+SwBp5Ij0iFcYD5gNiG0ZFtoQO1wcuy5Mj+6xgDMgBJ6lzsbFl4tX68f2R723GHYwNRFzuuItAIlO4S1V+9eahDl3SKl4ICgM+C4Irfl0CpRr4R1qDv3gmyIwc81FEwZFVyq3vMf41++3ddbC9cIUgJMeIXuv2p48rKKLS3oEiRgobZgImAlYXJj7WeubEIyLLgrvrhFDUul0ULWrZq43YQfu5/a3yscw9mJlSzPp0m5wyn8vbY6cCEq6yZI4x6gw6ABYJIiYqVRqbJujbSkOvFBb0fXzihTpVhbnCMeoJ/Gn9aeX5u/F57S8005xvUAa7njc6Bt4GjZpPdh2KBOoBzhN6NF5yErl/EvNyU9tIQWyocQhVXY2hOdUl9/n9RfV91e2gzVz9Cgir7EL725NyDxKSuMZzxjX6EPYBcgc+HUJNlo1+3Z86F56oBvhuoNFpL4F5pbkx5FX+Ff5h6gnCwYcJOhDjlH+4Fuetd0uy6ZKahlVeJDIINgHGDEoyTmWSrxcDO2H7yvgx2Jo8+B1T2ZZpzYXztfxd+8nbNailaukVcLgoV1/rb4C7I2rHQnt2PooWMgNSAdYY0kZygB7SlyoHjkP25F+Mw/kcTXEds7XeHfs9/tntockpk9FErPNojBwrJ7znWar5eqfeX8YrXggKAj4JkiiuXW6g7vevUau6mCIYi8jrjUG1jyHFZe7p/u35neAJtB10iSSkyFBny/trk58sltYmh5pHmhv6AboA8hTSP653DsPDGhN92+a0TES2QRCxZCGpudth993+zfDB0ymYQVcM/xicdDt7zH9r5wW+saZqpjMSDGYDPgdSI3pRppcS5E9Fc6o0Ejh5GN6pNymDYbzB6ZX89f7t5Gm/MX3dM6TUXHQwD4eitz4O4WqQNlEqIkYEpgCOEUo1Vm5StS8OQ2131nA80KRBBL1auZ9B0CH39f4992nUvaRZYSkOoKzAS9fcQ3pjFlq/2nICO0YRRgDCBZYetko6iXrZIzVPmcgCNGoszXUoOXspt53jvfp9/8HoVcXlit0+bORMhJgft7IHT9LtEp1CWzolFggaAKoOPi9mYe6q2v6XXR/GHC0slfj0bUzhlE3MWfOF/S35kd3drBVu/Rn4vPhYP/AriR8nSspyfdZD/hauAsoAVhpmQzJ8Ns4nJUeJY/IYWwi/8Rjlbn2t+d1d+3n8EfPNyC2XjUj49BSU+C//wYNd3v0WqrphwixqDBYBTguqJeZZ5pzK8xdM27W8HWSHcOfBPp2I3cQR7pH/lfs94pG3cXSFKSDNGGikAC+YEzSO2XKKHkkyHJoFWgOWEoo4knc+v2sVX3j74eBLtK4hDS1hYafZ1nn38f/h8snSDZ/lV0UDvKFQPFPVK2wvDXK0omzKNEIQmgJyBZIg0lI2kwLjxzynpVQNeHSw2sUz9Xz5v0nlFf15/Gnq0b5pgcE0EN0ceRAQU6s/Qh7k1pbaUuojDgRuA1YPJjJaapqw5wmXaJvRmDgwoAkBHVfVmT3TDfPh/y31Sdt9p+FhSRM0sZRMt+T3fr8aKsLydEo8nhWiAB4H+hgySuqFgtSrMIuU7/1wZbDJeSTldKG1/eMV+tX9Fe6ZxP2OqULE6QCJeCCLuptT9vCaoAZdHioGCAoDngg6LIpiUqam+ftYS8FAKICRsPCxSeGSJcsh70398ftN3IGzgW8JHnzBxF0f9OuNiysyza6APkV6GzICTgLeFAJAAnxSycMgi4SD7UhWgLvdFXVr1ag13I37rf1B8e3PJZdBTTz4wJnUMNfKJ2IXALqtomfOLYIMLgBmCc4nJlZimKruh0gHsNwYsIMU4/E7fYaVwrXqLfwx/NXlEbq9eH0tlNHcbYQE95yPOIrcyoyqTtodRgUGAkYQSjl+c3a7ExCrdB/dDEccqfkJoV6ZofHVgff5/On0xdTlo31bdQRYqiRBM9nXcHsRMrumbvY1ghDaAbIH2h42TtKO9t9DO9ucdAi4cEDW2Sy1fo25xeSN/e393ektwZmFoTh04dh98BUjr8tGMuhKmYZUsifiBEICLg0KM2Jm7qyjBO9nw8jAN4ybzPl1UO2bLc3x88X8Dfsh2jWrXWVlF8S2ZFGX6bODHx3+xhp6mj4CFgoDhgJmGbZHooGO0Dcvx4wP+KRhNMV1IYlyEbBV4mH7If5h7NHIDZJxRxjtsI5UJV+/M1Qi+Cqm1l8OKwIICgKaCkYptl6+onb1X1dzuGQn1Ilg7PFG1Y/xxd3vBf6p+QHjGbLhcxEi/MaQYf/5q5H7LyLQ7oayRwYbwgHeAXIVqjzWeHbFXx/Pf6PkeFH0t8UR+WUhqmXbtffR/mXwAdIVmu1RfP1knrA1r87LZlcEYrCOaeIyogxSA4oH+iB2VuqUkun7Rzer/BP0erTcFThVhD3BSenB/MX+YeeFugF8bTIE1qByZAnDoQ88kuAqkz5MiiH+BL4BAhIWNnJvsrbDD/tvQ9Q4QoClyQYNW8Wf+dCB9/n95fa117WjDV+hCPCu/EYP3ot0zxT2vrZxLjrKESYA/gYuH6ZLdory2sc3D5uUA/RrzM7pKW14Fbg15/X6Wf9B633AvYl1PNTmkILMGfOwV05O78aYPlqKJMIIIgESDvosdmdGqGcAS2Lnx+Qu5JeM9clN+ZUVzMnzmfzh+O3c5a7VaX0YUL80Vnfua4eDId7JRnz2Q3IWfgL6AOIbRkBigaLPxycDiy/z3FiwwW0eJW91rp3dpftl/6HvAcsRki1LZPJgkzAqN8PPWFL/wqWuYQYsBgwSAaYIWirqWy6eTvDHUp+3hB8ghQzpKUPBibXEke6x/1n6peGltjl3ESd4y1hm3/5vlm8zFtQ6iTJImhxeBXoAEhdeObZ0osEDGxd6x+OoSWCzpQ55YmWkidrN9+n/ffIJ0P2ekVW5AgijiDqL03NqmwgWt4pr/jPSDIICugY2IcpTepB+5XNCZ6ccDzh2TNg1NSGB3b/V5UX9Sf/h5fG9PYBVNnDbXHdEDo+ll0Ce55KR3lJCIsIEggPGD+4zcmv6snsLT2pj02A55KGVAnFU5Z3503Xz6f7V9JnafaaVY8UNhLPMSuvjP3knGMLBzndyOB4VfgBaBI4dHkgiivbWSzJLlrv/MGdYyvEmHXWRtpnjVfq1/JntxcfZiUVBLOtEh6wex7TrUm7zTp7+WGopqggSA/4I9i2WY6akMv+rWg/DCCo4k0TyEUr5kvHLle9h/an6rd+JrkFtjRzUwABfV/Mri+slwsx+g1pA7hr+AnoDZhTiQS59vstfIkeGT+8MVCi9XRq5aNGs3dzZ+5n81fElzhGV5U+s9wiUDDMPxHNgiwNiqI5nDi0aDCYAugp6JCpbqpou7DNNy7KoGmiAsOVZPKWLbcM16lX/+fhB5Cm5iXsJK/DMHG+4Azea6zcS246Luko+HQYFIgK+ER46nnDWvKsWY3Xn3tREzK+BCvFfnaKl1d33+fyJ9AnX2Z4tWe0GqKRgQ2fUH3LnD9K2im4qNQoQwgH6BHojKkwSkHLg6z2bojwKeHHg1E0x6X9xulXkwf3F/VXoUcBthDU62NwcfCQXX6ofRLLrBpSKVAonkgRSApoN0jB6aEayMwanZYvOiDVAnVz+zVIBm/HOXfPR/7n2ddk5qhVn5RIYtKBTy+f3fYMclsTyeb49fhXiA74C+hqeRNaHAtHXLYeR1/poYtjG8SLFcwGw8eKl+wn96ewFyu2NDUWE7/iIjCebuYNWmvbaocpeViqiCAoC+gr+Kr5cDqf+9w9VO74sJYyO9O5RR/WMwcpV7yH+afhh4iWxpXGVIVjEzGA3++uMWy2u076BykZyG4oCBgH2FoY9/nnixvsdi4Fv6jxToLVFF0FmIasR2AX7xf398z3NBZmVU/D7sJjoN+fJF2THBwqvemUeMjYMRgPaBKYlclQumhLrp0T7rcgVsHxQ4YE5fYUZwdHp6fyR/dHmobjRfvksZNTgcJwL/59nOxbe7o5KT+odugTWAXYS5jeObRK4VxGzcQvaAEA0q1UHYVjNoLXU4ff5/Yn1/datocFeGQtAqTRER9zPdzcTkrmWcF46ThEKAUIGyhyWTLKMatxrONOdXAW0bXDQXS6leP24yeQt/jH+veqlw5mEDT844NSBBBgvsqtIyu5+mz5V2iRuCC4Beg++LYpkmq33Af9gr8msMJyZHPshTw2V2c0586n8lfhF3+mpkWv9FqS5cFSr7K+F4yByyBp8FkLqFlIDLgFuGCpFkoMSzWcow4z39ZxeWMLpH2VsbbNB3e37Tf8t7jXJ+ZDRSdDwqJFoKG/CH1rG+m6komBKL6YIDgH+CQ4r7lh+o9byd1BjuVAg2Iqk6o1A5Y6JxQ3u0f8Z+g3gtbUBdZkl1MmUZRf8r5TPMaLXBoRGSAYcIgWeAJIUNj7adgrCmxjTfI/lbE8QsSkTxWNppTnbJffh/xnxTdPtmTlULQBUocA4w9G/aQsKurJyazYzYgxyAwYG2iLCULqV+ucbQCuo6BD0e+zZoTZRgr28Xel1/Rn/VeUNvA2C5TDQ2aB1fAzLp+s/IuJSkOZRniJ6BJYAOhC6NIptVrQLDQdsL9UoP5SjIQPFVfWeudPZ8/H+fffp1XmlTWJBD9iuCEkj4YN7ixdevKp2mjuiEV4AlgUmHgpJWohu2+8wC5h8APBo/MxlK1V2fbcx45H6lfwd7PHGtYvhP5TljIXkHP+3P0zq8gKd+lu6JVIIFgBiDbIuomD6qbr9X1/XwNAv8JDU921IFZe5yAnzef1h+gnekaz9bBEfLL48WYvxa4pLJFLPTn52QGIazgKqA/IVwkJafyrI+yQDiBfw0FnUvtkb+WnJrYXdJfuJ/GXwXcz5lIlOHPVUlkQtR8a/Xv7+Cqt+Yk4ssgwaAQ4LKiUqWPafsu3jT5OwcBwkhkjmwT3JiEXHtep5/8H7qeM9tFF5lSpQzlxp8AF3mUc1mtpWispJohzGBUIDOhHyO75yOr5DFB97r9yYSnytBQw9YKWnWdY59/X8KfdR0s2c2VhhBPSmmD2f1mdtUw5ytW5tXjSWEKoCPgUeIB5RTpHu4pM/X6AIDDh3gNW9Mxl8Vb7h5PH9mfzN63G/QYLJNTjeXHpcEZuoc0cy5cKXjlNiI0YEYgMGDpYxjmmis8cEW2tTzFA69J7o/CVXEZix0sXz2f9p9cnYOajNZmEQaLbcTgPmO3/nGy7DynTmPP4VvgP2A44bhkYKhHbXey9Hk6P4KGSAyGkkAXf1sY3i5frp/XHvMcXNj61D7OpAisAh07vTURL1iqDCXZ4qRggKA1YLtivGXV6livi/Wv+/9CdEjIzztUURkZHKze85/iX7wd0xsGVwHSOwwwhea/YrjrcoPtKKgOZF4htWAi4CfhdiPyp7SsSXI0eDN+gEVUi6xRSJax2rvdhV+7X9kfJ5z/GUOVJg+fybIDIfy19jNwGyrmZkWjHODDYAKglSJm5VdpuS6VNKv6+QF2x97OLpOqmF9cJV6hH8Wf095bm7nXmJLsTTIG7QBj+dwzme3a6NWk9KHXYE8gHuE7Y0rnJ2ue8Ta3LT28RB5KjdCLFd2aFt1T33/f0t9UnVpaBxXJEJkKtsQnvbF3GfEjK4dnOONdYQ7gGCB2odhk3ujebeEzqTnygHdG8U0c0v2XnluVnkZf4J/j3pzcJxhqU5nOMYfzwWZ6z/S0rpNpo+VS4kGgg6AeIMfjKaZfKvgwOzYnfLdDJQmqz4fVAlmqHNpfO5/EX7ndrtqElqfRT4u6xS3+rzgEcjBsbuezo+YhYmA14B/hkSRsaAgtMHKoOOw/dgXADEZSClcWGz4d4x+zX+te1pyNmTcUQ88vCPoCarvG9ZPvkep5ZfkitGCAoCWgnCKPZdyqFa9CdWK7sYIpSIOO/xQgWPWcWJ7vH+2flx48WzxXAhJDDL1GNL+u+TKywu1c6HWkdyG+oBwgEWFQ48AntywDcej35b5zBMvLatEQ1kaanp23n32f6x8I3S3ZvlUpz+oJ/4NvvMB2t3BV6xWmpyMvIMXgNSB4IjvlH+l3rkx0XvqrQStHmI3w03fYOdvOnpofzp/snkKb7dfXUzMNfgc7ALB6JDPabhEpPyTP4iMgSuAK4RgjWmbra1nw67bffW8D1IpK0FGVsBn3XQOff1/iX3NdRxp/1cvQ4orERLW9/LdfMV9r+KccY7IhE+ANIFvh72SpKJ4tmXNcuaSAKwaqDN2SiNe2m3yePN+nH/negZxZGKeT3859CAGB87sY9PZuy2nPpbBiT+CB4Axg5yL7JiTqtG/xNdn8acLaiWaPTNTS2Uhcx58439Gfll3ZmvvWqRGYS8fFu/76+Erybmyh59lkPWFp4C1gB6GqJDhnyazpslw4nj8pRbfLxZHT1uwa4p3XH7df/x75XL3ZMtSIj3nJB8L3/BC11y/LaqbmGOLE4MFgFmC9omLlo+nTbzj01Xtjwd4Ifk5CVC7YkZxDXumf+F+xXiUbcddB0orMycaCQDs5efMCbZHonaSQocigViA7oSxjjid6K/2xXXeXviYEgoso0NiWGppAnakffx/8XyldHBn4VW1QNEoNA/19Czb78JErRWbJI0IhCSAoYFviEWUo6TauA/QSOl1A30dSDbLTBJgTm/ceUl/W38ReqRvhWBXTec2KB4kBPXpstBsuR+lpJSuiL6BHYDdg9eMqZq/rFXChNpG9IYOKigeQF9VCGdcdMp8+X/FfUZ2zWnhWDhEryxFEw35H9+TxnGwqJ0Djx6FZYALgQiHHJLQoXq1R8xB5Vv/exmJMnhJT105bYp4yX6zfz17mHErY5JQlTohIj4IA+6I1OK8D6jvljqKe4IDgO2CG4s0mKupxL6c1jHwcAo/JIg8RFKLZJdy0HvUf3d+yHcPbMpbqEeCMFIXJ/0b40XKs7NWoP+QVIbIgJaAwYUQkBSfLbKMyEDhQPtyFb0uEkZzWgZrGXcpful/SHxtc7ZluFM0PhImVQwV8mrYasAWq1WZ5YtZgwuAH4J/iduVr6ZFu7/SIOxXBkog4jgVT/RhtHC2eo5/CX8reTRuml4FS0g0WBtBAR7nBs4ItxyjGZOrh02BQ4CZhCGOc5z1ruDESN0m92MR5SqZQoBXuGiIdWd9/n8zfSR1J2jIVsJB+ClqECz2V9wCxDOu1puvjViENIBxgQGInpPKo9e37s4V6D0CTRwtNdBLQl+zbnt5Jn94f216PHBRYU9OADhXH1wFKOvU0XG6/KVQlSGJ8oERgJODUIzrmdKrRMFZ2Q/zTw0BJw8/dVROZtlzhHzxf/19vHZ8asFZP0XTLXoURfpN4KrHZrFxnpePd4V/gOWAo4Z9kf2gfbQqyxDkI/5JGGoxd0h4XJVsIHidfsd/kHsmcu9jg1GqO04jdQk4767V7b3zqKKXtoq5ggKArYKein+Xxqi4vXXV++44CRMjdDtUUcljCnKAe8N/pn41eLVsolypSKIxhBhg/kvkYcuutCahnJG3huyAeoBlhXqPSp42sXPHEuAI+j4Umi0LRZVZWmqldvJ983+SfPJzcmajVEQ/OyeMDUzzlNl5wQCsEJpqjKGDE4DogQqJLpXQpT66m9Hs6h8FHB/JNx5OKmEecFx6c38tf4550W5rXwFMZDWJHHoCUegmzwq49KO+kxeIeoExgEiElI2wmwSuzMMc3O/1LRC+KY5Bm1YDaAt1J33+f3N9oHXbaKxXzUIeK58RY/eD3RbFJK+ZnD2OqoRHgESBlof5kvOi1rbOzeLmBAEcGxA01EpxXhVuF3kBf5N/x3rQcBtiRU8YOYUglAZd7PjSeLvbpv2VlokqggmAS4PMizCZ6Ko1wDDY2fEZDNcl/j2KU5FlU3M6fOd/M34vdyhrnlpFRvYurhV9+3zhw8hesjyfLZDThZyAwoBChuGQLaCCsw7K3+Lq/BYXSjB1R59b7muzd25+13/ge7JysWRzUr08eSSsCm7w1db5vtipWJg0i/qCA4BvgiOKzJbip668T9TG7QEI5iFfOmJQBGN7cSx7r3/Sfp94WG14XapJwTK3GZj/fOV+zKu1+aE7khyHE4FhgA2F5o6BnUGwXMbk3tD4CRN2LAREtViraS92uX36f9h8dXQsZ4xVUkBkKMIOg/S+2orC7azOmvKM7IMfgLSBmIiDlPSkObl50Lnp5wPtHbA2Jk1dYIZv/nlUf09/7nlsbzpg+0x/NrkdsgOE6UfQDbnOpGaUhYirgSGA+YMJje+aFq25wvHauPT3DpcogUC0VUxnjHTkfPt/r30ado1pjljWQ0Qs1BKb+LDeLMYXsF+dzY7+hF2AGoEuh1eSHaLXta/MseXN/+sZ8zLVSZ1ddG2weNl+q38ee2Nx4mI5UC86syHMB5HtHdSBvLynrZYOimSCBIAGg0qLeJgAqie/CNej8OIKrSTtPJxS0mTKcu172n9lfqB30Wt6W0lHGDDhFrX8q+LdyVezCqDGkDGGvIChgOOFR5Bfn4iy9Miw4bL74xUoL3FGxFpFa0N3PH7lfy18O3NwZWFTzz2kJeMLpPH91wbAwKoQmbWLP4MIgDSCqokblgGnpbsq05LsyQa5IEg5b089Yupw1nqXf/p+Bnn5bU1eqErfM+gazwCu5p3NqrbOot2ShIc8gUqAuIRVjrucTq9GxbfdmffUEVEr+0LTV/potXV9ff5/G331dORnc1ZfQYwp+A+69enbncPbrY+bfI06hC6AgoEpiNuTGqQ2uFjPheivAr0clTUsTI9f7G6feTN/bn9MegRwB2H0TZk36B7qBLfqadERuqqlEJX2iN6BFYCug4GMMZoprKjBx9mB88ENbidyP8tUk2YJdJ589H/pfZF2PGpvWd5EaC0JFNL53t9DxwyxJ55gj1aFdYDygMiGt5FKodm0kst/5JX+uRjUMdZIx1zRbEd4rn7Af3J78nGnYytRRDvgIgMJxu5C1Yu9n6hgl4iKooICgMSCy4rBlxqpG77h1W3vqwmBI9k7rVEQZD5ynnvKf5V+DXh4bFNcS0g5MRQY7f3b4/nKUrTZoGKRkobfgISAh4Wwj5SekbHax4Hge/qvFAUubEXnWZlq0HYHfvB/d3zCcy5mTVTgPs4mGg3a8ibZFcGqq8uZOYyGgxCA/IE1iW2VIqaeugbSXeuSBYsfMTh5TnRhVXB9en1/IH9qeZhuHl+lS/w0GRwHAuDnvM6rt6WjgZPvh2mBN4BlhMeN95tdrjHEitxh9p8QKyrwQe9WRmg5dT59/n9cfXN1mWhYV2tCsiouEfH2Fd2xxMyuUZwIjouEQIBUgb2HNZNBozS3OM5T53cBjBt5NDBLvl5Pbjx5D3+Kf6Z6mnDRYepOsjgWICEG6+uN0he7iaa9lWqJFYIMgGWD/It1mT6rmMCd2EvyiwxFJmM+4FPXZYRzVXzrfx9+BXfpak1a5UWLLj0VCvsM4VzIA7LxnvaPsYWRgM6AZYYakXmg3rN2yk/jXf2HF7Qw1EfvWyts23d/ftF/w3t/cmpkG1JYPAskOgr872nWlr6EqRWYBoviggKAhYJPig2XNqgQvbvUOO5zCFUixTq7UE1jsHFLe7Z/wn54eB1tKl1MSVgyRhkl/wzlFsxOtauhAJL2hgSBaoAthRyPy52bsMPGU99D+XoT4SxlRAhZ62lads99+H++fEZ06GY3Ve8/9ydQDhH0UNomwpasiJq/jNCDGoDGgcKIwpRFpZm549Ap6loEXB4XN4FNqWC/byF6YH9Df8t5NG/uX6BMGDZJHT8DE+ndz624fqQolFyImYEngBaEPI02m22tHsNf2yr1aQ8DKeRACVaQZ7t0/Xz8f5l97nVMaTxYdUPYK2MSKPhC3sbFvq8WnZiO34RUgCmBVIeSkmuiNbYZzSHmPwBbGlwzM0rrXa9t1njPd8FxfGfmWfBJizifJv0UYARj9Xro+90W1tjQMc72zefPsdP42FjfbebV7Tf1QfyvAk4I9QyNEAsTchTSFEQU5hLfEFgOegttCFkFYAKh/zH9JPuF+Vv4pfde9373+Pe8+Lv54/oj/Gv9q/7X/+MAyQGDAg0DZgOQA48DZwMdA7oCQwLBATkBswA0AMH/XP8K/8v+oP6J/oX+kf6s/g==\" type=\"audio/wav\" />\n                    Your browser does not support the audio element.\n                </audio>\n              ",
          "text/plain": "<IPython.lib.display.Audio object>"
         },
         "metadata": {},
         "output_type": "display_data"
        }
       ]
      }
     },
     "f7a4fccb5f3c4cce8dd5d7eef46ed60c": {
      "model_module": "@jupyter-widgets/controls",
      "model_module_version": "1.5.0",
      "model_name": "ButtonModel",
      "state": {
       "description": "C#",
       "layout": "IPY_MODEL_ab82f944a03c491591a434537bf043a0",
       "style": "IPY_MODEL_55693a908c0c4bd5b6c6af62b168d78c"
      }
     },
     "f856b57e0a8448d1ba056f39c4d323e0": {
      "model_module": "@jupyter-widgets/controls",
      "model_module_version": "1.5.0",
      "model_name": "ButtonStyleModel",
      "state": {}
     },
     "f8ce2d0ad5fa4eae941a6ebdaf61158b": {
      "model_module": "@jupyter-widgets/controls",
      "model_module_version": "1.5.0",
      "model_name": "ButtonModel",
      "state": {
       "description": "B",
       "layout": "IPY_MODEL_ab82f944a03c491591a434537bf043a0",
       "style": "IPY_MODEL_6a33ca30adec4e39a53f2f1f0ae439c5"
      }
     },
     "fb9e4acc359642d18f34b6ba04ddacea": {
      "model_module": "@jupyter-widgets/controls",
      "model_module_version": "1.5.0",
      "model_name": "ButtonStyleModel",
      "state": {
       "button_color": "white",
       "font_weight": "bold"
      }
     },
     "fcf94083be344548a75756523e4f7b31": {
      "model_module": "@jupyter-widgets/controls",
      "model_module_version": "1.5.0",
      "model_name": "ButtonStyleModel",
      "state": {
       "button_color": "white",
       "font_weight": "bold"
      }
     },
     "fd5572d1fc34429c815f7be744a9b254": {
      "model_module": "@jupyter-widgets/controls",
      "model_module_version": "1.5.0",
      "model_name": "ButtonModel",
      "state": {
       "description": "D",
       "layout": "IPY_MODEL_9eae907ebbd84b6489cd2c09e27251d3",
       "style": "IPY_MODEL_8c0dae4a7a9145c896e2809ba1bae604"
      }
     },
     "fe164efbd2074db1b36d22fade53ba5f": {
      "model_module": "@jupyter-widgets/base",
      "model_module_version": "1.2.0",
      "model_name": "LayoutModel",
      "state": {
       "width": "100px"
      }
     },
     "fe8268cd61af4029909c3ff25e7d0107": {
      "model_module": "@jupyter-widgets/controls",
      "model_module_version": "1.5.0",
      "model_name": "ButtonStyleModel",
      "state": {}
     },
     "ff4f81002a5a40eab26ede55cb53bb24": {
      "model_module": "@jupyter-widgets/controls",
      "model_module_version": "1.5.0",
      "model_name": "ButtonStyleModel",
      "state": {
       "button_color": "#BBBBBB",
       "font_weight": "bold"
      }
     },
     "ff8214748d8c4ea4b67a1b5612122793": {
      "model_module": "@jupyter-widgets/controls",
      "model_module_version": "1.5.0",
      "model_name": "ButtonModel",
      "state": {
       "description": "67",
       "layout": "IPY_MODEL_bb2fe2cbc9694d418d4cc921bc343fc7",
       "style": "IPY_MODEL_1742b7f5f6c84d09837f018f7c018ea1"
      }
     },
     "ffc120c010ac43848b9c615c34838a20": {
      "model_module": "@jupyter-widgets/controls",
      "model_module_version": "1.5.0",
      "model_name": "ButtonStyleModel",
      "state": {}
     }
    },
    "version_major": 2,
    "version_minor": 0
   }
  }
 },
 "nbformat": 4,
 "nbformat_minor": 4
}
