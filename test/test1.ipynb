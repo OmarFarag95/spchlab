{
 "cells": [
  {
   "cell_type": "markdown",
   "metadata": {
    "colab_type": "text",
    "id": "view-in-github"
   },
   "source": [
    "<a href=\"https://colab.research.google.com/github/compi1234/spchlab/blob/master/test/test1.ipynb\" target=\"_parent\"><img src=\"https://colab.research.google.com/assets/colab-badge.svg\" alt=\"Open In Colab\"/></a>"
   ]
  },
  {
   "cell_type": "code",
   "execution_count": 2,
   "metadata": {
    "colab": {
     "base_uri": "https://localhost:8080/",
     "height": 34
    },
    "colab_type": "code",
    "id": "p97_L6mxDPf7",
    "outputId": "2fa0f40b-0b6a-4380-84d2-557a2394c280"
   },
   "outputs": [
    {
     "name": "stdout",
     "output_type": "stream",
     "text": [
      "4\n"
     ]
    }
   ],
   "source": [
    "import numpy as np\n",
    "i = 2\n",
    "print(i*i)"
   ]
  },
  {
   "cell_type": "code",
   "execution_count": 1,
   "metadata": {},
   "outputs": [
    {
     "name": "stdout",
     "output_type": "stream",
     "text": [
      "Help on package spchutils:\n",
      "\n",
      "NAME\n",
      "    spchutils\n",
      "\n",
      "PACKAGE CONTENTS\n",
      "    GaussianMixtureClf\n",
      "    hildata\n",
      "    version\n",
      "\n",
      "VERSION\n",
      "    0.1.0-2019b\n",
      "\n",
      "FILE\n",
      "    c:\\programdata\\anaconda3\\lib\\site-packages\\spchutils\\__init__.py\n",
      "\n",
      "\n"
     ]
    }
   ],
   "source": [
    "import pkg_resources, sys, os\n",
    "\n",
    "try:\n",
    "  import google.colab\n",
    "  IN_COLAB = True\n",
    "  ! pip install git+https://github.com/compi1234/spchlab.git\n",
    "except:\n",
    "  IN_COLAB = False\n",
    "  \n",
    "#try:\n",
    "#    package_dist_info = pkg_resources.get_distribution('spchutils')\n",
    "#except:\n",
    "#    print('{} not installed in standard path, trying to find it locall ..'.format('spchutils'))\n",
    "#    package_dir = 'C:\\\\Users\\\\compi\\\\Nextcloud\\\\GitHub\\\\spchlab'        \n",
    "#    os.chdir(package_dir)   \n",
    "\n",
    "from spchutils.hildata import fetch_hillenbrand       \n",
    "help('spchutils')"
   ]
  },
  {
   "cell_type": "code",
   "execution_count": 3,
   "metadata": {
    "colab": {
     "base_uri": "https://localhost:8080/",
     "height": 299
    },
    "colab_type": "code",
    "id": "UKXo2q8plGoN",
    "outputId": "f1e3f18c-948a-4c2f-9ba5-bdd23a359b5d"
   },
   "outputs": [
    {
     "name": "stdout",
     "output_type": "stream",
     "text": [
      "Collecting git+https://github.com/compi1234/scikit-speech.git\n",
      "  Cloning https://github.com/compi1234/scikit-speech.git to /tmp/pip-req-build-7yo0k1ai\n",
      "  Running command git clone -q https://github.com/compi1234/scikit-speech.git /tmp/pip-req-build-7yo0k1ai\n",
      "Requirement already satisfied: numpy in /usr/local/lib/python3.6/dist-packages (from skspeech==0.0.2) (1.17.3)\n",
      "Requirement already satisfied: pandas in /usr/local/lib/python3.6/dist-packages (from skspeech==0.0.2) (0.25.2)\n",
      "Requirement already satisfied: pytz>=2017.2 in /usr/local/lib/python3.6/dist-packages (from pandas->skspeech==0.0.2) (2018.9)\n",
      "Requirement already satisfied: python-dateutil>=2.6.1 in /usr/local/lib/python3.6/dist-packages (from pandas->skspeech==0.0.2) (2.6.1)\n",
      "Requirement already satisfied: six>=1.5 in /usr/local/lib/python3.6/dist-packages (from python-dateutil>=2.6.1->pandas->skspeech==0.0.2) (1.12.0)\n",
      "Building wheels for collected packages: skspeech\n",
      "  Building wheel for skspeech (setup.py) ... \u001b[?25l\u001b[?25hdone\n",
      "  Created wheel for skspeech: filename=skspeech-0.0.2-cp36-none-any.whl size=64031 sha256=40fab2b0a3a844852ac64888af6e24aae3d21701a837defa4e89b0d8e7b1902e\n",
      "  Stored in directory: /tmp/pip-ephem-wheel-cache-9ujab01a/wheels/a1/8d/10/132b39e6e44c9abafd4b2b2af02d7f10b6e3f21b6ae6a1a476\n",
      "Successfully built skspeech\n",
      "Installing collected packages: skspeech\n",
      "Successfully installed skspeech-0.0.2\n"
     ]
    }
   ],
   "source": [
    "\n",
    "! pip install git+https://github.com/compi1234/scikit-speech.git"
   ]
  },
  {
   "cell_type": "code",
   "execution_count": 7,
   "metadata": {
    "colab": {
     "base_uri": "https://localhost:8080/",
     "height": 1000
    },
    "colab_type": "code",
    "id": "zI7uwxtWldln",
    "outputId": "60820b36-07ed-4ce1-dfa8-b1ec5430e748"
   },
   "outputs": [
    {
     "name": "stdout",
     "output_type": "stream",
     "text": [
      "Created temporary directory: /tmp/pip-ephem-wheel-cache-uikcz8j4\n",
      "Created temporary directory: /tmp/pip-req-tracker-et1woq8q\n",
      "Created requirements tracker '/tmp/pip-req-tracker-et1woq8q'\n",
      "Created temporary directory: /tmp/pip-install-1k4_9jrw\n",
      "Collecting git+https://github.com/compi1234/spchlab.git\n",
      "  Created temporary directory: /tmp/pip-req-build-oyh6rnev\n",
      "  Cloning https://github.com/compi1234/spchlab.git to /tmp/pip-req-build-oyh6rnev\n",
      "  Running command git clone -q https://github.com/compi1234/spchlab.git /tmp/pip-req-build-oyh6rnev\n",
      "  Added git+https://github.com/compi1234/spchlab.git to build tracker '/tmp/pip-req-tracker-et1woq8q'\n",
      "    Running setup.py (path:/tmp/pip-req-build-oyh6rnev/setup.py) egg_info for package from git+https://github.com/compi1234/spchlab.git\n",
      "    Running command python setup.py egg_info\n",
      "    running egg_info\n",
      "    creating /tmp/pip-req-build-oyh6rnev/pip-egg-info/spchlab.egg-info\n",
      "    writing /tmp/pip-req-build-oyh6rnev/pip-egg-info/spchlab.egg-info/PKG-INFO\n",
      "    writing dependency_links to /tmp/pip-req-build-oyh6rnev/pip-egg-info/spchlab.egg-info/dependency_links.txt\n",
      "    writing requirements to /tmp/pip-req-build-oyh6rnev/pip-egg-info/spchlab.egg-info/requires.txt\n",
      "    writing top-level names to /tmp/pip-req-build-oyh6rnev/pip-egg-info/spchlab.egg-info/top_level.txt\n",
      "    writing manifest file '/tmp/pip-req-build-oyh6rnev/pip-egg-info/spchlab.egg-info/SOURCES.txt'\n",
      "    package init file 'utils/__init__.py' not found (or not a regular file)\n",
      "    package init file 'session3/__init__.py' not found (or not a regular file)\n",
      "    writing manifest file '/tmp/pip-req-build-oyh6rnev/pip-egg-info/spchlab.egg-info/SOURCES.txt'\n",
      "  Source in /tmp/pip-req-build-oyh6rnev has version 0.0.1, which satisfies requirement spchlab==0.0.1 from git+https://github.com/compi1234/spchlab.git\n",
      "  Removed spchlab==0.0.1 from git+https://github.com/compi1234/spchlab.git from build tracker '/tmp/pip-req-tracker-et1woq8q'\n",
      "Requirement already satisfied: numpy in /usr/local/lib/python3.6/dist-packages (from spchlab==0.0.1) (1.17.3)\n",
      "Requirement already satisfied: pandas in /usr/local/lib/python3.6/dist-packages (from spchlab==0.0.1) (0.25.2)\n",
      "Requirement already satisfied: python-dateutil>=2.6.1 in /usr/local/lib/python3.6/dist-packages (from pandas->spchlab==0.0.1) (2.6.1)\n",
      "Requirement already satisfied: pytz>=2017.2 in /usr/local/lib/python3.6/dist-packages (from pandas->spchlab==0.0.1) (2018.9)\n",
      "Requirement already satisfied: six>=1.5 in /usr/local/lib/python3.6/dist-packages (from python-dateutil>=2.6.1->pandas->spchlab==0.0.1) (1.12.0)\n",
      "Building wheels for collected packages: spchlab\n",
      "  Created temporary directory: /tmp/pip-wheel-66noayci\n",
      "  Building wheel for spchlab (setup.py) ... \u001b[?25l  Destination directory: /tmp/pip-wheel-66noayci\n",
      "  Running command /usr/bin/python3 -u -c 'import sys, setuptools, tokenize; sys.argv[0] = '\"'\"'/tmp/pip-req-build-oyh6rnev/setup.py'\"'\"'; __file__='\"'\"'/tmp/pip-req-build-oyh6rnev/setup.py'\"'\"';f=getattr(tokenize, '\"'\"'open'\"'\"', open)(__file__);code=f.read().replace('\"'\"'\\r\\n'\"'\"', '\"'\"'\\n'\"'\"');f.close();exec(compile(code, __file__, '\"'\"'exec'\"'\"'))' bdist_wheel -d /tmp/pip-wheel-66noayci --python-tag cp36\n",
      "  running bdist_wheel\n",
      "  running build\n",
      "  running build_py\n",
      "  package init file 'utils/__init__.py' not found (or not a regular file)\n",
      "  creating build\n",
      "  creating build/lib\n",
      "  creating build/lib/utils\n",
      "  copying utils/hildata.py -> build/lib/utils\n",
      "  package init file 'session3/__init__.py' not found (or not a regular file)\n",
      "  running egg_info\n",
      "  creating spchlab.egg-info\n",
      "  writing spchlab.egg-info/PKG-INFO\n",
      "  writing dependency_links to spchlab.egg-info/dependency_links.txt\n",
      "  writing requirements to spchlab.egg-info/requires.txt\n",
      "  writing top-level names to spchlab.egg-info/top_level.txt\n",
      "  writing manifest file 'spchlab.egg-info/SOURCES.txt'\n",
      "  writing manifest file 'spchlab.egg-info/SOURCES.txt'\n",
      "  creating build/lib/session3\n",
      "  copying session3/hillenbrand-1.0.ipynb -> build/lib/session3\n",
      "  creating build/lib/session3/.ipynb_checkpoints\n",
      "  copying session3/.ipynb_checkpoints/hildata-checkpoint.py -> build/lib/session3/.ipynb_checkpoints\n",
      "  copying session3/.ipynb_checkpoints/hillenbrand-1.0-checkpoint.ipynb -> build/lib/session3/.ipynb_checkpoints\n",
      "  copying session3/.ipynb_checkpoints/hillenbrand-1.1-checkpoint.ipynb -> build/lib/session3/.ipynb_checkpoints\n",
      "  creating build/lib/session3/__pycache__\n",
      "  copying session3/__pycache__/hildata.cpython-36.pyc -> build/lib/session3/__pycache__\n",
      "  installing to build/bdist.linux-x86_64/wheel\n",
      "  running install\n",
      "  running install_lib\n",
      "  creating build/bdist.linux-x86_64\n",
      "  creating build/bdist.linux-x86_64/wheel\n",
      "  creating build/bdist.linux-x86_64/wheel/utils\n",
      "  copying build/lib/utils/hildata.py -> build/bdist.linux-x86_64/wheel/utils\n",
      "  creating build/bdist.linux-x86_64/wheel/session3\n",
      "  creating build/bdist.linux-x86_64/wheel/session3/__pycache__\n",
      "  copying build/lib/session3/__pycache__/hildata.cpython-36.pyc -> build/bdist.linux-x86_64/wheel/session3/__pycache__\n",
      "  copying build/lib/session3/hillenbrand-1.0.ipynb -> build/bdist.linux-x86_64/wheel/session3\n",
      "  creating build/bdist.linux-x86_64/wheel/session3/.ipynb_checkpoints\n",
      "  copying build/lib/session3/.ipynb_checkpoints/hildata-checkpoint.py -> build/bdist.linux-x86_64/wheel/session3/.ipynb_checkpoints\n",
      "  copying build/lib/session3/.ipynb_checkpoints/hillenbrand-1.1-checkpoint.ipynb -> build/bdist.linux-x86_64/wheel/session3/.ipynb_checkpoints\n",
      "  copying build/lib/session3/.ipynb_checkpoints/hillenbrand-1.0-checkpoint.ipynb -> build/bdist.linux-x86_64/wheel/session3/.ipynb_checkpoints\n",
      "  running install_egg_info\n",
      "  Copying spchlab.egg-info to build/bdist.linux-x86_64/wheel/spchlab-0.0.1-py3.6.egg-info\n",
      "  running install_scripts\n",
      "  adding license file \"LICENSE.txt\" (matched pattern \"LICEN[CS]E*\")\n",
      "  adding license file \"AUTHORS.rst\" (matched pattern \"AUTHORS*\")\n",
      "  creating build/bdist.linux-x86_64/wheel/spchlab-0.0.1.dist-info/WHEEL\n",
      "  creating '/tmp/pip-wheel-66noayci/spchlab-0.0.1-cp36-none-any.whl' and adding 'build/bdist.linux-x86_64/wheel' to it\n",
      "  adding 'session3/hillenbrand-1.0.ipynb'\n",
      "  adding 'session3/.ipynb_checkpoints/hildata-checkpoint.py'\n",
      "  adding 'session3/.ipynb_checkpoints/hillenbrand-1.0-checkpoint.ipynb'\n",
      "  adding 'session3/.ipynb_checkpoints/hillenbrand-1.1-checkpoint.ipynb'\n",
      "  adding 'session3/__pycache__/hildata.cpython-36.pyc'\n",
      "  adding 'utils/hildata.py'\n",
      "  adding 'spchlab-0.0.1.dist-info/AUTHORS.rst'\n",
      "  adding 'spchlab-0.0.1.dist-info/LICENSE.txt'\n",
      "  adding 'spchlab-0.0.1.dist-info/METADATA'\n",
      "  adding 'spchlab-0.0.1.dist-info/WHEEL'\n",
      "  adding 'spchlab-0.0.1.dist-info/top_level.txt'\n",
      "  adding 'spchlab-0.0.1.dist-info/RECORD'\n",
      "  removing build/bdist.linux-x86_64/wheel\n",
      "\u001b[?25hdone\n",
      "  Created wheel for spchlab: filename=spchlab-0.0.1-cp36-none-any.whl size=219120 sha256=e5397ee30e03292b9cc0d8b52a2d02f76d89f889bde2d698165ea9d2a0e362d1\n",
      "  Stored in directory: /tmp/pip-ephem-wheel-cache-uikcz8j4/wheels/7c/9f/61/13c54821558a768884d966e08cccd30e00e66a4fc6924bf73b\n",
      "  Removing source in /tmp/pip-req-build-oyh6rnev\n",
      "Successfully built spchlab\n",
      "Installing collected packages: spchlab\n",
      "\n",
      "Successfully installed spchlab-0.0.1\n",
      "Cleaning up...\n",
      "Removed build tracker '/tmp/pip-req-tracker-et1woq8q'\n"
     ]
    }
   ],
   "source": [
    "! pip install git+https://github.com/compi1234/spchlab.git -vvv"
   ]
  },
  {
   "cell_type": "code",
   "execution_count": null,
   "metadata": {
    "colab": {},
    "colab_type": "code",
    "id": "PgAk3kh1mobD"
   },
   "outputs": [],
   "source": [
    "import utils\n"
   ]
  },
  {
   "cell_type": "code",
   "execution_count": 11,
   "metadata": {
    "colab": {
     "base_uri": "https://localhost:8080/",
     "height": 227
    },
    "colab_type": "code",
    "id": "Z3VZBdHGm48u",
    "outputId": "e11a5119-dd41-4de4-aa3f-27d111587a42"
   },
   "outputs": [
    {
     "name": "stdout",
     "output_type": "stream",
     "text": [
      "Help on package utils:\n",
      "\n",
      "NAME\n",
      "    utils\n",
      "\n",
      "PACKAGE CONTENTS\n",
      "    hildata\n",
      "\n",
      "FILE\n",
      "    (built-in)\n",
      "\n",
      "\n"
     ]
    }
   ],
   "source": [
    "help(utils)"
   ]
  },
  {
   "cell_type": "code",
   "execution_count": 3,
   "metadata": {},
   "outputs": [],
   "source": [
    "test = np.array(['m','w','asf'])"
   ]
  },
  {
   "cell_type": "code",
   "execution_count": 5,
   "metadata": {},
   "outputs": [
    {
     "data": {
      "text/plain": [
       "(array(['m', 'w', 'asf'], dtype='<U3'), (3,), dtype('<U3'))"
      ]
     },
     "execution_count": 5,
     "metadata": {},
     "output_type": "execute_result"
    }
   ],
   "source": [
    "test, test.shape, test.dtype\n"
   ]
  },
  {
   "cell_type": "code",
   "execution_count": 6,
   "metadata": {},
   "outputs": [],
   "source": [
    "test = np.full((6,),'i','<U2')"
   ]
  },
  {
   "cell_type": "code",
   "execution_count": 8,
   "metadata": {},
   "outputs": [],
   "source": [
    "test[2:4] =  np.full((2,),'a','<U2')"
   ]
  },
  {
   "cell_type": "code",
   "execution_count": 9,
   "metadata": {},
   "outputs": [
    {
     "data": {
      "text/plain": [
       "array(['i', 'i', 'a', 'a', 'i', 'i'], dtype='<U2')"
      ]
     },
     "execution_count": 9,
     "metadata": {},
     "output_type": "execute_result"
    }
   ],
   "source": [
    "test"
   ]
  },
  {
   "cell_type": "code",
   "execution_count": null,
   "metadata": {},
   "outputs": [],
   "source": []
  }
 ],
 "metadata": {
  "colab": {
   "include_colab_link": true,
   "name": "Untitled1.ipynb",
   "provenance": []
  },
  "kernelspec": {
   "display_name": "Python 3",
   "language": "python",
   "name": "python3"
  },
  "language_info": {
   "codemirror_mode": {
    "name": "ipython",
    "version": 3
   },
   "file_extension": ".py",
   "mimetype": "text/x-python",
   "name": "python",
   "nbconvert_exporter": "python",
   "pygments_lexer": "ipython3",
   "version": "3.6.7"
  }
 },
 "nbformat": 4,
 "nbformat_minor": 2
}
