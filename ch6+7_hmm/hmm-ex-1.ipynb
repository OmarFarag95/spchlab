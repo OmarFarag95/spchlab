{
 "cells": [
  {
   "cell_type": "markdown",
   "metadata": {},
   "source": [
    "### HMM EXERCISE 1 \n",
    "\n",
    "**Author:** Dirk Van Compernolle      \n",
    "\n",
    "**History:**  \n",
    "- 14/11/2019 created   \n",
    "- 16/06/2021 adapted to pyspch (2021)   \n",
    "\n",
    "**Dependencies:**\n",
    "- pyspch   "
   ]
  },
  {
   "cell_type": "code",
   "execution_count": 11,
   "metadata": {},
   "outputs": [],
   "source": [
    "# check the environment and add installs as needed\n",
    "try:\n",
    "  import google.colab\n",
    "  IN_COLAB = True\n",
    "except:\n",
    "  IN_COLAB = False\n",
    "\n",
    "try:\n",
    "    import pyspch\n",
    "except:\n",
    "    ! pip install git+https://github.com/compi1234/pyspeech.git\n",
    "    import pyspch"
   ]
  },
  {
   "cell_type": "code",
   "execution_count": 12,
   "metadata": {},
   "outputs": [],
   "source": [
    "# do all the imports\n",
    "%matplotlib inline\n",
    "\n",
    "import sys, os\n",
    "import numpy as np\n",
    "import pandas as pd\n",
    "from IPython.display import display, HTML\n",
    "import matplotlib.pyplot as plt\n",
    "import matplotlib as mpl\n",
    "import seaborn as sns\n",
    "\n",
    "import pyspch.libhmm as libhmm\n",
    "import pyspch.utils as u\n",
    "import pyspch.libhmm_plot as hmmplot"
   ]
  },
  {
   "cell_type": "code",
   "execution_count": null,
   "metadata": {},
   "outputs": [],
   "source": [
    "# graphical and print preferences\n",
    "ldesign = 50\n",
    "cmap = sns.light_palette(\"caramel\",ldesign,input=\"xkcd\")\n",
    "cmap20 = cmap[0:20] \n",
    "pd.reset_option('display.float_format')\n",
    "pd.set_option('precision',3)"
   ]
  },
  {
   "cell_type": "markdown",
   "metadata": {},
   "source": [
    "### Design of a 2-state silence-speech model\n",
    "We are creating a very minimal 2-state discrete Hidden Markov Model\n",
    "- we define the 2 states and give them a name: {SIL, SP}\n",
    "- we define a set of labels as possible observation symbols {A,B,C}  \n",
    "- we define the Amat, Bmat matrices that specify the transition probabilities and the emission probabilities\n",
    "- finally we need to set assumption on start and end of the sequence\n",
    "    + we assume that all sequences will start in the SIL state (implicitly set in the model creation)\n",
    "    + we also assume that all sequences will end in SIL; the admmissible end states are specified in end_states[]\n",
    "- As output we print all model parameters"
   ]
  },
  {
   "cell_type": "code",
   "execution_count": 21,
   "metadata": {},
   "outputs": [
    {
     "data": {
      "image/png": "[encoded data removed]",
      "text/plain": [
       "<Figure size 576x288 with 2 Axes>"
      ]
     },
     "metadata": {
      "needs_background": "light"
     },
     "output_type": "display_data"
    }
   ],
   "source": [
    "Bmat = np.array([ [0.7, 0.1, 0.2], [0.1, 0.5, 0.4] ])\n",
    "Amat = np.array([[0.7, 0.3],[0.3,0.7]])\n",
    "hmm1 = libhmm.DHMM(n_states=2,states=['SIL','SP'],n_symbols=3,labels=['A','B','C'],\n",
    "                   emissionprob=Bmat, transmat=Amat )   \n",
    "# force an alignment to end in SIL state\n",
    "hmm1.end_states=[0]\n",
    "#hmm1.print_model()\n",
    "hmmplot.plot_model(hmm1,figsize=(8,4))"
   ]
  },
  {
   "cell_type": "markdown",
   "metadata": {},
   "source": [
    "### Model Evaluation using the Viterbi Algorithm\n",
    "Hidden Markov Models are probabilistic models used for sequence recognition.   \n",
    "Given an HMM, the most elementary question is \"What is the probability that a sequence came from a particular model?\"   There are 2 algorithms available to answer this question:\n",
    "- The VITERBI algorithm: finds both the likelihood score along that path\n",
    "    + with some extra work, it gives the most likely path (state vs observation alignment) as well\n",
    "    + it is the most commonly used algorithm for recognition purposes\n",
    "- The FORWARD PASS algorithm: finds the true probability that a model generated a given sequence\n",
    "    + it sums the probabilities over all possible paths\n",
    "    + it does not provide an alignment\n",
    "    + it is mainly used for training models in the FORWARD-BACKWARD algorithm\n",
    "    \n",
    "In the next example a short sequence is evaluated against the model using Viterbi. Several stages are highlighted:\n",
    "- FRAME PROBABILITIES: \n",
    "    + these are the likelihood of an observation in a state\n",
    "    + they are computed from the Observation Probabilities and the Observations \n",
    "- TRELLIS: \n",
    "    + in a TRELLIS you can read the likelihood of being in a state at a given time and having observed all the observations from the start till here\n",
    "    + the TRELLIS is filled in a time synchronous way by aggregating the FRAME PROBABILITIES with the transition model "
   ]
  },
  {
   "cell_type": "code",
   "execution_count": 22,
   "metadata": {},
   "outputs": [
    {
     "name": "stdout",
     "output_type": "stream",
     "text": [
      "OBSERVATION SEQUENCE:\n",
      "  ['A' 'B' 'C' 'A'] \n",
      "\n",
      "FRAME PROBABILIITIES and TRELLIS\n"
     ]
    },
    {
     "data": {
      "text/html": [
       "<div>\n",
       "<style scoped>\n",
       "    .dataframe tbody tr th:only-of-type {\n",
       "        vertical-align: middle;\n",
       "    }\n",
       "\n",
       "    .dataframe tbody tr th {\n",
       "        vertical-align: top;\n",
       "    }\n",
       "\n",
       "    .dataframe thead th {\n",
       "        text-align: right;\n",
       "    }\n",
       "</style>\n",
       "<table border=\"1\" class=\"dataframe\">\n",
       "  <thead>\n",
       "    <tr style=\"text-align: right;\">\n",
       "      <th></th>\n",
       "      <th>A</th>\n",
       "      <th>B</th>\n",
       "      <th>C</th>\n",
       "      <th>A</th>\n",
       "    </tr>\n",
       "  </thead>\n",
       "  <tbody>\n",
       "    <tr>\n",
       "      <th>SIL</th>\n",
       "      <td>0.7</td>\n",
       "      <td>0.1</td>\n",
       "      <td>0.2</td>\n",
       "      <td>0.7</td>\n",
       "    </tr>\n",
       "    <tr>\n",
       "      <th>SP</th>\n",
       "      <td>0.1</td>\n",
       "      <td>0.5</td>\n",
       "      <td>0.4</td>\n",
       "      <td>0.1</td>\n",
       "    </tr>\n",
       "  </tbody>\n",
       "</table>\n",
       "</div>"
      ],
      "text/plain": [
       "       A    B    C    A\n",
       "SIL  0.7  0.1  0.2  0.7\n",
       "SP   0.1  0.5  0.4  0.1"
      ]
     },
     "metadata": {},
     "output_type": "display_data"
    },
    {
     "data": {
      "text/html": [
       "<div>\n",
       "<style scoped>\n",
       "    .dataframe tbody tr th:only-of-type {\n",
       "        vertical-align: middle;\n",
       "    }\n",
       "\n",
       "    .dataframe tbody tr th {\n",
       "        vertical-align: top;\n",
       "    }\n",
       "\n",
       "    .dataframe thead th {\n",
       "        text-align: right;\n",
       "    }\n",
       "</style>\n",
       "<table border=\"1\" class=\"dataframe\">\n",
       "  <thead>\n",
       "    <tr style=\"text-align: right;\">\n",
       "      <th></th>\n",
       "      <th>A</th>\n",
       "      <th>B</th>\n",
       "      <th>C</th>\n",
       "      <th>A</th>\n",
       "    </tr>\n",
       "  </thead>\n",
       "  <tbody>\n",
       "    <tr>\n",
       "      <th>SIL</th>\n",
       "      <td>0.7</td>\n",
       "      <td>0.049</td>\n",
       "      <td>0.007</td>\n",
       "      <td>0.006</td>\n",
       "    </tr>\n",
       "    <tr>\n",
       "      <th>SP</th>\n",
       "      <td>0.0</td>\n",
       "      <td>0.105</td>\n",
       "      <td>0.029</td>\n",
       "      <td>0.002</td>\n",
       "    </tr>\n",
       "  </tbody>\n",
       "</table>\n",
       "</div>"
      ],
      "text/plain": [
       "       A      B      C      A\n",
       "SIL  0.7  0.049  0.007  0.006\n",
       "SP   0.0  0.105  0.029  0.002"
      ]
     },
     "metadata": {},
     "output_type": "display_data"
    },
    {
     "name": "stdout",
     "output_type": "stream",
     "text": [
      "BACKPOINTERS\n"
     ]
    },
    {
     "data": {
      "text/html": [
       "<div>\n",
       "<style scoped>\n",
       "    .dataframe tbody tr th:only-of-type {\n",
       "        vertical-align: middle;\n",
       "    }\n",
       "\n",
       "    .dataframe tbody tr th {\n",
       "        vertical-align: top;\n",
       "    }\n",
       "\n",
       "    .dataframe thead th {\n",
       "        text-align: right;\n",
       "    }\n",
       "</style>\n",
       "<table border=\"1\" class=\"dataframe\">\n",
       "  <thead>\n",
       "    <tr style=\"text-align: right;\">\n",
       "      <th></th>\n",
       "      <th>A</th>\n",
       "      <th>B</th>\n",
       "      <th>C</th>\n",
       "      <th>A</th>\n",
       "    </tr>\n",
       "  </thead>\n",
       "  <tbody>\n",
       "    <tr>\n",
       "      <th>SIL</th>\n",
       "      <td>0</td>\n",
       "      <td>0</td>\n",
       "      <td>0</td>\n",
       "      <td>1</td>\n",
       "    </tr>\n",
       "    <tr>\n",
       "      <th>SP</th>\n",
       "      <td>1</td>\n",
       "      <td>0</td>\n",
       "      <td>1</td>\n",
       "      <td>1</td>\n",
       "    </tr>\n",
       "  </tbody>\n",
       "</table>\n",
       "</div>"
      ],
      "text/plain": [
       "     A  B  C  A\n",
       "SIL  0  0  0  1\n",
       "SP   1  0  1  1"
      ]
     },
     "metadata": {},
     "output_type": "display_data"
    },
    {
     "name": "stdout",
     "output_type": "stream",
     "text": [
      "ALIGNMENT\n"
     ]
    },
    {
     "data": {
      "text/html": [
       "<div>\n",
       "<style scoped>\n",
       "    .dataframe tbody tr th:only-of-type {\n",
       "        vertical-align: middle;\n",
       "    }\n",
       "\n",
       "    .dataframe tbody tr th {\n",
       "        vertical-align: top;\n",
       "    }\n",
       "\n",
       "    .dataframe thead th {\n",
       "        text-align: right;\n",
       "    }\n",
       "</style>\n",
       "<table border=\"1\" class=\"dataframe\">\n",
       "  <thead>\n",
       "    <tr style=\"text-align: right;\">\n",
       "      <th></th>\n",
       "      <th>0</th>\n",
       "      <th>1</th>\n",
       "      <th>2</th>\n",
       "      <th>3</th>\n",
       "    </tr>\n",
       "  </thead>\n",
       "  <tbody>\n",
       "    <tr>\n",
       "      <th>X</th>\n",
       "      <td>A</td>\n",
       "      <td>B</td>\n",
       "      <td>C</td>\n",
       "      <td>A</td>\n",
       "    </tr>\n",
       "    <tr>\n",
       "      <th>BT</th>\n",
       "      <td>SIL</td>\n",
       "      <td>SP</td>\n",
       "      <td>SP</td>\n",
       "      <td>SIL</td>\n",
       "    </tr>\n",
       "  </tbody>\n",
       "</table>\n",
       "</div>"
      ],
      "text/plain": [
       "      0   1   2    3\n",
       "X     A   B   C    A\n",
       "BT  SIL  SP  SP  SIL"
      ]
     },
     "metadata": {},
     "output_type": "display_data"
    }
   ],
   "source": [
    "X1 = np.array([  0, 1, 2, 0])\n",
    "print(\"OBSERVATION SEQUENCE:\\n \",hmm1.labels[X1],\"\\n\")\n",
    "trellis1 = libhmm.Trellis(n_samples=len(X1),n_states=hmm1.n_states)\n",
    "trellis1.viterbi_pass(X1,hmm1)\n",
    "trellis1.print(Xlabels=hmm1.labels[X1],Slabels=hmm1.states)"
   ]
  },
  {
   "cell_type": "code",
   "execution_count": 37,
   "metadata": {},
   "outputs": [
    {
     "name": "stdout",
     "output_type": "stream",
     "text": [
      "\n",
      "\n",
      "\n"
     ]
    },
    {
     "data": {
      "image/png": "[encoded data removed]",
      "text/plain": [
       "<Figure size 720x288 with 2 Axes>"
      ]
     },
     "metadata": {
      "needs_background": "light"
     },
     "output_type": "display_data"
    },
    {
     "data": {
      "image/png": "[encoded data removed]",
      "text/plain": [
       "<Figure size 720x288 with 2 Axes>"
      ]
     },
     "metadata": {
      "needs_background": "light"
     },
     "output_type": "display_data"
    }
   ],
   "source": [
    "\n",
    "print(\"\\n\\n\")\n",
    "\n",
    "hmmplot.plot_trellis2(hmm1,X1,cmap=[],vmin=0,vmax=1,fmt=\".2e\",\n",
    "        plot_norm=True,plot_frameprobs=True,plot_backptrs=True,\n",
    "        plot_alignment=True,figsize=(10,4))"
   ]
  },
  {
   "cell_type": "markdown",
   "metadata": {},
   "source": [
    "### A Continuous Density Model\n",
    "The **discrete density** model has symbols as observations and simple discrete density observation probabilities in the Bmat.\n",
    "In a **continous density** model has continuous feature vectors as observations requiring a density model to map from \n",
    "observation to probability of the observation.  In traditional HMMs Gaussian Mixtures were the most\n",
    "popular density models.  These days, the modeling will rather be done by a Deep Neural Network.   \n",
    "\n",
    "For simplicity reasons we start out with a simpe single one dimensional Gaussian density.\n",
    "Except for the computation of the FRAME PROBABILITIES all other steps are identical to the discrete density model."
   ]
  },
  {
   "cell_type": "code",
   "execution_count": 34,
   "metadata": {},
   "outputs": [],
   "source": [
    "def gpdf(x,mu,sig):\n",
    "    z = (x-mu)/sig\n",
    "    ss = 1./(np.sqrt(2.*np.pi)*sig)\n",
    "    return(ss * np.exp(-0.5*z*z))\n",
    "def cdprobs(xlist):\n",
    "    pdf1 = np.array([gpdf(x,20,10) for x in xlist]).reshape(-1,1)\n",
    "    pdf2 = np.array([gpdf(x,50,20) for x in xlist]).reshape(-1,1)\n",
    "    return( np.hstack([pdf1 , pdf2]) )"
   ]
  },
  {
   "cell_type": "code",
   "execution_count": 35,
   "metadata": {},
   "outputs": [
    {
     "name": "stdout",
     "output_type": "stream",
     "text": [
      "FRAME PROBABILIITIES and TRELLIS\n"
     ]
    },
    {
     "data": {
      "text/html": [
       "<div>\n",
       "<style scoped>\n",
       "    .dataframe tbody tr th:only-of-type {\n",
       "        vertical-align: middle;\n",
       "    }\n",
       "\n",
       "    .dataframe tbody tr th {\n",
       "        vertical-align: top;\n",
       "    }\n",
       "\n",
       "    .dataframe thead th {\n",
       "        text-align: right;\n",
       "    }\n",
       "</style>\n",
       "<table border=\"1\" class=\"dataframe\">\n",
       "  <thead>\n",
       "    <tr style=\"text-align: right;\">\n",
       "      <th></th>\n",
       "      <th>X0</th>\n",
       "      <th>X1</th>\n",
       "      <th>X2</th>\n",
       "      <th>X3</th>\n",
       "    </tr>\n",
       "  </thead>\n",
       "  <tbody>\n",
       "    <tr>\n",
       "      <th>SIL</th>\n",
       "      <td>0.035</td>\n",
       "      <td>0.013</td>\n",
       "      <td>1.338e-05</td>\n",
       "      <td>0.035</td>\n",
       "    </tr>\n",
       "    <tr>\n",
       "      <th>SP</th>\n",
       "      <td>0.004</td>\n",
       "      <td>0.015</td>\n",
       "      <td>1.760e-02</td>\n",
       "      <td>0.009</td>\n",
       "    </tr>\n",
       "  </tbody>\n",
       "</table>\n",
       "</div>"
      ],
      "text/plain": [
       "        X0     X1         X2     X3\n",
       "SIL  0.035  0.013  1.338e-05  0.035\n",
       "SP   0.004  0.015  1.760e-02  0.009"
      ]
     },
     "metadata": {},
     "output_type": "display_data"
    },
    {
     "data": {
      "text/html": [
       "<div>\n",
       "<style scoped>\n",
       "    .dataframe tbody tr th:only-of-type {\n",
       "        vertical-align: middle;\n",
       "    }\n",
       "\n",
       "    .dataframe tbody tr th {\n",
       "        vertical-align: top;\n",
       "    }\n",
       "\n",
       "    .dataframe thead th {\n",
       "        text-align: right;\n",
       "    }\n",
       "</style>\n",
       "<table border=\"1\" class=\"dataframe\">\n",
       "  <thead>\n",
       "    <tr style=\"text-align: right;\">\n",
       "      <th></th>\n",
       "      <th>X0</th>\n",
       "      <th>X1</th>\n",
       "      <th>X2</th>\n",
       "      <th>X3</th>\n",
       "    </tr>\n",
       "  </thead>\n",
       "  <tbody>\n",
       "    <tr>\n",
       "      <th>SIL</th>\n",
       "      <td>0.035</td>\n",
       "      <td>3.192e-04</td>\n",
       "      <td>2.990e-09</td>\n",
       "      <td>2.070e-08</td>\n",
       "    </tr>\n",
       "    <tr>\n",
       "      <th>SP</th>\n",
       "      <td>0.000</td>\n",
       "      <td>1.590e-04</td>\n",
       "      <td>1.960e-06</td>\n",
       "      <td>1.253e-08</td>\n",
       "    </tr>\n",
       "  </tbody>\n",
       "</table>\n",
       "</div>"
      ],
      "text/plain": [
       "        X0         X1         X2         X3\n",
       "SIL  0.035  3.192e-04  2.990e-09  2.070e-08\n",
       "SP   0.000  1.590e-04  1.960e-06  1.253e-08"
      ]
     },
     "metadata": {},
     "output_type": "display_data"
    },
    {
     "name": "stdout",
     "output_type": "stream",
     "text": [
      "BACKPOINTERS\n"
     ]
    },
    {
     "data": {
      "text/html": [
       "<div>\n",
       "<style scoped>\n",
       "    .dataframe tbody tr th:only-of-type {\n",
       "        vertical-align: middle;\n",
       "    }\n",
       "\n",
       "    .dataframe tbody tr th {\n",
       "        vertical-align: top;\n",
       "    }\n",
       "\n",
       "    .dataframe thead th {\n",
       "        text-align: right;\n",
       "    }\n",
       "</style>\n",
       "<table border=\"1\" class=\"dataframe\">\n",
       "  <thead>\n",
       "    <tr style=\"text-align: right;\">\n",
       "      <th></th>\n",
       "      <th>X0</th>\n",
       "      <th>X1</th>\n",
       "      <th>X2</th>\n",
       "      <th>X3</th>\n",
       "    </tr>\n",
       "  </thead>\n",
       "  <tbody>\n",
       "    <tr>\n",
       "      <th>SIL</th>\n",
       "      <td>0</td>\n",
       "      <td>0</td>\n",
       "      <td>0</td>\n",
       "      <td>1</td>\n",
       "    </tr>\n",
       "    <tr>\n",
       "      <th>SP</th>\n",
       "      <td>1</td>\n",
       "      <td>0</td>\n",
       "      <td>1</td>\n",
       "      <td>1</td>\n",
       "    </tr>\n",
       "  </tbody>\n",
       "</table>\n",
       "</div>"
      ],
      "text/plain": [
       "     X0  X1  X2  X3\n",
       "SIL   0   0   0   1\n",
       "SP    1   0   1   1"
      ]
     },
     "metadata": {},
     "output_type": "display_data"
    },
    {
     "name": "stdout",
     "output_type": "stream",
     "text": [
      "ALIGNMENT\n"
     ]
    },
    {
     "data": {
      "text/html": [
       "<div>\n",
       "<style scoped>\n",
       "    .dataframe tbody tr th:only-of-type {\n",
       "        vertical-align: middle;\n",
       "    }\n",
       "\n",
       "    .dataframe tbody tr th {\n",
       "        vertical-align: top;\n",
       "    }\n",
       "\n",
       "    .dataframe thead th {\n",
       "        text-align: right;\n",
       "    }\n",
       "</style>\n",
       "<table border=\"1\" class=\"dataframe\">\n",
       "  <thead>\n",
       "    <tr style=\"text-align: right;\">\n",
       "      <th></th>\n",
       "      <th>0</th>\n",
       "      <th>1</th>\n",
       "      <th>2</th>\n",
       "      <th>3</th>\n",
       "    </tr>\n",
       "  </thead>\n",
       "  <tbody>\n",
       "    <tr>\n",
       "      <th>X</th>\n",
       "      <td>X0</td>\n",
       "      <td>X1</td>\n",
       "      <td>X2</td>\n",
       "      <td>X3</td>\n",
       "    </tr>\n",
       "    <tr>\n",
       "      <th>BT</th>\n",
       "      <td>SIL</td>\n",
       "      <td>SP</td>\n",
       "      <td>SP</td>\n",
       "      <td>SIL</td>\n",
       "    </tr>\n",
       "  </tbody>\n",
       "</table>\n",
       "</div>"
      ],
      "text/plain": [
       "      0   1   2    3\n",
       "X    X0  X1  X2   X3\n",
       "BT  SIL  SP  SP  SIL"
      ]
     },
     "metadata": {},
     "output_type": "display_data"
    },
    {
     "name": "stdout",
     "output_type": "stream",
     "text": [
      "\n",
      "\n",
      "\n"
     ]
    },
    {
     "data": {
      "image/png": "[encoded data removed]",
      "text/plain": [
       "<Figure size 720x288 with 2 Axes>"
      ]
     },
     "metadata": {
      "needs_background": "light"
     },
     "output_type": "display_data"
    }
   ],
   "source": [
    "X2 =  [15., 35., 60.,25.]\n",
    "X2probs = cdprobs(X2)\n",
    "#print(X2probs.shape,X2probs)\n",
    "hmm2 =  libhmm.DirectHMM(n_states=2,states=['SIL','SP'],transmat=Amat ) \n",
    "trellis2 = libhmm.Trellis(n_samples=len(X2),n_states=hmm1.n_states)\n",
    "trellis2.viterbi_pass(X2probs,hmm2)\n",
    "trellis2.print(Slabels=hmm1.states)\n",
    "print(\"\\n\\n\")\n",
    "hmmplot.plot_trellis2(hmm2,X2probs,cmap=[],vmin=0,vmax=1,fmt=\".2e\",\n",
    "        plot_norm=True,plot_frameprobs=True,plot_backptrs=True,\n",
    "        plot_alignment=True,figsize=(10,4))"
   ]
  },
  {
   "cell_type": "markdown",
   "metadata": {},
   "source": [
    "### Training of a Discrete Density Model"
   ]
  },
  {
   "cell_type": "code",
   "execution_count": 28,
   "metadata": {},
   "outputs": [
    {
     "data": {
      "image/png": "[encoded data removed]",
      "text/plain": [
       "<Figure size 576x288 with 2 Axes>"
      ]
     },
     "metadata": {
      "needs_background": "light"
     },
     "output_type": "display_data"
    }
   ],
   "source": [
    "# Sample training code for discrete density training\n",
    "#\n",
    "X2=[1,0,1,1,2,0]\n",
    "X3=[0,1,2,1,2,0,2,0]\n",
    "S2=[0,0,1,1,1,0]\n",
    "S3=[0,1,1,1,1,0,0,0]\n",
    "train_set = []\n",
    "train_set.append({'X':X1,'S':trellis1.alignment})\n",
    "train_set.append({'X':X2,'S':S2})\n",
    "train_set.append({'X':X3,'S':S3})\n",
    "\n",
    "def viterbi_train(trn,n_labels=1,n_states=1):\n",
    "    n_train = len(trn)\n",
    "    obs_counts = np.zeros((n_states,n_labels),dtype='float')\n",
    "    init_counts = np.zeros(n_states,dtype='float')\n",
    "    trans_counts = np.zeros((n_states,n_states),dtype='float')\n",
    "    # counting\n",
    "    for i in range(0,n_train):\n",
    "        init_counts[trn[i][\"S\"][0]] += 1.\n",
    "        for j in range(len(trn[i][\"X\"])):\n",
    "            obs_counts[trn[i][\"S\"][j],trn[i][\"X\"][j]] += 1.\n",
    "            if j>0:\n",
    "                trans_counts[ trn[i][\"S\"][j-1],trn[i][\"S\"][j] ] += 1.\n",
    "    state_counts = np.sum(obs_counts,axis=1)\n",
    "    op = obs_counts / state_counts[:,np.newaxis]\n",
    "    tp = trans_counts / np.sum(trans_counts,axis=1)[:,np.newaxis]\n",
    "    ip = init_counts / np.sum(init_counts)\n",
    "    return op,tp,ip\n",
    "\n",
    "op, tp, ip = viterbi_train(train_set,n_labels=3,n_states=2)\n",
    "hmm_retrained = libhmm.DHMM(n_states=2,states=['SIL','SP'],n_symbols=3,labels=['A','B','C'],\n",
    "                   emissionprob=op, transmat=tp, startprob=ip )\n",
    "hmmplot.plot_model(hmm_retrained,figsize=(8,4))\n"
   ]
  },
  {
   "cell_type": "code",
   "execution_count": null,
   "metadata": {},
   "outputs": [],
   "source": []
  }
 ],
 "metadata": {
  "kernelspec": {
   "display_name": "Python 3",
   "language": "python",
   "name": "python3"
  },
  "language_info": {
   "codemirror_mode": {
    "name": "ipython",
    "version": 3
   },
   "file_extension": ".py",
   "mimetype": "text/x-python",
   "name": "python",
   "nbconvert_exporter": "python",
   "pygments_lexer": "ipython3",
   "version": "3.7.10"
  }
 },
 "nbformat": 4,
 "nbformat_minor": 4
}
